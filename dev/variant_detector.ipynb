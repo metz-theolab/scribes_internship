{
 "cells": [
  {
   "cell_type": "markdown",
   "id": "d2ad6986",
   "metadata": {},
   "source": [
    "# Variant detector in the Ben Sira manuscripts"
   ]
  },
  {
   "cell_type": "code",
   "execution_count": 364,
   "id": "19e358f5",
   "metadata": {},
   "outputs": [],
   "source": [
    "import re\n",
    "import os\n",
    "from bs4 import BeautifulSoup, Tag\n",
    "from collatex import *\n",
    "\n",
    "\n",
    "\n",
    "# Load data\n",
    "with open(\"../data/ms_a.xml\") as f:\n",
    "    manuscript = f.read()"
   ]
  },
  {
   "cell_type": "code",
   "execution_count": 258,
   "id": "aace85eb",
   "metadata": {},
   "outputs": [],
   "source": [
    "manuscript_files = [file for file in os.listdir(\"../data\") if file.startswith(\"ms_\")]"
   ]
  },
  {
   "cell_type": "code",
   "execution_count": 325,
   "id": "70a9a954",
   "metadata": {},
   "outputs": [
    {
     "data": {
      "text/plain": [
       "['ms_masada.xml',\n",
       " 'ms_11QPsa.xml',\n",
       " 'ms_a.xml',\n",
       " 'ms_f.xml',\n",
       " 'ms_d.xml',\n",
       " 'ms_e.xml',\n",
       " 'ms_c.xml',\n",
       " 'ms_b.xml',\n",
       " 'ms_2Q18.xml']"
      ]
     },
     "execution_count": 325,
     "metadata": {},
     "output_type": "execute_result"
    }
   ],
   "source": [
    "manuscript_files"
   ]
  },
  {
   "cell_type": "code",
   "execution_count": 302,
   "id": "513d7f62",
   "metadata": {},
   "outputs": [],
   "source": [
    "parsed = BeautifulSoup(manuscript, features=\"xml\")"
   ]
  },
  {
   "cell_type": "code",
   "execution_count": 318,
   "id": "50a91f28",
   "metadata": {},
   "outputs": [],
   "source": [
    "content = {}\n",
    "\n",
    "for link in parsed.find_all():\n",
    "    \n",
    "    if link.name == \"chap\":\n",
    "        current_chapter = re.findall(r'\\d+', link.text)[-1].strip()\n",
    "        # Create chapter if not exist\n",
    "        if not content.get(current_chapter):\n",
    "            content[current_chapter] = {}\n",
    "\n",
    "            \n",
    "    elif link.name == \"text\":\n",
    "        tags = [children.name for children in link]\n",
    "        verse_nbr = link.verse_nb.text.strip()\n",
    "        if \"reconstructed\" in tags:\n",
    "            reconstructed = link.reconstructed.text\n",
    "        text =' '.join(link.find_all(text=True, recursive=False))\n",
    "        content[current_chapter][verse_nbr] = text"
   ]
  },
  {
   "cell_type": "code",
   "execution_count": 353,
   "id": "582d3a7b",
   "metadata": {},
   "outputs": [
    {
     "name": "stdout",
     "output_type": "stream",
     "text": [
      "====================== working on =====================\n",
      "masada\n",
      "====================== working on =====================\n",
      "11QPsa\n",
      "====================== working on =====================\n",
      "a\n",
      "====================== working on =====================\n",
      "f\n",
      "====================== working on =====================\n",
      "d\n",
      "====================== working on =====================\n",
      "e\n",
      "====================== working on =====================\n",
      "b\n"
     ]
    }
   ],
   "source": [
    "content = {}\n",
    "\n",
    "for manuscript_file in manuscript_files:\n",
    "    \n",
    "    # Claqué au sol\n",
    "    manuscript_name = manuscript_file.replace(\"ms_\",\"\").replace(\".xml\",\"\")\n",
    "    \n",
    "    if manuscript_name in [\"c\", \"2Q18\"]:\n",
    "        continue\n",
    "        \n",
    "    print(\"====================== working on =====================\")\n",
    "    print(manuscript_name)\n",
    "    \n",
    "    # Load data\n",
    "    with open(f\"../data/{manuscript_file}\") as f:\n",
    "        manuscript = f.read()\n",
    "        \n",
    "    parsed = BeautifulSoup(manuscript, features=\"xml\")\n",
    "    \n",
    "    if not content.get(manuscript_name):\n",
    "        content[manuscript_name] = {}\n",
    "    \n",
    "    for link in parsed.find_all():\n",
    "    \n",
    "        if link.name == \"chap\":\n",
    "            current_chapter = re.findall(r'\\d+', link.text)[-1].strip()\n",
    "\n",
    "            if not content.get(current_chapter):\n",
    "                content[manuscript_name][current_chapter] = {}\n",
    "\n",
    "        elif link.name == \"text\" and link.text:\n",
    "            tags = [children.name for children in link]\n",
    "            if \"verse_nb\" in tags:\n",
    "                verse_nbr = link.verse_nb.text.strip()\n",
    "                text =' '.join(link.find_all(text=True, recursive=False))\n",
    "                content[manuscript_name][current_chapter][verse_nbr] = text\n",
    "            elif verse_nbr:\n",
    "                content[manuscript_name][current_chapter][verse_nbr] += ' '.join(link.find_all(text=True, recursive=False))"
   ]
  },
  {
   "cell_type": "code",
   "execution_count": 354,
   "id": "f4eeba74",
   "metadata": {},
   "outputs": [],
   "source": [
    "TOTAL_CHAPTERS = 51\n",
    "\n",
    "collated_content = {}\n",
    "for chapter in range(TOTAL_CHAPTERS):\n",
    "    \n",
    "    collated_content[str(chapter)] = {}\n",
    "    \n",
    "    for manuscript_id in content.keys():\n",
    "        \n",
    "        if content[manuscript_id].get(str(chapter)):\n",
    "            \n",
    "            for verse_nb, verse_content in content[manuscript_id][str(chapter)].items():\n",
    "                \n",
    "                if not collated_content[str(chapter)].get(verse_nb):\n",
    "                    collated_content[str(chapter)][verse_nb] = {manuscript_id: verse_content}\n",
    "                else:\n",
    "                    collated_content[str(chapter)][verse_nb][manuscript_id] = verse_content\n",
    "            "
   ]
  },
  {
   "cell_type": "code",
   "execution_count": 387,
   "id": "c727f5f9",
   "metadata": {},
   "outputs": [
    {
     "data": {
      "text/plain": [
       "{'a': '  בכל לבך פחד  א\\u200dל\\tואת כהניו הקדיש׃\\t',\n",
       " 'd': '  בכל לבך פחד א̇ל\\tואת כ̊ה̊נ̊[  ]ה̊ק[ ]'}"
      ]
     },
     "execution_count": 387,
     "metadata": {},
     "output_type": "execute_result"
    }
   ],
   "source": [
    "collated_content[\"7\"][\"29\"]"
   ]
  },
  {
   "cell_type": "code",
   "execution_count": 386,
   "id": "02cb97a5",
   "metadata": {
    "scrolled": false
   },
   "outputs": [
    {
     "name": "stdout",
     "output_type": "stream",
     "text": [
      "======= chapter 7 ==========\n",
      "======= verse  ==========\n"
     ]
    },
    {
     "data": {
      "text/html": [
       "<TABLE border=\"1\" style=\"border: 1px solid #000000; border-collapse: collapse;\" cellpadding=\"4\">\n",
       " <TR>\n",
       "  <TH>a</TH>\n",
       "  <TH>d</TH>\n",
       " </TR>\n",
       " <TR>\n",
       "  <TD bgcolor=\"00FFFF\">     לחם אבירים</TD>\n",
       "  <TD bgcolor=\"00FFFF\">  לחם אבירים</TD>\n",
       " </TR>\n",
       " <TR>\n",
       "  <TD bgcolor=\"FF0000\">ותרומת יד       זבחי</TD>\n",
       "  <TD bgcolor=\"FF0000\">ותרומתה׃        זב[\n",
       "]</TD>\n",
       " </TR>\n",
       " <TR>\n",
       "  <TD bgcolor=\"00FFFF\">צדק</TD>\n",
       "  <TD bgcolor=\"00FFFF\">צדק</TD>\n",
       " </TR>\n",
       " <TR>\n",
       "  <TD bgcolor=\"FF0000\">ותרומת קדש</TD>\n",
       "  <TD bgcolor=\"FF0000\">[  ]מת [ ]דש</TD>\n",
       " </TR>\n",
       " <TR>\n",
       "  <TD bgcolor=\"00FFFF\">׃</TD>\n",
       "  <TD bgcolor=\"00FFFF\">׃</TD>\n",
       " </TR>\n",
       "</TABLE>"
      ],
      "text/plain": [
       "<IPython.core.display.HTML object>"
      ]
     },
     "metadata": {},
     "output_type": "display_data"
    },
    {
     "name": "stdout",
     "output_type": "stream",
     "text": [
      "======= chapter 7 ==========\n",
      "======= verse 18 ==========\n"
     ]
    },
    {
     "data": {
      "text/html": [
       "<TABLE border=\"1\" style=\"border: 1px solid #000000; border-collapse: collapse;\" cellpadding=\"4\">\n",
       " <TR>\n",
       "  <TH>a</TH>\n",
       "  <TH>d</TH>\n",
       " </TR>\n",
       " <TR>\n",
       "  <TD bgcolor=\"FF0000\">  א‍ל תמיר אוהב</TD>\n",
       "  <TD bgcolor=\"FF0000\">  [ ]ב</TD>\n",
       " </TR>\n",
       " <TR>\n",
       "  <TD bgcolor=\"00FFFF\">במחיר   ואח תלוי\n",
       "בזהב אופיר׃</TD>\n",
       "  <TD bgcolor=\"00FFFF\">במחיר   ואח תלוי\n",
       "בזהב אופיר׃</TD>\n",
       " </TR>\n",
       "</TABLE>"
      ],
      "text/plain": [
       "<IPython.core.display.HTML object>"
      ]
     },
     "metadata": {},
     "output_type": "display_data"
    },
    {
     "name": "stdout",
     "output_type": "stream",
     "text": [
      "======= chapter 7 ==========\n",
      "======= verse 19 ==========\n"
     ]
    },
    {
     "data": {
      "text/html": [
       "<TABLE border=\"1\" style=\"border: 1px solid #000000; border-collapse: collapse;\" cellpadding=\"4\">\n",
       " <TR>\n",
       "  <TH>a</TH>\n",
       "  <TH>d</TH>\n",
       " </TR>\n",
       " <TR>\n",
       "  <TD bgcolor=\"00FFFF\">  אל  תמאס אשה</TD>\n",
       "  <TD bgcolor=\"00FFFF\">  אל תמאס אשה</TD>\n",
       " </TR>\n",
       " <TR>\n",
       "  <TD bgcolor=\"FF0000\">משכלת</TD>\n",
       "  <TD bgcolor=\"FF0000\">[ ]לת</TD>\n",
       " </TR>\n",
       " <TR>\n",
       "  <TD bgcolor=\"00FFFF\">וטובת חן מפנינים׃</TD>\n",
       "  <TD bgcolor=\"00FFFF\">וטובת חן מפנינים׃</TD>\n",
       " </TR>\n",
       "</TABLE>"
      ],
      "text/plain": [
       "<IPython.core.display.HTML object>"
      ]
     },
     "metadata": {},
     "output_type": "display_data"
    },
    {
     "name": "stdout",
     "output_type": "stream",
     "text": [
      "======= chapter 7 ==========\n",
      "======= verse 20 ==========\n"
     ]
    },
    {
     "data": {
      "text/html": [
       "<TABLE border=\"1\" style=\"border: 1px solid #000000; border-collapse: collapse;\" cellpadding=\"4\">\n",
       " <TR>\n",
       "  <TH>a</TH>\n",
       "  <TH>d</TH>\n",
       " </TR>\n",
       " <TR>\n",
       "  <TD bgcolor=\"00FFFF\">&nbsp;</TD>\n",
       "  <TD bgcolor=\"00FFFF\">&nbsp;</TD>\n",
       " </TR>\n",
       " <TR>\n",
       "  <TD bgcolor=\"FF0000\">א‍ל תדע   באמת עובד\n",
       "אמת וכן</TD>\n",
       "  <TD bgcolor=\"FF0000\">אל תרע [ ]אמ[ ] עוב[\n",
       "]        [ ]ן</TD>\n",
       " </TR>\n",
       " <TR>\n",
       "  <TD bgcolor=\"00FFFF\">שוכר נותן נפשו׃</TD>\n",
       "  <TD bgcolor=\"00FFFF\">שוכר נותן נפשו׃</TD>\n",
       " </TR>\n",
       "</TABLE>"
      ],
      "text/plain": [
       "<IPython.core.display.HTML object>"
      ]
     },
     "metadata": {},
     "output_type": "display_data"
    },
    {
     "name": "stdout",
     "output_type": "stream",
     "text": [
      "======= chapter 7 ==========\n",
      "======= verse 21 ==========\n"
     ]
    },
    {
     "data": {
      "text/html": [
       "<TABLE border=\"1\" style=\"border: 1px solid #000000; border-collapse: collapse;\" cellpadding=\"4\">\n",
       " <TR>\n",
       "  <TH>a</TH>\n",
       "  <TH>d</TH>\n",
       " </TR>\n",
       " <TR>\n",
       "  <TD bgcolor=\"00FFFF\">  עבד משכיל  חבב</TD>\n",
       "  <TD bgcolor=\"00FFFF\">  עבד משכיל חבב</TD>\n",
       " </TR>\n",
       " <TR>\n",
       "  <TD bgcolor=\"FF0000\">כנפש</TD>\n",
       "  <TD bgcolor=\"FF0000\">-</TD>\n",
       " </TR>\n",
       " <TR>\n",
       "  <TD bgcolor=\"00FFFF\">[ ]</TD>\n",
       "  <TD bgcolor=\"00FFFF\">[ ]</TD>\n",
       " </TR>\n",
       " <TR>\n",
       "  <TD bgcolor=\"FF0000\">ל</TD>\n",
       "  <TD bgcolor=\"FF0000\">פש      אל</TD>\n",
       " </TR>\n",
       " <TR>\n",
       "  <TD bgcolor=\"00FFFF\">תמנע ממנו חפש׃</TD>\n",
       "  <TD bgcolor=\"00FFFF\">תמנע ממנו חפש׃</TD>\n",
       " </TR>\n",
       "</TABLE>"
      ],
      "text/plain": [
       "<IPython.core.display.HTML object>"
      ]
     },
     "metadata": {},
     "output_type": "display_data"
    },
    {
     "name": "stdout",
     "output_type": "stream",
     "text": [
      "======= chapter 7 ==========\n",
      "======= verse 22 ==========\n"
     ]
    },
    {
     "data": {
      "text/html": [
       "<TABLE border=\"1\" style=\"border: 1px solid #000000; border-collapse: collapse;\" cellpadding=\"4\">\n",
       " <TR>\n",
       "  <TH>a</TH>\n",
       "  <TH>d</TH>\n",
       " </TR>\n",
       " <TR>\n",
       "  <TD bgcolor=\"00FFFF\">  בהמה</TD>\n",
       "  <TD bgcolor=\"00FFFF\">  בהמה</TD>\n",
       " </TR>\n",
       " <TR>\n",
       "  <TD bgcolor=\"FF0000\">לך</TD>\n",
       "  <TD bgcolor=\"FF0000\">[ ]ך</TD>\n",
       " </TR>\n",
       " <TR>\n",
       "  <TD bgcolor=\"00FFFF\">ראה עיניך</TD>\n",
       "  <TD bgcolor=\"00FFFF\">ראה עיניך</TD>\n",
       " </TR>\n",
       " <TR>\n",
       "  <TD bgcolor=\"FF0000\">ואם</TD>\n",
       "  <TD bgcolor=\"FF0000\">[ ]</TD>\n",
       " </TR>\n",
       " <TR>\n",
       "  <TD bgcolor=\"00FFFF\">אמנה היא העמידה׃</TD>\n",
       "  <TD bgcolor=\"00FFFF\">אמנה היא העמידה׃</TD>\n",
       " </TR>\n",
       "</TABLE>"
      ],
      "text/plain": [
       "<IPython.core.display.HTML object>"
      ]
     },
     "metadata": {},
     "output_type": "display_data"
    },
    {
     "name": "stdout",
     "output_type": "stream",
     "text": [
      "======= chapter 7 ==========\n",
      "======= verse 23 ==========\n"
     ]
    },
    {
     "data": {
      "text/html": [
       "<TABLE border=\"1\" style=\"border: 1px solid #000000; border-collapse: collapse;\" cellpadding=\"4\">\n",
       " <TR>\n",
       "  <TH>a</TH>\n",
       "  <TH>d</TH>\n",
       " </TR>\n",
       " <TR>\n",
       "  <TD bgcolor=\"00FFFF\">  בנים לך</TD>\n",
       "  <TD bgcolor=\"00FFFF\">  בנים לך</TD>\n",
       " </TR>\n",
       " <TR>\n",
       "  <TD bgcolor=\"FF0000\">יסיר</TD>\n",
       "  <TD bgcolor=\"FF0000\">[ ]סר</TD>\n",
       " </TR>\n",
       " <TR>\n",
       "  <TD bgcolor=\"00FFFF\">אותם</TD>\n",
       "  <TD bgcolor=\"00FFFF\">אותם</TD>\n",
       " </TR>\n",
       " <TR>\n",
       "  <TD bgcolor=\"FF0000\">ושָׂא  לָהֶ</TD>\n",
       "  <TD bgcolor=\"FF0000\">ושא  [ ]</TD>\n",
       " </TR>\n",
       " <TR>\n",
       "  <TD bgcolor=\"00FFFF\">ם נשים בנעוריהם׃</TD>\n",
       "  <TD bgcolor=\"00FFFF\">ם נשים בנעוריהם׃</TD>\n",
       " </TR>\n",
       "</TABLE>"
      ],
      "text/plain": [
       "<IPython.core.display.HTML object>"
      ]
     },
     "metadata": {},
     "output_type": "display_data"
    },
    {
     "name": "stdout",
     "output_type": "stream",
     "text": [
      "======= chapter 7 ==========\n",
      "======= verse 24 ==========\n"
     ]
    },
    {
     "data": {
      "text/html": [
       "<TABLE border=\"1\" style=\"border: 1px solid #000000; border-collapse: collapse;\" cellpadding=\"4\">\n",
       " <TR>\n",
       "  <TH>a</TH>\n",
       "  <TH>d</TH>\n",
       " </TR>\n",
       " <TR>\n",
       "  <TD bgcolor=\"00FFFF\">  בנות לך</TD>\n",
       "  <TD bgcolor=\"00FFFF\">  בנות לך</TD>\n",
       " </TR>\n",
       " <TR>\n",
       "  <TD bgcolor=\"FF0000\">נצור שארם       וא‍ל\n",
       "תאיר  א‍להם</TD>\n",
       "  <TD bgcolor=\"FF0000\">[ ]צור שא[ ]     [\n",
       "]איר אליהם</TD>\n",
       " </TR>\n",
       " <TR>\n",
       "  <TD bgcolor=\"00FFFF\">פנים׃</TD>\n",
       "  <TD bgcolor=\"00FFFF\">פנים׃</TD>\n",
       " </TR>\n",
       "</TABLE>"
      ],
      "text/plain": [
       "<IPython.core.display.HTML object>"
      ]
     },
     "metadata": {},
     "output_type": "display_data"
    },
    {
     "name": "stdout",
     "output_type": "stream",
     "text": [
      "======= chapter 7 ==========\n",
      "======= verse 25 ==========\n"
     ]
    },
    {
     "data": {
      "text/html": [
       "<TABLE border=\"1\" style=\"border: 1px solid #000000; border-collapse: collapse;\" cellpadding=\"4\">\n",
       " <TR>\n",
       "  <TH>a</TH>\n",
       "  <TH>d</TH>\n",
       " </TR>\n",
       " <TR>\n",
       "  <TD bgcolor=\"00FFFF\">&nbsp;</TD>\n",
       "  <TD bgcolor=\"00FFFF\">&nbsp;</TD>\n",
       " </TR>\n",
       " <TR>\n",
       "  <TD bgcolor=\"FF0000\">הוצא בת ויצא עסק\n",
       "וא‍</TD>\n",
       "  <TD bgcolor=\"FF0000\">ה[ ]     [ ]</TD>\n",
       " </TR>\n",
       " <TR>\n",
       "  <TD bgcolor=\"00FFFF\">ל נבון גבר</TD>\n",
       "  <TD bgcolor=\"00FFFF\">ל נבון גבר</TD>\n",
       " </TR>\n",
       " <TR>\n",
       "  <TD bgcolor=\"FF0000\">חברﬣ</TD>\n",
       "  <TD bgcolor=\"FF0000\">חברה</TD>\n",
       " </TR>\n",
       " <TR>\n",
       "  <TD bgcolor=\"00FFFF\">׃</TD>\n",
       "  <TD bgcolor=\"00FFFF\">׃</TD>\n",
       " </TR>\n",
       "</TABLE>"
      ],
      "text/plain": [
       "<IPython.core.display.HTML object>"
      ]
     },
     "metadata": {},
     "output_type": "display_data"
    },
    {
     "name": "stdout",
     "output_type": "stream",
     "text": [
      "======= chapter 7 ==========\n",
      "======= verse 26 ==========\n"
     ]
    },
    {
     "data": {
      "text/html": [
       "<TABLE border=\"1\" style=\"border: 1px solid #000000; border-collapse: collapse;\" cellpadding=\"4\">\n",
       " <TR>\n",
       "  <TH>a</TH>\n",
       "  <TH>d</TH>\n",
       " </TR>\n",
       " <TR>\n",
       "  <TD bgcolor=\"00FFFF\">  אשה לך</TD>\n",
       "  <TD bgcolor=\"00FFFF\">  אשה לך</TD>\n",
       " </TR>\n",
       " <TR>\n",
       "  <TD bgcolor=\"FF0000\">א‍ל תתעבה\n",
       "ושנואה א‍</TD>\n",
       "  <TD bgcolor=\"FF0000\">אל [ ]  [   ]</TD>\n",
       " </TR>\n",
       " <TR>\n",
       "  <TD bgcolor=\"00FFFF\">ל תאמן בה׃</TD>\n",
       "  <TD bgcolor=\"00FFFF\">ל תאמן בה׃</TD>\n",
       " </TR>\n",
       "</TABLE>"
      ],
      "text/plain": [
       "<IPython.core.display.HTML object>"
      ]
     },
     "metadata": {},
     "output_type": "display_data"
    },
    {
     "name": "stdout",
     "output_type": "stream",
     "text": [
      "======= chapter 7 ==========\n",
      "======= verse 29 ==========\n"
     ]
    },
    {
     "data": {
      "text/html": [
       "<TABLE border=\"1\" style=\"border: 1px solid #000000; border-collapse: collapse;\" cellpadding=\"4\">\n",
       " <TR>\n",
       "  <TH>a</TH>\n",
       "  <TH>d</TH>\n",
       " </TR>\n",
       " <TR>\n",
       "  <TD bgcolor=\"00FFFF\">  בכל לבך פחד</TD>\n",
       "  <TD bgcolor=\"00FFFF\">  בכל לבך פחד</TD>\n",
       " </TR>\n",
       " <TR>\n",
       "  <TD bgcolor=\"FF0000\">א‍ל</TD>\n",
       "  <TD bgcolor=\"FF0000\">אל</TD>\n",
       " </TR>\n",
       " <TR>\n",
       "  <TD bgcolor=\"00FFFF\">ואת</TD>\n",
       "  <TD bgcolor=\"00FFFF\">ואת</TD>\n",
       " </TR>\n",
       " <TR>\n",
       "  <TD bgcolor=\"FF0000\">כהניו הקדיש׃</TD>\n",
       "  <TD bgcolor=\"FF0000\">כהנ[  ]הק[ ]</TD>\n",
       " </TR>\n",
       "</TABLE>"
      ],
      "text/plain": [
       "<IPython.core.display.HTML object>"
      ]
     },
     "metadata": {},
     "output_type": "display_data"
    },
    {
     "name": "stdout",
     "output_type": "stream",
     "text": [
      "======= chapter 7 ==========\n",
      "======= verse 30 ==========\n"
     ]
    },
    {
     "data": {
      "text/html": [
       "<TABLE border=\"1\" style=\"border: 1px solid #000000; border-collapse: collapse;\" cellpadding=\"4\">\n",
       " <TR>\n",
       "  <TH>a</TH>\n",
       "  <TH>d</TH>\n",
       " </TR>\n",
       " <TR>\n",
       "  <TD bgcolor=\"FF0000\">  בכל מאודָך אֶהוֹב</TD>\n",
       "  <TD bgcolor=\"FF0000\">  [ ] מאודך אהוב</TD>\n",
       " </TR>\n",
       " <TR>\n",
       "  <TD bgcolor=\"00FFFF\">עושך    ואת משרתיו\n",
       "לא תעזב׃</TD>\n",
       "  <TD bgcolor=\"00FFFF\">עושך    ואת משרתיו\n",
       "לא תעזב׃</TD>\n",
       " </TR>\n",
       "</TABLE>"
      ],
      "text/plain": [
       "<IPython.core.display.HTML object>"
      ]
     },
     "metadata": {},
     "output_type": "display_data"
    },
    {
     "name": "stdout",
     "output_type": "stream",
     "text": [
      "======= chapter 7 ==========\n",
      "======= verse 31 ==========\n"
     ]
    },
    {
     "data": {
      "text/html": [
       "<TABLE border=\"1\" style=\"border: 1px solid #000000; border-collapse: collapse;\" cellpadding=\"4\">\n",
       " <TR>\n",
       "  <TH>a</TH>\n",
       "  <TH>d</TH>\n",
       " </TR>\n",
       " <TR>\n",
       "  <TD bgcolor=\"00FFFF\">&nbsp;</TD>\n",
       "  <TD bgcolor=\"00FFFF\">&nbsp;</TD>\n",
       " </TR>\n",
       " <TR>\n",
       "  <TD bgcolor=\"FF0000\">כבד א‍ל והדר</TD>\n",
       "  <TD bgcolor=\"FF0000\">כב[  ]</TD>\n",
       " </TR>\n",
       " <TR>\n",
       "  <TD bgcolor=\"00FFFF\">כהן</TD>\n",
       "  <TD bgcolor=\"00FFFF\">כהן</TD>\n",
       " </TR>\n",
       " <TR>\n",
       "  <TD bgcolor=\"FF0000\">ות[ ]לקם</TD>\n",
       "  <TD bgcolor=\"FF0000\">ותן חלקם</TD>\n",
       " </TR>\n",
       " <TR>\n",
       "  <TD bgcolor=\"00FFFF\">כאשר</TD>\n",
       "  <TD bgcolor=\"00FFFF\">כאשר</TD>\n",
       " </TR>\n",
       " <TR>\n",
       "  <TD bgcolor=\"FF0000\">צוותﬣ</TD>\n",
       "  <TD bgcolor=\"FF0000\">צויתה</TD>\n",
       " </TR>\n",
       " <TR>\n",
       "  <TD bgcolor=\"00FFFF\">׃</TD>\n",
       "  <TD bgcolor=\"00FFFF\">׃</TD>\n",
       " </TR>\n",
       "</TABLE>"
      ],
      "text/plain": [
       "<IPython.core.display.HTML object>"
      ]
     },
     "metadata": {},
     "output_type": "display_data"
    },
    {
     "name": "stdout",
     "output_type": "stream",
     "text": [
      "======= chapter 7 ==========\n",
      "======= verse 32 ==========\n"
     ]
    },
    {
     "data": {
      "text/html": [
       "<TABLE border=\"1\" style=\"border: 1px solid #000000; border-collapse: collapse;\" cellpadding=\"4\">\n",
       " <TR>\n",
       "  <TH>a</TH>\n",
       "  <TH>d</TH>\n",
       " </TR>\n",
       " <TR>\n",
       "  <TD bgcolor=\"00FFFF\">  וגם  לאביו</TD>\n",
       "  <TD bgcolor=\"00FFFF\">  וגם לאביו</TD>\n",
       " </TR>\n",
       " <TR>\n",
       "  <TD bgcolor=\"FF0000\">[ ] ה[ ]שיט</TD>\n",
       "  <TD bgcolor=\"FF0000\">הושיטה</TD>\n",
       " </TR>\n",
       " <TR>\n",
       "  <TD bgcolor=\"00FFFF\">יד      למען תשלם\n",
       "ברכתך׃</TD>\n",
       "  <TD bgcolor=\"00FFFF\">יד      למען תשלם\n",
       "ברכתך׃</TD>\n",
       " </TR>\n",
       "</TABLE>"
      ],
      "text/plain": [
       "<IPython.core.display.HTML object>"
      ]
     },
     "metadata": {},
     "output_type": "display_data"
    },
    {
     "name": "stdout",
     "output_type": "stream",
     "text": [
      "======= chapter 7 ==========\n",
      "======= verse 33 ==========\n"
     ]
    },
    {
     "data": {
      "text/html": [
       "<TABLE border=\"1\" style=\"border: 1px solid #000000; border-collapse: collapse;\" cellpadding=\"4\">\n",
       " <TR>\n",
       "  <TH>a</TH>\n",
       "  <TH>d</TH>\n",
       " </TR>\n",
       " <TR>\n",
       "  <TD bgcolor=\"00FFFF\">  תן מתן לפני כל חי\n",
       "וגם ממת</TD>\n",
       "  <TD bgcolor=\"00FFFF\">  תן מתן לפני כל חי\n",
       "וגם ממת</TD>\n",
       " </TR>\n",
       " <TR>\n",
       "  <TD bgcolor=\"FF0000\">א‍</TD>\n",
       "  <TD bgcolor=\"FF0000\">[ ]</TD>\n",
       " </TR>\n",
       " <TR>\n",
       "  <TD bgcolor=\"00FFFF\">ל תמנע חסד׃</TD>\n",
       "  <TD bgcolor=\"00FFFF\">ל תמנע חסד׃</TD>\n",
       " </TR>\n",
       "</TABLE>"
      ],
      "text/plain": [
       "<IPython.core.display.HTML object>"
      ]
     },
     "metadata": {},
     "output_type": "display_data"
    },
    {
     "name": "stdout",
     "output_type": "stream",
     "text": [
      "======= chapter 7 ==========\n",
      "======= verse 34 ==========\n"
     ]
    },
    {
     "data": {
      "text/html": [
       "<TABLE border=\"1\" style=\"border: 1px solid #000000; border-collapse: collapse;\" cellpadding=\"4\">\n",
       " <TR>\n",
       "  <TH>a</TH>\n",
       "  <TH>d</TH>\n",
       " </TR>\n",
       " <TR>\n",
       "  <TD bgcolor=\"00FFFF\">&nbsp;</TD>\n",
       "  <TD bgcolor=\"00FFFF\">&nbsp;</TD>\n",
       " </TR>\n",
       " <TR>\n",
       "  <TD bgcolor=\"FF0000\">א‍ל</TD>\n",
       "  <TD bgcolor=\"FF0000\">אל</TD>\n",
       " </TR>\n",
       " <TR>\n",
       "  <TD bgcolor=\"00FFFF\">תתאחר מבוכים    ועם</TD>\n",
       "  <TD bgcolor=\"00FFFF\">תתאחר מבוכים    ועם</TD>\n",
       " </TR>\n",
       " <TR>\n",
       "  <TD bgcolor=\"FF0000\">אבלים</TD>\n",
       "  <TD bgcolor=\"FF0000\">אבילים</TD>\n",
       " </TR>\n",
       " <TR>\n",
       "  <TD bgcolor=\"00FFFF\">התאבל׃</TD>\n",
       "  <TD bgcolor=\"00FFFF\">התאבל׃</TD>\n",
       " </TR>\n",
       "</TABLE>"
      ],
      "text/plain": [
       "<IPython.core.display.HTML object>"
      ]
     },
     "metadata": {},
     "output_type": "display_data"
    },
    {
     "name": "stdout",
     "output_type": "stream",
     "text": [
      "======= chapter 7 ==========\n",
      "======= verse 35 ==========\n"
     ]
    },
    {
     "data": {
      "text/html": [
       "<TABLE border=\"1\" style=\"border: 1px solid #000000; border-collapse: collapse;\" cellpadding=\"4\">\n",
       " <TR>\n",
       "  <TH>a</TH>\n",
       "  <TH>d</TH>\n",
       " </TR>\n",
       " <TR>\n",
       "  <TD bgcolor=\"00FFFF\">&nbsp;</TD>\n",
       "  <TD bgcolor=\"00FFFF\">&nbsp;</TD>\n",
       " </TR>\n",
       " <TR>\n",
       "  <TD bgcolor=\"FF0000\">א‍ל תשא לב מאוהב\n",
       "כי ממנו תאהב׃</TD>\n",
       "  <TD bgcolor=\"FF0000\">אל[ ]   [ ]</TD>\n",
       " </TR>\n",
       "</TABLE>"
      ],
      "text/plain": [
       "<IPython.core.display.HTML object>"
      ]
     },
     "metadata": {},
     "output_type": "display_data"
    },
    {
     "name": "stdout",
     "output_type": "stream",
     "text": [
      "======= chapter 7 ==========\n",
      "======= verse 36 ==========\n"
     ]
    },
    {
     "data": {
      "text/html": [
       "<TABLE border=\"1\" style=\"border: 1px solid #000000; border-collapse: collapse;\" cellpadding=\"4\">\n",
       " <TR>\n",
       "  <TH>a</TH>\n",
       "  <TH>d</TH>\n",
       " </TR>\n",
       " <TR>\n",
       "  <TD bgcolor=\"FF0000\">  בכל  מעשיך זכור\n",
       "אחרית ולעולם</TD>\n",
       "  <TD bgcolor=\"FF0000\">  [ ]ל  [ ]\n",
       "[ולעו]לם</TD>\n",
       " </TR>\n",
       " <TR>\n",
       "  <TD bgcolor=\"00FFFF\">לא</TD>\n",
       "  <TD bgcolor=\"00FFFF\">לא</TD>\n",
       " </TR>\n",
       " <TR>\n",
       "  <TD bgcolor=\"FF0000\">תשחת׃</TD>\n",
       "  <TD bgcolor=\"FF0000\">ת[ ]</TD>\n",
       " </TR>\n",
       "</TABLE>"
      ],
      "text/plain": [
       "<IPython.core.display.HTML object>"
      ]
     },
     "metadata": {},
     "output_type": "display_data"
    },
    {
     "name": "stdout",
     "output_type": "stream",
     "text": [
      "======= chapter 8 ==========\n",
      "======= verse 1 ==========\n"
     ]
    },
    {
     "data": {
      "text/html": [
       "<TABLE border=\"1\" style=\"border: 1px solid #000000; border-collapse: collapse;\" cellpadding=\"4\">\n",
       " <TR>\n",
       "  <TH>a</TH>\n",
       "  <TH>d</TH>\n",
       " </TR>\n",
       " <TR>\n",
       "  <TD bgcolor=\"00FFFF\">  אל</TD>\n",
       "  <TD bgcolor=\"00FFFF\">  אל</TD>\n",
       " </TR>\n",
       " <TR>\n",
       "  <TD bgcolor=\"FF0000\">תריב עם  איש גדול</TD>\n",
       "  <TD bgcolor=\"FF0000\">תר[ ]דול</TD>\n",
       " </TR>\n",
       " <TR>\n",
       "  <TD bgcolor=\"00FFFF\">למה תשוב על ידו</TD>\n",
       "  <TD bgcolor=\"00FFFF\">למה תשוב על ידו</TD>\n",
       " </TR>\n",
       " <TR>\n",
       "  <TD bgcolor=\"FF0000\">׃</TD>\n",
       "  <TD bgcolor=\"FF0000\">-</TD>\n",
       " </TR>\n",
       "</TABLE>"
      ],
      "text/plain": [
       "<IPython.core.display.HTML object>"
      ]
     },
     "metadata": {},
     "output_type": "display_data"
    },
    {
     "name": "stdout",
     "output_type": "stream",
     "text": [
      "======= chapter 8 ==========\n",
      "======= verse  ==========\n"
     ]
    },
    {
     "data": {
      "text/html": [
       "<TABLE border=\"1\" style=\"border: 1px solid #000000; border-collapse: collapse;\" cellpadding=\"4\">\n",
       " <TR>\n",
       "  <TH>a</TH>\n",
       "  <TH>d</TH>\n",
       " </TR>\n",
       " <TR>\n",
       "  <TD bgcolor=\"FF0000\">&nbsp;</TD>\n",
       "  <TD bgcolor=\"FF0000\">  [</TD>\n",
       " </TR>\n",
       " <TR>\n",
       "  <TD bgcolor=\"00FFFF\">כי קל בעיניו</TD>\n",
       "  <TD bgcolor=\"00FFFF\">כי קל בעיניו</TD>\n",
       " </TR>\n",
       " <TR>\n",
       "  <TD bgcolor=\"FF0000\">דמים</TD>\n",
       "  <TD bgcolor=\"FF0000\">דמי]ם</TD>\n",
       " </TR>\n",
       " <TR>\n",
       "  <TD bgcolor=\"00FFFF\">ובאין  מציל ישחיתך</TD>\n",
       "  <TD bgcolor=\"00FFFF\">ובאין מציל ישחיתך</TD>\n",
       " </TR>\n",
       " <TR>\n",
       "  <TD bgcolor=\"FF0000\">׃</TD>\n",
       "  <TD bgcolor=\"FF0000\">-</TD>\n",
       " </TR>\n",
       "</TABLE>"
      ],
      "text/plain": [
       "<IPython.core.display.HTML object>"
      ]
     },
     "metadata": {},
     "output_type": "display_data"
    },
    {
     "name": "stdout",
     "output_type": "stream",
     "text": [
      "======= chapter 8 ==========\n",
      "======= verse 2 ==========\n"
     ]
    },
    {
     "data": {
      "text/html": [
       "<TABLE border=\"1\" style=\"border: 1px solid #000000; border-collapse: collapse;\" cellpadding=\"4\">\n",
       " <TR>\n",
       "  <TH>a</TH>\n",
       "  <TH>d</TH>\n",
       " </TR>\n",
       " <TR>\n",
       "  <TD bgcolor=\"FF0000\">לוֹ</TD>\n",
       "  <TD bgcolor=\"FF0000\">&nbsp;</TD>\n",
       " </TR>\n",
       " <TR>\n",
       "  <TD bgcolor=\"00FFFF\">אל</TD>\n",
       "  <TD bgcolor=\"00FFFF\">אל</TD>\n",
       " </TR>\n",
       " <TR>\n",
       "  <TD bgcolor=\"FF0000\">תחרש</TD>\n",
       "  <TD bgcolor=\"FF0000\">תחרוש</TD>\n",
       " </TR>\n",
       " <TR>\n",
       "  <TD bgcolor=\"00FFFF\">על איש</TD>\n",
       "  <TD bgcolor=\"00FFFF\">על  איש</TD>\n",
       " </TR>\n",
       " <TR>\n",
       "  <TD bgcolor=\"FF0000\">לא֟ הון</TD>\n",
       "  <TD bgcolor=\"FF0000\">לו הן</TD>\n",
       " </TR>\n",
       " <TR>\n",
       "  <TD bgcolor=\"00FFFF\">פן</TD>\n",
       "  <TD bgcolor=\"00FFFF\">פן</TD>\n",
       " </TR>\n",
       " <TR>\n",
       "  <TD bgcolor=\"FF0000\">ישקל מחירך</TD>\n",
       "  <TD bgcolor=\"FF0000\">[ ]קל [ ]ח֯ירך</TD>\n",
       " </TR>\n",
       " <TR>\n",
       "  <TD bgcolor=\"00FFFF\">ואבדת</TD>\n",
       "  <TD bgcolor=\"00FFFF\">ואבדת</TD>\n",
       " </TR>\n",
       " <TR>\n",
       "  <TD bgcolor=\"FF0000\">-</TD>\n",
       "  <TD bgcolor=\"FF0000\">׃</TD>\n",
       " </TR>\n",
       "</TABLE>"
      ],
      "text/plain": [
       "<IPython.core.display.HTML object>"
      ]
     },
     "metadata": {},
     "output_type": "display_data"
    },
    {
     "name": "stdout",
     "output_type": "stream",
     "text": [
      "======= chapter 8 ==========\n",
      "======= verse 3 ==========\n"
     ]
    },
    {
     "data": {
      "text/html": [
       "<TABLE border=\"1\" style=\"border: 1px solid #000000; border-collapse: collapse;\" cellpadding=\"4\">\n",
       " <TR>\n",
       "  <TH>a</TH>\n",
       "  <TH>d</TH>\n",
       " </TR>\n",
       " <TR>\n",
       "  <TD bgcolor=\"00FFFF\">&nbsp;</TD>\n",
       "  <TD bgcolor=\"00FFFF\">&nbsp;</TD>\n",
       " </TR>\n",
       " <TR>\n",
       "  <TD bgcolor=\"FF0000\">א‍ל</TD>\n",
       "  <TD bgcolor=\"FF0000\">אל</TD>\n",
       " </TR>\n",
       " <TR>\n",
       "  <TD bgcolor=\"00FFFF\">תינץ עם איש</TD>\n",
       "  <TD bgcolor=\"00FFFF\">תינץ עם איש</TD>\n",
       " </TR>\n",
       " <TR>\n",
       "  <TD bgcolor=\"FF0000\">לשון    וא‍ל תתן</TD>\n",
       "  <TD bgcolor=\"FF0000\">ל[ ]ון  ואל [ ]</TD>\n",
       " </TR>\n",
       " <TR>\n",
       "  <TD bgcolor=\"00FFFF\">על אש</TD>\n",
       "  <TD bgcolor=\"00FFFF\">על אש</TD>\n",
       " </TR>\n",
       " <TR>\n",
       "  <TD bgcolor=\"FF0000\">עצ[ ]</TD>\n",
       "  <TD bgcolor=\"FF0000\">עצים׃</TD>\n",
       " </TR>\n",
       "</TABLE>"
      ],
      "text/plain": [
       "<IPython.core.display.HTML object>"
      ]
     },
     "metadata": {},
     "output_type": "display_data"
    },
    {
     "name": "stdout",
     "output_type": "stream",
     "text": [
      "======= chapter 8 ==========\n",
      "======= verse 4 ==========\n"
     ]
    },
    {
     "data": {
      "text/html": [
       "<TABLE border=\"1\" style=\"border: 1px solid #000000; border-collapse: collapse;\" cellpadding=\"4\">\n",
       " <TR>\n",
       "  <TH>a</TH>\n",
       "  <TH>d</TH>\n",
       " </TR>\n",
       " <TR>\n",
       "  <TD bgcolor=\"FF0000\">  [ ]</TD>\n",
       "  <TD bgcolor=\"FF0000\">  אל</TD>\n",
       " </TR>\n",
       " <TR>\n",
       "  <TD bgcolor=\"00FFFF\">תרגיל עם  איש אויל\n",
       "פן יבוז לנדיבים</TD>\n",
       "  <TD bgcolor=\"00FFFF\">תרגיל עם איש אויל\n",
       "פן יבוז לנדיבים</TD>\n",
       " </TR>\n",
       " <TR>\n",
       "  <TD bgcolor=\"FF0000\">׃</TD>\n",
       "  <TD bgcolor=\"FF0000\">-</TD>\n",
       " </TR>\n",
       "</TABLE>"
      ],
      "text/plain": [
       "<IPython.core.display.HTML object>"
      ]
     },
     "metadata": {},
     "output_type": "display_data"
    },
    {
     "name": "stdout",
     "output_type": "stream",
     "text": [
      "======= chapter 8 ==========\n",
      "======= verse 5 ==========\n"
     ]
    },
    {
     "data": {
      "text/html": [
       "<TABLE border=\"1\" style=\"border: 1px solid #000000; border-collapse: collapse;\" cellpadding=\"4\">\n",
       " <TR>\n",
       "  <TH>a</TH>\n",
       "  <TH>d</TH>\n",
       " </TR>\n",
       " <TR>\n",
       "  <TD bgcolor=\"00FFFF\">&nbsp;</TD>\n",
       "  <TD bgcolor=\"00FFFF\">&nbsp;</TD>\n",
       " </TR>\n",
       " <TR>\n",
       "  <TD bgcolor=\"FF0000\">א‍ל</TD>\n",
       "  <TD bgcolor=\"FF0000\">אל</TD>\n",
       " </TR>\n",
       " <TR>\n",
       "  <TD bgcolor=\"00FFFF\">תכלים</TD>\n",
       "  <TD bgcolor=\"00FFFF\">תכלים</TD>\n",
       " </TR>\n",
       " <TR>\n",
       "  <TD bgcolor=\"FF0000\">א</TD>\n",
       "  <TD bgcolor=\"FF0000\">אי</TD>\n",
       " </TR>\n",
       " <TR>\n",
       "  <TD bgcolor=\"00FFFF\">[ ]</TD>\n",
       "  <TD bgcolor=\"00FFFF\">[ ]</TD>\n",
       " </TR>\n",
       " <TR>\n",
       "  <TD bgcolor=\"FF0000\">ש</TD>\n",
       "  <TD bgcolor=\"FF0000\">-</TD>\n",
       " </TR>\n",
       " <TR>\n",
       "  <TD bgcolor=\"00FFFF\">שב מפשע  זכר כי כלנו\n",
       "חייבים׃</TD>\n",
       "  <TD bgcolor=\"00FFFF\">שב מפשע זכר כי כלנו\n",
       "חייבים׃</TD>\n",
       " </TR>\n",
       "</TABLE>"
      ],
      "text/plain": [
       "<IPython.core.display.HTML object>"
      ]
     },
     "metadata": {},
     "output_type": "display_data"
    },
    {
     "name": "stdout",
     "output_type": "stream",
     "text": [
      "======= chapter 8 ==========\n",
      "======= verse 6 ==========\n"
     ]
    },
    {
     "data": {
      "text/html": [
       "<TABLE border=\"1\" style=\"border: 1px solid #000000; border-collapse: collapse;\" cellpadding=\"4\">\n",
       " <TR>\n",
       "  <TH>a</TH>\n",
       "  <TH>d</TH>\n",
       " </TR>\n",
       " <TR>\n",
       "  <TD bgcolor=\"00FFFF\">  א</TD>\n",
       "  <TD bgcolor=\"00FFFF\">  א</TD>\n",
       " </TR>\n",
       " <TR>\n",
       "  <TD bgcolor=\"FF0000\">‍ל תבייש אנוש ישיש</TD>\n",
       "  <TD bgcolor=\"FF0000\">[   ]ש[ ]ש</TD>\n",
       " </TR>\n",
       " <TR>\n",
       "  <TD bgcolor=\"00FFFF\">כי</TD>\n",
       "  <TD bgcolor=\"00FFFF\">כי</TD>\n",
       " </TR>\n",
       " <TR>\n",
       "  <TD bgcolor=\"FF0000\">נמנﬣ</TD>\n",
       "  <TD bgcolor=\"FF0000\">נמנה</TD>\n",
       " </TR>\n",
       " <TR>\n",
       "  <TD bgcolor=\"00FFFF\">מזקנים׃</TD>\n",
       "  <TD bgcolor=\"00FFFF\">מזקנים׃</TD>\n",
       " </TR>\n",
       "</TABLE>"
      ],
      "text/plain": [
       "<IPython.core.display.HTML object>"
      ]
     },
     "metadata": {},
     "output_type": "display_data"
    },
    {
     "name": "stdout",
     "output_type": "stream",
     "text": [
      "======= chapter 8 ==========\n",
      "======= verse 7 ==========\n"
     ]
    },
    {
     "data": {
      "text/html": [
       "<TABLE border=\"1\" style=\"border: 1px solid #000000; border-collapse: collapse;\" cellpadding=\"4\">\n",
       " <TR>\n",
       "  <TH>a</TH>\n",
       "  <TH>d</TH>\n",
       " </TR>\n",
       " <TR>\n",
       "  <TD bgcolor=\"FF0000\">ֶ        א‍ל</TD>\n",
       "  <TD bgcolor=\"FF0000\">  אל</TD>\n",
       " </TR>\n",
       " <TR>\n",
       "  <TD bgcolor=\"00FFFF\">תתהלל על</TD>\n",
       "  <TD bgcolor=\"00FFFF\">תתהלל על</TD>\n",
       " </TR>\n",
       " <TR>\n",
       "  <TD bgcolor=\"FF0000\">גוֹע    זכר כלנו\n",
       "נאספים׃</TD>\n",
       "  <TD bgcolor=\"FF0000\">[ ]     [ ]</TD>\n",
       " </TR>\n",
       "</TABLE>"
      ],
      "text/plain": [
       "<IPython.core.display.HTML object>"
      ]
     },
     "metadata": {},
     "output_type": "display_data"
    },
    {
     "name": "stdout",
     "output_type": "stream",
     "text": [
      "======= chapter 8 ==========\n",
      "======= verse 8 ==========\n"
     ]
    },
    {
     "data": {
      "text/html": [
       "<TABLE border=\"1\" style=\"border: 1px solid #000000; border-collapse: collapse;\" cellpadding=\"4\">\n",
       " <TR>\n",
       "  <TH>a</TH>\n",
       "  <TH>d</TH>\n",
       " </TR>\n",
       " <TR>\n",
       "  <TD bgcolor=\"FF0000\">  [ ]ל</TD>\n",
       "  <TD bgcolor=\"FF0000\">  אל</TD>\n",
       " </TR>\n",
       " <TR>\n",
       "  <TD bgcolor=\"00FFFF\">תטש  שיחת חכמים</TD>\n",
       "  <TD bgcolor=\"00FFFF\">תטש שיחת חכמים</TD>\n",
       " </TR>\n",
       " <TR>\n",
       "  <TD bgcolor=\"FF0000\">ובחידתיהם התרטש׃</TD>\n",
       "  <TD bgcolor=\"FF0000\">[ ]</TD>\n",
       " </TR>\n",
       "</TABLE>"
      ],
      "text/plain": [
       "<IPython.core.display.HTML object>"
      ]
     },
     "metadata": {},
     "output_type": "display_data"
    },
    {
     "name": "stdout",
     "output_type": "stream",
     "text": [
      "======= chapter 8 ==========\n",
      "======= verse 9 ==========\n"
     ]
    },
    {
     "data": {
      "text/html": [
       "<TABLE border=\"1\" style=\"border: 1px solid #000000; border-collapse: collapse;\" cellpadding=\"4\">\n",
       " <TR>\n",
       "  <TH>a</TH>\n",
       "  <TH>d</TH>\n",
       " </TR>\n",
       " <TR>\n",
       "  <TD bgcolor=\"FF0000\">  א‍ל תמאס</TD>\n",
       "  <TD bgcolor=\"FF0000\">  [ ]מאס</TD>\n",
       " </TR>\n",
       " <TR>\n",
       "  <TD bgcolor=\"00FFFF\">בשמיעות</TD>\n",
       "  <TD bgcolor=\"00FFFF\">בשמיעות</TD>\n",
       " </TR>\n",
       " <TR>\n",
       "  <TD bgcolor=\"FF0000\">שׂבים</TD>\n",
       "  <TD bgcolor=\"FF0000\">שבים</TD>\n",
       " </TR>\n",
       " <TR>\n",
       "  <TD bgcolor=\"00FFFF\">אשר</TD>\n",
       "  <TD bgcolor=\"00FFFF\">אשר</TD>\n",
       " </TR>\n",
       " <TR>\n",
       "  <TD bgcolor=\"FF0000\">שמעו מאבתם׃</TD>\n",
       "  <TD bgcolor=\"FF0000\">שמע[ו  ]</TD>\n",
       " </TR>\n",
       "</TABLE>"
      ],
      "text/plain": [
       "<IPython.core.display.HTML object>"
      ]
     },
     "metadata": {},
     "output_type": "display_data"
    },
    {
     "name": "stdout",
     "output_type": "stream",
     "text": [
      "======= chapter 8 ==========\n",
      "======= verse 10 ==========\n"
     ]
    },
    {
     "data": {
      "text/html": [
       "<TABLE border=\"1\" style=\"border: 1px solid #000000; border-collapse: collapse;\" cellpadding=\"4\">\n",
       " <TR>\n",
       "  <TH>a</TH>\n",
       "  <TH>d</TH>\n",
       " </TR>\n",
       " <TR>\n",
       "  <TD bgcolor=\"00FFFF\">&nbsp;</TD>\n",
       "  <TD bgcolor=\"00FFFF\">&nbsp;</TD>\n",
       " </TR>\n",
       " <TR>\n",
       "  <TD bgcolor=\"FF0000\">א‍ל ת{נ}צלח בנחלת\n",
       "רשע   פן תבער</TD>\n",
       "  <TD bgcolor=\"FF0000\">אל תצ[ ] בנחל[ ]\n",
       "פ[ן] תבער כ/</TD>\n",
       " </TR>\n",
       " <TR>\n",
       "  <TD bgcolor=\"00FFFF\">בשביב</TD>\n",
       "  <TD bgcolor=\"00FFFF\">בשביב</TD>\n",
       " </TR>\n",
       " <TR>\n",
       "  <TD bgcolor=\"FF0000\">אשו׃</TD>\n",
       "  <TD bgcolor=\"FF0000\">אש[ ]</TD>\n",
       " </TR>\n",
       "</TABLE>"
      ],
      "text/plain": [
       "<IPython.core.display.HTML object>"
      ]
     },
     "metadata": {},
     "output_type": "display_data"
    },
    {
     "name": "stdout",
     "output_type": "stream",
     "text": [
      "======= chapter 8 ==========\n",
      "======= verse 11 ==========\n"
     ]
    },
    {
     "data": {
      "text/html": [
       "<TABLE border=\"1\" style=\"border: 1px solid #000000; border-collapse: collapse;\" cellpadding=\"4\">\n",
       " <TR>\n",
       "  <TH>a</TH>\n",
       "  <TH>d</TH>\n",
       " </TR>\n",
       " <TR>\n",
       "  <TD bgcolor=\"FF0000\">  אל תזוח</TD>\n",
       "  <TD bgcolor=\"FF0000\">  [ ]ל[  ]</TD>\n",
       " </TR>\n",
       " <TR>\n",
       "  <TD bgcolor=\"00FFFF\">מפני לץ</TD>\n",
       "  <TD bgcolor=\"00FFFF\">מפני לץ</TD>\n",
       " </TR>\n",
       " <TR>\n",
       "  <TD bgcolor=\"FF0000\">להושיבו כאורב לפניך</TD>\n",
       "  <TD bgcolor=\"FF0000\">ל</TD>\n",
       " </TR>\n",
       " <TR>\n",
       "  <TD bgcolor=\"00FFFF\">[ ]</TD>\n",
       "  <TD bgcolor=\"00FFFF\">[ ]</TD>\n",
       " </TR>\n",
       " <TR>\n",
       "  <TD bgcolor=\"FF0000\">-</TD>\n",
       "  <TD bgcolor=\"FF0000\">פניך</TD>\n",
       " </TR>\n",
       "</TABLE>"
      ],
      "text/plain": [
       "<IPython.core.display.HTML object>"
      ]
     },
     "metadata": {},
     "output_type": "display_data"
    },
    {
     "name": "stdout",
     "output_type": "stream",
     "text": [
      "======= chapter 8 ==========\n",
      "======= verse 12 ==========\n"
     ]
    },
    {
     "data": {
      "text/html": [
       "<TABLE border=\"1\" style=\"border: 1px solid #000000; border-collapse: collapse;\" cellpadding=\"4\">\n",
       " <TR>\n",
       "  <TH>a</TH>\n",
       "  <TH>d</TH>\n",
       " </TR>\n",
       " <TR>\n",
       "  <TD bgcolor=\"00FFFF\">  א</TD>\n",
       "  <TD bgcolor=\"00FFFF\">  א</TD>\n",
       " </TR>\n",
       " <TR>\n",
       "  <TD bgcolor=\"FF0000\">‍ל תל</TD>\n",
       "  <TD bgcolor=\"FF0000\">[ ] ת</TD>\n",
       " </TR>\n",
       " <TR>\n",
       "  <TD bgcolor=\"00FFFF\">[ ]</TD>\n",
       "  <TD bgcolor=\"00FFFF\">[ ]</TD>\n",
       " </TR>\n",
       " <TR>\n",
       "  <TD bgcolor=\"FF0000\">ה  איש</TD>\n",
       "  <TD bgcolor=\"FF0000\">אי[ ]</TD>\n",
       " </TR>\n",
       " <TR>\n",
       "  <TD bgcolor=\"00FFFF\">חזק ממך ואם הלוית</TD>\n",
       "  <TD bgcolor=\"00FFFF\">חזק ממך     ואם\n",
       "הלוית</TD>\n",
       " </TR>\n",
       " <TR>\n",
       "  <TD bgcolor=\"FF0000\">כמאבד׃</TD>\n",
       "  <TD bgcolor=\"FF0000\">כמא◦ֿ◦</TD>\n",
       " </TR>\n",
       "</TABLE>"
      ],
      "text/plain": [
       "<IPython.core.display.HTML object>"
      ]
     },
     "metadata": {},
     "output_type": "display_data"
    },
    {
     "name": "stdout",
     "output_type": "stream",
     "text": [
      "======= chapter 8 ==========\n",
      "======= verse 13 ==========\n"
     ]
    },
    {
     "data": {
      "text/html": [
       "<TABLE border=\"1\" style=\"border: 1px solid #000000; border-collapse: collapse;\" cellpadding=\"4\">\n",
       " <TR>\n",
       "  <TH>a</TH>\n",
       "  <TH>d</TH>\n",
       " </TR>\n",
       " <TR>\n",
       "  <TD bgcolor=\"00FFFF\">&nbsp;</TD>\n",
       "  <TD bgcolor=\"00FFFF\">&nbsp;</TD>\n",
       " </TR>\n",
       " <TR>\n",
       "  <TD bgcolor=\"FF0000\">א‍ל</TD>\n",
       "  <TD bgcolor=\"FF0000\">אל</TD>\n",
       " </TR>\n",
       " <TR>\n",
       "  <TD bgcolor=\"00FFFF\">תערב יתר ממך     ואם\n",
       "ערבת כמשלם׃</TD>\n",
       "  <TD bgcolor=\"00FFFF\">תערב יתר ממך    ואם\n",
       "ערבת כמשלם׃</TD>\n",
       " </TR>\n",
       "</TABLE>"
      ],
      "text/plain": [
       "<IPython.core.display.HTML object>"
      ]
     },
     "metadata": {},
     "output_type": "display_data"
    },
    {
     "name": "stdout",
     "output_type": "stream",
     "text": [
      "======= chapter 8 ==========\n",
      "======= verse 14 ==========\n"
     ]
    },
    {
     "data": {
      "text/html": [
       "<TABLE border=\"1\" style=\"border: 1px solid #000000; border-collapse: collapse;\" cellpadding=\"4\">\n",
       " <TR>\n",
       "  <TH>a</TH>\n",
       "  <TH>d</TH>\n",
       " </TR>\n",
       " <TR>\n",
       "  <TD bgcolor=\"00FFFF\">&nbsp;</TD>\n",
       "  <TD bgcolor=\"00FFFF\">&nbsp;</TD>\n",
       " </TR>\n",
       " <TR>\n",
       "  <TD bgcolor=\"FF0000\">א‍ל תשפט</TD>\n",
       "  <TD bgcolor=\"FF0000\">אל תשפוט</TD>\n",
       " </TR>\n",
       " <TR>\n",
       "  <TD bgcolor=\"00FFFF\">עם שופט כי כרצונו</TD>\n",
       "  <TD bgcolor=\"00FFFF\">עם שופט כי כרצונו</TD>\n",
       " </TR>\n",
       " <TR>\n",
       "  <TD bgcolor=\"FF0000\">יש[ ]׃</TD>\n",
       "  <TD bgcolor=\"FF0000\">ישפט׃</TD>\n",
       " </TR>\n",
       "</TABLE>"
      ],
      "text/plain": [
       "<IPython.core.display.HTML object>"
      ]
     },
     "metadata": {},
     "output_type": "display_data"
    },
    {
     "name": "stdout",
     "output_type": "stream",
     "text": [
      "======= chapter 8 ==========\n",
      "======= verse 15 ==========\n"
     ]
    },
    {
     "data": {
      "text/html": [
       "<TABLE border=\"1\" style=\"border: 1px solid #000000; border-collapse: collapse;\" cellpadding=\"4\">\n",
       " <TR>\n",
       "  <TH>a</TH>\n",
       "  <TH>d</TH>\n",
       " </TR>\n",
       " <TR>\n",
       "  <TD bgcolor=\"00FFFF\">  עם אכזרי</TD>\n",
       "  <TD bgcolor=\"00FFFF\">  עם אכזרי</TD>\n",
       " </TR>\n",
       " <TR>\n",
       "  <TD bgcolor=\"FF0000\">א‍ל</TD>\n",
       "  <TD bgcolor=\"FF0000\">אל</TD>\n",
       " </TR>\n",
       " <TR>\n",
       "  <TD bgcolor=\"00FFFF\">תלך</TD>\n",
       "  <TD bgcolor=\"00FFFF\">תלך</TD>\n",
       " </TR>\n",
       " <TR>\n",
       "  <TD bgcolor=\"FF0000\">-</TD>\n",
       "  <TD bgcolor=\"FF0000\">פן</TD>\n",
       " </TR>\n",
       " <TR>\n",
       "  <TD bgcolor=\"00FFFF\">תכביד את רעתך׃</TD>\n",
       "  <TD bgcolor=\"00FFFF\">תכביד את רעתך׃</TD>\n",
       " </TR>\n",
       "</TABLE>"
      ],
      "text/plain": [
       "<IPython.core.display.HTML object>"
      ]
     },
     "metadata": {},
     "output_type": "display_data"
    },
    {
     "name": "stdout",
     "output_type": "stream",
     "text": [
      "======= chapter 8 ==========\n",
      "======= verse 16 ==========\n"
     ]
    },
    {
     "data": {
      "text/html": [
       "<TABLE border=\"1\" style=\"border: 1px solid #000000; border-collapse: collapse;\" cellpadding=\"4\">\n",
       " <TR>\n",
       "  <TH>a</TH>\n",
       "  <TH>d</TH>\n",
       " </TR>\n",
       " <TR>\n",
       "  <TD bgcolor=\"00FFFF\">  עם בעל אף</TD>\n",
       "  <TD bgcolor=\"00FFFF\">  עם בעל אף</TD>\n",
       " </TR>\n",
       " <TR>\n",
       "  <TD bgcolor=\"FF0000\">א‍ל</TD>\n",
       "  <TD bgcolor=\"FF0000\">אל</TD>\n",
       " </TR>\n",
       " <TR>\n",
       "  <TD bgcolor=\"00FFFF\">תעיז  מצח</TD>\n",
       "  <TD bgcolor=\"00FFFF\">תעיז   מצח</TD>\n",
       " </TR>\n",
       " <TR>\n",
       "  <TD bgcolor=\"FF0000\">וא‍ל</TD>\n",
       "  <TD bgcolor=\"FF0000\">ואל</TD>\n",
       " </TR>\n",
       " <TR>\n",
       "  <TD bgcolor=\"00FFFF\">תרכב עמו בדרך</TD>\n",
       "  <TD bgcolor=\"00FFFF\">תרכב עמו בדרך</TD>\n",
       " </TR>\n",
       " <TR>\n",
       "  <TD bgcolor=\"FF0000\">׃</TD>\n",
       "  <TD bgcolor=\"FF0000\">[׃]</TD>\n",
       " </TR>\n",
       "</TABLE>"
      ],
      "text/plain": [
       "<IPython.core.display.HTML object>"
      ]
     },
     "metadata": {},
     "output_type": "display_data"
    },
    {
     "name": "stdout",
     "output_type": "stream",
     "text": [
      "======= chapter 8 ==========\n",
      "======= verse 17 ==========\n"
     ]
    },
    {
     "data": {
      "text/html": [
       "<TABLE border=\"1\" style=\"border: 1px solid #000000; border-collapse: collapse;\" cellpadding=\"4\">\n",
       " <TR>\n",
       "  <TH>a</TH>\n",
       "  <TH>d</TH>\n",
       " </TR>\n",
       " <TR>\n",
       "  <TD bgcolor=\"00FFFF\">  עם פותה</TD>\n",
       "  <TD bgcolor=\"00FFFF\">  עם פותה</TD>\n",
       " </TR>\n",
       " <TR>\n",
       "  <TD bgcolor=\"FF0000\">א‍ל</TD>\n",
       "  <TD bgcolor=\"FF0000\">אל[</TD>\n",
       " </TR>\n",
       " <TR>\n",
       "  <TD bgcolor=\"00FFFF\">תסתייד</TD>\n",
       "  <TD bgcolor=\"00FFFF\">תסתייד</TD>\n",
       " </TR>\n",
       " <TR>\n",
       "  <TD bgcolor=\"FF0000\">-</TD>\n",
       "  <TD bgcolor=\"FF0000\">]       [</TD>\n",
       " </TR>\n",
       " <TR>\n",
       "  <TD bgcolor=\"00FFFF\">כי לא</TD>\n",
       "  <TD bgcolor=\"00FFFF\">כי לא</TD>\n",
       " </TR>\n",
       " <TR>\n",
       "  <TD bgcolor=\"FF0000\">יוכﬥ</TD>\n",
       "  <TD bgcolor=\"FF0000\">]  יוכל</TD>\n",
       " </TR>\n",
       " <TR>\n",
       "  <TD bgcolor=\"00FFFF\">לכסות סודך׃</TD>\n",
       "  <TD bgcolor=\"00FFFF\">לכסות סודך׃</TD>\n",
       " </TR>\n",
       "</TABLE>"
      ],
      "text/plain": [
       "<IPython.core.display.HTML object>"
      ]
     },
     "metadata": {},
     "output_type": "display_data"
    },
    {
     "name": "stdout",
     "output_type": "stream",
     "text": [
      "======= chapter 8 ==========\n",
      "======= verse 18 ==========\n"
     ]
    },
    {
     "data": {
      "text/html": [
       "<TABLE border=\"1\" style=\"border: 1px solid #000000; border-collapse: collapse;\" cellpadding=\"4\">\n",
       " <TR>\n",
       "  <TH>a</TH>\n",
       "  <TH>d</TH>\n",
       " </TR>\n",
       " <TR>\n",
       "  <TD bgcolor=\"00FFFF\">  לפני זר</TD>\n",
       "  <TD bgcolor=\"00FFFF\">  לפני זר</TD>\n",
       " </TR>\n",
       " <TR>\n",
       "  <TD bgcolor=\"FF0000\">א‍ל תעש רז</TD>\n",
       "  <TD bgcolor=\"FF0000\">אל תעש ר[ז]     [</TD>\n",
       " </TR>\n",
       " <TR>\n",
       "  <TD bgcolor=\"00FFFF\">כי</TD>\n",
       "  <TD bgcolor=\"00FFFF\">כי</TD>\n",
       " </TR>\n",
       " <TR>\n",
       "  <TD bgcolor=\"FF0000\">-</TD>\n",
       "  <TD bgcolor=\"FF0000\">]</TD>\n",
       " </TR>\n",
       " <TR>\n",
       "  <TD bgcolor=\"00FFFF\">לא תדע</TD>\n",
       "  <TD bgcolor=\"00FFFF\">לא תדע</TD>\n",
       " </TR>\n",
       " <TR>\n",
       "  <TD bgcolor=\"FF0000\">מה ילד  ספו׃</TD>\n",
       "  <TD bgcolor=\"FF0000\">-</TD>\n",
       " </TR>\n",
       "</TABLE>"
      ],
      "text/plain": [
       "<IPython.core.display.HTML object>"
      ]
     },
     "metadata": {},
     "output_type": "display_data"
    },
    {
     "name": "stdout",
     "output_type": "stream",
     "text": [
      "======= chapter 10 ==========\n",
      "======= verse  ==========\n"
     ]
    },
    {
     "data": {
      "text/html": [
       "<TABLE border=\"1\" style=\"border: 1px solid #000000; border-collapse: collapse;\" cellpadding=\"4\">\n",
       " <TR>\n",
       "  <TH>a</TH>\n",
       "  <TH>b</TH>\n",
       " </TR>\n",
       " <TR>\n",
       "  <TD bgcolor=\"FF0000\">&nbsp;</TD>\n",
       "  <TD bgcolor=\"FF0000\">-</TD>\n",
       " </TR>\n",
       " <TR>\n",
       "  <TD bgcolor=\"00FFFF\">המתכבד  בדלותו בעשרו\n",
       "מתכבד יתר  והנקלה\n",
       "בעשרו</TD>\n",
       "  <TD bgcolor=\"00FFFF\">המתכבד בדלותו בעשרו\n",
       "מתכבד יתר והנקלה\n",
       "בעשרו</TD>\n",
       " </TR>\n",
       " <TR>\n",
       "  <TD bgcolor=\"FF0000\">ב{ל}דלותו</TD>\n",
       "  <TD bgcolor=\"FF0000\">בדלותו</TD>\n",
       " </TR>\n",
       " <TR>\n",
       "  <TD bgcolor=\"00FFFF\">נקלה</TD>\n",
       "  <TD bgcolor=\"00FFFF\">נקלה</TD>\n",
       " </TR>\n",
       " <TR>\n",
       "  <TD bgcolor=\"FF0000\">יותר</TD>\n",
       "  <TD bgcolor=\"FF0000\">יתר</TD>\n",
       " </TR>\n",
       " <TR>\n",
       "  <TD bgcolor=\"00FFFF\">׃</TD>\n",
       "  <TD bgcolor=\"00FFFF\">׃</TD>\n",
       " </TR>\n",
       "</TABLE>"
      ],
      "text/plain": [
       "<IPython.core.display.HTML object>"
      ]
     },
     "metadata": {},
     "output_type": "display_data"
    },
    {
     "name": "stdout",
     "output_type": "stream",
     "text": [
      "======= chapter 10 ==========\n",
      "======= verse 20 ==========\n"
     ]
    },
    {
     "data": {
      "text/html": [
       "<TABLE border=\"1\" style=\"border: 1px solid #000000; border-collapse: collapse;\" cellpadding=\"4\">\n",
       " <TR>\n",
       "  <TH>a</TH>\n",
       "  <TH>b</TH>\n",
       " </TR>\n",
       " <TR>\n",
       "  <TD bgcolor=\"FF0000\">&nbsp;</TD>\n",
       "  <TD bgcolor=\"FF0000\">-</TD>\n",
       " </TR>\n",
       " <TR>\n",
       "  <TD bgcolor=\"00FFFF\">בין אחים ראשם נכבד\n",
       "וירא</TD>\n",
       "  <TD bgcolor=\"00FFFF\">בין אחים ראשם נכבד\n",
       "וירא</TD>\n",
       " </TR>\n",
       " <TR>\n",
       "  <TD bgcolor=\"FF0000\">א‍להים בע[י]נ[ ]</TD>\n",
       "  <TD bgcolor=\"FF0000\">אלהים נכבד ממנו׃</TD>\n",
       " </TR>\n",
       "</TABLE>"
      ],
      "text/plain": [
       "<IPython.core.display.HTML object>"
      ]
     },
     "metadata": {},
     "output_type": "display_data"
    },
    {
     "name": "stdout",
     "output_type": "stream",
     "text": [
      "======= chapter 10 ==========\n",
      "======= verse 22 ==========\n"
     ]
    },
    {
     "data": {
      "text/html": [
       "<TABLE border=\"1\" style=\"border: 1px solid #000000; border-collapse: collapse;\" cellpadding=\"4\">\n",
       " <TR>\n",
       "  <TH>a</TH>\n",
       "  <TH>b</TH>\n",
       " </TR>\n",
       " <TR>\n",
       "  <TD bgcolor=\"FF0000\">&nbsp;</TD>\n",
       "  <TD bgcolor=\"FF0000\">-</TD>\n",
       " </TR>\n",
       " <TR>\n",
       "  <TD bgcolor=\"00FFFF\">גר</TD>\n",
       "  <TD bgcolor=\"00FFFF\">גר</TD>\n",
       " </TR>\n",
       " <TR>\n",
       "  <TD bgcolor=\"FF0000\">וזר</TD>\n",
       "  <TD bgcolor=\"FF0000\">זר</TD>\n",
       " </TR>\n",
       " <TR>\n",
       "  <TD bgcolor=\"00FFFF\">נכרי ורש\n",
       "תפארתם</TD>\n",
       "  <TD bgcolor=\"00FFFF\">נכרי ורש\n",
       "תפארתם</TD>\n",
       " </TR>\n",
       " <TR>\n",
       "  <TD bgcolor=\"FF0000\">י[ ]את א‍להים•</TD>\n",
       "  <TD bgcolor=\"FF0000\">ירא֟ת ייי׃</TD>\n",
       " </TR>\n",
       "</TABLE>"
      ],
      "text/plain": [
       "<IPython.core.display.HTML object>"
      ]
     },
     "metadata": {},
     "output_type": "display_data"
    },
    {
     "name": "stdout",
     "output_type": "stream",
     "text": [
      "======= chapter 10 ==========\n",
      "======= verse 23 ==========\n"
     ]
    },
    {
     "data": {
      "text/html": [
       "<TABLE border=\"1\" style=\"border: 1px solid #000000; border-collapse: collapse;\" cellpadding=\"4\">\n",
       " <TR>\n",
       "  <TH>a</TH>\n",
       "  <TH>b</TH>\n",
       " </TR>\n",
       " <TR>\n",
       "  <TD bgcolor=\"FF0000\">&nbsp;</TD>\n",
       "  <TD bgcolor=\"FF0000\">-</TD>\n",
       " </TR>\n",
       " <TR>\n",
       "  <TD bgcolor=\"00FFFF\">אין לבזות דל משכיל\n",
       "ואין לכבד כל איש</TD>\n",
       "  <TD bgcolor=\"00FFFF\">אין לבזות דל משכיל\n",
       "ואין לכבד כל איש</TD>\n",
       " </TR>\n",
       " <TR>\n",
       "  <TD bgcolor=\"FF0000\">[ ]כם</TD>\n",
       "  <TD bgcolor=\"FF0000\">חמס</TD>\n",
       " </TR>\n",
       " <TR>\n",
       "  <TD bgcolor=\"00FFFF\">׃</TD>\n",
       "  <TD bgcolor=\"00FFFF\">׃</TD>\n",
       " </TR>\n",
       "</TABLE>"
      ],
      "text/plain": [
       "<IPython.core.display.HTML object>"
      ]
     },
     "metadata": {},
     "output_type": "display_data"
    },
    {
     "name": "stdout",
     "output_type": "stream",
     "text": [
      "======= chapter 10 ==========\n",
      "======= verse 24 ==========\n"
     ]
    },
    {
     "data": {
      "text/html": [
       "<TABLE border=\"1\" style=\"border: 1px solid #000000; border-collapse: collapse;\" cellpadding=\"4\">\n",
       " <TR>\n",
       "  <TH>a</TH>\n",
       "  <TH>b</TH>\n",
       " </TR>\n",
       " <TR>\n",
       "  <TD bgcolor=\"FF0000\">  ש[ ] מושל ושופט</TD>\n",
       "  <TD bgcolor=\"FF0000\">שר שופט ומושל</TD>\n",
       " </TR>\n",
       " <TR>\n",
       "  <TD bgcolor=\"00FFFF\">נכבדו   וא</TD>\n",
       "  <TD bgcolor=\"00FFFF\">נכבדו   וא</TD>\n",
       " </TR>\n",
       " <TR>\n",
       "  <TD bgcolor=\"FF0000\">[ ]ן  גדול מ</TD>\n",
       "  <TD bgcolor=\"FF0000\">[  ]גד</TD>\n",
       " </TR>\n",
       " <TR>\n",
       "  <TD bgcolor=\"00FFFF\">[ ]</TD>\n",
       "  <TD bgcolor=\"00FFFF\">[ ]</TD>\n",
       " </TR>\n",
       " <TR>\n",
       "  <TD bgcolor=\"FF0000\">רא א‍להים׃</TD>\n",
       "  <TD bgcolor=\"FF0000\">-</TD>\n",
       " </TR>\n",
       "</TABLE>"
      ],
      "text/plain": [
       "<IPython.core.display.HTML object>"
      ]
     },
     "metadata": {},
     "output_type": "display_data"
    },
    {
     "name": "stdout",
     "output_type": "stream",
     "text": [
      "======= chapter 10 ==========\n",
      "======= verse 25 ==========\n"
     ]
    },
    {
     "data": {
      "text/html": [
       "<TABLE border=\"1\" style=\"border: 1px solid #000000; border-collapse: collapse;\" cellpadding=\"4\">\n",
       " <TR>\n",
       "  <TH>a</TH>\n",
       "  <TH>b</TH>\n",
       " </TR>\n",
       " <TR>\n",
       "  <TD bgcolor=\"FF0000\">&nbsp;</TD>\n",
       "  <TD bgcolor=\"FF0000\">-</TD>\n",
       " </TR>\n",
       " <TR>\n",
       "  <TD bgcolor=\"00FFFF\">עבד משכיל</TD>\n",
       "  <TD bgcolor=\"00FFFF\">עבד משכיל</TD>\n",
       " </TR>\n",
       " <TR>\n",
       "  <TD bgcolor=\"FF0000\">הורם    ועבד[  ]ש[ ]\n",
       "לﬡ  יתאונן׃</TD>\n",
       "  <TD bgcolor=\"FF0000\">חביב כנפש       [\n",
       "]</TD>\n",
       " </TR>\n",
       "</TABLE>"
      ],
      "text/plain": [
       "<IPython.core.display.HTML object>"
      ]
     },
     "metadata": {},
     "output_type": "display_data"
    },
    {
     "name": "stdout",
     "output_type": "stream",
     "text": [
      "======= chapter 10 ==========\n",
      "======= verse 26 ==========\n"
     ]
    },
    {
     "data": {
      "text/html": [
       "<TABLE border=\"1\" style=\"border: 1px solid #000000; border-collapse: collapse;\" cellpadding=\"4\">\n",
       " <TR>\n",
       "  <TH>a</TH>\n",
       "  <TH>b</TH>\n",
       " </TR>\n",
       " <TR>\n",
       "  <TD bgcolor=\"FF0000\">  א‍ַל</TD>\n",
       "  <TD bgcolor=\"FF0000\">אל</TD>\n",
       " </TR>\n",
       " <TR>\n",
       "  <TD bgcolor=\"00FFFF\">תתחכם</TD>\n",
       "  <TD bgcolor=\"00FFFF\">תתחכם</TD>\n",
       " </TR>\n",
       " <TR>\n",
       "  <TD bgcolor=\"FF0000\">לעבד חפצך       וא‍ל\n",
       "תתכ</TD>\n",
       "  <TD bgcolor=\"FF0000\">לעשות חפ֟צך     ואל\n",
       "תתכב</TD>\n",
       " </TR>\n",
       " <TR>\n",
       "  <TD bgcolor=\"00FFFF\">[ ]</TD>\n",
       "  <TD bgcolor=\"00FFFF\">[ ]</TD>\n",
       " </TR>\n",
       " <TR>\n",
       "  <TD bgcolor=\"FF0000\">עת  צרכך׃</TD>\n",
       "  <TD bgcolor=\"FF0000\">-</TD>\n",
       " </TR>\n",
       "</TABLE>"
      ],
      "text/plain": [
       "<IPython.core.display.HTML object>"
      ]
     },
     "metadata": {},
     "output_type": "display_data"
    },
    {
     "name": "stdout",
     "output_type": "stream",
     "text": [
      "======= chapter 10 ==========\n",
      "======= verse 27 ==========\n"
     ]
    },
    {
     "data": {
      "text/html": [
       "<TABLE border=\"1\" style=\"border: 1px solid #000000; border-collapse: collapse;\" cellpadding=\"4\">\n",
       " <TR>\n",
       "  <TH>a</TH>\n",
       "  <TH>b</TH>\n",
       " </TR>\n",
       " <TR>\n",
       "  <TD bgcolor=\"FF0000\">&nbsp;</TD>\n",
       "  <TD bgcolor=\"FF0000\">-</TD>\n",
       " </TR>\n",
       " <TR>\n",
       "  <TD bgcolor=\"00FFFF\">טוב עובד ויותר הון\n",
       "ממתכבד</TD>\n",
       "  <TD bgcolor=\"00FFFF\">טוב עובד ויותר הון\n",
       "ממתכבד</TD>\n",
       " </TR>\n",
       " <TR>\n",
       "  <TD bgcolor=\"FF0000\">[ ]חס[ ] מתן׃</TD>\n",
       "  <TD bgcolor=\"FF0000\">[       ]</TD>\n",
       " </TR>\n",
       "</TABLE>"
      ],
      "text/plain": [
       "<IPython.core.display.HTML object>"
      ]
     },
     "metadata": {},
     "output_type": "display_data"
    },
    {
     "name": "stdout",
     "output_type": "stream",
     "text": [
      "======= chapter 10 ==========\n",
      "======= verse 28 ==========\n"
     ]
    },
    {
     "data": {
      "text/html": [
       "<TABLE border=\"1\" style=\"border: 1px solid #000000; border-collapse: collapse;\" cellpadding=\"4\">\n",
       " <TR>\n",
       "  <TH>a</TH>\n",
       "  <TH>b</TH>\n",
       " </TR>\n",
       " <TR>\n",
       "  <TD bgcolor=\"FF0000\">&nbsp;</TD>\n",
       "  <TD bgcolor=\"FF0000\">-</TD>\n",
       " </TR>\n",
       " <TR>\n",
       "  <TD bgcolor=\"00FFFF\">בני בענוה כבד נפשך</TD>\n",
       "  <TD bgcolor=\"00FFFF\">בני בענוה כבד נפשך</TD>\n",
       " </TR>\n",
       " <TR>\n",
       "  <TD bgcolor=\"FF0000\">ויתן לך ט</TD>\n",
       "  <TD bgcolor=\"FF0000\">ותן לה טעם כיוצ</TD>\n",
       " </TR>\n",
       " <TR>\n",
       "  <TD bgcolor=\"00FFFF\">[ ]</TD>\n",
       "  <TD bgcolor=\"00FFFF\">[ ]</TD>\n",
       " </TR>\n",
       " <TR>\n",
       "  <TD bgcolor=\"FF0000\">ם כיוצא בﬣ׃</TD>\n",
       "  <TD bgcolor=\"FF0000\">-</TD>\n",
       " </TR>\n",
       "</TABLE>"
      ],
      "text/plain": [
       "<IPython.core.display.HTML object>"
      ]
     },
     "metadata": {},
     "output_type": "display_data"
    },
    {
     "name": "stdout",
     "output_type": "stream",
     "text": [
      "======= chapter 10 ==========\n",
      "======= verse 29 ==========\n"
     ]
    },
    {
     "data": {
      "text/html": [
       "<TABLE border=\"1\" style=\"border: 1px solid #000000; border-collapse: collapse;\" cellpadding=\"4\">\n",
       " <TR>\n",
       "  <TH>a</TH>\n",
       "  <TH>b</TH>\n",
       " </TR>\n",
       " <TR>\n",
       "  <TD bgcolor=\"FF0000\">&nbsp;</TD>\n",
       "  <TD bgcolor=\"FF0000\">בני</TD>\n",
       " </TR>\n",
       " <TR>\n",
       "  <TD bgcolor=\"00FFFF\">מרשיע נפשו מי\n",
       "יצדיקנו   ומי יכבד</TD>\n",
       "  <TD bgcolor=\"00FFFF\">מרשיע נפשו מי\n",
       "יצדיקנו   ומי יכבד</TD>\n",
       " </TR>\n",
       " <TR>\n",
       "  <TD bgcolor=\"FF0000\">מקלה נפשו׃</TD>\n",
       "  <TD bgcolor=\"FF0000\">מ[ ]</TD>\n",
       " </TR>\n",
       "</TABLE>"
      ],
      "text/plain": [
       "<IPython.core.display.HTML object>"
      ]
     },
     "metadata": {},
     "output_type": "display_data"
    },
    {
     "name": "stdout",
     "output_type": "stream",
     "text": [
      "======= chapter 10 ==========\n",
      "======= verse 30 ==========\n"
     ]
    },
    {
     "data": {
      "text/html": [
       "<TABLE border=\"1\" style=\"border: 1px solid #000000; border-collapse: collapse;\" cellpadding=\"4\">\n",
       " <TR>\n",
       "  <TH>a</TH>\n",
       "  <TH>b</TH>\n",
       " </TR>\n",
       " <TR>\n",
       "  <TD bgcolor=\"FF0000\">  יש</TD>\n",
       "  <TD bgcolor=\"FF0000\">֟</TD>\n",
       " </TR>\n",
       " <TR>\n",
       "  <TD bgcolor=\"00FFFF\">דל נכבד בגלל שכלו\n",
       "ויש</TD>\n",
       "  <TD bgcolor=\"00FFFF\">דל נכבד בגלל שכלו\n",
       "ויש</TD>\n",
       " </TR>\n",
       " <TR>\n",
       "  <TD bgcolor=\"FF0000\">-</TD>\n",
       "  <TD bgcolor=\"FF0000\">איש עשיר</TD>\n",
       " </TR>\n",
       " <TR>\n",
       "  <TD bgcolor=\"00FFFF\">נכבד בגלל</TD>\n",
       "  <TD bgcolor=\"00FFFF\">נכבד בגלל</TD>\n",
       " </TR>\n",
       " <TR>\n",
       "  <TD bgcolor=\"FF0000\">עשרו׃</TD>\n",
       "  <TD bgcolor=\"FF0000\">[ ]</TD>\n",
       " </TR>\n",
       "</TABLE>"
      ],
      "text/plain": [
       "<IPython.core.display.HTML object>"
      ]
     },
     "metadata": {},
     "output_type": "display_data"
    },
    {
     "name": "stdout",
     "output_type": "stream",
     "text": [
      "======= chapter 10 ==========\n",
      "======= verse 31 ==========\n"
     ]
    },
    {
     "data": {
      "text/html": [
       "<TABLE border=\"1\" style=\"border: 1px solid #000000; border-collapse: collapse;\" cellpadding=\"4\">\n",
       " <TR>\n",
       "  <TH>a</TH>\n",
       "  <TH>b</TH>\n",
       " </TR>\n",
       " <TR>\n",
       "  <TD bgcolor=\"FF0000\">  נכבד</TD>\n",
       "  <TD bgcolor=\"FF0000\">הנכבד בעיניו</TD>\n",
       " </TR>\n",
       " <TR>\n",
       "  <TD bgcolor=\"00FFFF\">בעשרו איככה\n",
       "ונקלה</TD>\n",
       "  <TD bgcolor=\"00FFFF\">בעשרו איככה\n",
       "ונקלה</TD>\n",
       " </TR>\n",
       " <TR>\n",
       "  <TD bgcolor=\"FF0000\">-</TD>\n",
       "  <TD bgcolor=\"FF0000\">בעשרו</TD>\n",
       " </TR>\n",
       " <TR>\n",
       "  <TD bgcolor=\"00FFFF\">בעיניו איככה׃</TD>\n",
       "  <TD bgcolor=\"00FFFF\">בעיניו איככה׃</TD>\n",
       " </TR>\n",
       "</TABLE>"
      ],
      "text/plain": [
       "<IPython.core.display.HTML object>"
      ]
     },
     "metadata": {},
     "output_type": "display_data"
    },
    {
     "name": "stdout",
     "output_type": "stream",
     "text": [
      "======= chapter 11 ==========\n",
      "======= verse  ==========\n"
     ]
    },
    {
     "data": {
      "text/html": [
       "<TABLE border=\"1\" style=\"border: 1px solid #000000; border-collapse: collapse;\" cellpadding=\"4\">\n",
       " <TR>\n",
       "  <TH>a</TH>\n",
       "  <TH>b</TH>\n",
       " </TR>\n",
       " <TR>\n",
       "  <TD bgcolor=\"FF0000\">  אורב הרוכל כדוב\n",
       "לבית לצים     וכמרגל\n",
       "יראה ערוﬣ׃</TD>\n",
       "  <TD bgcolor=\"FF0000\">  —\n",
       "—</TD>\n",
       " </TR>\n",
       "</TABLE>"
      ],
      "text/plain": [
       "<IPython.core.display.HTML object>"
      ]
     },
     "metadata": {},
     "output_type": "display_data"
    },
    {
     "name": "stdout",
     "output_type": "stream",
     "text": [
      "======= chapter 11 ==========\n",
      "======= verse 2 ==========\n"
     ]
    },
    {
     "data": {
      "text/html": [
       "<TABLE border=\"1\" style=\"border: 1px solid #000000; border-collapse: collapse;\" cellpadding=\"4\">\n",
       " <TR>\n",
       "  <TH>a</TH>\n",
       "  <TH>b</TH>\n",
       " </TR>\n",
       " <TR>\n",
       "  <TD bgcolor=\"00FFFF\">  אל תהלל אדם</TD>\n",
       "  <TD bgcolor=\"00FFFF\">  אל תהלל אדם</TD>\n",
       " </TR>\n",
       " <TR>\n",
       "  <TD bgcolor=\"FF0000\">בתארו</TD>\n",
       "  <TD bgcolor=\"FF0000\">בתוארו</TD>\n",
       " </TR>\n",
       " <TR>\n",
       "  <TD bgcolor=\"00FFFF\">ואל תתעב אדם</TD>\n",
       "  <TD bgcolor=\"00FFFF\">ואל תתעב אדם</TD>\n",
       " </TR>\n",
       " <TR>\n",
       "  <TD bgcolor=\"FF0000\">מכ[ ]ר</TD>\n",
       "  <TD bgcolor=\"FF0000\">מע֟זב</TD>\n",
       " </TR>\n",
       " <TR>\n",
       "  <TD bgcolor=\"00FFFF\">במראהו׃</TD>\n",
       "  <TD bgcolor=\"00FFFF\">במראהו׃</TD>\n",
       " </TR>\n",
       "</TABLE>"
      ],
      "text/plain": [
       "<IPython.core.display.HTML object>"
      ]
     },
     "metadata": {},
     "output_type": "display_data"
    },
    {
     "name": "stdout",
     "output_type": "stream",
     "text": [
      "======= chapter 11 ==========\n",
      "======= verse 3 ==========\n"
     ]
    },
    {
     "data": {
      "text/html": [
       "<TABLE border=\"1\" style=\"border: 1px solid #000000; border-collapse: collapse;\" cellpadding=\"4\">\n",
       " <TR>\n",
       "  <TH>a</TH>\n",
       "  <TH>b</TH>\n",
       " </TR>\n",
       " <TR>\n",
       "  <TD bgcolor=\"00FFFF\">&nbsp;</TD>\n",
       "  <TD bgcolor=\"00FFFF\">&nbsp;</TD>\n",
       " </TR>\n",
       " <TR>\n",
       "  <TD bgcolor=\"FF0000\">אליל</TD>\n",
       "  <TD bgcolor=\"FF0000\">קטנה</TD>\n",
       " </TR>\n",
       " <TR>\n",
       "  <TD bgcolor=\"00FFFF\">בעוף</TD>\n",
       "  <TD bgcolor=\"00FFFF\">בעוף</TD>\n",
       " </TR>\n",
       " <TR>\n",
       "  <TD bgcolor=\"FF0000\">דברה</TD>\n",
       "  <TD bgcolor=\"FF0000\">דבורה</TD>\n",
       " </TR>\n",
       " <TR>\n",
       "  <TD bgcolor=\"00FFFF\">וראש תנובות פריה׃</TD>\n",
       "  <TD bgcolor=\"00FFFF\">וראש תנובות פריה׃</TD>\n",
       " </TR>\n",
       "</TABLE>"
      ],
      "text/plain": [
       "<IPython.core.display.HTML object>"
      ]
     },
     "metadata": {},
     "output_type": "display_data"
    },
    {
     "name": "stdout",
     "output_type": "stream",
     "text": [
      "======= chapter 11 ==========\n",
      "======= verse 4 ==========\n"
     ]
    },
    {
     "data": {
      "text/html": [
       "<TABLE border=\"1\" style=\"border: 1px solid #000000; border-collapse: collapse;\" cellpadding=\"4\">\n",
       " <TR>\n",
       "  <TH>a</TH>\n",
       "  <TH>b</TH>\n",
       " </TR>\n",
       " <TR>\n",
       "  <TD bgcolor=\"00FFFF\">&nbsp;</TD>\n",
       "  <TD bgcolor=\"00FFFF\">&nbsp;</TD>\n",
       " </TR>\n",
       " <TR>\n",
       "  <TD bgcolor=\"FF0000\">בעטה א[ ] ר א‍ל\n",
       "תהתל   וא‍ל</TD>\n",
       "  <TD bgcolor=\"FF0000\">במעוטף בגדים אל\n",
       "תתפאר   ואל</TD>\n",
       " </TR>\n",
       " <TR>\n",
       "  <TD bgcolor=\"00FFFF\">תקלס במרירי יום</TD>\n",
       "  <TD bgcolor=\"00FFFF\">תקלס במרירי יום</TD>\n",
       " </TR>\n",
       " <TR>\n",
       "  <TD bgcolor=\"FF0000\">׃</TD>\n",
       "  <TD bgcolor=\"FF0000\">-</TD>\n",
       " </TR>\n",
       "</TABLE>"
      ],
      "text/plain": [
       "<IPython.core.display.HTML object>"
      ]
     },
     "metadata": {},
     "output_type": "display_data"
    },
    {
     "name": "stdout",
     "output_type": "stream",
     "text": [
      "======= chapter 11 ==========\n",
      "======= verse 5 ==========\n"
     ]
    },
    {
     "data": {
      "text/html": [
       "<TABLE border=\"1\" style=\"border: 1px solid #000000; border-collapse: collapse;\" cellpadding=\"4\">\n",
       " <TR>\n",
       "  <TH>a</TH>\n",
       "  <TH>b</TH>\n",
       " </TR>\n",
       " <TR>\n",
       "  <TD bgcolor=\"FF0000\">  רבים נדכאים ישבו</TD>\n",
       "  <TD bgcolor=\"FF0000\">  [ ]</TD>\n",
       " </TR>\n",
       " <TR>\n",
       "  <TD bgcolor=\"00FFFF\">על כסא  ובל על  לב\n",
       "עטו צניף׃</TD>\n",
       "  <TD bgcolor=\"00FFFF\">על כסא  ובל על לב\n",
       "עטו צניף׃</TD>\n",
       " </TR>\n",
       "</TABLE>"
      ],
      "text/plain": [
       "<IPython.core.display.HTML object>"
      ]
     },
     "metadata": {},
     "output_type": "display_data"
    },
    {
     "name": "stdout",
     "output_type": "stream",
     "text": [
      "======= chapter 11 ==========\n",
      "======= verse 7 ==========\n"
     ]
    },
    {
     "data": {
      "text/html": [
       "<TABLE border=\"1\" style=\"border: 1px solid #000000; border-collapse: collapse;\" cellpadding=\"4\">\n",
       " <TR>\n",
       "  <TH>a</TH>\n",
       "  <TH>b</TH>\n",
       " </TR>\n",
       " <TR>\n",
       "  <TD bgcolor=\"FF0000\">  בְטֶ֥רֶם תַ֭חְקר\n",
       "א‍ַל־תְסַלֵף\n",
       "בַּקֵּרֽ  לְ֜פָנִֹים\n",
       "וְאַחַ֥ר תַזִֿיֹֽׁף</TD>\n",
       "  <TD bgcolor=\"FF0000\">  [ ]קור אל תסלף\n",
       "בקר לפנים וא֟חר תזיף</TD>\n",
       " </TR>\n",
       " <TR>\n",
       "  <TD bgcolor=\"00FFFF\">׃</TD>\n",
       "  <TD bgcolor=\"00FFFF\">׃</TD>\n",
       " </TR>\n",
       "</TABLE>"
      ],
      "text/plain": [
       "<IPython.core.display.HTML object>"
      ]
     },
     "metadata": {},
     "output_type": "display_data"
    },
    {
     "name": "stdout",
     "output_type": "stream",
     "text": [
      "======= chapter 11 ==========\n",
      "======= verse 9 ==========\n"
     ]
    },
    {
     "data": {
      "text/html": [
       "<TABLE border=\"1\" style=\"border: 1px solid #000000; border-collapse: collapse;\" cellpadding=\"4\">\n",
       " <TR>\n",
       "  <TH>a</TH>\n",
       "  <TH>b</TH>\n",
       " </TR>\n",
       " <TR>\n",
       "  <TD bgcolor=\"00FFFF\">&nbsp;</TD>\n",
       "  <TD bgcolor=\"00FFFF\">&nbsp;</TD>\n",
       " </TR>\n",
       " <TR>\n",
       "  <TD bgcolor=\"FF0000\">באין עצבה</TD>\n",
       "  <TD bgcolor=\"FF0000\">בא[ ]ן עצה</TD>\n",
       " </TR>\n",
       " <TR>\n",
       "  <TD bgcolor=\"00FFFF\">אל</TD>\n",
       "  <TD bgcolor=\"00FFFF\">אל</TD>\n",
       " </TR>\n",
       " <TR>\n",
       "  <TD bgcolor=\"FF0000\">תאחר    וברב</TD>\n",
       "  <TD bgcolor=\"FF0000\">תתור    ובריב</TD>\n",
       " </TR>\n",
       " <TR>\n",
       "  <TD bgcolor=\"00FFFF\">זדים</TD>\n",
       "  <TD bgcolor=\"00FFFF\">זדים</TD>\n",
       " </TR>\n",
       " <TR>\n",
       "  <TD bgcolor=\"FF0000\">א‍ל</TD>\n",
       "  <TD bgcolor=\"FF0000\">אל</TD>\n",
       " </TR>\n",
       " <TR>\n",
       "  <TD bgcolor=\"00FFFF\">תקומם׃</TD>\n",
       "  <TD bgcolor=\"00FFFF\">תקומם׃</TD>\n",
       " </TR>\n",
       "</TABLE>"
      ],
      "text/plain": [
       "<IPython.core.display.HTML object>"
      ]
     },
     "metadata": {},
     "output_type": "display_data"
    },
    {
     "name": "stdout",
     "output_type": "stream",
     "text": [
      "======= chapter 15 ==========\n",
      "======= verse 1 ==========\n"
     ]
    },
    {
     "data": {
      "text/html": [
       "<TABLE border=\"1\" style=\"border: 1px solid #000000; border-collapse: collapse;\" cellpadding=\"4\">\n",
       " <TR>\n",
       "  <TH>a</TH>\n",
       "  <TH>b</TH>\n",
       " </TR>\n",
       " <TR>\n",
       "  <TD bgcolor=\"00FFFF\">  כי ירא</TD>\n",
       "  <TD bgcolor=\"00FFFF\">  כי ירא</TD>\n",
       " </TR>\n",
       " <TR>\n",
       "  <TD bgcolor=\"FF0000\">י י</TD>\n",
       "  <TD bgcolor=\"FF0000\">ייי</TD>\n",
       " </TR>\n",
       " <TR>\n",
       "  <TD bgcolor=\"00FFFF\">יעשה זאת\n",
       "ותופש תורה ידריכנה׃</TD>\n",
       "  <TD bgcolor=\"00FFFF\">יעשה זאת\n",
       "ותופש תורה ידריכנה׃</TD>\n",
       " </TR>\n",
       "</TABLE>"
      ],
      "text/plain": [
       "<IPython.core.display.HTML object>"
      ]
     },
     "metadata": {},
     "output_type": "display_data"
    },
    {
     "name": "stdout",
     "output_type": "stream",
     "text": [
      "======= chapter 15 ==========\n",
      "======= verse 2 ==========\n"
     ]
    },
    {
     "data": {
      "text/html": [
       "<TABLE border=\"1\" style=\"border: 1px solid #000000; border-collapse: collapse;\" cellpadding=\"4\">\n",
       " <TR>\n",
       "  <TH>a</TH>\n",
       "  <TH>b</TH>\n",
       " </TR>\n",
       " <TR>\n",
       "  <TD bgcolor=\"00FFFF\">&nbsp;</TD>\n",
       "  <TD bgcolor=\"00FFFF\">&nbsp;</TD>\n",
       " </TR>\n",
       " <TR>\n",
       "  <TD bgcolor=\"FF0000\">וקדמתﬣו  כאם</TD>\n",
       "  <TD bgcolor=\"FF0000\">וקדמתהו כּאם</TD>\n",
       " </TR>\n",
       " <TR>\n",
       "  <TD bgcolor=\"00FFFF\">וכאשת נעורים תקבלנו׃</TD>\n",
       "  <TD bgcolor=\"00FFFF\">וכאשת נעורים תקבלנו׃</TD>\n",
       " </TR>\n",
       "</TABLE>"
      ],
      "text/plain": [
       "<IPython.core.display.HTML object>"
      ]
     },
     "metadata": {},
     "output_type": "display_data"
    },
    {
     "name": "stdout",
     "output_type": "stream",
     "text": [
      "======= chapter 15 ==========\n",
      "======= verse 3 ==========\n"
     ]
    },
    {
     "data": {
      "text/html": [
       "<TABLE border=\"1\" style=\"border: 1px solid #000000; border-collapse: collapse;\" cellpadding=\"4\">\n",
       " <TR>\n",
       "  <TH>a</TH>\n",
       "  <TH>b</TH>\n",
       " </TR>\n",
       " <TR>\n",
       "  <TD bgcolor=\"00FFFF\">&nbsp;</TD>\n",
       "  <TD bgcolor=\"00FFFF\">&nbsp;</TD>\n",
       " </TR>\n",
       " <TR>\n",
       "  <TD bgcolor=\"FF0000\">והאכילתהו</TD>\n",
       "  <TD bgcolor=\"FF0000\">והאכִּילתהו</TD>\n",
       " </TR>\n",
       " <TR>\n",
       "  <TD bgcolor=\"00FFFF\">לחם שכל ומי</TD>\n",
       "  <TD bgcolor=\"00FFFF\">לחם שכל ומי</TD>\n",
       " </TR>\n",
       " <TR>\n",
       "  <TD bgcolor=\"FF0000\">-</TD>\n",
       "  <TD bgcolor=\"FF0000\">ֵ</TD>\n",
       " </TR>\n",
       " <TR>\n",
       "  <TD bgcolor=\"00FFFF\">ת</TD>\n",
       "  <TD bgcolor=\"00FFFF\">ת</TD>\n",
       " </TR>\n",
       " <TR>\n",
       "  <TD bgcolor=\"FF0000\">̶ב̶ו̶א̶ה̶</TD>\n",
       "  <TD bgcolor=\"FF0000\">֟בונה</TD>\n",
       " </TR>\n",
       " <TR>\n",
       "  <TD bgcolor=\"00FFFF\">תשקנו׃</TD>\n",
       "  <TD bgcolor=\"00FFFF\">תשקנו׃</TD>\n",
       " </TR>\n",
       "</TABLE>"
      ],
      "text/plain": [
       "<IPython.core.display.HTML object>"
      ]
     },
     "metadata": {},
     "output_type": "display_data"
    },
    {
     "name": "stdout",
     "output_type": "stream",
     "text": [
      "======= chapter 15 ==========\n",
      "======= verse 4 ==========\n"
     ]
    },
    {
     "data": {
      "text/html": [
       "<TABLE border=\"1\" style=\"border: 1px solid #000000; border-collapse: collapse;\" cellpadding=\"4\">\n",
       " <TR>\n",
       "  <TH>a</TH>\n",
       "  <TH>b</TH>\n",
       " </TR>\n",
       " <TR>\n",
       "  <TD bgcolor=\"00FFFF\">  ונשען עליה ולא\n",
       "ימוט   ובה יבטח ולא</TD>\n",
       "  <TD bgcolor=\"00FFFF\">  ונשען עליה ולא\n",
       "ימוט   ובה יבטח ולא</TD>\n",
       " </TR>\n",
       " <TR>\n",
       "  <TD bgcolor=\"FF0000\">יבוש׃</TD>\n",
       "  <TD bgcolor=\"FF0000\">[ ]בוש[ ]</TD>\n",
       " </TR>\n",
       "</TABLE>"
      ],
      "text/plain": [
       "<IPython.core.display.HTML object>"
      ]
     },
     "metadata": {},
     "output_type": "display_data"
    },
    {
     "name": "stdout",
     "output_type": "stream",
     "text": [
      "======= chapter 15 ==========\n",
      "======= verse 5 ==========\n"
     ]
    },
    {
     "data": {
      "text/html": [
       "<TABLE border=\"1\" style=\"border: 1px solid #000000; border-collapse: collapse;\" cellpadding=\"4\">\n",
       " <TR>\n",
       "  <TH>a</TH>\n",
       "  <TH>b</TH>\n",
       " </TR>\n",
       " <TR>\n",
       "  <TD bgcolor=\"00FFFF\">  ורוממתהו מרעהו\n",
       "ובתוך</TD>\n",
       "  <TD bgcolor=\"00FFFF\">  ורוממתהו מרעהו\n",
       "ובתוך</TD>\n",
       " </TR>\n",
       " <TR>\n",
       "  <TD bgcolor=\"FF0000\">קהל תפתח פיו׃</TD>\n",
       "  <TD bgcolor=\"FF0000\">ק[ ]</TD>\n",
       " </TR>\n",
       "</TABLE>"
      ],
      "text/plain": [
       "<IPython.core.display.HTML object>"
      ]
     },
     "metadata": {},
     "output_type": "display_data"
    },
    {
     "name": "stdout",
     "output_type": "stream",
     "text": [
      "======= chapter 15 ==========\n",
      "======= verse 6 ==========\n"
     ]
    },
    {
     "data": {
      "text/html": [
       "<TABLE border=\"1\" style=\"border: 1px solid #000000; border-collapse: collapse;\" cellpadding=\"4\">\n",
       " <TR>\n",
       "  <TH>a</TH>\n",
       "  <TH>b</TH>\n",
       " </TR>\n",
       " <TR>\n",
       "  <TD bgcolor=\"00FFFF\">  ששון  ושמחה</TD>\n",
       "  <TD bgcolor=\"00FFFF\">  ששון ושמחה</TD>\n",
       " </TR>\n",
       " <TR>\n",
       "  <TD bgcolor=\"FF0000\">ימצא    ושם עולם\n",
       "תורישנו׃</TD>\n",
       "  <TD bgcolor=\"FF0000\">ת֟מצא   וש[ ]</TD>\n",
       " </TR>\n",
       "</TABLE>"
      ],
      "text/plain": [
       "<IPython.core.display.HTML object>"
      ]
     },
     "metadata": {},
     "output_type": "display_data"
    },
    {
     "name": "stdout",
     "output_type": "stream",
     "text": [
      "======= chapter 15 ==========\n",
      "======= verse 7 ==========\n"
     ]
    },
    {
     "data": {
      "text/html": [
       "<TABLE border=\"1\" style=\"border: 1px solid #000000; border-collapse: collapse;\" cellpadding=\"4\">\n",
       " <TR>\n",
       "  <TH>a</TH>\n",
       "  <TH>b</TH>\n",
       " </TR>\n",
       " <TR>\n",
       "  <TD bgcolor=\"00FFFF\">  לא ידריכוה מתי\n",
       "שוא</TD>\n",
       "  <TD bgcolor=\"00FFFF\">  לא ידריכוה מתי שוא</TD>\n",
       " </TR>\n",
       " <TR>\n",
       "  <TD bgcolor=\"FF0000\">ואנשי זדון לא יראוה׃</TD>\n",
       "  <TD bgcolor=\"FF0000\">ואנש[ ]</TD>\n",
       " </TR>\n",
       "</TABLE>"
      ],
      "text/plain": [
       "<IPython.core.display.HTML object>"
      ]
     },
     "metadata": {},
     "output_type": "display_data"
    },
    {
     "name": "stdout",
     "output_type": "stream",
     "text": [
      "======= chapter 15 ==========\n",
      "======= verse 8 ==========\n"
     ]
    },
    {
     "data": {
      "text/html": [
       "<TABLE border=\"1\" style=\"border: 1px solid #000000; border-collapse: collapse;\" cellpadding=\"4\">\n",
       " <TR>\n",
       "  <TH>a</TH>\n",
       "  <TH>b</TH>\n",
       " </TR>\n",
       " <TR>\n",
       "  <TD bgcolor=\"00FFFF\">  רחוקה היא מלצים</TD>\n",
       "  <TD bgcolor=\"00FFFF\">  רחוקה היא מלצים</TD>\n",
       " </TR>\n",
       " <TR>\n",
       "  <TD bgcolor=\"FF0000\">ואנשי  כזב לא\n",
       "יזכרוה׃</TD>\n",
       "  <TD bgcolor=\"FF0000\">ואנש[ ]</TD>\n",
       " </TR>\n",
       "</TABLE>"
      ],
      "text/plain": [
       "<IPython.core.display.HTML object>"
      ]
     },
     "metadata": {},
     "output_type": "display_data"
    },
    {
     "name": "stdout",
     "output_type": "stream",
     "text": [
      "======= chapter 15 ==========\n",
      "======= verse 10 ==========\n"
     ]
    },
    {
     "data": {
      "text/html": [
       "<TABLE border=\"1\" style=\"border: 1px solid #000000; border-collapse: collapse;\" cellpadding=\"4\">\n",
       " <TR>\n",
       "  <TH>a</TH>\n",
       "  <TH>b</TH>\n",
       " </TR>\n",
       " <TR>\n",
       "  <TD bgcolor=\"00FFFF\">&nbsp;</TD>\n",
       "  <TD bgcolor=\"00FFFF\">&nbsp;</TD>\n",
       " </TR>\n",
       " <TR>\n",
       "  <TD bgcolor=\"FF0000\">בפה</TD>\n",
       "  <TD bgcolor=\"FF0000\">בפי</TD>\n",
       " </TR>\n",
       " <TR>\n",
       "  <TD bgcolor=\"00FFFF\">חכם</TD>\n",
       "  <TD bgcolor=\"00FFFF\">חכם</TD>\n",
       " </TR>\n",
       " <TR>\n",
       "  <TD bgcolor=\"FF0000\">תאמֵר</TD>\n",
       "  <TD bgcolor=\"FF0000\">תאמר</TD>\n",
       " </TR>\n",
       " <TR>\n",
       "  <TD bgcolor=\"00FFFF\">תהלה</TD>\n",
       "  <TD bgcolor=\"00FFFF\">תהלה</TD>\n",
       " </TR>\n",
       " <TR>\n",
       "  <TD bgcolor=\"FF0000\">ומשל בה ילמדנה׃</TD>\n",
       "  <TD bgcolor=\"FF0000\">ומושל ב[ ]</TD>\n",
       " </TR>\n",
       "</TABLE>"
      ],
      "text/plain": [
       "<IPython.core.display.HTML object>"
      ]
     },
     "metadata": {},
     "output_type": "display_data"
    },
    {
     "name": "stdout",
     "output_type": "stream",
     "text": [
      "======= chapter 15 ==========\n",
      "======= verse 12 ==========\n"
     ]
    },
    {
     "data": {
      "text/html": [
       "<TABLE border=\"1\" style=\"border: 1px solid #000000; border-collapse: collapse;\" cellpadding=\"4\">\n",
       " <TR>\n",
       "  <TH>a</TH>\n",
       "  <TH>b</TH>\n",
       " </TR>\n",
       " <TR>\n",
       "  <TD bgcolor=\"00FFFF\">   פן  תאמר</TD>\n",
       "  <TD bgcolor=\"00FFFF\">  פן תאמר</TD>\n",
       " </TR>\n",
       " <TR>\n",
       "  <TD bgcolor=\"FF0000\">הוא</TD>\n",
       "  <TD bgcolor=\"FF0000\">היא</TD>\n",
       " </TR>\n",
       " <TR>\n",
       "  <TD bgcolor=\"00FFFF\">התקילני כי אין</TD>\n",
       "  <TD bgcolor=\"00FFFF\">התקילני כי אין</TD>\n",
       " </TR>\n",
       " <TR>\n",
       "  <TD bgcolor=\"FF0000\">צורך</TD>\n",
       "  <TD bgcolor=\"FF0000\">לי ח֟פץ</TD>\n",
       " </TR>\n",
       " <TR>\n",
       "  <TD bgcolor=\"00FFFF\">באנשי חמס׃</TD>\n",
       "  <TD bgcolor=\"00FFFF\">באנשי חמס׃</TD>\n",
       " </TR>\n",
       "</TABLE>"
      ],
      "text/plain": [
       "<IPython.core.display.HTML object>"
      ]
     },
     "metadata": {},
     "output_type": "display_data"
    },
    {
     "name": "stdout",
     "output_type": "stream",
     "text": [
      "======= chapter 15 ==========\n",
      "======= verse 13 ==========\n"
     ]
    },
    {
     "data": {
      "text/html": [
       "<TABLE border=\"1\" style=\"border: 1px solid #000000; border-collapse: collapse;\" cellpadding=\"4\">\n",
       " <TR>\n",
       "  <TH>a</TH>\n",
       "  <TH>b</TH>\n",
       " </TR>\n",
       " <TR>\n",
       "  <TD bgcolor=\"00FFFF\">&nbsp;</TD>\n",
       "  <TD bgcolor=\"00FFFF\">&nbsp;</TD>\n",
       " </TR>\n",
       " <TR>\n",
       "  <TD bgcolor=\"FF0000\">רעﬣ  ותעבה</TD>\n",
       "  <TD bgcolor=\"FF0000\">ו֟תועבה</TD>\n",
       " </TR>\n",
       " <TR>\n",
       "  <TD bgcolor=\"00FFFF\">שנא</TD>\n",
       "  <TD bgcolor=\"00FFFF\">שנא</TD>\n",
       " </TR>\n",
       " <TR>\n",
       "  <TD bgcolor=\"FF0000\">י י</TD>\n",
       "  <TD bgcolor=\"FF0000\">אלהים</TD>\n",
       " </TR>\n",
       " <TR>\n",
       "  <TD bgcolor=\"00FFFF\">ולא יאננה</TD>\n",
       "  <TD bgcolor=\"00FFFF\">ולא יאננה</TD>\n",
       " </TR>\n",
       " <TR>\n",
       "  <TD bgcolor=\"FF0000\">ליראיו</TD>\n",
       "  <TD bgcolor=\"FF0000\">ל[ ]איו</TD>\n",
       " </TR>\n",
       " <TR>\n",
       "  <TD bgcolor=\"00FFFF\">׃</TD>\n",
       "  <TD bgcolor=\"00FFFF\">׃</TD>\n",
       " </TR>\n",
       "</TABLE>"
      ],
      "text/plain": [
       "<IPython.core.display.HTML object>"
      ]
     },
     "metadata": {},
     "output_type": "display_data"
    },
    {
     "name": "stdout",
     "output_type": "stream",
     "text": [
      "======= chapter 15 ==========\n",
      "======= verse 14 ==========\n"
     ]
    },
    {
     "data": {
      "text/html": [
       "<TABLE border=\"1\" style=\"border: 1px solid #000000; border-collapse: collapse;\" cellpadding=\"4\">\n",
       " <TR>\n",
       "  <TH>a</TH>\n",
       "  <TH>b</TH>\n",
       " </TR>\n",
       " <TR>\n",
       "  <TD bgcolor=\"00FFFF\">&nbsp;</TD>\n",
       "  <TD bgcolor=\"00FFFF\">&nbsp;</TD>\n",
       " </TR>\n",
       " <TR>\n",
       "  <TD bgcolor=\"FF0000\">א‍להים מברא שית</TD>\n",
       "  <TD bgcolor=\"FF0000\">הוא מ֟ראש</TD>\n",
       " </TR>\n",
       " <TR>\n",
       "  <TD bgcolor=\"00FFFF\">ברא</TD>\n",
       "  <TD bgcolor=\"00FFFF\">ברא</TD>\n",
       " </TR>\n",
       " <TR>\n",
       "  <TD bgcolor=\"FF0000\">א דם    וישתיהו</TD>\n",
       "  <TD bgcolor=\"FF0000\">אדם     וישיתהו ביד\n",
       "[ ]ת[ ]ו ויתנהו</TD>\n",
       " </TR>\n",
       " <TR>\n",
       "  <TD bgcolor=\"00FFFF\">ביד</TD>\n",
       "  <TD bgcolor=\"00FFFF\">ביד</TD>\n",
       " </TR>\n",
       " <TR>\n",
       "  <TD bgcolor=\"FF0000\">חותפו</TD>\n",
       "  <TD bgcolor=\"FF0000\">יצרו׃</TD>\n",
       " </TR>\n",
       "</TABLE>"
      ],
      "text/plain": [
       "<IPython.core.display.HTML object>"
      ]
     },
     "metadata": {},
     "output_type": "display_data"
    },
    {
     "name": "stdout",
     "output_type": "stream",
     "text": [
      "======= chapter 15 ==========\n",
      "======= verse  ==========\n"
     ]
    },
    {
     "data": {
      "text/html": [
       "<TABLE border=\"1\" style=\"border: 1px solid #000000; border-collapse: collapse;\" cellpadding=\"4\">\n",
       " <TR>\n",
       "  <TH>a</TH>\n",
       "  <TH>b</TH>\n",
       " </TR>\n",
       " <TR>\n",
       "  <TD bgcolor=\"FF0000\">&nbsp;</TD>\n",
       "  <TD bgcolor=\"FF0000\">  [ ] כזב</TD>\n",
       " </TR>\n",
       " <TR>\n",
       "  <TD bgcolor=\"00FFFF\">ולא מרחם על עושה שוא\n",
       "ועל מגלה סוד׃</TD>\n",
       "  <TD bgcolor=\"00FFFF\">ולא מרחם על עושה שוא\n",
       "ועל מגלה סוד׃</TD>\n",
       " </TR>\n",
       "</TABLE>"
      ],
      "text/plain": [
       "<IPython.core.display.HTML object>"
      ]
     },
     "metadata": {},
     "output_type": "display_data"
    },
    {
     "name": "stdout",
     "output_type": "stream",
     "text": [
      "======= chapter 15 ==========\n",
      "======= verse 15 ==========\n"
     ]
    },
    {
     "data": {
      "text/html": [
       "<TABLE border=\"1\" style=\"border: 1px solid #000000; border-collapse: collapse;\" cellpadding=\"4\">\n",
       " <TR>\n",
       "  <TH>a</TH>\n",
       "  <TH>b</TH>\n",
       " </TR>\n",
       " <TR>\n",
       "  <TD bgcolor=\"00FFFF\">  אם  תחפץ תשמר מצוה</TD>\n",
       "  <TD bgcolor=\"00FFFF\">  אם תחפץ תשמר מצוה</TD>\n",
       " </TR>\n",
       " <TR>\n",
       "  <TD bgcolor=\"FF0000\">ותבונה</TD>\n",
       "  <TD bgcolor=\"FF0000\">ואמ֟ונה</TD>\n",
       " </TR>\n",
       " <TR>\n",
       "  <TD bgcolor=\"00FFFF\">לעשות</TD>\n",
       "  <TD bgcolor=\"00FFFF\">לעשות</TD>\n",
       " </TR>\n",
       " <TR>\n",
       "  <TD bgcolor=\"FF0000\">רצונו׃</TD>\n",
       "  <TD bgcolor=\"FF0000\">רצו֟ן אל</TD>\n",
       " </TR>\n",
       "</TABLE>"
      ],
      "text/plain": [
       "<IPython.core.display.HTML object>"
      ]
     },
     "metadata": {},
     "output_type": "display_data"
    },
    {
     "name": "stdout",
     "output_type": "stream",
     "text": [
      "======= chapter 15 ==========\n",
      "======= verse 16 ==========\n"
     ]
    },
    {
     "data": {
      "text/html": [
       "<TABLE border=\"1\" style=\"border: 1px solid #000000; border-collapse: collapse;\" cellpadding=\"4\">\n",
       " <TR>\n",
       "  <TH>a</TH>\n",
       "  <TH>b</TH>\n",
       " </TR>\n",
       " <TR>\n",
       "  <TD bgcolor=\"00FFFF\">  מוצק לפניך</TD>\n",
       "  <TD bgcolor=\"00FFFF\">  מוצק לפניך</TD>\n",
       " </TR>\n",
       " <TR>\n",
       "  <TD bgcolor=\"FF0000\">אש ומים</TD>\n",
       "  <TD bgcolor=\"FF0000\">מים ואש</TD>\n",
       " </TR>\n",
       " <TR>\n",
       "  <TD bgcolor=\"00FFFF\">באשר תחפץ</TD>\n",
       "  <TD bgcolor=\"00FFFF\">באשר תחפץ</TD>\n",
       " </TR>\n",
       " <TR>\n",
       "  <TD bgcolor=\"FF0000\">שלח</TD>\n",
       "  <TD bgcolor=\"FF0000\">תשלח</TD>\n",
       " </TR>\n",
       " <TR>\n",
       "  <TD bgcolor=\"00FFFF\">ידיך׃</TD>\n",
       "  <TD bgcolor=\"00FFFF\">ידיך׃</TD>\n",
       " </TR>\n",
       "</TABLE>"
      ],
      "text/plain": [
       "<IPython.core.display.HTML object>"
      ]
     },
     "metadata": {},
     "output_type": "display_data"
    },
    {
     "name": "stdout",
     "output_type": "stream",
     "text": [
      "======= chapter 15 ==========\n",
      "======= verse 17 ==========\n"
     ]
    },
    {
     "data": {
      "text/html": [
       "<TABLE border=\"1\" style=\"border: 1px solid #000000; border-collapse: collapse;\" cellpadding=\"4\">\n",
       " <TR>\n",
       "  <TH>a</TH>\n",
       "  <TH>b</TH>\n",
       " </TR>\n",
       " <TR>\n",
       "  <TD bgcolor=\"00FFFF\">  לפני אדם חיים</TD>\n",
       "  <TD bgcolor=\"00FFFF\">  לפני אדם חיים</TD>\n",
       " </TR>\n",
       " <TR>\n",
       "  <TD bgcolor=\"FF0000\">ומוות   אשר יחפץ\n",
       "ינתן</TD>\n",
       "  <TD bgcolor=\"FF0000\">ומות    וכל שיחפץ\n",
       "ית֟ן</TD>\n",
       " </TR>\n",
       " <TR>\n",
       "  <TD bgcolor=\"00FFFF\">לו׃</TD>\n",
       "  <TD bgcolor=\"00FFFF\">לו׃</TD>\n",
       " </TR>\n",
       "</TABLE>"
      ],
      "text/plain": [
       "<IPython.core.display.HTML object>"
      ]
     },
     "metadata": {},
     "output_type": "display_data"
    },
    {
     "name": "stdout",
     "output_type": "stream",
     "text": [
      "======= chapter 15 ==========\n",
      "======= verse 18 ==========\n"
     ]
    },
    {
     "data": {
      "text/html": [
       "<TABLE border=\"1\" style=\"border: 1px solid #000000; border-collapse: collapse;\" cellpadding=\"4\">\n",
       " <TR>\n",
       "  <TH>a</TH>\n",
       "  <TH>b</TH>\n",
       " </TR>\n",
       " <TR>\n",
       "  <TD bgcolor=\"00FFFF\">&nbsp;</TD>\n",
       "  <TD bgcolor=\"00FFFF\">&nbsp;</TD>\n",
       " </TR>\n",
       " <TR>\n",
       "  <TD bgcolor=\"FF0000\">ספקﬣ  חכמת י י  אמיץ\n",
       "גבורות וחוזה כל{ם}׃</TD>\n",
       "  <TD bgcolor=\"FF0000\">כי לר[ ]ב חכמת ייי\n",
       "אל בגבורה ומביט לכל׃</TD>\n",
       " </TR>\n",
       "</TABLE>"
      ],
      "text/plain": [
       "<IPython.core.display.HTML object>"
      ]
     },
     "metadata": {},
     "output_type": "display_data"
    },
    {
     "name": "stdout",
     "output_type": "stream",
     "text": [
      "======= chapter 15 ==========\n",
      "======= verse 19 ==========\n"
     ]
    },
    {
     "data": {
      "text/html": [
       "<TABLE border=\"1\" style=\"border: 1px solid #000000; border-collapse: collapse;\" cellpadding=\"4\">\n",
       " <TR>\n",
       "  <TH>a</TH>\n",
       "  <TH>b</TH>\n",
       " </TR>\n",
       " <TR>\n",
       "  <TD bgcolor=\"FF0000\">  עיני א‍ל יראו</TD>\n",
       "  <TD bgcolor=\"FF0000\">  [ ]ני אל[ ]ראו</TD>\n",
       " </TR>\n",
       " <TR>\n",
       "  <TD bgcolor=\"00FFFF\">מעשיו</TD>\n",
       "  <TD bgcolor=\"00FFFF\">מעשיו</TD>\n",
       " </TR>\n",
       " <TR>\n",
       "  <TD bgcolor=\"FF0000\">והו</TD>\n",
       "  <TD bgcolor=\"FF0000\">והוא</TD>\n",
       " </TR>\n",
       " <TR>\n",
       "  <TD bgcolor=\"00FFFF\">יכיר</TD>\n",
       "  <TD bgcolor=\"00FFFF\">יכיר</TD>\n",
       " </TR>\n",
       " <TR>\n",
       "  <TD bgcolor=\"FF0000\">ע̈̈ל</TD>\n",
       "  <TD bgcolor=\"FF0000\">-</TD>\n",
       " </TR>\n",
       " <TR>\n",
       "  <TD bgcolor=\"00FFFF\">כל מפעל</TD>\n",
       "  <TD bgcolor=\"00FFFF\">כל מפעל</TD>\n",
       " </TR>\n",
       " <TR>\n",
       "  <TD bgcolor=\"FF0000\">איש</TD>\n",
       "  <TD bgcolor=\"FF0000\">אנוש</TD>\n",
       " </TR>\n",
       " <TR>\n",
       "  <TD bgcolor=\"00FFFF\">׃</TD>\n",
       "  <TD bgcolor=\"00FFFF\">׃</TD>\n",
       " </TR>\n",
       "</TABLE>"
      ],
      "text/plain": [
       "<IPython.core.display.HTML object>"
      ]
     },
     "metadata": {},
     "output_type": "display_data"
    },
    {
     "name": "stdout",
     "output_type": "stream",
     "text": [
      "======= chapter 15 ==========\n",
      "======= verse 20 ==========\n"
     ]
    },
    {
     "data": {
      "text/html": [
       "<TABLE border=\"1\" style=\"border: 1px solid #000000; border-collapse: collapse;\" cellpadding=\"4\">\n",
       " <TR>\n",
       "  <TH>a</TH>\n",
       "  <TH>b</TH>\n",
       " </TR>\n",
       " <TR>\n",
       "  <TD bgcolor=\"FF0000\">  לא צוה אנוש</TD>\n",
       "  <TD bgcolor=\"FF0000\">  [ ]</TD>\n",
       " </TR>\n",
       " <TR>\n",
       "  <TD bgcolor=\"00FFFF\">לחטא    ולא</TD>\n",
       "  <TD bgcolor=\"00FFFF\">לחטא    ולא</TD>\n",
       " </TR>\n",
       " <TR>\n",
       "  <TD bgcolor=\"FF0000\">החלים  אנשי</TD>\n",
       "  <TD bgcolor=\"FF0000\">למד שקרים לאנשי</TD>\n",
       " </TR>\n",
       " <TR>\n",
       "  <TD bgcolor=\"00FFFF\">כזב׃</TD>\n",
       "  <TD bgcolor=\"00FFFF\">כזב׃</TD>\n",
       " </TR>\n",
       "</TABLE>"
      ],
      "text/plain": [
       "<IPython.core.display.HTML object>"
      ]
     },
     "metadata": {},
     "output_type": "display_data"
    },
    {
     "name": "stdout",
     "output_type": "stream",
     "text": [
      "======= chapter 16 ==========\n",
      "======= verse 1 ==========\n"
     ]
    },
    {
     "data": {
      "text/html": [
       "<TABLE border=\"1\" style=\"border: 1px solid #000000; border-collapse: collapse;\" cellpadding=\"4\">\n",
       " <TR>\n",
       "  <TH>a</TH>\n",
       "  <TH>b</TH>\n",
       " </TR>\n",
       " <TR>\n",
       "  <TD bgcolor=\"FF0000\">  א‍ל  תתאוה תואר\n",
       "נערי</TD>\n",
       "  <TD bgcolor=\"FF0000\">  [ ]רי</TD>\n",
       " </TR>\n",
       " <TR>\n",
       "  <TD bgcolor=\"00FFFF\">שוא</TD>\n",
       "  <TD bgcolor=\"00FFFF\">שוא</TD>\n",
       " </TR>\n",
       " <TR>\n",
       "  <TD bgcolor=\"FF0000\">וא‍ל</TD>\n",
       "  <TD bgcolor=\"FF0000\">ואל</TD>\n",
       " </TR>\n",
       " <TR>\n",
       "  <TD bgcolor=\"00FFFF\">תשמח</TD>\n",
       "  <TD bgcolor=\"00FFFF\">תשמח</TD>\n",
       " </TR>\n",
       " <TR>\n",
       "  <TD bgcolor=\"FF0000\">בבני</TD>\n",
       "  <TD bgcolor=\"FF0000\">על בני</TD>\n",
       " </TR>\n",
       " <TR>\n",
       "  <TD bgcolor=\"00FFFF\">עולה׃</TD>\n",
       "  <TD bgcolor=\"00FFFF\">עולה׃</TD>\n",
       " </TR>\n",
       "</TABLE>"
      ],
      "text/plain": [
       "<IPython.core.display.HTML object>"
      ]
     },
     "metadata": {},
     "output_type": "display_data"
    },
    {
     "name": "stdout",
     "output_type": "stream",
     "text": [
      "======= chapter 16 ==========\n",
      "======= verse 2 ==========\n"
     ]
    },
    {
     "data": {
      "text/html": [
       "<TABLE border=\"1\" style=\"border: 1px solid #000000; border-collapse: collapse;\" cellpadding=\"4\">\n",
       " <TR>\n",
       "  <TH>a</TH>\n",
       "  <TH>b</TH>\n",
       " </TR>\n",
       " <TR>\n",
       "  <TD bgcolor=\"FF0000\">  וגם אם פרו א‍ל\n",
       "תבעבם אם</TD>\n",
       "  <TD bgcolor=\"FF0000\">  [ ]ל תש֟מח בם כי</TD>\n",
       " </TR>\n",
       " <TR>\n",
       "  <TD bgcolor=\"00FFFF\">אין אתם יראת</TD>\n",
       "  <TD bgcolor=\"00FFFF\">אין אתם יראת</TD>\n",
       " </TR>\n",
       " <TR>\n",
       "  <TD bgcolor=\"FF0000\">י י</TD>\n",
       "  <TD bgcolor=\"FF0000\">ייי</TD>\n",
       " </TR>\n",
       " <TR>\n",
       "  <TD bgcolor=\"00FFFF\">׃</TD>\n",
       "  <TD bgcolor=\"00FFFF\">׃</TD>\n",
       " </TR>\n",
       "</TABLE>"
      ],
      "text/plain": [
       "<IPython.core.display.HTML object>"
      ]
     },
     "metadata": {},
     "output_type": "display_data"
    },
    {
     "name": "stdout",
     "output_type": "stream",
     "text": [
      "======= chapter 16 ==========\n",
      "======= verse 4 ==========\n"
     ]
    },
    {
     "data": {
      "text/html": [
       "<TABLE border=\"1\" style=\"border: 1px solid #000000; border-collapse: collapse;\" cellpadding=\"4\">\n",
       " <TR>\n",
       "  <TH>a</TH>\n",
       "  <TH>b</TH>\n",
       " </TR>\n",
       " <TR>\n",
       "  <TD bgcolor=\"00FFFF\">  מאחד ערירי ירא</TD>\n",
       "  <TD bgcolor=\"00FFFF\">  מאחד ערירי ירא</TD>\n",
       " </TR>\n",
       " <TR>\n",
       "  <TD bgcolor=\"FF0000\">י י</TD>\n",
       "  <TD bgcolor=\"FF0000\">ייי</TD>\n",
       " </TR>\n",
       " <TR>\n",
       "  <TD bgcolor=\"00FFFF\">תשב עיר</TD>\n",
       "  <TD bgcolor=\"00FFFF\">תשב עיר</TD>\n",
       " </TR>\n",
       " <TR>\n",
       "  <TD bgcolor=\"FF0000\">וממשפחת  בגדים</TD>\n",
       "  <TD bgcolor=\"FF0000\">וממשפחות בוגדים</TD>\n",
       " </TR>\n",
       " <TR>\n",
       "  <TD bgcolor=\"00FFFF\">תחרב׃</TD>\n",
       "  <TD bgcolor=\"00FFFF\">תחרב׃</TD>\n",
       " </TR>\n",
       "</TABLE>"
      ],
      "text/plain": [
       "<IPython.core.display.HTML object>"
      ]
     },
     "metadata": {},
     "output_type": "display_data"
    },
    {
     "name": "stdout",
     "output_type": "stream",
     "text": [
      "======= chapter 16 ==========\n",
      "======= verse 5 ==========\n"
     ]
    },
    {
     "data": {
      "text/html": [
       "<TABLE border=\"1\" style=\"border: 1px solid #000000; border-collapse: collapse;\" cellpadding=\"4\">\n",
       " <TR>\n",
       "  <TH>a</TH>\n",
       "  <TH>b</TH>\n",
       " </TR>\n",
       " <TR>\n",
       "  <TD bgcolor=\"00FFFF\">  רבות כאלה ראתה\n",
       "עיני</TD>\n",
       "  <TD bgcolor=\"00FFFF\">  רבות כאלה ראתה\n",
       "עיני</TD>\n",
       " </TR>\n",
       " <TR>\n",
       "  <TD bgcolor=\"FF0000\">ועצֻמוֹתֿ</TD>\n",
       "  <TD bgcolor=\"FF0000\">ועצומות</TD>\n",
       " </TR>\n",
       " <TR>\n",
       "  <TD bgcolor=\"00FFFF\">כאלה שמעה  אזני׃</TD>\n",
       "  <TD bgcolor=\"00FFFF\">כאלה שמעה אזני׃</TD>\n",
       " </TR>\n",
       "</TABLE>"
      ],
      "text/plain": [
       "<IPython.core.display.HTML object>"
      ]
     },
     "metadata": {},
     "output_type": "display_data"
    },
    {
     "name": "stdout",
     "output_type": "stream",
     "text": [
      "======= chapter 16 ==========\n",
      "======= verse 6 ==========\n"
     ]
    },
    {
     "data": {
      "text/html": [
       "<TABLE border=\"1\" style=\"border: 1px solid #000000; border-collapse: collapse;\" cellpadding=\"4\">\n",
       " <TR>\n",
       "  <TH>a</TH>\n",
       "  <TH>b</TH>\n",
       " </TR>\n",
       " <TR>\n",
       "  <TD bgcolor=\"00FFFF\">&nbsp;</TD>\n",
       "  <TD bgcolor=\"00FFFF\">&nbsp;</TD>\n",
       " </TR>\n",
       " <TR>\n",
       "  <TD bgcolor=\"FF0000\">בעדֿת רשעים יוקדת אש</TD>\n",
       "  <TD bgcolor=\"FF0000\">בעדת רשעים רשפה\n",
       "לה֟בה</TD>\n",
       " </TR>\n",
       " <TR>\n",
       "  <TD bgcolor=\"00FFFF\">ובגוי חנף נצתה</TD>\n",
       "  <TD bgcolor=\"00FFFF\">ובגוי חנף נצתה</TD>\n",
       " </TR>\n",
       " <TR>\n",
       "  <TD bgcolor=\"FF0000\">חמﬣ</TD>\n",
       "  <TD bgcolor=\"FF0000\">חמה</TD>\n",
       " </TR>\n",
       " <TR>\n",
       "  <TD bgcolor=\"00FFFF\">׃</TD>\n",
       "  <TD bgcolor=\"00FFFF\">׃</TD>\n",
       " </TR>\n",
       "</TABLE>"
      ],
      "text/plain": [
       "<IPython.core.display.HTML object>"
      ]
     },
     "metadata": {},
     "output_type": "display_data"
    },
    {
     "name": "stdout",
     "output_type": "stream",
     "text": [
      "======= chapter 16 ==========\n",
      "======= verse 7 ==========\n"
     ]
    },
    {
     "data": {
      "text/html": [
       "<TABLE border=\"1\" style=\"border: 1px solid #000000; border-collapse: collapse;\" cellpadding=\"4\">\n",
       " <TR>\n",
       "  <TH>a</TH>\n",
       "  <TH>b</TH>\n",
       " </TR>\n",
       " <TR>\n",
       "  <TD bgcolor=\"00FFFF\">  אשר לא נשא לנסיכי\n",
       "קדם</TD>\n",
       "  <TD bgcolor=\"00FFFF\">  אשר לא נשא לנסיכי\n",
       "קדם</TD>\n",
       " </TR>\n",
       " <TR>\n",
       "  <TD bgcolor=\"FF0000\">המורים עולם</TD>\n",
       "  <TD bgcolor=\"FF0000\">המורדים ֟</TD>\n",
       " </TR>\n",
       " <TR>\n",
       "  <TD bgcolor=\"00FFFF\">בגבורתם׃</TD>\n",
       "  <TD bgcolor=\"00FFFF\">בגבורתם׃</TD>\n",
       " </TR>\n",
       "</TABLE>"
      ],
      "text/plain": [
       "<IPython.core.display.HTML object>"
      ]
     },
     "metadata": {},
     "output_type": "display_data"
    },
    {
     "name": "stdout",
     "output_type": "stream",
     "text": [
      "======= chapter 16 ==========\n",
      "======= verse  ==========\n"
     ]
    },
    {
     "data": {
      "text/html": [
       "<TABLE border=\"1\" style=\"border: 1px solid #000000; border-collapse: collapse;\" cellpadding=\"4\">\n",
       " <TR>\n",
       "  <TH>a</TH>\n",
       "  <TH>b</TH>\n",
       " </TR>\n",
       " <TR>\n",
       "  <TD bgcolor=\"00FFFF\">&nbsp;</TD>\n",
       "  <TD bgcolor=\"00FFFF\">&nbsp;</TD>\n",
       " </TR>\n",
       " <TR>\n",
       "  <TD bgcolor=\"FF0000\">ברדﬨו  עליהם\n",
       "עֹמְודִ֝ים בפקדו\n",
       "וכרגשו׃</TD>\n",
       "  <TD bgcolor=\"FF0000\">-</TD>\n",
       " </TR>\n",
       "</TABLE>"
      ],
      "text/plain": [
       "<IPython.core.display.HTML object>"
      ]
     },
     "metadata": {},
     "output_type": "display_data"
    },
    {
     "name": "stdout",
     "output_type": "stream",
     "text": [
      "======= chapter 31 ==========\n",
      "======= verse  ==========\n"
     ]
    },
    {
     "data": {
      "text/html": [
       "<TABLE border=\"1\" style=\"border: 1px solid #000000; border-collapse: collapse;\" cellpadding=\"4\">\n",
       " <TR>\n",
       "  <TH>f</TH>\n",
       "  <TH>b</TH>\n",
       " </TR>\n",
       " <TR>\n",
       "  <TD bgcolor=\"00FFFF\">  דבר חרפה</TD>\n",
       "  <TD bgcolor=\"00FFFF\">  דבר חרפה</TD>\n",
       " </TR>\n",
       " <TR>\n",
       "  <TD bgcolor=\"FF0000\">א‍ל תאמר לו∙    וא‍ל\n",
       "תקמיעהו בנגשה וא‍ל\n",
       "תריב עמו לעיני כל\n",
       "אדם׃</TD>\n",
       "  <TD bgcolor=\"FF0000\">אל [\n",
       "]ה[       ]</TD>\n",
       " </TR>\n",
       "</TABLE>"
      ],
      "text/plain": [
       "<IPython.core.display.HTML object>"
      ]
     },
     "metadata": {},
     "output_type": "display_data"
    },
    {
     "name": "stdout",
     "output_type": "stream",
     "text": [
      "======= chapter 31 ==========\n",
      "======= verse 24 ==========\n"
     ]
    },
    {
     "data": {
      "text/html": [
       "<TABLE border=\"1\" style=\"border: 1px solid #000000; border-collapse: collapse;\" cellpadding=\"4\">\n",
       " <TR>\n",
       "  <TH>f</TH>\n",
       "  <TH>b</TH>\n",
       " </TR>\n",
       " <TR>\n",
       "  <TD bgcolor=\"FF0000\">  [\n",
       "]</TD>\n",
       "  <TD bgcolor=\"FF0000\">  רע על לחם ירגז</TD>\n",
       " </TR>\n",
       " <TR>\n",
       "  <TD bgcolor=\"00FFFF\">בשער</TD>\n",
       "  <TD bgcolor=\"00FFFF\">בשער</TD>\n",
       " </TR>\n",
       " <TR>\n",
       "  <TD bgcolor=\"FF0000\">[∙]     [\n",
       "]</TD>\n",
       "  <TD bgcolor=\"FF0000\">דע֟ת רועו נאמנה׃</TD>\n",
       " </TR>\n",
       "</TABLE>"
      ],
      "text/plain": [
       "<IPython.core.display.HTML object>"
      ]
     },
     "metadata": {},
     "output_type": "display_data"
    },
    {
     "name": "stdout",
     "output_type": "stream",
     "text": [
      "======= chapter 31 ==========\n",
      "======= verse 25 ==========\n"
     ]
    },
    {
     "data": {
      "text/html": [
       "<TABLE border=\"1\" style=\"border: 1px solid #000000; border-collapse: collapse;\" cellpadding=\"4\">\n",
       " <TR>\n",
       "  <TH>f</TH>\n",
       "  <TH>b</TH>\n",
       " </TR>\n",
       " <TR>\n",
       "  <TD bgcolor=\"FF0000\">  [ ]בר∙        [ ]</TD>\n",
       "  <TD bgcolor=\"FF0000\">  וגם על היין אל\n",
       "תתגבר  כי</TD>\n",
       " </TR>\n",
       " <TR>\n",
       "  <TD bgcolor=\"00FFFF\">רבים</TD>\n",
       "  <TD bgcolor=\"00FFFF\">רבים</TD>\n",
       " </TR>\n",
       " <TR>\n",
       "  <TD bgcolor=\"FF0000\">[ ]</TD>\n",
       "  <TD bgcolor=\"FF0000\">הכשיל תירוש׃</TD>\n",
       " </TR>\n",
       "</TABLE>"
      ],
      "text/plain": [
       "<IPython.core.display.HTML object>"
      ]
     },
     "metadata": {},
     "output_type": "display_data"
    },
    {
     "name": "stdout",
     "output_type": "stream",
     "text": [
      "======= chapter 31 ==========\n",
      "======= verse 26 ==========\n"
     ]
    },
    {
     "data": {
      "text/html": [
       "<TABLE border=\"1\" style=\"border: 1px solid #000000; border-collapse: collapse;\" cellpadding=\"4\">\n",
       " <TR>\n",
       "  <TH>f</TH>\n",
       "  <TH>b</TH>\n",
       " </TR>\n",
       " <TR>\n",
       "  <TD bgcolor=\"FF0000\">  [             ]</TD>\n",
       "  <TD bgcolor=\"FF0000\">  כור בו֟חן</TD>\n",
       " </TR>\n",
       " <TR>\n",
       "  <TD bgcolor=\"00FFFF\">מעשה לוטש</TD>\n",
       "  <TD bgcolor=\"00FFFF\">מעשה לוטש</TD>\n",
       " </TR>\n",
       " <TR>\n",
       "  <TD bgcolor=\"FF0000\">∙</TD>\n",
       "  <TD bgcolor=\"FF0000\">-</TD>\n",
       " </TR>\n",
       " <TR>\n",
       "  <TD bgcolor=\"00FFFF\">כן</TD>\n",
       "  <TD bgcolor=\"00FFFF\">כן</TD>\n",
       " </TR>\n",
       " <TR>\n",
       "  <TD bgcolor=\"FF0000\">-</TD>\n",
       "  <TD bgcolor=\"FF0000\">֟</TD>\n",
       " </TR>\n",
       " <TR>\n",
       "  <TD bgcolor=\"00FFFF\">היין</TD>\n",
       "  <TD bgcolor=\"00FFFF\">היין</TD>\n",
       " </TR>\n",
       " <TR>\n",
       "  <TD bgcolor=\"FF0000\">למצ[\n",
       "]</TD>\n",
       "  <TD bgcolor=\"FF0000\">֟למצות לצים׃</TD>\n",
       " </TR>\n",
       "</TABLE>"
      ],
      "text/plain": [
       "<IPython.core.display.HTML object>"
      ]
     },
     "metadata": {},
     "output_type": "display_data"
    },
    {
     "name": "stdout",
     "output_type": "stream",
     "text": [
      "======= chapter 31 ==========\n",
      "======= verse 27 ==========\n"
     ]
    },
    {
     "data": {
      "text/html": [
       "<TABLE border=\"1\" style=\"border: 1px solid #000000; border-collapse: collapse;\" cellpadding=\"4\">\n",
       " <TR>\n",
       "  <TH>f</TH>\n",
       "  <TH>b</TH>\n",
       " </TR>\n",
       " <TR>\n",
       "  <TD bgcolor=\"FF0000\">  [ ]</TD>\n",
       "  <TD bgcolor=\"FF0000\">  למי היין</TD>\n",
       " </TR>\n",
       " <TR>\n",
       "  <TD bgcolor=\"00FFFF\">חיים לאנוש</TD>\n",
       "  <TD bgcolor=\"00FFFF\">חיים לאנוש</TD>\n",
       " </TR>\n",
       " <TR>\n",
       "  <TD bgcolor=\"FF0000\">∙</TD>\n",
       "  <TD bgcolor=\"FF0000\">-</TD>\n",
       " </TR>\n",
       " <TR>\n",
       "  <TD bgcolor=\"00FFFF\">אם ישתנו</TD>\n",
       "  <TD bgcolor=\"00FFFF\">אם ישתנו</TD>\n",
       " </TR>\n",
       " <TR>\n",
       "  <TD bgcolor=\"FF0000\">[ ]</TD>\n",
       "  <TD bgcolor=\"FF0000\">במתכנתו׃</TD>\n",
       " </TR>\n",
       "</TABLE>"
      ],
      "text/plain": [
       "<IPython.core.display.HTML object>"
      ]
     },
     "metadata": {},
     "output_type": "display_data"
    },
    {
     "name": "stdout",
     "output_type": "stream",
     "text": [
      "======= chapter 31 ==========\n",
      "======= verse 28 ==========\n"
     ]
    },
    {
     "data": {
      "text/html": [
       "<TABLE border=\"1\" style=\"border: 1px solid #000000; border-collapse: collapse;\" cellpadding=\"4\">\n",
       " <TR>\n",
       "  <TH>f</TH>\n",
       "  <TH>b</TH>\n",
       " </TR>\n",
       " <TR>\n",
       "  <TD bgcolor=\"FF0000\">  [ ]חת</TD>\n",
       "  <TD bgcolor=\"FF0000\">  שמחת</TD>\n",
       " </TR>\n",
       " <TR>\n",
       "  <TD bgcolor=\"00FFFF\">לב וששון ועדוי</TD>\n",
       "  <TD bgcolor=\"00FFFF\">לב וששון ועדוי</TD>\n",
       " </TR>\n",
       " <TR>\n",
       "  <TD bgcolor=\"FF0000\">∙</TD>\n",
       "  <TD bgcolor=\"FF0000\">-</TD>\n",
       " </TR>\n",
       " <TR>\n",
       "  <TD bgcolor=\"00FFFF\">יין</TD>\n",
       "  <TD bgcolor=\"00FFFF\">יין</TD>\n",
       " </TR>\n",
       " <TR>\n",
       "  <TD bgcolor=\"FF0000\">נשאר ב[           ]</TD>\n",
       "  <TD bgcolor=\"FF0000\">נשתה בעת֟ו ודאי׃</TD>\n",
       " </TR>\n",
       "</TABLE>"
      ],
      "text/plain": [
       "<IPython.core.display.HTML object>"
      ]
     },
     "metadata": {},
     "output_type": "display_data"
    },
    {
     "name": "stdout",
     "output_type": "stream",
     "text": [
      "======= chapter 31 ==========\n",
      "======= verse 29 ==========\n"
     ]
    },
    {
     "data": {
      "text/html": [
       "<TABLE border=\"1\" style=\"border: 1px solid #000000; border-collapse: collapse;\" cellpadding=\"4\">\n",
       " <TR>\n",
       "  <TH>f</TH>\n",
       "  <TH>b</TH>\n",
       " </TR>\n",
       " <TR>\n",
       "  <TD bgcolor=\"00FFFF\">  כאב ראש לענה</TD>\n",
       "  <TD bgcolor=\"00FFFF\">  כאב ראש לענה</TD>\n",
       " </TR>\n",
       " <TR>\n",
       "  <TD bgcolor=\"FF0000\">ורוש∙</TD>\n",
       "  <TD bgcolor=\"FF0000\">וקלון</TD>\n",
       " </TR>\n",
       " <TR>\n",
       "  <TD bgcolor=\"00FFFF\">יין נשתה</TD>\n",
       "  <TD bgcolor=\"00FFFF\">יין נשתה</TD>\n",
       " </TR>\n",
       " <TR>\n",
       "  <TD bgcolor=\"FF0000\">בחרי[ ]</TD>\n",
       "  <TD bgcolor=\"FF0000\">בתחרה וכעס׃</TD>\n",
       " </TR>\n",
       "</TABLE>"
      ],
      "text/plain": [
       "<IPython.core.display.HTML object>"
      ]
     },
     "metadata": {},
     "output_type": "display_data"
    },
    {
     "name": "stdout",
     "output_type": "stream",
     "text": [
      "======= chapter 31 ==========\n",
      "======= verse 30 ==========\n"
     ]
    },
    {
     "data": {
      "text/html": [
       "<TABLE border=\"1\" style=\"border: 1px solid #000000; border-collapse: collapse;\" cellpadding=\"4\">\n",
       " <TR>\n",
       "  <TH>f</TH>\n",
       "  <TH>b</TH>\n",
       " </TR>\n",
       " <TR>\n",
       "  <TD bgcolor=\"00FFFF\">  מרבה</TD>\n",
       "  <TD bgcolor=\"00FFFF\">  מרבה</TD>\n",
       " </TR>\n",
       " <TR>\n",
       "  <TD bgcolor=\"FF0000\">חמד</TD>\n",
       "  <TD bgcolor=\"FF0000\">חמר</TD>\n",
       " </TR>\n",
       " <TR>\n",
       "  <TD bgcolor=\"00FFFF\">לכסיל</TD>\n",
       "  <TD bgcolor=\"00FFFF\">לכסיל</TD>\n",
       " </TR>\n",
       " <TR>\n",
       "  <TD bgcolor=\"FF0000\">נוקש∙</TD>\n",
       "  <TD bgcolor=\"FF0000\">מוקש</TD>\n",
       " </TR>\n",
       " <TR>\n",
       "  <TD bgcolor=\"00FFFF\">מחסר כח</TD>\n",
       "  <TD bgcolor=\"00FFFF\">מחסר כח</TD>\n",
       " </TR>\n",
       " <TR>\n",
       "  <TD bgcolor=\"FF0000\">ומספיק [ ]</TD>\n",
       "  <TD bgcolor=\"FF0000\">ומספק פצ֟ע׃</TD>\n",
       " </TR>\n",
       "</TABLE>"
      ],
      "text/plain": [
       "<IPython.core.display.HTML object>"
      ]
     },
     "metadata": {},
     "output_type": "display_data"
    },
    {
     "name": "stdout",
     "output_type": "stream",
     "text": [
      "======= chapter 31 ==========\n",
      "======= verse 31 ==========\n"
     ]
    },
    {
     "data": {
      "text/html": [
       "<TABLE border=\"1\" style=\"border: 1px solid #000000; border-collapse: collapse;\" cellpadding=\"4\">\n",
       " <TR>\n",
       "  <TH>f</TH>\n",
       "  <TH>b</TH>\n",
       " </TR>\n",
       " <TR>\n",
       "  <TD bgcolor=\"00FFFF\">  במשתה</TD>\n",
       "  <TD bgcolor=\"00FFFF\">  במשתה</TD>\n",
       " </TR>\n",
       " <TR>\n",
       "  <TD bgcolor=\"FF0000\">יין א‍ל תוכח רֵעַ∙\n",
       "וא‍ל תוגַהו בחדותו</TD>\n",
       "  <TD bgcolor=\"FF0000\">היין אל [תו]כח רע\n",
       "ואל תוג֟הו\n",
       "[בח]ד[ו]תו</TD>\n",
       " </TR>\n",
       " <TR>\n",
       "  <TD bgcolor=\"00FFFF\">׃</TD>\n",
       "  <TD bgcolor=\"00FFFF\">׃</TD>\n",
       " </TR>\n",
       "</TABLE>"
      ],
      "text/plain": [
       "<IPython.core.display.HTML object>"
      ]
     },
     "metadata": {},
     "output_type": "display_data"
    },
    {
     "name": "stdout",
     "output_type": "stream",
     "text": [
      "======= chapter 32 ==========\n",
      "======= verse  ==========\n"
     ]
    },
    {
     "data": {
      "text/html": [
       "<TABLE border=\"1\" style=\"border: 1px solid #000000; border-collapse: collapse;\" cellpadding=\"4\">\n",
       " <TR>\n",
       "  <TH>f</TH>\n",
       "  <TH>e</TH>\n",
       "  <TH>b</TH>\n",
       " </TR>\n",
       " <TR>\n",
       "  <TD bgcolor=\"FF0000\">  [ ]</TD>\n",
       "  <TD bgcolor=\"FF0000\">  [ ]</TD>\n",
       "  <TD bgcolor=\"FF0000\">  בכל מעשיך שמור\n",
       "נפשך   כי עושה זה\n",
       "שומר</TD>\n",
       " </TR>\n",
       " <TR>\n",
       "  <TD bgcolor=\"FF0000\">ייי יבינו משפטו∙\n",
       "וחכמות יוציאו מלבם:</TD>\n",
       "  <TD bgcolor=\"FF0000\">לא יקח שכל׃     זד\n",
       "ולֵץ לא יקח</TD>\n",
       "  <TD bgcolor=\"FF0000\">-</TD>\n",
       " </TR>\n",
       " <TR>\n",
       "  <TD bgcolor=\"FF0000\">-</TD>\n",
       "  <TD bgcolor=\"FF0000\">מצוה</TD>\n",
       "  <TD bgcolor=\"FF0000\">מצוה</TD>\n",
       " </TR>\n",
       " <TR>\n",
       "  <TD bgcolor=\"FF0000\">-</TD>\n",
       "  <TD bgcolor=\"FF0000\">׃</TD>\n",
       "  <TD bgcolor=\"FF0000\">-</TD>\n",
       " </TR>\n",
       "</TABLE>"
      ],
      "text/plain": [
       "<IPython.core.display.HTML object>"
      ]
     },
     "metadata": {},
     "output_type": "display_data"
    },
    {
     "name": "stdout",
     "output_type": "stream",
     "text": [
      "======= chapter 32 ==========\n",
      "======= verse 3 ==========\n"
     ]
    },
    {
     "data": {
      "text/html": [
       "<TABLE border=\"1\" style=\"border: 1px solid #000000; border-collapse: collapse;\" cellpadding=\"4\">\n",
       " <TR>\n",
       "  <TH>f</TH>\n",
       "  <TH>b</TH>\n",
       " </TR>\n",
       " <TR>\n",
       "  <TD bgcolor=\"00FFFF\">  מלל</TD>\n",
       "  <TD bgcolor=\"00FFFF\">  מלל</TD>\n",
       " </TR>\n",
       " <TR>\n",
       "  <TD bgcolor=\"FF0000\">שבט הוא</TD>\n",
       "  <TD bgcolor=\"FF0000\">שב ֟כי ה֟וא</TD>\n",
       " </TR>\n",
       " <TR>\n",
       "  <TD bgcolor=\"00FFFF\">לך</TD>\n",
       "  <TD bgcolor=\"00FFFF\">לך</TD>\n",
       " </TR>\n",
       " <TR>\n",
       "  <TD bgcolor=\"FF0000\">∙</TD>\n",
       "  <TD bgcolor=\"FF0000\">-</TD>\n",
       " </TR>\n",
       " <TR>\n",
       "  <TD bgcolor=\"00FFFF\">והצנע</TD>\n",
       "  <TD bgcolor=\"00FFFF\">והצנע</TD>\n",
       " </TR>\n",
       " <TR>\n",
       "  <TD bgcolor=\"FF0000\">שכל וא‍</TD>\n",
       "  <TD bgcolor=\"FF0000\">שכ֟</TD>\n",
       " </TR>\n",
       " <TR>\n",
       "  <TD bgcolor=\"00FFFF\">ל</TD>\n",
       "  <TD bgcolor=\"00FFFF\">ל</TD>\n",
       " </TR>\n",
       " <TR>\n",
       "  <TD bgcolor=\"FF0000\">-</TD>\n",
       "  <TD bgcolor=\"FF0000\">ואל</TD>\n",
       " </TR>\n",
       " <TR>\n",
       "  <TD bgcolor=\"00FFFF\">תמנע שיר׃</TD>\n",
       "  <TD bgcolor=\"00FFFF\">תמנע שיר׃</TD>\n",
       " </TR>\n",
       "</TABLE>"
      ],
      "text/plain": [
       "<IPython.core.display.HTML object>"
      ]
     },
     "metadata": {},
     "output_type": "display_data"
    },
    {
     "name": "stdout",
     "output_type": "stream",
     "text": [
      "======= chapter 32 ==========\n",
      "======= verse 4 ==========\n"
     ]
    },
    {
     "data": {
      "text/html": [
       "<TABLE border=\"1\" style=\"border: 1px solid #000000; border-collapse: collapse;\" cellpadding=\"4\">\n",
       " <TR>\n",
       "  <TH>f</TH>\n",
       "  <TH>b</TH>\n",
       " </TR>\n",
       " <TR>\n",
       "  <TD bgcolor=\"00FFFF\">  במקום</TD>\n",
       "  <TD bgcolor=\"00FFFF\">  במקום</TD>\n",
       " </TR>\n",
       " <TR>\n",
       "  <TD bgcolor=\"FF0000\">שכל א‍ל</TD>\n",
       "  <TD bgcolor=\"FF0000\">היין אל</TD>\n",
       " </TR>\n",
       " <TR>\n",
       "  <TD bgcolor=\"00FFFF\">תשפך שיח</TD>\n",
       "  <TD bgcolor=\"00FFFF\">תשפך שיח</TD>\n",
       " </TR>\n",
       " <TR>\n",
       "  <TD bgcolor=\"FF0000\">∙</TD>\n",
       "  <TD bgcolor=\"FF0000\">-</TD>\n",
       " </TR>\n",
       " <TR>\n",
       "  <TD bgcolor=\"00FFFF\">ובלא</TD>\n",
       "  <TD bgcolor=\"00FFFF\">ובלא</TD>\n",
       " </TR>\n",
       " <TR>\n",
       "  <TD bgcolor=\"FF0000\">מזמור א‍ל</TD>\n",
       "  <TD bgcolor=\"FF0000\">מזמר מה תשפך</TD>\n",
       " </TR>\n",
       " <TR>\n",
       "  <TD bgcolor=\"00FFFF\">שיח</TD>\n",
       "  <TD bgcolor=\"00FFFF\">שיח</TD>\n",
       " </TR>\n",
       " <TR>\n",
       "  <TD bgcolor=\"FF0000\">תשפך</TD>\n",
       "  <TD bgcolor=\"FF0000\">ובל עת מה תתחכם</TD>\n",
       " </TR>\n",
       " <TR>\n",
       "  <TD bgcolor=\"00FFFF\">׃</TD>\n",
       "  <TD bgcolor=\"00FFFF\">׃</TD>\n",
       " </TR>\n",
       "</TABLE>"
      ],
      "text/plain": [
       "<IPython.core.display.HTML object>"
      ]
     },
     "metadata": {},
     "output_type": "display_data"
    },
    {
     "name": "stdout",
     "output_type": "stream",
     "text": [
      "======= chapter 32 ==========\n",
      "======= verse 5ab ==========\n"
     ]
    },
    {
     "data": {
      "text/html": [
       "<TABLE border=\"1\" style=\"border: 1px solid #000000; border-collapse: collapse;\" cellpadding=\"4\">\n",
       " <TR>\n",
       "  <TH>f</TH>\n",
       "  <TH>b</TH>\n",
       " </TR>\n",
       " <TR>\n",
       "  <TD bgcolor=\"00FFFF\">  כחותם על כיס זהב</TD>\n",
       "  <TD bgcolor=\"00FFFF\">  כחותם על כיס זהב</TD>\n",
       " </TR>\n",
       " <TR>\n",
       "  <TD bgcolor=\"FF0000\">∙       שירת א‍ל</TD>\n",
       "  <TD bgcolor=\"FF0000\">שיר אל</TD>\n",
       " </TR>\n",
       " <TR>\n",
       "  <TD bgcolor=\"00FFFF\">על משתה היין׃</TD>\n",
       "  <TD bgcolor=\"00FFFF\">על משתה היין׃</TD>\n",
       " </TR>\n",
       "</TABLE>"
      ],
      "text/plain": [
       "<IPython.core.display.HTML object>"
      ]
     },
     "metadata": {},
     "output_type": "display_data"
    },
    {
     "name": "stdout",
     "output_type": "stream",
     "text": [
      "======= chapter 32 ==========\n",
      "======= verse 5cd ==========\n"
     ]
    },
    {
     "data": {
      "text/html": [
       "<TABLE border=\"1\" style=\"border: 1px solid #000000; border-collapse: collapse;\" cellpadding=\"4\">\n",
       " <TR>\n",
       "  <TH>f</TH>\n",
       "  <TH>b</TH>\n",
       " </TR>\n",
       " <TR>\n",
       "  <TD bgcolor=\"00FFFF\">  כומז</TD>\n",
       "  <TD bgcolor=\"00FFFF\">  כומז</TD>\n",
       " </TR>\n",
       " <TR>\n",
       "  <TD bgcolor=\"FF0000\">אדם</TD>\n",
       "  <TD bgcolor=\"FF0000\">אודם</TD>\n",
       " </TR>\n",
       " <TR>\n",
       "  <TD bgcolor=\"00FFFF\">על</TD>\n",
       "  <TD bgcolor=\"00FFFF\">על</TD>\n",
       " </TR>\n",
       " <TR>\n",
       "  <TD bgcolor=\"FF0000\">טס זהוב∙</TD>\n",
       "  <TD bgcolor=\"FF0000\">ני֟ב֟ זהב</TD>\n",
       " </TR>\n",
       " <TR>\n",
       "  <TD bgcolor=\"00FFFF\">משפט שיר על משתה\n",
       "היין׃</TD>\n",
       "  <TD bgcolor=\"00FFFF\">משפט שיר על משתה\n",
       "היין׃</TD>\n",
       " </TR>\n",
       "</TABLE>"
      ],
      "text/plain": [
       "<IPython.core.display.HTML object>"
      ]
     },
     "metadata": {},
     "output_type": "display_data"
    },
    {
     "name": "stdout",
     "output_type": "stream",
     "text": [
      "======= chapter 32 ==========\n",
      "======= verse 5ef ==========\n"
     ]
    },
    {
     "data": {
      "text/html": [
       "<TABLE border=\"1\" style=\"border: 1px solid #000000; border-collapse: collapse;\" cellpadding=\"4\">\n",
       " <TR>\n",
       "  <TH>f</TH>\n",
       "  <TH>b</TH>\n",
       " </TR>\n",
       " <TR>\n",
       "  <TD bgcolor=\"00FFFF\">&nbsp;</TD>\n",
       "  <TD bgcolor=\"00FFFF\">&nbsp;</TD>\n",
       " </TR>\n",
       " <TR>\n",
       "  <TD bgcolor=\"FF0000\">כדביר</TD>\n",
       "  <TD bgcolor=\"FF0000\">כרביד</TD>\n",
       " </TR>\n",
       " <TR>\n",
       "  <TD bgcolor=\"00FFFF\">זהב</TD>\n",
       "  <TD bgcolor=\"00FFFF\">זהב</TD>\n",
       " </TR>\n",
       " <TR>\n",
       "  <TD bgcolor=\"FF0000\">בו נופך</TD>\n",
       "  <TD bgcolor=\"FF0000\">ובו נפך֟</TD>\n",
       " </TR>\n",
       " <TR>\n",
       "  <TD bgcolor=\"00FFFF\">וספיר</TD>\n",
       "  <TD bgcolor=\"00FFFF\">וספיר</TD>\n",
       " </TR>\n",
       " <TR>\n",
       "  <TD bgcolor=\"FF0000\">∙       נואי</TD>\n",
       "  <TD bgcolor=\"FF0000\">כך נאים</TD>\n",
       " </TR>\n",
       " <TR>\n",
       "  <TD bgcolor=\"00FFFF\">דברים</TD>\n",
       "  <TD bgcolor=\"00FFFF\">דברים</TD>\n",
       " </TR>\n",
       " <TR>\n",
       "  <TD bgcolor=\"FF0000\">-</TD>\n",
       "  <TD bgcolor=\"FF0000\">יפים</TD>\n",
       " </TR>\n",
       " <TR>\n",
       "  <TD bgcolor=\"00FFFF\">על</TD>\n",
       "  <TD bgcolor=\"00FFFF\">על</TD>\n",
       " </TR>\n",
       " <TR>\n",
       "  <TD bgcolor=\"FF0000\">מש׳</TD>\n",
       "  <TD bgcolor=\"FF0000\">משתה</TD>\n",
       " </TR>\n",
       " <TR>\n",
       "  <TD bgcolor=\"00FFFF\">היין׃</TD>\n",
       "  <TD bgcolor=\"00FFFF\">היין׃</TD>\n",
       " </TR>\n",
       "</TABLE>"
      ],
      "text/plain": [
       "<IPython.core.display.HTML object>"
      ]
     },
     "metadata": {},
     "output_type": "display_data"
    },
    {
     "name": "stdout",
     "output_type": "stream",
     "text": [
      "======= chapter 32 ==========\n",
      "======= verse 6 ==========\n"
     ]
    },
    {
     "data": {
      "text/html": [
       "<TABLE border=\"1\" style=\"border: 1px solid #000000; border-collapse: collapse;\" cellpadding=\"4\">\n",
       " <TR>\n",
       "  <TH>f</TH>\n",
       "  <TH>b</TH>\n",
       " </TR>\n",
       " <TR>\n",
       "  <TD bgcolor=\"00FFFF\">&nbsp;</TD>\n",
       "  <TD bgcolor=\"00FFFF\">&nbsp;</TD>\n",
       " </TR>\n",
       " <TR>\n",
       "  <TD bgcolor=\"FF0000\">כל מלא</TD>\n",
       "  <TD bgcolor=\"FF0000\">מל֟ואות</TD>\n",
       " </TR>\n",
       " <TR>\n",
       "  <TD bgcolor=\"00FFFF\">פז וחותם ברקת</TD>\n",
       "  <TD bgcolor=\"00FFFF\">פז וחותם ברקת</TD>\n",
       " </TR>\n",
       " <TR>\n",
       "  <TD bgcolor=\"FF0000\">∙</TD>\n",
       "  <TD bgcolor=\"FF0000\">-</TD>\n",
       " </TR>\n",
       " <TR>\n",
       "  <TD bgcolor=\"00FFFF\">קול מזמור על נועם\n",
       "תירוש׃</TD>\n",
       "  <TD bgcolor=\"00FFFF\">קול מזמור על נועם\n",
       "תירוש׃</TD>\n",
       " </TR>\n",
       "</TABLE>"
      ],
      "text/plain": [
       "<IPython.core.display.HTML object>"
      ]
     },
     "metadata": {},
     "output_type": "display_data"
    },
    {
     "name": "stdout",
     "output_type": "stream",
     "text": [
      "======= chapter 32 ==========\n",
      "======= verse 7 ==========\n"
     ]
    },
    {
     "data": {
      "text/html": [
       "<TABLE border=\"1\" style=\"border: 1px solid #000000; border-collapse: collapse;\" cellpadding=\"4\">\n",
       " <TR>\n",
       "  <TH>f</TH>\n",
       "  <TH>b</TH>\n",
       " </TR>\n",
       " <TR>\n",
       "  <TD bgcolor=\"FF0000\">  [ ]ר</TD>\n",
       "  <TD bgcolor=\"FF0000\">  דבר</TD>\n",
       " </TR>\n",
       " <TR>\n",
       "  <TD bgcolor=\"00FFFF\">נער</TD>\n",
       "  <TD bgcolor=\"00FFFF\">נער</TD>\n",
       " </TR>\n",
       " <TR>\n",
       "  <TD bgcolor=\"FF0000\">צורך אותך∙</TD>\n",
       "  <TD bgcolor=\"FF0000\">אם צריך את֟ה בחזק</TD>\n",
       " </TR>\n",
       " <TR>\n",
       "  <TD bgcolor=\"00FFFF\">פעמים ושלש אם ישא</TD>\n",
       "  <TD bgcolor=\"00FFFF\">פעמים ושלש אם ישא</TD>\n",
       " </TR>\n",
       " <TR>\n",
       "  <TD bgcolor=\"FF0000\">‍</TD>\n",
       "  <TD bgcolor=\"FF0000\">֟</TD>\n",
       " </TR>\n",
       " <TR>\n",
       "  <TD bgcolor=\"00FFFF\">לך׃</TD>\n",
       "  <TD bgcolor=\"00FFFF\">לך׃</TD>\n",
       " </TR>\n",
       "</TABLE>"
      ],
      "text/plain": [
       "<IPython.core.display.HTML object>"
      ]
     },
     "metadata": {},
     "output_type": "display_data"
    },
    {
     "name": "stdout",
     "output_type": "stream",
     "text": [
      "======= chapter 32 ==========\n",
      "======= verse 12 ==========\n"
     ]
    },
    {
     "data": {
      "text/html": [
       "<TABLE border=\"1\" style=\"border: 1px solid #000000; border-collapse: collapse;\" cellpadding=\"4\">\n",
       " <TR>\n",
       "  <TH>f</TH>\n",
       "  <TH>b</TH>\n",
       " </TR>\n",
       " <TR>\n",
       "  <TD bgcolor=\"FF0000\">  [ ]ביתך</TD>\n",
       "  <TD bgcolor=\"FF0000\">  פטר לביתך</TD>\n",
       " </TR>\n",
       " <TR>\n",
       "  <TD bgcolor=\"00FFFF\">ושלם</TD>\n",
       "  <TD bgcolor=\"00FFFF\">ושלם</TD>\n",
       " </TR>\n",
       " <TR>\n",
       "  <TD bgcolor=\"FF0000\">[  ]צון∙\n",
       "בירא[ ]</TD>\n",
       "  <TD bgcolor=\"FF0000\">רצון    ביראת אל ולא\n",
       "בחסר כל׃</TD>\n",
       " </TR>\n",
       "</TABLE>"
      ],
      "text/plain": [
       "<IPython.core.display.HTML object>"
      ]
     },
     "metadata": {},
     "output_type": "display_data"
    },
    {
     "name": "stdout",
     "output_type": "stream",
     "text": [
      "======= chapter 32 ==========\n",
      "======= verse 13 ==========\n"
     ]
    },
    {
     "data": {
      "text/html": [
       "<TABLE border=\"1\" style=\"border: 1px solid #000000; border-collapse: collapse;\" cellpadding=\"4\">\n",
       " <TR>\n",
       "  <TH>f</TH>\n",
       "  <TH>b</TH>\n",
       " </TR>\n",
       " <TR>\n",
       "  <TD bgcolor=\"FF0000\">  [ ]לה</TD>\n",
       "  <TD bgcolor=\"FF0000\">  מ[ע]ל כל אלה</TD>\n",
       " </TR>\n",
       " <TR>\n",
       "  <TD bgcolor=\"00FFFF\">ברך עושך</TD>\n",
       "  <TD bgcolor=\"00FFFF\">ברך עושך</TD>\n",
       " </TR>\n",
       " <TR>\n",
       "  <TD bgcolor=\"FF0000\">∙</TD>\n",
       "  <TD bgcolor=\"FF0000\">-</TD>\n",
       " </TR>\n",
       " <TR>\n",
       "  <TD bgcolor=\"00FFFF\">המרוך</TD>\n",
       "  <TD bgcolor=\"00FFFF\">המרוך</TD>\n",
       " </TR>\n",
       " <TR>\n",
       "  <TD bgcolor=\"FF0000\">מטו[ ]</TD>\n",
       "  <TD bgcolor=\"FF0000\">מטובתו׃</TD>\n",
       " </TR>\n",
       "</TABLE>"
      ],
      "text/plain": [
       "<IPython.core.display.HTML object>"
      ]
     },
     "metadata": {},
     "output_type": "display_data"
    },
    {
     "name": "stdout",
     "output_type": "stream",
     "text": [
      "======= chapter 32 ==========\n",
      "======= verse 14ab ==========\n"
     ]
    },
    {
     "data": {
      "text/html": [
       "<TABLE border=\"1\" style=\"border: 1px solid #000000; border-collapse: collapse;\" cellpadding=\"4\">\n",
       " <TR>\n",
       "  <TH>f</TH>\n",
       "  <TH>b</TH>\n",
       " </TR>\n",
       " <TR>\n",
       "  <TD bgcolor=\"FF0000\">  [ ]ל חי וקוה</TD>\n",
       "  <TD bgcolor=\"FF0000\">  דורש אל [י]קוה  ֟</TD>\n",
       " </TR>\n",
       " <TR>\n",
       "  <TD bgcolor=\"00FFFF\">רצון</TD>\n",
       "  <TD bgcolor=\"00FFFF\">רצון</TD>\n",
       " </TR>\n",
       " <TR>\n",
       "  <TD bgcolor=\"FF0000\">∙       וגם מתלהלה\n",
       "י[ ]</TD>\n",
       "  <TD bgcolor=\"FF0000\">ומתלהלה יוקש בו׃</TD>\n",
       " </TR>\n",
       "</TABLE>"
      ],
      "text/plain": [
       "<IPython.core.display.HTML object>"
      ]
     },
     "metadata": {},
     "output_type": "display_data"
    },
    {
     "name": "stdout",
     "output_type": "stream",
     "text": [
      "======= chapter 32 ==========\n",
      "======= verse 14ef ==========\n"
     ]
    },
    {
     "data": {
      "text/html": [
       "<TABLE border=\"1\" style=\"border: 1px solid #000000; border-collapse: collapse;\" cellpadding=\"4\">\n",
       " <TR>\n",
       "  <TH>f</TH>\n",
       "  <TH>b</TH>\n",
       " </TR>\n",
       " <TR>\n",
       "  <TD bgcolor=\"FF0000\">  [ ]פצי[  ]מצא</TD>\n",
       "  <TD bgcolor=\"FF0000\">  דורש חפצי אל יק֟ח</TD>\n",
       " </TR>\n",
       " <TR>\n",
       "  <TD bgcolor=\"00FFFF\">לקח</TD>\n",
       "  <TD bgcolor=\"00FFFF\">לקח</TD>\n",
       " </TR>\n",
       " <TR>\n",
       "  <TD bgcolor=\"FF0000\">∙</TD>\n",
       "  <TD bgcolor=\"FF0000\">-</TD>\n",
       " </TR>\n",
       " <TR>\n",
       "  <TD bgcolor=\"00FFFF\">ויענהו</TD>\n",
       "  <TD bgcolor=\"00FFFF\">ויענהו</TD>\n",
       " </TR>\n",
       " <TR>\n",
       "  <TD bgcolor=\"FF0000\">בכל קצ[ ]</TD>\n",
       "  <TD bgcolor=\"FF0000\">בתפלתו׃</TD>\n",
       " </TR>\n",
       "</TABLE>"
      ],
      "text/plain": [
       "<IPython.core.display.HTML object>"
      ]
     },
     "metadata": {},
     "output_type": "display_data"
    },
    {
     "name": "stdout",
     "output_type": "stream",
     "text": [
      "======= chapter 32 ==========\n",
      "======= verse 16 ==========\n"
     ]
    },
    {
     "data": {
      "text/html": [
       "<TABLE border=\"1\" style=\"border: 1px solid #000000; border-collapse: collapse;\" cellpadding=\"4\">\n",
       " <TR>\n",
       "  <TH>f</TH>\n",
       "  <TH>e</TH>\n",
       "  <TH>b</TH>\n",
       " </TR>\n",
       " <TR>\n",
       "  <TD bgcolor=\"FF0000\">  [ ]בין</TD>\n",
       "  <TD bgcolor=\"FF0000\">  [ ]בין</TD>\n",
       "  <TD bgcolor=\"FF0000\">  ירא ייי יבין</TD>\n",
       " </TR>\n",
       " <TR>\n",
       "  <TD bgcolor=\"00FFFF\">משפט</TD>\n",
       "  <TD bgcolor=\"00FFFF\">משפט</TD>\n",
       "  <TD bgcolor=\"00FFFF\">משפט</TD>\n",
       " </TR>\n",
       " <TR>\n",
       "  <TD bgcolor=\"FF0000\">∙       ות{ת}חבולות</TD>\n",
       "  <TD bgcolor=\"FF0000\">׃</TD>\n",
       "  <TD bgcolor=\"FF0000\">-</TD>\n",
       " </TR>\n",
       " <TR>\n",
       "  <TD bgcolor=\"FF0000\">-</TD>\n",
       "  <TD bgcolor=\"FF0000\">ותחבולות</TD>\n",
       "  <TD bgcolor=\"FF0000\">ותחבולות</TD>\n",
       " </TR>\n",
       " <TR>\n",
       "  <TD bgcolor=\"00FFFF\">מנשף</TD>\n",
       "  <TD bgcolor=\"00FFFF\">מנשף</TD>\n",
       "  <TD bgcolor=\"00FFFF\">מנשף</TD>\n",
       " </TR>\n",
       " <TR>\n",
       "  <TD bgcolor=\"FF0000\">[  ]</TD>\n",
       "  <TD bgcolor=\"FF0000\">יוציא׃</TD>\n",
       "  <TD bgcolor=\"FF0000\">יוציא׃</TD>\n",
       " </TR>\n",
       "</TABLE>"
      ],
      "text/plain": [
       "<IPython.core.display.HTML object>"
      ]
     },
     "metadata": {},
     "output_type": "display_data"
    },
    {
     "name": "stdout",
     "output_type": "stream",
     "text": [
      "======= chapter 32 ==========\n",
      "======= verse 17 ==========\n"
     ]
    },
    {
     "data": {
      "text/html": [
       "<TABLE border=\"1\" style=\"border: 1px solid #000000; border-collapse: collapse;\" cellpadding=\"4\">\n",
       " <TR>\n",
       "  <TH>f</TH>\n",
       "  <TH>e</TH>\n",
       "  <TH>b</TH>\n",
       " </TR>\n",
       " <TR>\n",
       "  <TD bgcolor=\"FF0000\">  איש</TD>\n",
       "  <TD bgcolor=\"FF0000\">  [ ]</TD>\n",
       "  <TD bgcolor=\"FF0000\">  איש</TD>\n",
       " </TR>\n",
       " <TR>\n",
       "  <TD bgcolor=\"FF0000\">חמס</TD>\n",
       "  <TD bgcolor=\"FF0000\">-</TD>\n",
       "  <TD bgcolor=\"FF0000\">חכ֟ם</TD>\n",
       " </TR>\n",
       " <TR>\n",
       "  <TD bgcolor=\"00FFFF\">יטה תוכחות</TD>\n",
       "  <TD bgcolor=\"00FFFF\">יטה תוכחות</TD>\n",
       "  <TD bgcolor=\"00FFFF\">יטה תוכחות</TD>\n",
       " </TR>\n",
       " <TR>\n",
       "  <TD bgcolor=\"FF0000\">∙</TD>\n",
       "  <TD bgcolor=\"FF0000\">׃</TD>\n",
       "  <TD bgcolor=\"FF0000\">ואח֟ר</TD>\n",
       " </TR>\n",
       " <TR>\n",
       "  <TD bgcolor=\"FF0000\">ויאחר</TD>\n",
       "  <TD bgcolor=\"FF0000\">ויאחר</TD>\n",
       "  <TD bgcolor=\"FF0000\">-</TD>\n",
       " </TR>\n",
       " <TR>\n",
       "  <TD bgcolor=\"00FFFF\">צרכו</TD>\n",
       "  <TD bgcolor=\"00FFFF\">צרכו</TD>\n",
       "  <TD bgcolor=\"00FFFF\">צרכו</TD>\n",
       " </TR>\n",
       " <TR>\n",
       "  <TD bgcolor=\"FF0000\">למשך</TD>\n",
       "  <TD bgcolor=\"FF0000\">למשך</TD>\n",
       "  <TD bgcolor=\"FF0000\">ימ֟שך</TD>\n",
       " </TR>\n",
       " <TR>\n",
       "  <TD bgcolor=\"00FFFF\">תורה׃</TD>\n",
       "  <TD bgcolor=\"00FFFF\">תורה׃</TD>\n",
       "  <TD bgcolor=\"00FFFF\">תורה׃</TD>\n",
       " </TR>\n",
       "</TABLE>"
      ],
      "text/plain": [
       "<IPython.core.display.HTML object>"
      ]
     },
     "metadata": {},
     "output_type": "display_data"
    },
    {
     "name": "stdout",
     "output_type": "stream",
     "text": [
      "======= chapter 32 ==========\n",
      "======= verse 18ab ==========\n"
     ]
    },
    {
     "data": {
      "text/html": [
       "<TABLE border=\"1\" style=\"border: 1px solid #000000; border-collapse: collapse;\" cellpadding=\"4\">\n",
       " <TR>\n",
       "  <TH>f</TH>\n",
       "  <TH>b</TH>\n",
       " </TR>\n",
       " <TR>\n",
       "  <TD bgcolor=\"00FFFF\">  איש</TD>\n",
       "  <TD bgcolor=\"00FFFF\">  איש</TD>\n",
       " </TR>\n",
       " <TR>\n",
       "  <TD bgcolor=\"FF0000\">-</TD>\n",
       "  <TD bgcolor=\"FF0000\">חכם</TD>\n",
       " </TR>\n",
       " <TR>\n",
       "  <TD bgcolor=\"00FFFF\">לא יכסה</TD>\n",
       "  <TD bgcolor=\"00FFFF\">לא יכסה</TD>\n",
       " </TR>\n",
       " <TR>\n",
       "  <TD bgcolor=\"FF0000\">חכמה∙</TD>\n",
       "  <TD bgcolor=\"FF0000\">כח֟מה</TD>\n",
       " </TR>\n",
       " <TR>\n",
       "  <TD bgcolor=\"00FFFF\">ולץ לא</TD>\n",
       "  <TD bgcolor=\"00FFFF\">ולץ לא</TD>\n",
       " </TR>\n",
       " <TR>\n",
       "  <TD bgcolor=\"FF0000\">ישמור</TD>\n",
       "  <TD bgcolor=\"FF0000\">ישמר</TD>\n",
       " </TR>\n",
       " <TR>\n",
       "  <TD bgcolor=\"00FFFF\">לשונו׃</TD>\n",
       "  <TD bgcolor=\"00FFFF\">לשונו׃</TD>\n",
       " </TR>\n",
       "</TABLE>"
      ],
      "text/plain": [
       "<IPython.core.display.HTML object>"
      ]
     },
     "metadata": {},
     "output_type": "display_data"
    },
    {
     "name": "stdout",
     "output_type": "stream",
     "text": [
      "======= chapter 32 ==========\n",
      "======= verse 19 ==========\n"
     ]
    },
    {
     "data": {
      "text/html": [
       "<TABLE border=\"1\" style=\"border: 1px solid #000000; border-collapse: collapse;\" cellpadding=\"4\">\n",
       " <TR>\n",
       "  <TH>f</TH>\n",
       "  <TH>e</TH>\n",
       "  <TH>b</TH>\n",
       " </TR>\n",
       " <TR>\n",
       "  <TD bgcolor=\"FF0000\">  בלא עצה</TD>\n",
       "  <TD bgcolor=\"FF0000\">  [ ]</TD>\n",
       "  <TD bgcolor=\"FF0000\">  בלא עצה</TD>\n",
       " </TR>\n",
       " <TR>\n",
       "  <TD bgcolor=\"FF0000\">א‍ל</TD>\n",
       "  <TD bgcolor=\"FF0000\">-</TD>\n",
       "  <TD bgcolor=\"FF0000\">אל</TD>\n",
       " </TR>\n",
       " <TR>\n",
       "  <TD bgcolor=\"00FFFF\">תפעל דבר</TD>\n",
       "  <TD bgcolor=\"00FFFF\">תפעל דבר</TD>\n",
       "  <TD bgcolor=\"00FFFF\">תפעל דבר</TD>\n",
       " </TR>\n",
       " <TR>\n",
       "  <TD bgcolor=\"FF0000\">∙</TD>\n",
       "  <TD bgcolor=\"FF0000\">׃</TD>\n",
       "  <TD bgcolor=\"FF0000\">-</TD>\n",
       " </TR>\n",
       " <TR>\n",
       "  <TD bgcolor=\"00FFFF\">ואחר מעשיך</TD>\n",
       "  <TD bgcolor=\"00FFFF\">ואחר מעשיך</TD>\n",
       "  <TD bgcolor=\"00FFFF\">ואחר מעשיך</TD>\n",
       " </TR>\n",
       " <TR>\n",
       "  <TD bgcolor=\"FF0000\">א‍ל תתקפץ</TD>\n",
       "  <TD bgcolor=\"FF0000\">א‍ל תתקפץ</TD>\n",
       "  <TD bgcolor=\"FF0000\">אל תתקצף</TD>\n",
       " </TR>\n",
       " <TR>\n",
       "  <TD bgcolor=\"00FFFF\">׃</TD>\n",
       "  <TD bgcolor=\"00FFFF\">׃</TD>\n",
       "  <TD bgcolor=\"00FFFF\">׃</TD>\n",
       " </TR>\n",
       "</TABLE>"
      ],
      "text/plain": [
       "<IPython.core.display.HTML object>"
      ]
     },
     "metadata": {},
     "output_type": "display_data"
    },
    {
     "name": "stdout",
     "output_type": "stream",
     "text": [
      "======= chapter 32 ==========\n",
      "======= verse 20 ==========\n"
     ]
    },
    {
     "data": {
      "text/html": [
       "<TABLE border=\"1\" style=\"border: 1px solid #000000; border-collapse: collapse;\" cellpadding=\"4\">\n",
       " <TR>\n",
       "  <TH>f</TH>\n",
       "  <TH>e</TH>\n",
       "  <TH>b</TH>\n",
       " </TR>\n",
       " <TR>\n",
       "  <TD bgcolor=\"FF0000\">  בדרך מוקשת</TD>\n",
       "  <TD bgcolor=\"FF0000\">  [ ]ת</TD>\n",
       "  <TD bgcolor=\"FF0000\">  בדרך מוקשת</TD>\n",
       " </TR>\n",
       " <TR>\n",
       "  <TD bgcolor=\"FF0000\">א‍ל</TD>\n",
       "  <TD bgcolor=\"FF0000\">אל</TD>\n",
       "  <TD bgcolor=\"FF0000\">אל</TD>\n",
       " </TR>\n",
       " <TR>\n",
       "  <TD bgcolor=\"00FFFF\">תלך</TD>\n",
       "  <TD bgcolor=\"00FFFF\">תלך</TD>\n",
       "  <TD bgcolor=\"00FFFF\">תלך</TD>\n",
       " </TR>\n",
       " <TR>\n",
       "  <TD bgcolor=\"FF0000\">∙       וא‍ל</TD>\n",
       "  <TD bgcolor=\"FF0000\">׃</TD>\n",
       "  <TD bgcolor=\"FF0000\">-</TD>\n",
       " </TR>\n",
       " <TR>\n",
       "  <TD bgcolor=\"FF0000\">-</TD>\n",
       "  <TD bgcolor=\"FF0000\">ואל</TD>\n",
       "  <TD bgcolor=\"FF0000\">ואל</TD>\n",
       " </TR>\n",
       " <TR>\n",
       "  <TD bgcolor=\"00FFFF\">תתקל</TD>\n",
       "  <TD bgcolor=\"00FFFF\">תתקל</TD>\n",
       "  <TD bgcolor=\"00FFFF\">תתקל</TD>\n",
       " </TR>\n",
       " <TR>\n",
       "  <TD bgcolor=\"FF0000\">בדרך נגף</TD>\n",
       "  <TD bgcolor=\"FF0000\">בדרך נגף</TD>\n",
       "  <TD bgcolor=\"FF0000\">בנגף פעמים</TD>\n",
       " </TR>\n",
       " <TR>\n",
       "  <TD bgcolor=\"00FFFF\">׃</TD>\n",
       "  <TD bgcolor=\"00FFFF\">׃</TD>\n",
       "  <TD bgcolor=\"00FFFF\">׃</TD>\n",
       " </TR>\n",
       "</TABLE>"
      ],
      "text/plain": [
       "<IPython.core.display.HTML object>"
      ]
     },
     "metadata": {},
     "output_type": "display_data"
    },
    {
     "name": "stdout",
     "output_type": "stream",
     "text": [
      "======= chapter 32 ==========\n",
      "======= verse 21b/22b ==========\n"
     ]
    },
    {
     "data": {
      "text/html": [
       "<TABLE border=\"1\" style=\"border: 1px solid #000000; border-collapse: collapse;\" cellpadding=\"4\">\n",
       " <TR>\n",
       "  <TH>f</TH>\n",
       "  <TH>e</TH>\n",
       "  <TH>b</TH>\n",
       " </TR>\n",
       " <TR>\n",
       "  <TD bgcolor=\"FF0000\">  אל</TD>\n",
       "  <TD bgcolor=\"FF0000\">  [ ]</TD>\n",
       "  <TD bgcolor=\"FF0000\">  אל</TD>\n",
       " </TR>\n",
       " <TR>\n",
       "  <TD bgcolor=\"FF0000\">תתחר</TD>\n",
       "  <TD bgcolor=\"FF0000\">-</TD>\n",
       "  <TD bgcolor=\"FF0000\">תבטח</TD>\n",
       " </TR>\n",
       " <TR>\n",
       "  <TD bgcolor=\"00FFFF\">בדרך רשעים</TD>\n",
       "  <TD bgcolor=\"00FFFF\">בדרך רשעים</TD>\n",
       "  <TD bgcolor=\"00FFFF\">בדרך רשעים</TD>\n",
       " </TR>\n",
       " <TR>\n",
       "  <TD bgcolor=\"FF0000\">∙</TD>\n",
       "  <TD bgcolor=\"FF0000\">׃</TD>\n",
       "  <TD bgcolor=\"FF0000\">ובארחתיך הזהר</TD>\n",
       " </TR>\n",
       " <TR>\n",
       "  <TD bgcolor=\"FF0000\">ובאחריתך היה זהיר</TD>\n",
       "  <TD bgcolor=\"FF0000\">ובאחריתך היה זהיר</TD>\n",
       "  <TD bgcolor=\"FF0000\">-</TD>\n",
       " </TR>\n",
       " <TR>\n",
       "  <TD bgcolor=\"00FFFF\">׃</TD>\n",
       "  <TD bgcolor=\"00FFFF\">׃</TD>\n",
       "  <TD bgcolor=\"00FFFF\">׃</TD>\n",
       " </TR>\n",
       "</TABLE>"
      ],
      "text/plain": [
       "<IPython.core.display.HTML object>"
      ]
     },
     "metadata": {},
     "output_type": "display_data"
    },
    {
     "name": "stdout",
     "output_type": "stream",
     "text": [
      "======= chapter 32 ==========\n",
      "======= verse 33:1 ==========\n"
     ]
    },
    {
     "data": {
      "text/html": [
       "<TABLE border=\"1\" style=\"border: 1px solid #000000; border-collapse: collapse;\" cellpadding=\"4\">\n",
       " <TR>\n",
       "  <TH>f</TH>\n",
       "  <TH>e</TH>\n",
       " </TR>\n",
       " <TR>\n",
       "  <TD bgcolor=\"FF0000\">  ירא ייי לא</TD>\n",
       "  <TD bgcolor=\"FF0000\">  [  ]</TD>\n",
       " </TR>\n",
       " <TR>\n",
       "  <TD bgcolor=\"00FFFF\">יפגע רע</TD>\n",
       "  <TD bgcolor=\"00FFFF\">יפגע רע</TD>\n",
       " </TR>\n",
       " <TR>\n",
       "  <TD bgcolor=\"FF0000\">∙</TD>\n",
       "  <TD bgcolor=\"FF0000\">׃</TD>\n",
       " </TR>\n",
       " <TR>\n",
       "  <TD bgcolor=\"00FFFF\">כי אם</TD>\n",
       "  <TD bgcolor=\"00FFFF\">כי אם</TD>\n",
       " </TR>\n",
       " <TR>\n",
       "  <TD bgcolor=\"FF0000\">בניסוי</TD>\n",
       "  <TD bgcolor=\"FF0000\">בנסוי</TD>\n",
       " </TR>\n",
       " <TR>\n",
       "  <TD bgcolor=\"00FFFF\">ישוב ונמלט׃</TD>\n",
       "  <TD bgcolor=\"00FFFF\">ישוב ונמלט׃</TD>\n",
       " </TR>\n",
       "</TABLE>"
      ],
      "text/plain": [
       "<IPython.core.display.HTML object>"
      ]
     },
     "metadata": {},
     "output_type": "display_data"
    },
    {
     "name": "stdout",
     "output_type": "stream",
     "text": [
      "======= chapter 32 ==========\n",
      "======= verse 24 ==========\n"
     ]
    },
    {
     "data": {
      "text/html": [
       "<TABLE border=\"1\" style=\"border: 1px solid #000000; border-collapse: collapse;\" cellpadding=\"4\">\n",
       " <TR>\n",
       "  <TH>f</TH>\n",
       "  <TH>e</TH>\n",
       "  <TH>b</TH>\n",
       " </TR>\n",
       " <TR>\n",
       "  <TD bgcolor=\"FF0000\">  נוצר תורה</TD>\n",
       "  <TD bgcolor=\"FF0000\">  [ ]ה</TD>\n",
       "  <TD bgcolor=\"FF0000\">  נוצר תורה</TD>\n",
       " </TR>\n",
       " <TR>\n",
       "  <TD bgcolor=\"FF0000\">נוצר</TD>\n",
       "  <TD bgcolor=\"FF0000\">נוצר</TD>\n",
       "  <TD bgcolor=\"FF0000\">שומר</TD>\n",
       " </TR>\n",
       " <TR>\n",
       "  <TD bgcolor=\"00FFFF\">נפשו</TD>\n",
       "  <TD bgcolor=\"00FFFF\">נפשו</TD>\n",
       "  <TD bgcolor=\"00FFFF\">נפשו</TD>\n",
       " </TR>\n",
       " <TR>\n",
       "  <TD bgcolor=\"FF0000\">∙</TD>\n",
       "  <TD bgcolor=\"FF0000\">׃</TD>\n",
       "  <TD bgcolor=\"FF0000\">-</TD>\n",
       " </TR>\n",
       " <TR>\n",
       "  <TD bgcolor=\"00FFFF\">ובוטח בייי לא יבוש׃</TD>\n",
       "  <TD bgcolor=\"00FFFF\">ובוטח בייי לא יבוש׃</TD>\n",
       "  <TD bgcolor=\"00FFFF\">ובוטח בייי לא יבוש׃</TD>\n",
       " </TR>\n",
       "</TABLE>"
      ],
      "text/plain": [
       "<IPython.core.display.HTML object>"
      ]
     },
     "metadata": {},
     "output_type": "display_data"
    },
    {
     "name": "stdout",
     "output_type": "stream",
     "text": [
      "======= chapter 33 ==========\n",
      "======= verse 2 ==========\n"
     ]
    },
    {
     "data": {
      "text/html": [
       "<TABLE border=\"1\" style=\"border: 1px solid #000000; border-collapse: collapse;\" cellpadding=\"4\">\n",
       " <TR>\n",
       "  <TH>f</TH>\n",
       "  <TH>e</TH>\n",
       "  <TH>b</TH>\n",
       " </TR>\n",
       " <TR>\n",
       "  <TD bgcolor=\"FF0000\">  לא יחכם</TD>\n",
       "  <TD bgcolor=\"FF0000\">  [ ]</TD>\n",
       "  <TD bgcolor=\"FF0000\">  לא יחכם</TD>\n",
       " </TR>\n",
       " <TR>\n",
       "  <TD bgcolor=\"00FFFF\">שונא תורה</TD>\n",
       "  <TD bgcolor=\"00FFFF\">שונא תורה</TD>\n",
       "  <TD bgcolor=\"00FFFF\">שונא תורה</TD>\n",
       " </TR>\n",
       " <TR>\n",
       "  <TD bgcolor=\"FF0000\">∙</TD>\n",
       "  <TD bgcolor=\"FF0000\">׃</TD>\n",
       "  <TD bgcolor=\"FF0000\">-</TD>\n",
       " </TR>\n",
       " <TR>\n",
       "  <TD bgcolor=\"00FFFF\">ומתמוטט</TD>\n",
       "  <TD bgcolor=\"00FFFF\">ומתמוטט</TD>\n",
       "  <TD bgcolor=\"00FFFF\">ומתמוטט</TD>\n",
       " </TR>\n",
       " <TR>\n",
       "  <TD bgcolor=\"FF0000\">כמסערה</TD>\n",
       "  <TD bgcolor=\"FF0000\">כמסערה</TD>\n",
       "  <TD bgcolor=\"FF0000\">כמ֟סערה אני</TD>\n",
       " </TR>\n",
       " <TR>\n",
       "  <TD bgcolor=\"FF0000\">׃</TD>\n",
       "  <TD bgcolor=\"FF0000\">-</TD>\n",
       "  <TD bgcolor=\"FF0000\">׃</TD>\n",
       " </TR>\n",
       "</TABLE>"
      ],
      "text/plain": [
       "<IPython.core.display.HTML object>"
      ]
     },
     "metadata": {},
     "output_type": "display_data"
    },
    {
     "name": "stdout",
     "output_type": "stream",
     "text": [
      "======= chapter 33 ==========\n",
      "======= verse 4 ==========\n"
     ]
    },
    {
     "data": {
      "text/html": [
       "<TABLE border=\"1\" style=\"border: 1px solid #000000; border-collapse: collapse;\" cellpadding=\"4\">\n",
       " <TR>\n",
       "  <TH>f</TH>\n",
       "  <TH>e</TH>\n",
       " </TR>\n",
       " <TR>\n",
       "  <TD bgcolor=\"FF0000\">  הכין אומר</TD>\n",
       "  <TD bgcolor=\"FF0000\">  [ ]ר</TD>\n",
       " </TR>\n",
       " <TR>\n",
       "  <TD bgcolor=\"00FFFF\">ואחר תעשה</TD>\n",
       "  <TD bgcolor=\"00FFFF\">ואחר תעשה</TD>\n",
       " </TR>\n",
       " <TR>\n",
       "  <TD bgcolor=\"FF0000\">∙</TD>\n",
       "  <TD bgcolor=\"FF0000\">׃</TD>\n",
       " </TR>\n",
       " <TR>\n",
       "  <TD bgcolor=\"00FFFF\">ובית מנוח ואחר תגיה</TD>\n",
       "  <TD bgcolor=\"00FFFF\">ובית מנוח ואחר תגיה</TD>\n",
       " </TR>\n",
       " <TR>\n",
       "  <TD bgcolor=\"FF0000\">׃</TD>\n",
       "  <TD bgcolor=\"FF0000\">-</TD>\n",
       " </TR>\n",
       "</TABLE>"
      ],
      "text/plain": [
       "<IPython.core.display.HTML object>"
      ]
     },
     "metadata": {},
     "output_type": "display_data"
    },
    {
     "name": "stdout",
     "output_type": "stream",
     "text": [
      "======= chapter 33 ==========\n",
      "======= verse 5 ==========\n"
     ]
    },
    {
     "data": {
      "text/html": [
       "<TABLE border=\"1\" style=\"border: 1px solid #000000; border-collapse: collapse;\" cellpadding=\"4\">\n",
       " <TR>\n",
       "  <TH>f</TH>\n",
       "  <TH>e</TH>\n",
       " </TR>\n",
       " <TR>\n",
       "  <TD bgcolor=\"FF0000\">  גלגל קל</TD>\n",
       "  <TD bgcolor=\"FF0000\">  [ ]ל</TD>\n",
       " </TR>\n",
       " <TR>\n",
       "  <TD bgcolor=\"00FFFF\">לב נבל</TD>\n",
       "  <TD bgcolor=\"00FFFF\">לב נבל</TD>\n",
       " </TR>\n",
       " <TR>\n",
       "  <TD bgcolor=\"FF0000\">∙</TD>\n",
       "  <TD bgcolor=\"FF0000\">׃</TD>\n",
       " </TR>\n",
       " <TR>\n",
       "  <TD bgcolor=\"00FFFF\">ואופן חוזר מחשבותיו׃</TD>\n",
       "  <TD bgcolor=\"00FFFF\">ואופן חוזר מחשבותיו׃</TD>\n",
       " </TR>\n",
       "</TABLE>"
      ],
      "text/plain": [
       "<IPython.core.display.HTML object>"
      ]
     },
     "metadata": {},
     "output_type": "display_data"
    },
    {
     "name": "stdout",
     "output_type": "stream",
     "text": [
      "======= chapter 33 ==========\n",
      "======= verse 6 ==========\n"
     ]
    },
    {
     "data": {
      "text/html": [
       "<TABLE border=\"1\" style=\"border: 1px solid #000000; border-collapse: collapse;\" cellpadding=\"4\">\n",
       " <TR>\n",
       "  <TH>f</TH>\n",
       "  <TH>e</TH>\n",
       " </TR>\n",
       " <TR>\n",
       "  <TD bgcolor=\"FF0000\">  כסוס מוכן</TD>\n",
       "  <TD bgcolor=\"FF0000\">  [  ]</TD>\n",
       " </TR>\n",
       " <TR>\n",
       "  <TD bgcolor=\"00FFFF\">אוהב שונא</TD>\n",
       "  <TD bgcolor=\"00FFFF\">אוהב שונא</TD>\n",
       " </TR>\n",
       " <TR>\n",
       "  <TD bgcolor=\"FF0000\">∙</TD>\n",
       "  <TD bgcolor=\"FF0000\">׃</TD>\n",
       " </TR>\n",
       " <TR>\n",
       "  <TD bgcolor=\"00FFFF\">תחת כל</TD>\n",
       "  <TD bgcolor=\"00FFFF\">תחת כל</TD>\n",
       " </TR>\n",
       " <TR>\n",
       "  <TD bgcolor=\"FF0000\">אוהב</TD>\n",
       "  <TD bgcolor=\"FF0000\">[ ]</TD>\n",
       " </TR>\n",
       " <TR>\n",
       "  <TD bgcolor=\"00FFFF\">יצהל׃</TD>\n",
       "  <TD bgcolor=\"00FFFF\">יצהל׃</TD>\n",
       " </TR>\n",
       "</TABLE>"
      ],
      "text/plain": [
       "<IPython.core.display.HTML object>"
      ]
     },
     "metadata": {},
     "output_type": "display_data"
    },
    {
     "name": "stdout",
     "output_type": "stream",
     "text": [
      "======= chapter 33 ==========\n",
      "======= verse 7 ==========\n"
     ]
    },
    {
     "data": {
      "text/html": [
       "<TABLE border=\"1\" style=\"border: 1px solid #000000; border-collapse: collapse;\" cellpadding=\"4\">\n",
       " <TR>\n",
       "  <TH>f</TH>\n",
       "  <TH>e</TH>\n",
       " </TR>\n",
       " <TR>\n",
       "  <TD bgcolor=\"FF0000\">  מה על יום</TD>\n",
       "  <TD bgcolor=\"FF0000\">  [ ]ם</TD>\n",
       " </TR>\n",
       " <TR>\n",
       "  <TD bgcolor=\"00FFFF\">יום כי כלו</TD>\n",
       "  <TD bgcolor=\"00FFFF\">יום כי כלו</TD>\n",
       " </TR>\n",
       " <TR>\n",
       "  <TD bgcolor=\"FF0000\">∙</TD>\n",
       "  <TD bgcolor=\"FF0000\">׃</TD>\n",
       " </TR>\n",
       " <TR>\n",
       "  <TD bgcolor=\"00FFFF\">אור</TD>\n",
       "  <TD bgcolor=\"00FFFF\">אור</TD>\n",
       " </TR>\n",
       " <TR>\n",
       "  <TD bgcolor=\"FF0000\">שונה</TD>\n",
       "  <TD bgcolor=\"FF0000\">ש נה</TD>\n",
       " </TR>\n",
       " <TR>\n",
       "  <TD bgcolor=\"00FFFF\">על שמש׃</TD>\n",
       "  <TD bgcolor=\"00FFFF\">על שמש׃</TD>\n",
       " </TR>\n",
       "</TABLE>"
      ],
      "text/plain": [
       "<IPython.core.display.HTML object>"
      ]
     },
     "metadata": {},
     "output_type": "display_data"
    },
    {
     "name": "stdout",
     "output_type": "stream",
     "text": [
      "======= chapter 33 ==========\n",
      "======= verse 8 ==========\n"
     ]
    },
    {
     "data": {
      "text/html": [
       "<TABLE border=\"1\" style=\"border: 1px solid #000000; border-collapse: collapse;\" cellpadding=\"4\">\n",
       " <TR>\n",
       "  <TH>f</TH>\n",
       "  <TH>e</TH>\n",
       " </TR>\n",
       " <TR>\n",
       "  <TD bgcolor=\"FF0000\">  אבל</TD>\n",
       "  <TD bgcolor=\"FF0000\">  [ ̶ ̶ ̶]מ̶ת̶</TD>\n",
       " </TR>\n",
       " <TR>\n",
       "  <TD bgcolor=\"00FFFF\">בחכמת ייי נשפטו</TD>\n",
       "  <TD bgcolor=\"00FFFF\">בחכמת ייי נשפטו</TD>\n",
       " </TR>\n",
       " <TR>\n",
       "  <TD bgcolor=\"FF0000\">∙</TD>\n",
       "  <TD bgcolor=\"FF0000\">-</TD>\n",
       " </TR>\n",
       " <TR>\n",
       "  <TD bgcolor=\"00FFFF\">ויש מהם</TD>\n",
       "  <TD bgcolor=\"00FFFF\">ויש מהם</TD>\n",
       " </TR>\n",
       " <TR>\n",
       "  <TD bgcolor=\"FF0000\">מוע[      ]</TD>\n",
       "  <TD bgcolor=\"FF0000\">מועד׃</TD>\n",
       " </TR>\n",
       "</TABLE>"
      ],
      "text/plain": [
       "<IPython.core.display.HTML object>"
      ]
     },
     "metadata": {},
     "output_type": "display_data"
    },
    {
     "name": "stdout",
     "output_type": "stream",
     "text": [
      "======= chapter 36 ==========\n",
      "======= verse 29 ==========\n"
     ]
    },
    {
     "data": {
      "text/html": [
       "<TABLE border=\"1\" style=\"border: 1px solid #000000; border-collapse: collapse;\" cellpadding=\"4\">\n",
       " <TR>\n",
       "  <TH>d</TH>\n",
       "  <TH>b</TH>\n",
       " </TR>\n",
       " <TR>\n",
       "  <TD bgcolor=\"00FFFF\">&nbsp;</TD>\n",
       "  <TD bgcolor=\"00FFFF\">&nbsp;</TD>\n",
       " </TR>\n",
       " <TR>\n",
       "  <TD bgcolor=\"FF0000\">קנה</TD>\n",
       "  <TD bgcolor=\"FF0000\">קנ֟ה</TD>\n",
       " </TR>\n",
       " <TR>\n",
       "  <TD bgcolor=\"00FFFF\">אשה ראשית קנין</TD>\n",
       "  <TD bgcolor=\"00FFFF\">אשה ראשית קנין</TD>\n",
       " </TR>\n",
       " <TR>\n",
       "  <TD bgcolor=\"FF0000\">עיר מבצר</TD>\n",
       "  <TD bgcolor=\"FF0000\">עזר ֟ומבצר</TD>\n",
       " </TR>\n",
       " <TR>\n",
       "  <TD bgcolor=\"00FFFF\">ועמוד משען׃</TD>\n",
       "  <TD bgcolor=\"00FFFF\">ועמוד משען׃</TD>\n",
       " </TR>\n",
       "</TABLE>"
      ],
      "text/plain": [
       "<IPython.core.display.HTML object>"
      ]
     },
     "metadata": {},
     "output_type": "display_data"
    },
    {
     "name": "stdout",
     "output_type": "stream",
     "text": [
      "======= chapter 36 ==========\n",
      "======= verse 30 ==========\n"
     ]
    },
    {
     "data": {
      "text/html": [
       "<TABLE border=\"1\" style=\"border: 1px solid #000000; border-collapse: collapse;\" cellpadding=\"4\">\n",
       " <TR>\n",
       "  <TH>d</TH>\n",
       "  <TH>b</TH>\n",
       " </TR>\n",
       " <TR>\n",
       "  <TD bgcolor=\"00FFFF\">  באין</TD>\n",
       "  <TD bgcolor=\"00FFFF\">  באין</TD>\n",
       " </TR>\n",
       " <TR>\n",
       "  <TD bgcolor=\"FF0000\">גדר יבער</TD>\n",
       "  <TD bgcolor=\"FF0000\">גדיר יבוער</TD>\n",
       " </TR>\n",
       " <TR>\n",
       "  <TD bgcolor=\"00FFFF\">כרם     ובאין אשה נע\n",
       "ונד׃</TD>\n",
       "  <TD bgcolor=\"00FFFF\">כרם     ובאין אשה נע\n",
       "ונד׃</TD>\n",
       " </TR>\n",
       "</TABLE>"
      ],
      "text/plain": [
       "<IPython.core.display.HTML object>"
      ]
     },
     "metadata": {},
     "output_type": "display_data"
    },
    {
     "name": "stdout",
     "output_type": "stream",
     "text": [
      "======= chapter 36 ==========\n",
      "======= verse 31 ==========\n"
     ]
    },
    {
     "data": {
      "text/html": [
       "<TABLE border=\"1\" style=\"border: 1px solid #000000; border-collapse: collapse;\" cellpadding=\"4\">\n",
       " <TR>\n",
       "  <TH>d</TH>\n",
       "  <TH>b</TH>\n",
       " </TR>\n",
       " <TR>\n",
       "  <TD bgcolor=\"00FFFF\">  מי יאמין  בגדוד\n",
       "צבא   המדלג מעיר אל\n",
       "עיר׃</TD>\n",
       "  <TD bgcolor=\"00FFFF\">  מי יאמין בגדוד\n",
       "צבא    המדלג מעיר אל\n",
       "עיר׃</TD>\n",
       " </TR>\n",
       "</TABLE>"
      ],
      "text/plain": [
       "<IPython.core.display.HTML object>"
      ]
     },
     "metadata": {},
     "output_type": "display_data"
    },
    {
     "name": "stdout",
     "output_type": "stream",
     "text": [
      "======= chapter 36 ==========\n",
      "======= verse  ==========\n"
     ]
    },
    {
     "data": {
      "text/html": [
       "<TABLE border=\"1\" style=\"border: 1px solid #000000; border-collapse: collapse;\" cellpadding=\"4\">\n",
       " <TR>\n",
       "  <TH>d</TH>\n",
       "  <TH>b</TH>\n",
       " </TR>\n",
       " <TR>\n",
       "  <TD bgcolor=\"00FFFF\">  כן איש אשר</TD>\n",
       "  <TD bgcolor=\"00FFFF\">  כן איש אשר</TD>\n",
       " </TR>\n",
       " <TR>\n",
       "  <TD bgcolor=\"FF0000\">אין לו</TD>\n",
       "  <TD bgcolor=\"FF0000\">֟לא</TD>\n",
       " </TR>\n",
       " <TR>\n",
       "  <TD bgcolor=\"00FFFF\">קן      המרגיע באשר\n",
       "יערב׃</TD>\n",
       "  <TD bgcolor=\"00FFFF\">קן      המרגיע באשר\n",
       "יערב׃</TD>\n",
       " </TR>\n",
       "</TABLE>"
      ],
      "text/plain": [
       "<IPython.core.display.HTML object>"
      ]
     },
     "metadata": {},
     "output_type": "display_data"
    },
    {
     "name": "stdout",
     "output_type": "stream",
     "text": [
      "======= chapter 37 ==========\n",
      "======= verse 3 ==========\n"
     ]
    },
    {
     "data": {
      "text/html": [
       "<TABLE border=\"1\" style=\"border: 1px solid #000000; border-collapse: collapse;\" cellpadding=\"4\">\n",
       " <TR>\n",
       "  <TH>d</TH>\n",
       "  <TH>b</TH>\n",
       " </TR>\n",
       " <TR>\n",
       "  <TD bgcolor=\"00FFFF\">&nbsp;</TD>\n",
       "  <TD bgcolor=\"00FFFF\">&nbsp;</TD>\n",
       " </TR>\n",
       " <TR>\n",
       "  <TD bgcolor=\"FF0000\">הוֹי רַ֭ע יֹאמַ֥ר</TD>\n",
       "  <TD bgcolor=\"FF0000\">היו ֟רע שא֟מר</TD>\n",
       " </TR>\n",
       " <TR>\n",
       "  <TD bgcolor=\"00FFFF\">מדוע</TD>\n",
       "  <TD bgcolor=\"00FFFF\">מדוע</TD>\n",
       " </TR>\n",
       " <TR>\n",
       "  <TD bgcolor=\"FF0000\">נוצָ֑רתי\n",
       "לְמַלֵּא֤ ׀ פְנֵי֭\n",
       "תֵבֵֿל֥ תַּרְמִיֽת</TD>\n",
       "  <TD bgcolor=\"FF0000\">כן נו֟צרתי      למלא\n",
       "פני תבל תרמית</TD>\n",
       " </TR>\n",
       " <TR>\n",
       "  <TD bgcolor=\"00FFFF\">׃</TD>\n",
       "  <TD bgcolor=\"00FFFF\">׃</TD>\n",
       " </TR>\n",
       "</TABLE>"
      ],
      "text/plain": [
       "<IPython.core.display.HTML object>"
      ]
     },
     "metadata": {},
     "output_type": "display_data"
    },
    {
     "name": "stdout",
     "output_type": "stream",
     "text": [
      "======= chapter 37 ==========\n",
      "======= verse 6 ==========\n"
     ]
    },
    {
     "data": {
      "text/html": [
       "<TABLE border=\"1\" style=\"border: 1px solid #000000; border-collapse: collapse;\" cellpadding=\"4\">\n",
       " <TR>\n",
       "  <TH>d</TH>\n",
       "  <TH>b</TH>\n",
       " </TR>\n",
       " <TR>\n",
       "  <TD bgcolor=\"00FFFF\">&nbsp;</TD>\n",
       "  <TD bgcolor=\"00FFFF\">&nbsp;</TD>\n",
       " </TR>\n",
       " <TR>\n",
       "  <TD bgcolor=\"FF0000\">אל תשכח חבר בֶקֶרֶב</TD>\n",
       "  <TD bgcolor=\"FF0000\">א֟ל תשכח חביר בק֟רב</TD>\n",
       " </TR>\n",
       " <TR>\n",
       "  <TD bgcolor=\"00FFFF\">ואל תעזבהו בשללך׃</TD>\n",
       "  <TD bgcolor=\"00FFFF\">ואל תעזבהו בשללך׃</TD>\n",
       " </TR>\n",
       "</TABLE>"
      ],
      "text/plain": [
       "<IPython.core.display.HTML object>"
      ]
     },
     "metadata": {},
     "output_type": "display_data"
    },
    {
     "name": "stdout",
     "output_type": "stream",
     "text": [
      "======= chapter 37 ==========\n",
      "======= verse 7 ==========\n"
     ]
    },
    {
     "data": {
      "text/html": [
       "<TABLE border=\"1\" style=\"border: 1px solid #000000; border-collapse: collapse;\" cellpadding=\"4\">\n",
       " <TR>\n",
       "  <TH>d</TH>\n",
       "  <TH>b</TH>\n",
       " </TR>\n",
       " <TR>\n",
       "  <TD bgcolor=\"00FFFF\">  כל  יועץ</TD>\n",
       "  <TD bgcolor=\"00FFFF\">  כל יועץ</TD>\n",
       " </TR>\n",
       " <TR>\n",
       "  <TD bgcolor=\"FF0000\">אומר חזה</TD>\n",
       "  <TD bgcolor=\"FF0000\">יניף יד</TD>\n",
       " </TR>\n",
       " <TR>\n",
       "  <TD bgcolor=\"00FFFF\">אך יש יועץ דרך</TD>\n",
       "  <TD bgcolor=\"00FFFF\">אך יש יועץ דרך</TD>\n",
       " </TR>\n",
       " <TR>\n",
       "  <TD bgcolor=\"FF0000\">עליו</TD>\n",
       "  <TD bgcolor=\"FF0000\">אל לץ</TD>\n",
       " </TR>\n",
       " <TR>\n",
       "  <TD bgcolor=\"00FFFF\">׃</TD>\n",
       "  <TD bgcolor=\"00FFFF\">׃</TD>\n",
       " </TR>\n",
       "</TABLE>"
      ],
      "text/plain": [
       "<IPython.core.display.HTML object>"
      ]
     },
     "metadata": {},
     "output_type": "display_data"
    },
    {
     "name": "stdout",
     "output_type": "stream",
     "text": [
      "======= chapter 37 ==========\n",
      "======= verse 8 ==========\n"
     ]
    },
    {
     "data": {
      "text/html": [
       "<TABLE border=\"1\" style=\"border: 1px solid #000000; border-collapse: collapse;\" cellpadding=\"4\">\n",
       " <TR>\n",
       "  <TH>d</TH>\n",
       "  <TH>b</TH>\n",
       " </TR>\n",
       " <TR>\n",
       "  <TD bgcolor=\"00FFFF\">&nbsp;</TD>\n",
       "  <TD bgcolor=\"00FFFF\">&nbsp;</TD>\n",
       " </TR>\n",
       " <TR>\n",
       "  <TD bgcolor=\"FF0000\">מיועץ  שמר נפ{ש} ך</TD>\n",
       "  <TD bgcolor=\"FF0000\">מיו֟עץ שמור נפשך</TD>\n",
       " </TR>\n",
       " <TR>\n",
       "  <TD bgcolor=\"00FFFF\">ודע לפנים מה</TD>\n",
       "  <TD bgcolor=\"00FFFF\">ודע לפנים מה</TD>\n",
       " </TR>\n",
       " <TR>\n",
       "  <TD bgcolor=\"FF0000\">צרכו</TD>\n",
       "  <TD bgcolor=\"FF0000\">צורכו</TD>\n",
       " </TR>\n",
       " <TR>\n",
       "  <TD bgcolor=\"00FFFF\">׃</TD>\n",
       "  <TD bgcolor=\"00FFFF\">׃</TD>\n",
       " </TR>\n",
       "</TABLE>"
      ],
      "text/plain": [
       "<IPython.core.display.HTML object>"
      ]
     },
     "metadata": {},
     "output_type": "display_data"
    },
    {
     "name": "stdout",
     "output_type": "stream",
     "text": [
      "======= chapter 37 ==========\n",
      "======= verse  ==========\n"
     ]
    },
    {
     "data": {
      "text/html": [
       "<TABLE border=\"1\" style=\"border: 1px solid #000000; border-collapse: collapse;\" cellpadding=\"4\">\n",
       " <TR>\n",
       "  <TH>d</TH>\n",
       "  <TH>b</TH>\n",
       " </TR>\n",
       " <TR>\n",
       "  <TD bgcolor=\"00FFFF\">&nbsp;</TD>\n",
       "  <TD bgcolor=\"00FFFF\">&nbsp;</TD>\n",
       " </TR>\n",
       " <TR>\n",
       "  <TD bgcolor=\"FF0000\">ויש חכם לעמו יכחם\n",
       "פרי  דעתו בגויתם׃</TD>\n",
       "  <TD bgcolor=\"FF0000\">-</TD>\n",
       " </TR>\n",
       "</TABLE>"
      ],
      "text/plain": [
       "<IPython.core.display.HTML object>"
      ]
     },
     "metadata": {},
     "output_type": "display_data"
    },
    {
     "name": "stdout",
     "output_type": "stream",
     "text": [
      "======= chapter 37 ==========\n",
      "======= verse 9 ==========\n"
     ]
    },
    {
     "data": {
      "text/html": [
       "<TABLE border=\"1\" style=\"border: 1px solid #000000; border-collapse: collapse;\" cellpadding=\"4\">\n",
       " <TR>\n",
       "  <TH>d</TH>\n",
       "  <TH>b</TH>\n",
       " </TR>\n",
       " <TR>\n",
       "  <TD bgcolor=\"FF0000\">  ויאמר</TD>\n",
       "  <TD bgcolor=\"FF0000\">  [ ]</TD>\n",
       " </TR>\n",
       " <TR>\n",
       "  <TD bgcolor=\"00FFFF\">לך</TD>\n",
       "  <TD bgcolor=\"00FFFF\">לך</TD>\n",
       " </TR>\n",
       " <TR>\n",
       "  <TD bgcolor=\"FF0000\">להביט  דרכיך</TD>\n",
       "  <TD bgcolor=\"FF0000\">מטוב דרכך</TD>\n",
       " </TR>\n",
       " <TR>\n",
       "  <TD bgcolor=\"00FFFF\">וקם מנגד להביט</TD>\n",
       "  <TD bgcolor=\"00FFFF\">וקם מנגד להביט</TD>\n",
       " </TR>\n",
       " <TR>\n",
       "  <TD bgcolor=\"FF0000\">ראשך</TD>\n",
       "  <TD bgcolor=\"FF0000\">רישך</TD>\n",
       " </TR>\n",
       " <TR>\n",
       "  <TD bgcolor=\"00FFFF\">׃</TD>\n",
       "  <TD bgcolor=\"00FFFF\">׃</TD>\n",
       " </TR>\n",
       "</TABLE>"
      ],
      "text/plain": [
       "<IPython.core.display.HTML object>"
      ]
     },
     "metadata": {},
     "output_type": "display_data"
    },
    {
     "name": "stdout",
     "output_type": "stream",
     "text": [
      "======= chapter 37 ==========\n",
      "======= verse 10 ==========\n"
     ]
    },
    {
     "data": {
      "text/html": [
       "<TABLE border=\"1\" style=\"border: 1px solid #000000; border-collapse: collapse;\" cellpadding=\"4\">\n",
       " <TR>\n",
       "  <TH>d</TH>\n",
       "  <TH>b</TH>\n",
       " </TR>\n",
       " <TR>\n",
       "  <TD bgcolor=\"FF0000\">  אל תועץ עם  חמיך\n",
       "וממקנא העלים סוד׃</TD>\n",
       "  <TD bgcolor=\"FF0000\">  [           ֟\n",
       "֟     ] [\n",
       "]</TD>\n",
       " </TR>\n",
       "</TABLE>"
      ],
      "text/plain": [
       "<IPython.core.display.HTML object>"
      ]
     },
     "metadata": {},
     "output_type": "display_data"
    },
    {
     "name": "stdout",
     "output_type": "stream",
     "text": [
      "======= chapter 37 ==========\n",
      "======= verse 11ab ==========\n"
     ]
    },
    {
     "data": {
      "text/html": [
       "<TABLE border=\"1\" style=\"border: 1px solid #000000; border-collapse: collapse;\" cellpadding=\"4\">\n",
       " <TR>\n",
       "  <TH>d</TH>\n",
       "  <TH>b</TH>\n",
       " </TR>\n",
       " <TR>\n",
       "  <TD bgcolor=\"00FFFF\">  עם אשה</TD>\n",
       "  <TD bgcolor=\"00FFFF\">  עם אשה</TD>\n",
       " </TR>\n",
       " <TR>\n",
       "  <TD bgcolor=\"FF0000\">אל</TD>\n",
       "  <TD bgcolor=\"FF0000\">ע֟ל</TD>\n",
       " </TR>\n",
       " <TR>\n",
       "  <TD bgcolor=\"00FFFF\">צרתה</TD>\n",
       "  <TD bgcolor=\"00FFFF\">צרתה</TD>\n",
       " </TR>\n",
       " <TR>\n",
       "  <TD bgcolor=\"FF0000\">ומלוכד על מלחמה</TD>\n",
       "  <TD bgcolor=\"FF0000\">ומד֟ר אל מלחמתו</TD>\n",
       " </TR>\n",
       " <TR>\n",
       "  <TD bgcolor=\"00FFFF\">׃</TD>\n",
       "  <TD bgcolor=\"00FFFF\">׃</TD>\n",
       " </TR>\n",
       "</TABLE>"
      ],
      "text/plain": [
       "<IPython.core.display.HTML object>"
      ]
     },
     "metadata": {},
     "output_type": "display_data"
    },
    {
     "name": "stdout",
     "output_type": "stream",
     "text": [
      "======= chapter 37 ==========\n",
      "======= verse 11cd ==========\n"
     ]
    },
    {
     "data": {
      "text/html": [
       "<TABLE border=\"1\" style=\"border: 1px solid #000000; border-collapse: collapse;\" cellpadding=\"4\">\n",
       " <TR>\n",
       "  <TH>d</TH>\n",
       "  <TH>b</TH>\n",
       " </TR>\n",
       " <TR>\n",
       "  <TD bgcolor=\"00FFFF\">  עם סוחר אל תתגר</TD>\n",
       "  <TD bgcolor=\"00FFFF\">  עם סוחר אל תתגר</TD>\n",
       " </TR>\n",
       " <TR>\n",
       "  <TD bgcolor=\"FF0000\">ומקונה</TD>\n",
       "  <TD bgcolor=\"FF0000\">וממק֟נה</TD>\n",
       " </TR>\n",
       " <TR>\n",
       "  <TD bgcolor=\"00FFFF\">על</TD>\n",
       "  <TD bgcolor=\"00FFFF\">על</TD>\n",
       " </TR>\n",
       " <TR>\n",
       "  <TD bgcolor=\"FF0000\">ממכרו</TD>\n",
       "  <TD bgcolor=\"FF0000\">ממכר</TD>\n",
       " </TR>\n",
       " <TR>\n",
       "  <TD bgcolor=\"00FFFF\">׃</TD>\n",
       "  <TD bgcolor=\"00FFFF\">׃</TD>\n",
       " </TR>\n",
       "</TABLE>"
      ],
      "text/plain": [
       "<IPython.core.display.HTML object>"
      ]
     },
     "metadata": {},
     "output_type": "display_data"
    },
    {
     "name": "stdout",
     "output_type": "stream",
     "text": [
      "======= chapter 37 ==========\n",
      "======= verse 11ef ==========\n"
     ]
    },
    {
     "data": {
      "text/html": [
       "<TABLE border=\"1\" style=\"border: 1px solid #000000; border-collapse: collapse;\" cellpadding=\"4\">\n",
       " <TR>\n",
       "  <TH>d</TH>\n",
       "  <TH>b</TH>\n",
       " </TR>\n",
       " <TR>\n",
       "  <TD bgcolor=\"00FFFF\">  עם איש רע</TD>\n",
       "  <TD bgcolor=\"00FFFF\">  עם איש רע</TD>\n",
       " </TR>\n",
       " <TR>\n",
       "  <TD bgcolor=\"FF0000\">על גמילות</TD>\n",
       "  <TD bgcolor=\"FF0000\">אל ֟תגמל</TD>\n",
       " </TR>\n",
       " <TR>\n",
       "  <TD bgcolor=\"00FFFF\">חסד      ואכזרי על\n",
       "טוב בשר׃</TD>\n",
       "  <TD bgcolor=\"00FFFF\">חסד     ואכזרי על\n",
       "טוב בשר׃</TD>\n",
       " </TR>\n",
       "</TABLE>"
      ],
      "text/plain": [
       "<IPython.core.display.HTML object>"
      ]
     },
     "metadata": {},
     "output_type": "display_data"
    },
    {
     "name": "stdout",
     "output_type": "stream",
     "text": [
      "======= chapter 37 ==========\n",
      "======= verse 11gh ==========\n"
     ]
    },
    {
     "data": {
      "text/html": [
       "<TABLE border=\"1\" style=\"border: 1px solid #000000; border-collapse: collapse;\" cellpadding=\"4\">\n",
       " <TR>\n",
       "  <TH>d</TH>\n",
       "  <TH>b</TH>\n",
       " </TR>\n",
       " <TR>\n",
       "  <TD bgcolor=\"00FFFF\">  פועל</TD>\n",
       "  <TD bgcolor=\"00FFFF\">  פועל</TD>\n",
       " </TR>\n",
       " <TR>\n",
       "  <TD bgcolor=\"FF0000\">שכיר</TD>\n",
       "  <TD bgcolor=\"FF0000\">שוא</TD>\n",
       " </TR>\n",
       " <TR>\n",
       "  <TD bgcolor=\"00FFFF\">על</TD>\n",
       "  <TD bgcolor=\"00FFFF\">על</TD>\n",
       " </TR>\n",
       " <TR>\n",
       "  <TD bgcolor=\"FF0000\">מלאכת[ו]\n",
       "שכיר שנה</TD>\n",
       "  <TD bgcolor=\"FF0000\">מלאכתו  שומר שוא</TD>\n",
       " </TR>\n",
       " <TR>\n",
       "  <TD bgcolor=\"00FFFF\">על</TD>\n",
       "  <TD bgcolor=\"00FFFF\">על</TD>\n",
       " </TR>\n",
       " <TR>\n",
       "  <TD bgcolor=\"FF0000\">מוצא זרע</TD>\n",
       "  <TD bgcolor=\"FF0000\">מוציא רע</TD>\n",
       " </TR>\n",
       " <TR>\n",
       "  <TD bgcolor=\"00FFFF\">׃</TD>\n",
       "  <TD bgcolor=\"00FFFF\">׃</TD>\n",
       " </TR>\n",
       "</TABLE>"
      ],
      "text/plain": [
       "<IPython.core.display.HTML object>"
      ]
     },
     "metadata": {},
     "output_type": "display_data"
    },
    {
     "name": "stdout",
     "output_type": "stream",
     "text": [
      "======= chapter 37 ==========\n",
      "======= verse 12 ==========\n"
     ]
    },
    {
     "data": {
      "text/html": [
       "<TABLE border=\"1\" style=\"border: 1px solid #000000; border-collapse: collapse;\" cellpadding=\"4\">\n",
       " <TR>\n",
       "  <TH>d</TH>\n",
       "  <TH>b</TH>\n",
       " </TR>\n",
       " <TR>\n",
       "  <TD bgcolor=\"00FFFF\">  אך אם</TD>\n",
       "  <TD bgcolor=\"00FFFF\">  אך אם</TD>\n",
       " </TR>\n",
       " <TR>\n",
       "  <TD bgcolor=\"FF0000\">איש</TD>\n",
       "  <TD bgcolor=\"FF0000\">יש֟</TD>\n",
       " </TR>\n",
       " <TR>\n",
       "  <TD bgcolor=\"00FFFF\">מפחד  תמיד       אשר</TD>\n",
       "  <TD bgcolor=\"00FFFF\">מפחד תמיד       אשר</TD>\n",
       " </TR>\n",
       " <TR>\n",
       "  <TD bgcolor=\"FF0000\">-</TD>\n",
       "  <TD bgcolor=\"FF0000\">֟</TD>\n",
       " </TR>\n",
       " <TR>\n",
       "  <TD bgcolor=\"00FFFF\">תדע שומר מצוה׃</TD>\n",
       "  <TD bgcolor=\"00FFFF\">תדע שומר מצוה׃</TD>\n",
       " </TR>\n",
       "</TABLE>"
      ],
      "text/plain": [
       "<IPython.core.display.HTML object>"
      ]
     },
     "metadata": {},
     "output_type": "display_data"
    },
    {
     "name": "stdout",
     "output_type": "stream",
     "text": [
      "======= chapter 37 ==========\n",
      "======= verse 13 ==========\n"
     ]
    },
    {
     "data": {
      "text/html": [
       "<TABLE border=\"1\" style=\"border: 1px solid #000000; border-collapse: collapse;\" cellpadding=\"4\">\n",
       " <TR>\n",
       "  <TH>d</TH>\n",
       "  <TH>b</TH>\n",
       " </TR>\n",
       " <TR>\n",
       "  <TD bgcolor=\"00FFFF\">  וגם עצת</TD>\n",
       "  <TD bgcolor=\"00FFFF\">  וגם עצת</TD>\n",
       " </TR>\n",
       " <TR>\n",
       "  <TD bgcolor=\"FF0000\">לבבו כך כי אם  אמון</TD>\n",
       "  <TD bgcolor=\"FF0000\">לבב הבין        מי\n",
       "יאמין לך אמן</TD>\n",
       " </TR>\n",
       " <TR>\n",
       "  <TD bgcolor=\"00FFFF\">ממנו׃</TD>\n",
       "  <TD bgcolor=\"00FFFF\">ממנו׃</TD>\n",
       " </TR>\n",
       "</TABLE>"
      ],
      "text/plain": [
       "<IPython.core.display.HTML object>"
      ]
     },
     "metadata": {},
     "output_type": "display_data"
    },
    {
     "name": "stdout",
     "output_type": "stream",
     "text": [
      "======= chapter 37 ==========\n",
      "======= verse 14 ==========\n"
     ]
    },
    {
     "data": {
      "text/html": [
       "<TABLE border=\"1\" style=\"border: 1px solid #000000; border-collapse: collapse;\" cellpadding=\"4\">\n",
       " <TR>\n",
       "  <TH>d</TH>\n",
       "  <TH>b</TH>\n",
       " </TR>\n",
       " <TR>\n",
       "  <TD bgcolor=\"00FFFF\">  לב אנוש</TD>\n",
       "  <TD bgcolor=\"00FFFF\">  לב אנוש</TD>\n",
       " </TR>\n",
       " <TR>\n",
       "  <TD bgcolor=\"FF0000\">מגיד</TD>\n",
       "  <TD bgcolor=\"FF0000\">יג֟יד</TD>\n",
       " </TR>\n",
       " <TR>\n",
       "  <TD bgcolor=\"00FFFF\">שעיותיו משבעה</TD>\n",
       "  <TD bgcolor=\"00FFFF\">שעיותיו משבעה</TD>\n",
       " </TR>\n",
       " <TR>\n",
       "  <TD bgcolor=\"FF0000\">צפים</TD>\n",
       "  <TD bgcolor=\"FF0000\">֟צופים</TD>\n",
       " </TR>\n",
       " <TR>\n",
       "  <TD bgcolor=\"00FFFF\">על</TD>\n",
       "  <TD bgcolor=\"00FFFF\">על</TD>\n",
       " </TR>\n",
       " <TR>\n",
       "  <TD bgcolor=\"FF0000\">שן</TD>\n",
       "  <TD bgcolor=\"FF0000\">מצ֟פה</TD>\n",
       " </TR>\n",
       " <TR>\n",
       "  <TD bgcolor=\"00FFFF\">׃</TD>\n",
       "  <TD bgcolor=\"00FFFF\">׃</TD>\n",
       " </TR>\n",
       "</TABLE>"
      ],
      "text/plain": [
       "<IPython.core.display.HTML object>"
      ]
     },
     "metadata": {},
     "output_type": "display_data"
    },
    {
     "name": "stdout",
     "output_type": "stream",
     "text": [
      "======= chapter 37 ==========\n",
      "======= verse 15 ==========\n"
     ]
    },
    {
     "data": {
      "text/html": [
       "<TABLE border=\"1\" style=\"border: 1px solid #000000; border-collapse: collapse;\" cellpadding=\"4\">\n",
       " <TR>\n",
       "  <TH>d</TH>\n",
       "  <TH>b</TH>\n",
       " </TR>\n",
       " <TR>\n",
       "  <TD bgcolor=\"00FFFF\">&nbsp;</TD>\n",
       "  <TD bgcolor=\"00FFFF\">&nbsp;</TD>\n",
       " </TR>\n",
       " <TR>\n",
       "  <TD bgcolor=\"FF0000\">ועִם כל</TD>\n",
       "  <TD bgcolor=\"FF0000\">ועם כ֟ל</TD>\n",
       " </TR>\n",
       " <TR>\n",
       "  <TD bgcolor=\"00FFFF\">אלה</TD>\n",
       "  <TD bgcolor=\"00FFFF\">אלה</TD>\n",
       " </TR>\n",
       " <TR>\n",
       "  <TD bgcolor=\"FF0000\">העתר</TD>\n",
       "  <TD bgcolor=\"FF0000\">ע֟תר אל</TD>\n",
       " </TR>\n",
       " <TR>\n",
       "  <TD bgcolor=\"00FFFF\">אל</TD>\n",
       "  <TD bgcolor=\"00FFFF\">אל</TD>\n",
       " </TR>\n",
       " <TR>\n",
       "  <TD bgcolor=\"FF0000\">אֵל</TD>\n",
       "  <TD bgcolor=\"FF0000\">-</TD>\n",
       " </TR>\n",
       " <TR>\n",
       "  <TD bgcolor=\"00FFFF\">אשר יכין באמת</TD>\n",
       "  <TD bgcolor=\"00FFFF\">אשר יכין באמת</TD>\n",
       " </TR>\n",
       " <TR>\n",
       "  <TD bgcolor=\"FF0000\">צעדך</TD>\n",
       "  <TD bgcolor=\"FF0000\">צעדיך</TD>\n",
       " </TR>\n",
       " <TR>\n",
       "  <TD bgcolor=\"00FFFF\">׃</TD>\n",
       "  <TD bgcolor=\"00FFFF\">׃</TD>\n",
       " </TR>\n",
       "</TABLE>"
      ],
      "text/plain": [
       "<IPython.core.display.HTML object>"
      ]
     },
     "metadata": {},
     "output_type": "display_data"
    },
    {
     "name": "stdout",
     "output_type": "stream",
     "text": [
      "======= chapter 37 ==========\n",
      "======= verse 16 ==========\n"
     ]
    },
    {
     "data": {
      "text/html": [
       "<TABLE border=\"1\" style=\"border: 1px solid #000000; border-collapse: collapse;\" cellpadding=\"4\">\n",
       " <TR>\n",
       "  <TH>d</TH>\n",
       "  <TH>b</TH>\n",
       " </TR>\n",
       " <TR>\n",
       "  <TD bgcolor=\"00FFFF\">  ראש כל מעשה</TD>\n",
       "  <TD bgcolor=\"00FFFF\">  ראש כל מעשה</TD>\n",
       " </TR>\n",
       " <TR>\n",
       "  <TD bgcolor=\"FF0000\">מאמר     לפני</TD>\n",
       "  <TD bgcolor=\"FF0000\">דבר     וראש</TD>\n",
       " </TR>\n",
       " <TR>\n",
       "  <TD bgcolor=\"00FFFF\">כל</TD>\n",
       "  <TD bgcolor=\"00FFFF\">כל</TD>\n",
       " </TR>\n",
       " <TR>\n",
       "  <TD bgcolor=\"FF0000\">פעל</TD>\n",
       "  <TD bgcolor=\"FF0000\">פועל</TD>\n",
       " </TR>\n",
       " <TR>\n",
       "  <TD bgcolor=\"00FFFF\">היא מחשבת</TD>\n",
       "  <TD bgcolor=\"00FFFF\">היא מחשבת</TD>\n",
       " </TR>\n",
       " <TR>\n",
       "  <TD bgcolor=\"FF0000\">׃</TD>\n",
       "  <TD bgcolor=\"FF0000\">-</TD>\n",
       " </TR>\n",
       "</TABLE>"
      ],
      "text/plain": [
       "<IPython.core.display.HTML object>"
      ]
     },
     "metadata": {},
     "output_type": "display_data"
    },
    {
     "name": "stdout",
     "output_type": "stream",
     "text": [
      "======= chapter 37 ==========\n",
      "======= verse 17/18 ==========\n"
     ]
    },
    {
     "data": {
      "text/html": [
       "<TABLE border=\"1\" style=\"border: 1px solid #000000; border-collapse: collapse;\" cellpadding=\"4\">\n",
       " <TR>\n",
       "  <TH>d</TH>\n",
       "  <TH>b</TH>\n",
       " </TR>\n",
       " <TR>\n",
       "  <TD bgcolor=\"00FFFF\">&nbsp;</TD>\n",
       "  <TD bgcolor=\"00FFFF\">&nbsp;</TD>\n",
       " </TR>\n",
       " <TR>\n",
       "  <TD bgcolor=\"FF0000\">עקר</TD>\n",
       "  <TD bgcolor=\"FF0000\">עק֟רת</TD>\n",
       " </TR>\n",
       " <TR>\n",
       "  <TD bgcolor=\"00FFFF\">תחבולות  לבב\n",
       "ארבעה</TD>\n",
       "  <TD bgcolor=\"00FFFF\">תחבולות לבב\n",
       "ארבעה</TD>\n",
       " </TR>\n",
       " <TR>\n",
       "  <TD bgcolor=\"FF0000\">שרביטים יפריח</TD>\n",
       "  <TD bgcolor=\"FF0000\">שבט֟ים יפריחו</TD>\n",
       " </TR>\n",
       " <TR>\n",
       "  <TD bgcolor=\"00FFFF\">׃</TD>\n",
       "  <TD bgcolor=\"00FFFF\">׃</TD>\n",
       " </TR>\n",
       "</TABLE>"
      ],
      "text/plain": [
       "<IPython.core.display.HTML object>"
      ]
     },
     "metadata": {},
     "output_type": "display_data"
    },
    {
     "name": "stdout",
     "output_type": "stream",
     "text": [
      "======= chapter 37 ==========\n",
      "======= verse 19 ==========\n"
     ]
    },
    {
     "data": {
      "text/html": [
       "<TABLE border=\"1\" style=\"border: 1px solid #000000; border-collapse: collapse;\" cellpadding=\"4\">\n",
       " <TR>\n",
       "  <TH>d</TH>\n",
       "  <TH>b</TH>\n",
       " </TR>\n",
       " <TR>\n",
       "  <TD bgcolor=\"00FFFF\">  יש חכם</TD>\n",
       "  <TD bgcolor=\"00FFFF\">  יש חכם</TD>\n",
       " </TR>\n",
       " <TR>\n",
       "  <TD bgcolor=\"FF0000\">לרביﬦ</TD>\n",
       "  <TD bgcolor=\"FF0000\">לרבים</TD>\n",
       " </TR>\n",
       " <TR>\n",
       "  <TD bgcolor=\"00FFFF\">נחכם    ולנפשו הוא</TD>\n",
       "  <TD bgcolor=\"00FFFF\">נחכם    ולנפשו הוא</TD>\n",
       " </TR>\n",
       " <TR>\n",
       "  <TD bgcolor=\"FF0000\">נוא‍ל</TD>\n",
       "  <TD bgcolor=\"FF0000\">גו֟אל</TD>\n",
       " </TR>\n",
       " <TR>\n",
       "  <TD bgcolor=\"00FFFF\">׃</TD>\n",
       "  <TD bgcolor=\"00FFFF\">׃</TD>\n",
       " </TR>\n",
       "</TABLE>"
      ],
      "text/plain": [
       "<IPython.core.display.HTML object>"
      ]
     },
     "metadata": {},
     "output_type": "display_data"
    },
    {
     "name": "stdout",
     "output_type": "stream",
     "text": [
      "======= chapter 37 ==========\n",
      "======= verse 20 ==========\n"
     ]
    },
    {
     "data": {
      "text/html": [
       "<TABLE border=\"1\" style=\"border: 1px solid #000000; border-collapse: collapse;\" cellpadding=\"4\">\n",
       " <TR>\n",
       "  <TH>d</TH>\n",
       "  <TH>b</TH>\n",
       " </TR>\n",
       " <TR>\n",
       "  <TD bgcolor=\"00FFFF\">  ויש חכם בדברו</TD>\n",
       "  <TD bgcolor=\"00FFFF\">  ויש חכם בדברו</TD>\n",
       " </TR>\n",
       " <TR>\n",
       "  <TD bgcolor=\"FF0000\">ימאס</TD>\n",
       "  <TD bgcolor=\"FF0000\">נמאס</TD>\n",
       " </TR>\n",
       " <TR>\n",
       "  <TD bgcolor=\"00FFFF\">ומכל מאכל תענוג\n",
       "נבצר׃</TD>\n",
       "  <TD bgcolor=\"00FFFF\">ומכל מאכל תענוג\n",
       "נבצר׃</TD>\n",
       " </TR>\n",
       "</TABLE>"
      ],
      "text/plain": [
       "<IPython.core.display.HTML object>"
      ]
     },
     "metadata": {},
     "output_type": "display_data"
    },
    {
     "name": "stdout",
     "output_type": "stream",
     "text": [
      "======= chapter 37 ==========\n",
      "======= verse 22 ==========\n"
     ]
    },
    {
     "data": {
      "text/html": [
       "<TABLE border=\"1\" style=\"border: 1px solid #000000; border-collapse: collapse;\" cellpadding=\"4\">\n",
       " <TR>\n",
       "  <TH>d</TH>\n",
       "  <TH>b</TH>\n",
       " </TR>\n",
       " <TR>\n",
       "  <TD bgcolor=\"00FFFF\">  ויש חכם לנפשו יחכם\n",
       "פרי דעתו על גויתו׃</TD>\n",
       "  <TD bgcolor=\"00FFFF\">  ויש חכם לנפשו יחכם\n",
       "פרי דעתו על גויתו׃</TD>\n",
       " </TR>\n",
       "</TABLE>"
      ],
      "text/plain": [
       "<IPython.core.display.HTML object>"
      ]
     },
     "metadata": {},
     "output_type": "display_data"
    },
    {
     "name": "stdout",
     "output_type": "stream",
     "text": [
      "======= chapter 37 ==========\n",
      "======= verse 25 ==========\n"
     ]
    },
    {
     "data": {
      "text/html": [
       "<TABLE border=\"1\" style=\"border: 1px solid #000000; border-collapse: collapse;\" cellpadding=\"4\">\n",
       " <TR>\n",
       "  <TH>d</TH>\n",
       "  <TH>b</TH>\n",
       " </TR>\n",
       " <TR>\n",
       "  <TD bgcolor=\"00FFFF\">  חיי</TD>\n",
       "  <TD bgcolor=\"00FFFF\">  חיי</TD>\n",
       " </TR>\n",
       " <TR>\n",
       "  <TD bgcolor=\"FF0000\">אנוש</TD>\n",
       "  <TD bgcolor=\"FF0000\">איש מספר</TD>\n",
       " </TR>\n",
       " <TR>\n",
       "  <TD bgcolor=\"00FFFF\">ימים</TD>\n",
       "  <TD bgcolor=\"00FFFF\">ימים</TD>\n",
       " </TR>\n",
       " <TR>\n",
       "  <TD bgcolor=\"FF0000\">מספר</TD>\n",
       "  <TD bgcolor=\"FF0000\">-</TD>\n",
       " </TR>\n",
       " <TR>\n",
       "  <TD bgcolor=\"00FFFF\">וחיי</TD>\n",
       "  <TD bgcolor=\"00FFFF\">וחיי</TD>\n",
       " </TR>\n",
       " <TR>\n",
       "  <TD bgcolor=\"FF0000\">ישרון</TD>\n",
       "  <TD bgcolor=\"FF0000\">עם ֟ישראל</TD>\n",
       " </TR>\n",
       " <TR>\n",
       "  <TD bgcolor=\"00FFFF\">ימי אין מספר׃</TD>\n",
       "  <TD bgcolor=\"00FFFF\">ימי אין מספר׃</TD>\n",
       " </TR>\n",
       "</TABLE>"
      ],
      "text/plain": [
       "<IPython.core.display.HTML object>"
      ]
     },
     "metadata": {},
     "output_type": "display_data"
    },
    {
     "name": "stdout",
     "output_type": "stream",
     "text": [
      "======= chapter 37 ==========\n",
      "======= verse 24 ==========\n"
     ]
    },
    {
     "data": {
      "text/html": [
       "<TABLE border=\"1\" style=\"border: 1px solid #000000; border-collapse: collapse;\" cellpadding=\"4\">\n",
       " <TR>\n",
       "  <TH>d</TH>\n",
       "  <TH>b</TH>\n",
       " </TR>\n",
       " <TR>\n",
       "  <TD bgcolor=\"00FFFF\">  חכם לנפשו ישבע\n",
       "תענוג</TD>\n",
       "  <TD bgcolor=\"00FFFF\">  חכם לנפשו ישבע\n",
       "תענוג</TD>\n",
       " </TR>\n",
       " <TR>\n",
       "  <TD bgcolor=\"FF0000\">ויאשריהו  כל רואיהו</TD>\n",
       "  <TD bgcolor=\"FF0000\">ואשרוהו [ ]רוא[ ]ו</TD>\n",
       " </TR>\n",
       " <TR>\n",
       "  <TD bgcolor=\"00FFFF\">׃</TD>\n",
       "  <TD bgcolor=\"00FFFF\">׃</TD>\n",
       " </TR>\n",
       "</TABLE>"
      ],
      "text/plain": [
       "<IPython.core.display.HTML object>"
      ]
     },
     "metadata": {},
     "output_type": "display_data"
    },
    {
     "name": "stdout",
     "output_type": "stream",
     "text": [
      "======= chapter 37 ==========\n",
      "======= verse 26 ==========\n"
     ]
    },
    {
     "data": {
      "text/html": [
       "<TABLE border=\"1\" style=\"border: 1px solid #000000; border-collapse: collapse;\" cellpadding=\"4\">\n",
       " <TR>\n",
       "  <TH>d</TH>\n",
       "  <TH>b</TH>\n",
       " </TR>\n",
       " <TR>\n",
       "  <TD bgcolor=\"00FFFF\">  חכם</TD>\n",
       "  <TD bgcolor=\"00FFFF\">  חכם</TD>\n",
       " </TR>\n",
       " <TR>\n",
       "  <TD bgcolor=\"FF0000\">עם ינחל כבוד    ושמו\n",
       "עומד  בחיי עולם׃</TD>\n",
       "  <TD bgcolor=\"FF0000\">[             ]כב‎וד\n",
       "[            ]ל[\n",
       "]ל[  ]</TD>\n",
       " </TR>\n",
       "</TABLE>"
      ],
      "text/plain": [
       "<IPython.core.display.HTML object>"
      ]
     },
     "metadata": {},
     "output_type": "display_data"
    },
    {
     "name": "stdout",
     "output_type": "stream",
     "text": [
      "======= chapter 37 ==========\n",
      "======= verse 27 ==========\n"
     ]
    },
    {
     "data": {
      "text/html": [
       "<TABLE border=\"1\" style=\"border: 1px solid #000000; border-collapse: collapse;\" cellpadding=\"4\">\n",
       " <TR>\n",
       "  <TH>d</TH>\n",
       "  <TH>b</TH>\n",
       " </TR>\n",
       " <TR>\n",
       "  <TD bgcolor=\"00FFFF\">  בני</TD>\n",
       "  <TD bgcolor=\"00FFFF\">  בני</TD>\n",
       " </TR>\n",
       " <TR>\n",
       "  <TD bgcolor=\"FF0000\">חמר</TD>\n",
       "  <TD bgcolor=\"FF0000\">בחי֟יך</TD>\n",
       " </TR>\n",
       " <TR>\n",
       "  <TD bgcolor=\"00FFFF\">נס נפשך וראה</TD>\n",
       "  <TD bgcolor=\"00FFFF\">נס נפשך וראה</TD>\n",
       " </TR>\n",
       " <TR>\n",
       "  <TD bgcolor=\"FF0000\">:</TD>\n",
       "  <TD bgcolor=\"FF0000\">-</TD>\n",
       " </TR>\n",
       " <TR>\n",
       "  <TD bgcolor=\"00FFFF\">מה רע  לה</TD>\n",
       "  <TD bgcolor=\"00FFFF\">מה רע לה</TD>\n",
       " </TR>\n",
       " <TR>\n",
       "  <TD bgcolor=\"FF0000\">ואל</TD>\n",
       "  <TD bgcolor=\"FF0000\">אל</TD>\n",
       " </TR>\n",
       " <TR>\n",
       "  <TD bgcolor=\"00FFFF\">תתן לה׃</TD>\n",
       "  <TD bgcolor=\"00FFFF\">תתן לה׃</TD>\n",
       " </TR>\n",
       "</TABLE>"
      ],
      "text/plain": [
       "<IPython.core.display.HTML object>"
      ]
     },
     "metadata": {},
     "output_type": "display_data"
    },
    {
     "name": "stdout",
     "output_type": "stream",
     "text": [
      "======= chapter 37 ==========\n",
      "======= verse 28 ==========\n"
     ]
    },
    {
     "data": {
      "text/html": [
       "<TABLE border=\"1\" style=\"border: 1px solid #000000; border-collapse: collapse;\" cellpadding=\"4\">\n",
       " <TR>\n",
       "  <TH>d</TH>\n",
       "  <TH>b</TH>\n",
       " </TR>\n",
       " <TR>\n",
       "  <TD bgcolor=\"00FFFF\">  כי לא</TD>\n",
       "  <TD bgcolor=\"00FFFF\">  כי לא</TD>\n",
       " </TR>\n",
       " <TR>\n",
       "  <TD bgcolor=\"FF0000\">-</TD>\n",
       "  <TD bgcolor=\"FF0000\">הכל</TD>\n",
       " </TR>\n",
       " <TR>\n",
       "  <TD bgcolor=\"00FFFF\">לכל טוב</TD>\n",
       "  <TD bgcolor=\"00FFFF\">לכל טוב</TD>\n",
       " </TR>\n",
       " <TR>\n",
       "  <TD bgcolor=\"FF0000\">תענוג   ולא לכל</TD>\n",
       "  <TD bgcolor=\"FF0000\">֟       לא כל</TD>\n",
       " </TR>\n",
       " <TR>\n",
       "  <TD bgcolor=\"00FFFF\">נפש כל זן תבחר׃</TD>\n",
       "  <TD bgcolor=\"00FFFF\">נפש כל זן תבחר׃</TD>\n",
       " </TR>\n",
       "</TABLE>"
      ],
      "text/plain": [
       "<IPython.core.display.HTML object>"
      ]
     },
     "metadata": {},
     "output_type": "display_data"
    },
    {
     "name": "stdout",
     "output_type": "stream",
     "text": [
      "======= chapter 37 ==========\n",
      "======= verse 29 ==========\n"
     ]
    },
    {
     "data": {
      "text/html": [
       "<TABLE border=\"1\" style=\"border: 1px solid #000000; border-collapse: collapse;\" cellpadding=\"4\">\n",
       " <TR>\n",
       "  <TH>d</TH>\n",
       "  <TH>b</TH>\n",
       " </TR>\n",
       " <TR>\n",
       "  <TD bgcolor=\"00FFFF\">  אל</TD>\n",
       "  <TD bgcolor=\"00FFFF\">  אל</TD>\n",
       " </TR>\n",
       " <TR>\n",
       "  <TD bgcolor=\"FF0000\">תזד אל</TD>\n",
       "  <TD bgcolor=\"FF0000\">תז֟רע לכ֟ל</TD>\n",
       " </TR>\n",
       " <TR>\n",
       "  <TD bgcolor=\"00FFFF\">תענוג   ואל</TD>\n",
       "  <TD bgcolor=\"00FFFF\">תענוג   ואל</TD>\n",
       " </TR>\n",
       " <TR>\n",
       "  <TD bgcolor=\"FF0000\">///  תתחנג</TD>\n",
       "  <TD bgcolor=\"FF0000\">תשפך</TD>\n",
       " </TR>\n",
       " <TR>\n",
       "  <TD bgcolor=\"00FFFF\">על</TD>\n",
       "  <TD bgcolor=\"00FFFF\">על</TD>\n",
       " </TR>\n",
       " <TR>\n",
       "  <TD bgcolor=\"FF0000\">-</TD>\n",
       "  <TD bgcolor=\"FF0000\">כל</TD>\n",
       " </TR>\n",
       " <TR>\n",
       "  <TD bgcolor=\"00FFFF\">מטעמים׃</TD>\n",
       "  <TD bgcolor=\"00FFFF\">מטעמים׃</TD>\n",
       " </TR>\n",
       "</TABLE>"
      ],
      "text/plain": [
       "<IPython.core.display.HTML object>"
      ]
     },
     "metadata": {},
     "output_type": "display_data"
    },
    {
     "name": "stdout",
     "output_type": "stream",
     "text": [
      "======= chapter 37 ==========\n",
      "======= verse 30 ==========\n"
     ]
    },
    {
     "data": {
      "text/html": [
       "<TABLE border=\"1\" style=\"border: 1px solid #000000; border-collapse: collapse;\" cellpadding=\"4\">\n",
       " <TR>\n",
       "  <TH>d</TH>\n",
       "  <TH>b</TH>\n",
       " </TR>\n",
       " <TR>\n",
       "  <TD bgcolor=\"00FFFF\">  כי</TD>\n",
       "  <TD bgcolor=\"00FFFF\">  כי</TD>\n",
       " </TR>\n",
       " <TR>\n",
       "  <TD bgcolor=\"FF0000\">ברב אוכל יקנון</TD>\n",
       "  <TD bgcolor=\"FF0000\">ברוב תענ֟וג יקנ֟ן</TD>\n",
       " </TR>\n",
       " <TR>\n",
       "  <TD bgcolor=\"00FFFF\">חולי</TD>\n",
       "  <TD bgcolor=\"00FFFF\">חולי</TD>\n",
       " </TR>\n",
       " <TR>\n",
       "  <TD bgcolor=\"FF0000\">והמזיע יגוע על</TD>\n",
       "  <TD bgcolor=\"FF0000\">והמר֟בה יגיע אל</TD>\n",
       " </TR>\n",
       " <TR>\n",
       "  <TD bgcolor=\"00FFFF\">זרא׃</TD>\n",
       "  <TD bgcolor=\"00FFFF\">זרא׃</TD>\n",
       " </TR>\n",
       "</TABLE>"
      ],
      "text/plain": [
       "<IPython.core.display.HTML object>"
      ]
     },
     "metadata": {},
     "output_type": "display_data"
    },
    {
     "name": "stdout",
     "output_type": "stream",
     "text": [
      "======= chapter 37 ==========\n",
      "======= verse 31 ==========\n"
     ]
    },
    {
     "data": {
      "text/html": [
       "<TABLE border=\"1\" style=\"border: 1px solid #000000; border-collapse: collapse;\" cellpadding=\"4\">\n",
       " <TR>\n",
       "  <TH>d</TH>\n",
       "  <TH>b</TH>\n",
       " </TR>\n",
       " <TR>\n",
       "  <TD bgcolor=\"00FFFF\">  בלא מוסר רבים</TD>\n",
       "  <TD bgcolor=\"00FFFF\">  בלא מוסר רבים</TD>\n",
       " </TR>\n",
       " <TR>\n",
       "  <TD bgcolor=\"FF0000\">גועו    והנשמר</TD>\n",
       "  <TD bgcolor=\"FF0000\">יגועו ו֟עועו\n",
       "והנש֟מר</TD>\n",
       " </TR>\n",
       " <TR>\n",
       "  <TD bgcolor=\"00FFFF\">יוסיף חיים׃</TD>\n",
       "  <TD bgcolor=\"00FFFF\">יוסיף חיים׃</TD>\n",
       " </TR>\n",
       "</TABLE>"
      ],
      "text/plain": [
       "<IPython.core.display.HTML object>"
      ]
     },
     "metadata": {},
     "output_type": "display_data"
    },
    {
     "name": "stdout",
     "output_type": "stream",
     "text": [
      "======= chapter 38 ==========\n",
      "======= verse 1 ==========\n"
     ]
    },
    {
     "data": {
      "text/html": [
       "<TABLE border=\"1\" style=\"border: 1px solid #000000; border-collapse: collapse;\" cellpadding=\"4\">\n",
       " <TR>\n",
       "  <TH>d</TH>\n",
       "  <TH>b</TH>\n",
       " </TR>\n",
       " <TR>\n",
       "  <TD bgcolor=\"00FFFF\">&nbsp;</TD>\n",
       "  <TD bgcolor=\"00FFFF\">&nbsp;</TD>\n",
       " </TR>\n",
       " <TR>\n",
       "  <TD bgcolor=\"FF0000\">רעה רועה</TD>\n",
       "  <TD bgcolor=\"FF0000\">רע֟י</TD>\n",
       " </TR>\n",
       " <TR>\n",
       "  <TD bgcolor=\"00FFFF\">רופא</TD>\n",
       "  <TD bgcolor=\"00FFFF\">רופא</TD>\n",
       " </TR>\n",
       " <TR>\n",
       "  <TD bgcolor=\"FF0000\">לפי [</TD>\n",
       "  <TD bgcolor=\"FF0000\">לפני צר֟כו      ֟גם\n",
       "אתו חלק אל:</TD>\n",
       " </TR>\n",
       "</TABLE>"
      ],
      "text/plain": [
       "<IPython.core.display.HTML object>"
      ]
     },
     "metadata": {},
     "output_type": "display_data"
    },
    {
     "name": "stdout",
     "output_type": "stream",
     "text": [
      "======= chapter 39 ==========\n",
      "======= verse 27 ==========\n"
     ]
    },
    {
     "data": {
      "text/html": [
       "<TABLE border=\"1\" style=\"border: 1px solid #000000; border-collapse: collapse;\" cellpadding=\"4\">\n",
       " <TR>\n",
       "  <TH>masada</TH>\n",
       "  <TH>b</TH>\n",
       " </TR>\n",
       " <TR>\n",
       "  <TD bgcolor=\"FF0000\">  [     ]       [\n",
       "] לזרה נ</TD>\n",
       "  <TD bgcolor=\"FF0000\">  כל א</TD>\n",
       " </TR>\n",
       " <TR>\n",
       "  <TD bgcolor=\"00FFFF\">[ ]</TD>\n",
       "  <TD bgcolor=\"00FFFF\">[ ]</TD>\n",
       " </TR>\n",
       " <TR>\n",
       "  <TD bgcolor=\"FF0000\">פכו</TD>\n",
       "  <TD bgcolor=\"FF0000\">לטובים ייטיבו    כן\n",
       "לרעים לרע֟ה נהפכו׃</TD>\n",
       " </TR>\n",
       "</TABLE>"
      ],
      "text/plain": [
       "<IPython.core.display.HTML object>"
      ]
     },
     "metadata": {},
     "output_type": "display_data"
    },
    {
     "name": "stdout",
     "output_type": "stream",
     "text": [
      "======= chapter 39 ==========\n",
      "======= verse  ==========\n"
     ]
    },
    {
     "data": {
      "text/html": [
       "<TABLE border=\"1\" style=\"border: 1px solid #000000; border-collapse: collapse;\" cellpadding=\"4\">\n",
       " <TR>\n",
       "  <TH>masada</TH>\n",
       "  <TH>b</TH>\n",
       " </TR>\n",
       " <TR>\n",
       "  <TD bgcolor=\"FF0000\">              (. .\n",
       ".)</TD>\n",
       "  <TD bgcolor=\"FF0000\">  כ֟ל אלה לצורכם\n",
       "נבר֟או והמה באוצר\n",
       "֟ולעת יפקדו׃</TD>\n",
       " </TR>\n",
       "</TABLE>"
      ],
      "text/plain": [
       "<IPython.core.display.HTML object>"
      ]
     },
     "metadata": {},
     "output_type": "display_data"
    },
    {
     "name": "stdout",
     "output_type": "stream",
     "text": [
      "======= chapter 40 ==========\n",
      "======= verse 8 ==========\n"
     ]
    },
    {
     "data": {
      "text/html": [
       "<TABLE border=\"1\" style=\"border: 1px solid #000000; border-collapse: collapse;\" cellpadding=\"4\">\n",
       " <TR>\n",
       "  <TH>masada</TH>\n",
       "  <TH>b</TH>\n",
       " </TR>\n",
       " <TR>\n",
       "  <TD bgcolor=\"FF0000\">  [     ]       [\n",
       "]◦◦</TD>\n",
       "  <TD bgcolor=\"FF0000\">  [  ]</TD>\n",
       " </TR>\n",
       " <TR>\n",
       "  <TD bgcolor=\"00FFFF\">ל</TD>\n",
       "  <TD bgcolor=\"00FFFF\">ל</TD>\n",
       " </TR>\n",
       " <TR>\n",
       "  <TD bgcolor=\"FF0000\">◦</TD>\n",
       "  <TD bgcolor=\"FF0000\">[  ]</TD>\n",
       " </TR>\n",
       "</TABLE>"
      ],
      "text/plain": [
       "<IPython.core.display.HTML object>"
      ]
     },
     "metadata": {},
     "output_type": "display_data"
    },
    {
     "name": "stdout",
     "output_type": "stream",
     "text": [
      "======= chapter 40 ==========\n",
      "======= verse 11 ==========\n"
     ]
    },
    {
     "data": {
      "text/html": [
       "<TABLE border=\"1\" style=\"border: 1px solid #000000; border-collapse: collapse;\" cellpadding=\"4\">\n",
       " <TR>\n",
       "  <TH>masada</TH>\n",
       "  <TH>b</TH>\n",
       " </TR>\n",
       " <TR>\n",
       "  <TD bgcolor=\"00FFFF\">  כל</TD>\n",
       "  <TD bgcolor=\"00FFFF\">  כל </TD>\n",
       " </TR>\n",
       " <TR>\n",
       "  <TD bgcolor=\"FF0000\">מ[      ]       [\n",
       "]</TD>\n",
       "  <TD bgcolor=\"FF0000\">מארץ אל ארץ ישוב\n",
       "ואש֟ר ממרום אל מרום׃</TD>\n",
       " </TR>\n",
       "</TABLE>"
      ],
      "text/plain": [
       "<IPython.core.display.HTML object>"
      ]
     },
     "metadata": {},
     "output_type": "display_data"
    },
    {
     "name": "stdout",
     "output_type": "stream",
     "text": [
      "======= chapter 40 ==========\n",
      "======= verse 13 ==========\n"
     ]
    },
    {
     "data": {
      "text/html": [
       "<TABLE border=\"1\" style=\"border: 1px solid #000000; border-collapse: collapse;\" cellpadding=\"4\">\n",
       " <TR>\n",
       "  <TH>masada</TH>\n",
       "  <TH>b</TH>\n",
       " </TR>\n",
       " <TR>\n",
       "  <TD bgcolor=\"00FFFF\">&nbsp;</TD>\n",
       "  <TD bgcolor=\"00FFFF\">&nbsp;</TD>\n",
       " </TR>\n",
       " <TR>\n",
       "  <TD bgcolor=\"FF0000\">חיל מעול [      ]\n",
       "[\n",
       "]ת</TD>\n",
       "  <TD bgcolor=\"FF0000\">מחול א֟ל ח֟ול כנחל א\n",
       "יתן ומ֟אפיק אדיר בחז\n",
       "יז קולות׃</TD>\n",
       " </TR>\n",
       "</TABLE>"
      ],
      "text/plain": [
       "<IPython.core.display.HTML object>"
      ]
     },
     "metadata": {},
     "output_type": "display_data"
    },
    {
     "name": "stdout",
     "output_type": "stream",
     "text": [
      "======= chapter 40 ==========\n",
      "======= verse 14 ==========\n"
     ]
    },
    {
     "data": {
      "text/html": [
       "<TABLE border=\"1\" style=\"border: 1px solid #000000; border-collapse: collapse;\" cellpadding=\"4\">\n",
       " <TR>\n",
       "  <TH>masada</TH>\n",
       "  <TH>b</TH>\n",
       " </TR>\n",
       " <TR>\n",
       "  <TD bgcolor=\"00FFFF\">&nbsp;</TD>\n",
       "  <TD bgcolor=\"00FFFF\">&nbsp;</TD>\n",
       " </TR>\n",
       " <TR>\n",
       "  <TD bgcolor=\"FF0000\">-</TD>\n",
       "  <TD bgcolor=\"FF0000\">עם ֟</TD>\n",
       " </TR>\n",
       " <TR>\n",
       "  <TD bgcolor=\"00FFFF\">עם</TD>\n",
       "  <TD bgcolor=\"00FFFF\">עם </TD>\n",
       " </TR>\n",
       " <TR>\n",
       "  <TD bgcolor=\"FF0000\">-</TD>\n",
       "  <TD bgcolor=\"FF0000\">֟</TD>\n",
       " </TR>\n",
       " <TR>\n",
       "  <TD bgcolor=\"00FFFF\">שאתו</TD>\n",
       "  <TD bgcolor=\"00FFFF\">שאתו </TD>\n",
       " </TR>\n",
       " <TR>\n",
       "  <TD bgcolor=\"FF0000\">כפי[    ]       [\n",
       "]ם</TD>\n",
       "  <TD bgcolor=\"FF0000\">כפים יגילו\n",
       "כי פתאם לנצח יתם׃</TD>\n",
       " </TR>\n",
       "</TABLE>"
      ],
      "text/plain": [
       "<IPython.core.display.HTML object>"
      ]
     },
     "metadata": {},
     "output_type": "display_data"
    },
    {
     "name": "stdout",
     "output_type": "stream",
     "text": [
      "======= chapter 40 ==========\n",
      "======= verse 15 ==========\n"
     ]
    },
    {
     "data": {
      "text/html": [
       "<TABLE border=\"1\" style=\"border: 1px solid #000000; border-collapse: collapse;\" cellpadding=\"4\">\n",
       " <TR>\n",
       "  <TH>masada</TH>\n",
       "  <TH>b</TH>\n",
       " </TR>\n",
       " <TR>\n",
       "  <TD bgcolor=\"00FFFF\">&nbsp;</TD>\n",
       "  <TD bgcolor=\"00FFFF\">&nbsp;</TD>\n",
       " </TR>\n",
       " <TR>\n",
       "  <TD bgcolor=\"FF0000\">נצר חמס</TD>\n",
       "  <TD bgcolor=\"FF0000\">נוצר מחמס </TD>\n",
       " </TR>\n",
       " <TR>\n",
       "  <TD bgcolor=\"00FFFF\">לא</TD>\n",
       "  <TD bgcolor=\"00FFFF\">לא </TD>\n",
       " </TR>\n",
       " <TR>\n",
       "  <TD bgcolor=\"FF0000\">יכה ב[  ]       [\n",
       "]</TD>\n",
       "  <TD bgcolor=\"FF0000\">ינקה    כי שורש חנף\n",
       "על </TD>\n",
       " </TR>\n",
       " <TR>\n",
       "  <TD bgcolor=\"00FFFF\">שן</TD>\n",
       "  <TD bgcolor=\"00FFFF\">שן </TD>\n",
       " </TR>\n",
       " <TR>\n",
       "  <TD bgcolor=\"FF0000\">צר</TD>\n",
       "  <TD bgcolor=\"FF0000\">סלע׃</TD>\n",
       " </TR>\n",
       "</TABLE>"
      ],
      "text/plain": [
       "<IPython.core.display.HTML object>"
      ]
     },
     "metadata": {},
     "output_type": "display_data"
    },
    {
     "name": "stdout",
     "output_type": "stream",
     "text": [
      "======= chapter 40 ==========\n",
      "======= verse 16 ==========\n"
     ]
    },
    {
     "data": {
      "text/html": [
       "<TABLE border=\"1\" style=\"border: 1px solid #000000; border-collapse: collapse;\" cellpadding=\"4\">\n",
       " <TR>\n",
       "  <TH>masada</TH>\n",
       "  <TH>b</TH>\n",
       " </TR>\n",
       " <TR>\n",
       "  <TD bgcolor=\"00FFFF\">&nbsp;</TD>\n",
       "  <TD bgcolor=\"00FFFF\">&nbsp;</TD>\n",
       " </TR>\n",
       " <TR>\n",
       "  <TD bgcolor=\"FF0000\">כקרמית</TD>\n",
       "  <TD bgcolor=\"FF0000\">כקרדמות </TD>\n",
       " </TR>\n",
       " <TR>\n",
       "  <TD bgcolor=\"00FFFF\">על</TD>\n",
       "  <TD bgcolor=\"00FFFF\">על </TD>\n",
       " </TR>\n",
       " <TR>\n",
       "  <TD bgcolor=\"FF0000\">גפות</TD>\n",
       "  <TD bgcolor=\"FF0000\">גפת </TD>\n",
       " </TR>\n",
       " <TR>\n",
       "  <TD bgcolor=\"00FFFF\">נחל</TD>\n",
       "  <TD bgcolor=\"00FFFF\">נחל</TD>\n",
       " </TR>\n",
       " <TR>\n",
       "  <TD bgcolor=\"FF0000\">[ ]ל חציר נדעך</TD>\n",
       "  <TD bgcolor=\"FF0000\">מפ֟ני כל מטר נדע֟כו׃</TD>\n",
       " </TR>\n",
       "</TABLE>"
      ],
      "text/plain": [
       "<IPython.core.display.HTML object>"
      ]
     },
     "metadata": {},
     "output_type": "display_data"
    },
    {
     "name": "stdout",
     "output_type": "stream",
     "text": [
      "======= chapter 40 ==========\n",
      "======= verse 17 ==========\n"
     ]
    },
    {
     "data": {
      "text/html": [
       "<TABLE border=\"1\" style=\"border: 1px solid #000000; border-collapse: collapse;\" cellpadding=\"4\">\n",
       " <TR>\n",
       "  <TH>masada</TH>\n",
       "  <TH>b</TH>\n",
       " </TR>\n",
       " <TR>\n",
       "  <TD bgcolor=\"00FFFF\">&nbsp;</TD>\n",
       "  <TD bgcolor=\"00FFFF\">&nbsp;</TD>\n",
       " </TR>\n",
       " <TR>\n",
       "  <TD bgcolor=\"FF0000\">חסד כעד</TD>\n",
       "  <TD bgcolor=\"FF0000\">וחסד לעולם </TD>\n",
       " </TR>\n",
       " <TR>\n",
       "  <TD bgcolor=\"00FFFF\">לא</TD>\n",
       "  <TD bgcolor=\"00FFFF\">לא </TD>\n",
       " </TR>\n",
       " <TR>\n",
       "  <TD bgcolor=\"FF0000\">תכרת</TD>\n",
       "  <TD bgcolor=\"FF0000\">ימוט</TD>\n",
       " </TR>\n",
       " <TR>\n",
       "  <TD bgcolor=\"00FFFF\">וצדקה לעד</TD>\n",
       "  <TD bgcolor=\"00FFFF\">וצדקה לעד </TD>\n",
       " </TR>\n",
       " <TR>\n",
       "  <TD bgcolor=\"FF0000\">תכן</TD>\n",
       "  <TD bgcolor=\"FF0000\">תכון׃</TD>\n",
       " </TR>\n",
       "</TABLE>"
      ],
      "text/plain": [
       "<IPython.core.display.HTML object>"
      ]
     },
     "metadata": {},
     "output_type": "display_data"
    },
    {
     "name": "stdout",
     "output_type": "stream",
     "text": [
      "======= chapter 40 ==========\n",
      "======= verse 18 ==========\n"
     ]
    },
    {
     "data": {
      "text/html": [
       "<TABLE border=\"1\" style=\"border: 1px solid #000000; border-collapse: collapse;\" cellpadding=\"4\">\n",
       " <TR>\n",
       "  <TH>masada</TH>\n",
       "  <TH>b</TH>\n",
       " </TR>\n",
       " <TR>\n",
       "  <TD bgcolor=\"00FFFF\">  חיי</TD>\n",
       "  <TD bgcolor=\"00FFFF\">  חיי</TD>\n",
       " </TR>\n",
       " <TR>\n",
       "  <TD bgcolor=\"FF0000\">יתר</TD>\n",
       "  <TD bgcolor=\"FF0000\">יין  ו֟</TD>\n",
       " </TR>\n",
       " <TR>\n",
       "  <TD bgcolor=\"00FFFF\">שכר ימתקו\n",
       "ומשניהם</TD>\n",
       "  <TD bgcolor=\"00FFFF\">שכר ימתקו\n",
       "ומשניהם </TD>\n",
       " </TR>\n",
       " <TR>\n",
       "  <TD bgcolor=\"FF0000\">מצא[    ]</TD>\n",
       "  <TD bgcolor=\"FF0000\">מוצא אוצ֟ר׃</TD>\n",
       " </TR>\n",
       "</TABLE>"
      ],
      "text/plain": [
       "<IPython.core.display.HTML object>"
      ]
     },
     "metadata": {},
     "output_type": "display_data"
    },
    {
     "name": "stdout",
     "output_type": "stream",
     "text": [
      "======= chapter 40 ==========\n",
      "======= verse 19ab ==========\n"
     ]
    },
    {
     "data": {
      "text/html": [
       "<TABLE border=\"1\" style=\"border: 1px solid #000000; border-collapse: collapse;\" cellpadding=\"4\">\n",
       " <TR>\n",
       "  <TH>masada</TH>\n",
       "  <TH>b</TH>\n",
       " </TR>\n",
       " <TR>\n",
       "  <TD bgcolor=\"00FFFF\">  ילד</TD>\n",
       "  <TD bgcolor=\"00FFFF\">  ילד</TD>\n",
       " </TR>\n",
       " <TR>\n",
       "  <TD bgcolor=\"FF0000\">ו[ ]ידו</TD>\n",
       "  <TD bgcolor=\"FF0000\">ועיר יעמידו</TD>\n",
       " </TR>\n",
       " <TR>\n",
       "  <TD bgcolor=\"00FFFF\">שם\n",
       "ומשניהם</TD>\n",
       "  <TD bgcolor=\"00FFFF\">שם      ומשניהם </TD>\n",
       " </TR>\n",
       " <TR>\n",
       "  <TD bgcolor=\"FF0000\">מוצ[    ]</TD>\n",
       "  <TD bgcolor=\"FF0000\">מוצא חכמה׃</TD>\n",
       " </TR>\n",
       "</TABLE>"
      ],
      "text/plain": [
       "<IPython.core.display.HTML object>"
      ]
     },
     "metadata": {},
     "output_type": "display_data"
    },
    {
     "name": "stdout",
     "output_type": "stream",
     "text": [
      "======= chapter 40 ==========\n",
      "======= verse 19cd ==========\n"
     ]
    },
    {
     "data": {
      "text/html": [
       "<TABLE border=\"1\" style=\"border: 1px solid #000000; border-collapse: collapse;\" cellpadding=\"4\">\n",
       " <TR>\n",
       "  <TH>masada</TH>\n",
       "  <TH>b</TH>\n",
       " </TR>\n",
       " <TR>\n",
       "  <TD bgcolor=\"FF0000\">  [\n",
       "]ו שאר  ומשני[ ]חשקת</TD>\n",
       "  <TD bgcolor=\"FF0000\">  שגר ונטע יפריחו שם\n",
       "ומשניהם אשה נחשקת׃</TD>\n",
       " </TR>\n",
       "</TABLE>"
      ],
      "text/plain": [
       "<IPython.core.display.HTML object>"
      ]
     },
     "metadata": {},
     "output_type": "display_data"
    },
    {
     "name": "stdout",
     "output_type": "stream",
     "text": [
      "======= chapter 40 ==========\n",
      "======= verse 20 ==========\n"
     ]
    },
    {
     "data": {
      "text/html": [
       "<TABLE border=\"1\" style=\"border: 1px solid #000000; border-collapse: collapse;\" cellpadding=\"4\">\n",
       " <TR>\n",
       "  <TH>masada</TH>\n",
       "  <TH>b</TH>\n",
       " </TR>\n",
       " <TR>\n",
       "  <TD bgcolor=\"FF0000\">  [     ]       [\n",
       "]די[ ]</TD>\n",
       "  <TD bgcolor=\"FF0000\">  יין ושכר יעליצו לב\n",
       "ומשניהם אהבת דודים׃</TD>\n",
       " </TR>\n",
       "</TABLE>"
      ],
      "text/plain": [
       "<IPython.core.display.HTML object>"
      ]
     },
     "metadata": {},
     "output_type": "display_data"
    },
    {
     "name": "stdout",
     "output_type": "stream",
     "text": [
      "======= chapter 40 ==========\n",
      "======= verse 21 ==========\n"
     ]
    },
    {
     "data": {
      "text/html": [
       "<TABLE border=\"1\" style=\"border: 1px solid #000000; border-collapse: collapse;\" cellpadding=\"4\">\n",
       " <TR>\n",
       "  <TH>masada</TH>\n",
       "  <TH>b</TH>\n",
       " </TR>\n",
       " <TR>\n",
       "  <TD bgcolor=\"FF0000\">  [     ]       [\n",
       "]</TD>\n",
       "  <TD bgcolor=\"FF0000\">  [ ]ל[\n",
       "]ל ונבל יעריבו שיר\n",
       "ומשניהם לשון ברה׃</TD>\n",
       " </TR>\n",
       "</TABLE>"
      ],
      "text/plain": [
       "<IPython.core.display.HTML object>"
      ]
     },
     "metadata": {},
     "output_type": "display_data"
    },
    {
     "name": "stdout",
     "output_type": "stream",
     "text": [
      "======= chapter 40 ==========\n",
      "======= verse 22 ==========\n"
     ]
    },
    {
     "data": {
      "text/html": [
       "<TABLE border=\"1\" style=\"border: 1px solid #000000; border-collapse: collapse;\" cellpadding=\"4\">\n",
       " <TR>\n",
       "  <TH>masada</TH>\n",
       "  <TH>b</TH>\n",
       " </TR>\n",
       " <TR>\n",
       "  <TD bgcolor=\"FF0000\">  [     ]       [\n",
       "]</TD>\n",
       "  <TD bgcolor=\"FF0000\">  ח[ ]ם יעמידו עין\n",
       "ומשניהם צמחי שד֟ה׃</TD>\n",
       " </TR>\n",
       "</TABLE>"
      ],
      "text/plain": [
       "<IPython.core.display.HTML object>"
      ]
     },
     "metadata": {},
     "output_type": "display_data"
    },
    {
     "name": "stdout",
     "output_type": "stream",
     "text": [
      "======= chapter 40 ==========\n",
      "======= verse 23 ==========\n"
     ]
    },
    {
     "data": {
      "text/html": [
       "<TABLE border=\"1\" style=\"border: 1px solid #000000; border-collapse: collapse;\" cellpadding=\"4\">\n",
       " <TR>\n",
       "  <TH>masada</TH>\n",
       "  <TH>b</TH>\n",
       " </TR>\n",
       " <TR>\n",
       "  <TD bgcolor=\"FF0000\">  [     ]       [\n",
       "]</TD>\n",
       "  <TD bgcolor=\"FF0000\">  א[   ]◦◦◦ ◦◦[ ]בעת\n",
       "ינהגו\n",
       "ומשניהם אשה משכלת׃</TD>\n",
       " </TR>\n",
       "</TABLE>"
      ],
      "text/plain": [
       "<IPython.core.display.HTML object>"
      ]
     },
     "metadata": {},
     "output_type": "display_data"
    },
    {
     "name": "stdout",
     "output_type": "stream",
     "text": [
      "======= chapter 40 ==========\n",
      "======= verse 24 ==========\n"
     ]
    },
    {
     "data": {
      "text/html": [
       "<TABLE border=\"1\" style=\"border: 1px solid #000000; border-collapse: collapse;\" cellpadding=\"4\">\n",
       " <TR>\n",
       "  <TH>masada</TH>\n",
       "  <TH>b</TH>\n",
       " </TR>\n",
       " <TR>\n",
       "  <TD bgcolor=\"FF0000\">  [     ]       [\n",
       "]</TD>\n",
       "  <TD bgcolor=\"FF0000\">  אחי[ ]רים בעת צרה\n",
       "ומשניהם צד֟ק מצלת׃</TD>\n",
       " </TR>\n",
       "</TABLE>"
      ],
      "text/plain": [
       "<IPython.core.display.HTML object>"
      ]
     },
     "metadata": {},
     "output_type": "display_data"
    },
    {
     "name": "stdout",
     "output_type": "stream",
     "text": [
      "======= chapter 40 ==========\n",
      "======= verse 25 ==========\n"
     ]
    },
    {
     "data": {
      "text/html": [
       "<TABLE border=\"1\" style=\"border: 1px solid #000000; border-collapse: collapse;\" cellpadding=\"4\">\n",
       " <TR>\n",
       "  <TH>masada</TH>\n",
       "  <TH>b</TH>\n",
       " </TR>\n",
       " <TR>\n",
       "  <TD bgcolor=\"FF0000\">  [     ]       [\n",
       "]</TD>\n",
       "  <TD bgcolor=\"FF0000\">  זהב וכסף[  ]ל\n",
       "ומשני[\n",
       "  ]◦◦◦◦◦◦     </TD>\n",
       " </TR>\n",
       "</TABLE>"
      ],
      "text/plain": [
       "<IPython.core.display.HTML object>"
      ]
     },
     "metadata": {},
     "output_type": "display_data"
    },
    {
     "name": "stdout",
     "output_type": "stream",
     "text": [
      "======= chapter 40 ==========\n",
      "======= verse 26ab ==========\n"
     ]
    },
    {
     "data": {
      "text/html": [
       "<TABLE border=\"1\" style=\"border: 1px solid #000000; border-collapse: collapse;\" cellpadding=\"4\">\n",
       " <TR>\n",
       "  <TH>masada</TH>\n",
       "  <TH>b</TH>\n",
       " </TR>\n",
       " <TR>\n",
       "  <TD bgcolor=\"FF0000\">  [     ]       [\n",
       "]שניהם [      ]</TD>\n",
       "  <TD bgcolor=\"FF0000\">  חיל וכח יגב[ ]הו\n",
       "לב    ומשניהם [\n",
       "]ראת אלהים׃</TD>\n",
       " </TR>\n",
       "</TABLE>"
      ],
      "text/plain": [
       "<IPython.core.display.HTML object>"
      ]
     },
     "metadata": {},
     "output_type": "display_data"
    },
    {
     "name": "stdout",
     "output_type": "stream",
     "text": [
      "======= chapter 40 ==========\n",
      "======= verse 26cd ==========\n"
     ]
    },
    {
     "data": {
      "text/html": [
       "<TABLE border=\"1\" style=\"border: 1px solid #000000; border-collapse: collapse;\" cellpadding=\"4\">\n",
       " <TR>\n",
       "  <TH>masada</TH>\n",
       "  <TH>b</TH>\n",
       " </TR>\n",
       " <TR>\n",
       "  <TD bgcolor=\"FF0000\">  [     ]       [ ]</TD>\n",
       "  <TD bgcolor=\"FF0000\">&nbsp;</TD>\n",
       " </TR>\n",
       " <TR>\n",
       "  <TD bgcolor=\"00FFFF\">אין</TD>\n",
       "  <TD bgcolor=\"00FFFF\">אין</TD>\n",
       " </TR>\n",
       " <TR>\n",
       "  <TD bgcolor=\"FF0000\">-</TD>\n",
       "  <TD bgcolor=\"FF0000\">ביראת ייי מחסור ואין</TD>\n",
       " </TR>\n",
       " <TR>\n",
       "  <TD bgcolor=\"00FFFF\">לבקש עמה משען</TD>\n",
       "  <TD bgcolor=\"00FFFF\">לבקש עמה משען</TD>\n",
       " </TR>\n",
       " <TR>\n",
       "  <TD bgcolor=\"FF0000\">-</TD>\n",
       "  <TD bgcolor=\"FF0000\">׃</TD>\n",
       " </TR>\n",
       "</TABLE>"
      ],
      "text/plain": [
       "<IPython.core.display.HTML object>"
      ]
     },
     "metadata": {},
     "output_type": "display_data"
    },
    {
     "name": "stdout",
     "output_type": "stream",
     "text": [
      "======= chapter 40 ==========\n",
      "======= verse 27 ==========\n"
     ]
    },
    {
     "data": {
      "text/html": [
       "<TABLE border=\"1\" style=\"border: 1px solid #000000; border-collapse: collapse;\" cellpadding=\"4\">\n",
       " <TR>\n",
       "  <TH>masada</TH>\n",
       "  <TH>b</TH>\n",
       " </TR>\n",
       " <TR>\n",
       "  <TD bgcolor=\"FF0000\">  [     ]       ועל\n",
       "כל כב[ ]ד</TD>\n",
       "  <TD bgcolor=\"FF0000\">  יראת אלהים כעדן\n",
       "ברכה  וכן כל כבוד </TD>\n",
       " </TR>\n",
       " <TR>\n",
       "  <TD bgcolor=\"00FFFF\">חפתה</TD>\n",
       "  <TD bgcolor=\"00FFFF\">חפתה</TD>\n",
       " </TR>\n",
       " <TR>\n",
       "  <TD bgcolor=\"FF0000\">-</TD>\n",
       "  <TD bgcolor=\"FF0000\">׃</TD>\n",
       " </TR>\n",
       "</TABLE>"
      ],
      "text/plain": [
       "<IPython.core.display.HTML object>"
      ]
     },
     "metadata": {},
     "output_type": "display_data"
    },
    {
     "name": "stdout",
     "output_type": "stream",
     "text": [
      "======= chapter 40 ==========\n",
      "======= verse 28 ==========\n"
     ]
    },
    {
     "data": {
      "text/html": [
       "<TABLE border=\"1\" style=\"border: 1px solid #000000; border-collapse: collapse;\" cellpadding=\"4\">\n",
       " <TR>\n",
       "  <TH>masada</TH>\n",
       "  <TH>b</TH>\n",
       " </TR>\n",
       " <TR>\n",
       "  <TD bgcolor=\"FF0000\">  [     ]</TD>\n",
       "  <TD bgcolor=\"FF0000\">  מ֟ני חיי מתן אל\n",
       "תחי</TD>\n",
       " </TR>\n",
       " <TR>\n",
       "  <TD bgcolor=\"00FFFF\">טוב</TD>\n",
       "  <TD bgcolor=\"00FFFF\">טוב</TD>\n",
       " </TR>\n",
       " <TR>\n",
       "  <TD bgcolor=\"FF0000\">[ ]שף ◦ממחצף</TD>\n",
       "  <TD bgcolor=\"FF0000\">נאסף ממסתולל׃</TD>\n",
       " </TR>\n",
       "</TABLE>"
      ],
      "text/plain": [
       "<IPython.core.display.HTML object>"
      ]
     },
     "metadata": {},
     "output_type": "display_data"
    },
    {
     "name": "stdout",
     "output_type": "stream",
     "text": [
      "======= chapter 40 ==========\n",
      "======= verse 29ab ==========\n"
     ]
    },
    {
     "data": {
      "text/html": [
       "<TABLE border=\"1\" style=\"border: 1px solid #000000; border-collapse: collapse;\" cellpadding=\"4\">\n",
       " <TR>\n",
       "  <TH>masada</TH>\n",
       "  <TH>b</TH>\n",
       " </TR>\n",
       " <TR>\n",
       "  <TD bgcolor=\"FF0000\">  [     ]       [\n",
       "]מנות</TD>\n",
       "  <TD bgcolor=\"FF0000\">איש משגיח על שלחן זר\n",
       "אין חייו למנות </TD>\n",
       " </TR>\n",
       " <TR>\n",
       "  <TD bgcolor=\"00FFFF\">חיים</TD>\n",
       "  <TD bgcolor=\"00FFFF\">חיים</TD>\n",
       " </TR>\n",
       " <TR>\n",
       "  <TD bgcolor=\"FF0000\">-</TD>\n",
       "  <TD bgcolor=\"FF0000\">׃</TD>\n",
       " </TR>\n",
       "</TABLE>"
      ],
      "text/plain": [
       "<IPython.core.display.HTML object>"
      ]
     },
     "metadata": {},
     "output_type": "display_data"
    },
    {
     "name": "stdout",
     "output_type": "stream",
     "text": [
      "======= chapter 40 ==========\n",
      "======= verse 29cd ==========\n"
     ]
    },
    {
     "data": {
      "text/html": [
       "<TABLE border=\"1\" style=\"border: 1px solid #000000; border-collapse: collapse;\" cellpadding=\"4\">\n",
       " <TR>\n",
       "  <TH>masada</TH>\n",
       "  <TH>b</TH>\n",
       " </TR>\n",
       " <TR>\n",
       "  <TD bgcolor=\"FF0000\">  [            ] מט[\n",
       "]       [ ]ש</TD>\n",
       "  <TD bgcolor=\"FF0000\">  מעגל נ֟פש מטעמו֟\n",
       "לאיש </TD>\n",
       " </TR>\n",
       " <TR>\n",
       "  <TD bgcolor=\"00FFFF\">יודע</TD>\n",
       "  <TD bgcolor=\"00FFFF\">יודע </TD>\n",
       " </TR>\n",
       " <TR>\n",
       "  <TD bgcolor=\"FF0000\">יסור</TD>\n",
       "  <TD bgcolor=\"FF0000\">סוד </TD>\n",
       " </TR>\n",
       " <TR>\n",
       "  <TD bgcolor=\"00FFFF\">מעים</TD>\n",
       "  <TD bgcolor=\"00FFFF\">מעים</TD>\n",
       " </TR>\n",
       " <TR>\n",
       "  <TD bgcolor=\"FF0000\">-</TD>\n",
       "  <TD bgcolor=\"FF0000\">׃</TD>\n",
       " </TR>\n",
       "</TABLE>"
      ],
      "text/plain": [
       "<IPython.core.display.HTML object>"
      ]
     },
     "metadata": {},
     "output_type": "display_data"
    },
    {
     "name": "stdout",
     "output_type": "stream",
     "text": [
      "======= chapter 40 ==========\n",
      "======= verse 30 ==========\n"
     ]
    },
    {
     "data": {
      "text/html": [
       "<TABLE border=\"1\" style=\"border: 1px solid #000000; border-collapse: collapse;\" cellpadding=\"4\">\n",
       " <TR>\n",
       "  <TH>masada</TH>\n",
       "  <TH>b</TH>\n",
       " </TR>\n",
       " <TR>\n",
       "  <TD bgcolor=\"00FFFF\">&nbsp;</TD>\n",
       "  <TD bgcolor=\"00FFFF\">&nbsp;</TD>\n",
       " </TR>\n",
       " <TR>\n",
       "  <TD bgcolor=\"FF0000\">בפי עז [ ]</TD>\n",
       "  <TD bgcolor=\"FF0000\">לאיש עוז נ֟</TD>\n",
       " </TR>\n",
       " <TR>\n",
       "  <TD bgcolor=\"00FFFF\">פש ת</TD>\n",
       "  <TD bgcolor=\"00FFFF\">פש ת</TD>\n",
       " </TR>\n",
       " <TR>\n",
       "  <TD bgcolor=\"FF0000\">[ ]     [ ]ו כאש</TD>\n",
       "  <TD bgcolor=\"FF0000\">֟מתיק שאלה\n",
       "בקרבו</TD>\n",
       " </TR>\n",
       " <TR>\n",
       "  <TD bgcolor=\"00FFFF\">תבער</TD>\n",
       "  <TD bgcolor=\"00FFFF\">תבער</TD>\n",
       " </TR>\n",
       " <TR>\n",
       "  <TD bgcolor=\"FF0000\">-</TD>\n",
       "  <TD bgcolor=\"FF0000\">֟כמו אש ׃</TD>\n",
       " </TR>\n",
       "</TABLE>"
      ],
      "text/plain": [
       "<IPython.core.display.HTML object>"
      ]
     },
     "metadata": {},
     "output_type": "display_data"
    },
    {
     "name": "stdout",
     "output_type": "stream",
     "text": [
      "======= chapter 41 ==========\n",
      "======= verse 1ab ==========\n"
     ]
    },
    {
     "data": {
      "text/html": [
       "<TABLE border=\"1\" style=\"border: 1px solid #000000; border-collapse: collapse;\" cellpadding=\"4\">\n",
       " <TR>\n",
       "  <TH>masada</TH>\n",
       "  <TH>b</TH>\n",
       " </TR>\n",
       " <TR>\n",
       "  <TD bgcolor=\"00FFFF\">&nbsp;</TD>\n",
       "  <TD bgcolor=\"00FFFF\">&nbsp;</TD>\n",
       " </TR>\n",
       " <TR>\n",
       "  <TD bgcolor=\"FF0000\">הו[ ] ל[ ]כרך</TD>\n",
       "  <TD bgcolor=\"FF0000\">חי֟ים למות מה מר יבר\n",
       "ך</TD>\n",
       " </TR>\n",
       " <TR>\n",
       "  <TD bgcolor=\"00FFFF\">לאיש</TD>\n",
       "  <TD bgcolor=\"00FFFF\">לאיש </TD>\n",
       " </TR>\n",
       " <TR>\n",
       "  <TD bgcolor=\"FF0000\">שקט</TD>\n",
       "  <TD bgcolor=\"FF0000\">שוקט </TD>\n",
       " </TR>\n",
       " <TR>\n",
       "  <TD bgcolor=\"00FFFF\">על מכונתו</TD>\n",
       "  <TD bgcolor=\"00FFFF\">על מכונתו</TD>\n",
       " </TR>\n",
       " <TR>\n",
       "  <TD bgcolor=\"FF0000\">-</TD>\n",
       "  <TD bgcolor=\"FF0000\">׃</TD>\n",
       " </TR>\n",
       "</TABLE>"
      ],
      "text/plain": [
       "<IPython.core.display.HTML object>"
      ]
     },
     "metadata": {},
     "output_type": "display_data"
    },
    {
     "name": "stdout",
     "output_type": "stream",
     "text": [
      "======= chapter 41 ==========\n",
      "======= verse 1cd ==========\n"
     ]
    },
    {
     "data": {
      "text/html": [
       "<TABLE border=\"1\" style=\"border: 1px solid #000000; border-collapse: collapse;\" cellpadding=\"4\">\n",
       " <TR>\n",
       "  <TH>masada</TH>\n",
       "  <TH>b</TH>\n",
       " </TR>\n",
       " <TR>\n",
       "  <TD bgcolor=\"00FFFF\">&nbsp;</TD>\n",
       "  <TD bgcolor=\"00FFFF\">&nbsp;</TD>\n",
       " </TR>\n",
       " <TR>\n",
       "  <TD bgcolor=\"FF0000\">שלו</TD>\n",
       "  <TD bgcolor=\"FF0000\">איש שליו </TD>\n",
       " </TR>\n",
       " <TR>\n",
       "  <TD bgcolor=\"00FFFF\">ומצליח בכל</TD>\n",
       "  <TD bgcolor=\"00FFFF\">ומצליח בכל</TD>\n",
       " </TR>\n",
       " <TR>\n",
       "  <TD bgcolor=\"FF0000\">עוד</TD>\n",
       "  <TD bgcolor=\"FF0000\">ועוד </TD>\n",
       " </TR>\n",
       " <TR>\n",
       "  <TD bgcolor=\"00FFFF\">בו</TD>\n",
       "  <TD bgcolor=\"00FFFF\">בו </TD>\n",
       " </TR>\n",
       " <TR>\n",
       "  <TD bgcolor=\"FF0000\">כח</TD>\n",
       "  <TD bgcolor=\"FF0000\">חיל </TD>\n",
       " </TR>\n",
       " <TR>\n",
       "  <TD bgcolor=\"00FFFF\">לקבל תענוג</TD>\n",
       "  <TD bgcolor=\"00FFFF\">לקבל תענוג</TD>\n",
       " </TR>\n",
       " <TR>\n",
       "  <TD bgcolor=\"FF0000\">-</TD>\n",
       "  <TD bgcolor=\"FF0000\">׃</TD>\n",
       " </TR>\n",
       "</TABLE>"
      ],
      "text/plain": [
       "<IPython.core.display.HTML object>"
      ]
     },
     "metadata": {},
     "output_type": "display_data"
    },
    {
     "name": "stdout",
     "output_type": "stream",
     "text": [
      "======= chapter 41 ==========\n",
      "======= verse 2ab ==========\n"
     ]
    },
    {
     "data": {
      "text/html": [
       "<TABLE border=\"1\" style=\"border: 1px solid #000000; border-collapse: collapse;\" cellpadding=\"4\">\n",
       " <TR>\n",
       "  <TH>masada</TH>\n",
       "  <TH>b</TH>\n",
       " </TR>\n",
       " <TR>\n",
       "  <TD bgcolor=\"00FFFF\">&nbsp;</TD>\n",
       "  <TD bgcolor=\"00FFFF\">&nbsp;</TD>\n",
       " </TR>\n",
       " <TR>\n",
       "  <TD bgcolor=\"FF0000\">הע</TD>\n",
       "  <TD bgcolor=\"FF0000\">האח </TD>\n",
       " </TR>\n",
       " <TR>\n",
       "  <TD bgcolor=\"00FFFF\">למות</TD>\n",
       "  <TD bgcolor=\"00FFFF\">למות </TD>\n",
       " </TR>\n",
       " <TR>\n",
       "  <TD bgcolor=\"FF0000\">מה</TD>\n",
       "  <TD bgcolor=\"FF0000\">כי </TD>\n",
       " </TR>\n",
       " <TR>\n",
       "  <TD bgcolor=\"00FFFF\">טוב ח</TD>\n",
       "  <TD bgcolor=\"00FFFF\">טוב ח</TD>\n",
       " </TR>\n",
       " <TR>\n",
       "  <TD bgcolor=\"FF0000\">[ ]     [ ]אין\n",
       "אוינים</TD>\n",
       "  <TD bgcolor=\"FF0000\">֟ק֟י֟ך  לאיש אונים</TD>\n",
       " </TR>\n",
       " <TR>\n",
       "  <TD bgcolor=\"00FFFF\">וחסר</TD>\n",
       "  <TD bgcolor=\"00FFFF\">וחסר</TD>\n",
       " </TR>\n",
       " <TR>\n",
       "  <TD bgcolor=\"FF0000\">עצבה</TD>\n",
       "  <TD bgcolor=\"FF0000\">עצמה׃</TD>\n",
       " </TR>\n",
       "</TABLE>"
      ],
      "text/plain": [
       "<IPython.core.display.HTML object>"
      ]
     },
     "metadata": {},
     "output_type": "display_data"
    },
    {
     "name": "stdout",
     "output_type": "stream",
     "text": [
      "======= chapter 41 ==========\n",
      "======= verse 2cd ==========\n"
     ]
    },
    {
     "data": {
      "text/html": [
       "<TABLE border=\"1\" style=\"border: 1px solid #000000; border-collapse: collapse;\" cellpadding=\"4\">\n",
       " <TR>\n",
       "  <TH>masada</TH>\n",
       "  <TH>b</TH>\n",
       " </TR>\n",
       " <TR>\n",
       "  <TD bgcolor=\"00FFFF\">  איש</TD>\n",
       "  <TD bgcolor=\"00FFFF\">  איש </TD>\n",
       " </TR>\n",
       " <TR>\n",
       "  <TD bgcolor=\"FF0000\">כשל {משל}   בכ[ ]\n",
       "אפס המרה ואבוד</TD>\n",
       "  <TD bgcolor=\"FF0000\">כושל ינק֟ש בכל\n",
       "סרב ואבד </TD>\n",
       " </TR>\n",
       " <TR>\n",
       "  <TD bgcolor=\"00FFFF\">תקוה</TD>\n",
       "  <TD bgcolor=\"00FFFF\">תקוה</TD>\n",
       " </TR>\n",
       " <TR>\n",
       "  <TD bgcolor=\"FF0000\">-</TD>\n",
       "  <TD bgcolor=\"FF0000\">׃</TD>\n",
       " </TR>\n",
       "</TABLE>"
      ],
      "text/plain": [
       "<IPython.core.display.HTML object>"
      ]
     },
     "metadata": {},
     "output_type": "display_data"
    },
    {
     "name": "stdout",
     "output_type": "stream",
     "text": [
      "======= chapter 41 ==========\n",
      "======= verse 3 ==========\n"
     ]
    },
    {
     "data": {
      "text/html": [
       "<TABLE border=\"1\" style=\"border: 1px solid #000000; border-collapse: collapse;\" cellpadding=\"4\">\n",
       " <TR>\n",
       "  <TH>masada</TH>\n",
       "  <TH>b</TH>\n",
       " </TR>\n",
       " <TR>\n",
       "  <TD bgcolor=\"00FFFF\">  אל תפחד ממות</TD>\n",
       "  <TD bgcolor=\"00FFFF\">  אל תפחד ממות </TD>\n",
       " </TR>\n",
       " <TR>\n",
       "  <TD bgcolor=\"FF0000\">חקך             זכר\n",
       "קדמון ואחרון</TD>\n",
       "  <TD bgcolor=\"FF0000\">חוקיך   זכור\n",
       "כי ראשנים ואחרנים </TD>\n",
       " </TR>\n",
       " <TR>\n",
       "  <TD bgcolor=\"00FFFF\">עמך</TD>\n",
       "  <TD bgcolor=\"00FFFF\">עמך</TD>\n",
       " </TR>\n",
       " <TR>\n",
       "  <TD bgcolor=\"FF0000\">-</TD>\n",
       "  <TD bgcolor=\"FF0000\">׃</TD>\n",
       " </TR>\n",
       "</TABLE>"
      ],
      "text/plain": [
       "<IPython.core.display.HTML object>"
      ]
     },
     "metadata": {},
     "output_type": "display_data"
    },
    {
     "name": "stdout",
     "output_type": "stream",
     "text": [
      "======= chapter 41 ==========\n",
      "======= verse 4ab ==========\n"
     ]
    },
    {
     "data": {
      "text/html": [
       "<TABLE border=\"1\" style=\"border: 1px solid #000000; border-collapse: collapse;\" cellpadding=\"4\">\n",
       " <TR>\n",
       "  <TH>masada</TH>\n",
       "  <TH>b</TH>\n",
       " </TR>\n",
       " <TR>\n",
       "  <TD bgcolor=\"00FFFF\">  זה</TD>\n",
       "  <TD bgcolor=\"00FFFF\">  זה </TD>\n",
       " </TR>\n",
       " <TR>\n",
       "  <TD bgcolor=\"FF0000\">קץ</TD>\n",
       "  <TD bgcolor=\"FF0000\">חלק </TD>\n",
       " </TR>\n",
       " <TR>\n",
       "  <TD bgcolor=\"00FFFF\">כל</TD>\n",
       "  <TD bgcolor=\"00FFFF\">כל </TD>\n",
       " </TR>\n",
       " <TR>\n",
       "  <TD bgcolor=\"FF0000\">[ ]ם            [\n",
       "ב]תו[ ]</TD>\n",
       "  <TD bgcolor=\"FF0000\">בשר מאל\n",
       "ומה תמאס בתורת </TD>\n",
       " </TR>\n",
       " <TR>\n",
       "  <TD bgcolor=\"00FFFF\">עליו</TD>\n",
       "  <TD bgcolor=\"00FFFF\">עליו</TD>\n",
       " </TR>\n",
       " <TR>\n",
       "  <TD bgcolor=\"FF0000\">[ ]</TD>\n",
       "  <TD bgcolor=\"FF0000\">[ ]׃</TD>\n",
       " </TR>\n",
       "</TABLE>"
      ],
      "text/plain": [
       "<IPython.core.display.HTML object>"
      ]
     },
     "metadata": {},
     "output_type": "display_data"
    },
    {
     "name": "stdout",
     "output_type": "stream",
     "text": [
      "======= chapter 41 ==========\n",
      "======= verse 4cd ==========\n"
     ]
    },
    {
     "data": {
      "text/html": [
       "<TABLE border=\"1\" style=\"border: 1px solid #000000; border-collapse: collapse;\" cellpadding=\"4\">\n",
       " <TR>\n",
       "  <TH>masada</TH>\n",
       "  <TH>b</TH>\n",
       " </TR>\n",
       " <TR>\n",
       "  <TD bgcolor=\"00FFFF\">&nbsp;</TD>\n",
       "  <TD bgcolor=\"00FFFF\">&nbsp;</TD>\n",
       " </TR>\n",
       " <TR>\n",
       "  <TD bgcolor=\"FF0000\">לעשר</TD>\n",
       "  <TD bgcolor=\"FF0000\">לאלף שנים</TD>\n",
       " </TR>\n",
       " <TR>\n",
       "  <TD bgcolor=\"00FFFF\">מאה</TD>\n",
       "  <TD bgcolor=\"00FFFF\">מאה</TD>\n",
       " </TR>\n",
       " <TR>\n",
       "  <TD bgcolor=\"FF0000\">ואלף שנים       [\n",
       "]</TD>\n",
       "  <TD bgcolor=\"FF0000\">ועשר    אי֟ש תוכחות\n",
       "בשא[ ]ל חיים:</TD>\n",
       " </TR>\n",
       "</TABLE>"
      ],
      "text/plain": [
       "<IPython.core.display.HTML object>"
      ]
     },
     "metadata": {},
     "output_type": "display_data"
    },
    {
     "name": "stdout",
     "output_type": "stream",
     "text": [
      "======= chapter 41 ==========\n",
      "======= verse 6 ==========\n"
     ]
    },
    {
     "data": {
      "text/html": [
       "<TABLE border=\"1\" style=\"border: 1px solid #000000; border-collapse: collapse;\" cellpadding=\"4\">\n",
       " <TR>\n",
       "  <TH>masada</TH>\n",
       "  <TH>b</TH>\n",
       " </TR>\n",
       " <TR>\n",
       "  <TD bgcolor=\"FF0000\">  [   ]ל תאבד ממ[\n",
       "] תמי</TD>\n",
       "  <TD bgcolor=\"FF0000\">  מבן ֟עול ממשלת רע\n",
       "עם זרע</TD>\n",
       " </TR>\n",
       " <TR>\n",
       "  <TD bgcolor=\"00FFFF\">[ ]</TD>\n",
       "  <TD bgcolor=\"00FFFF\">[ ]</TD>\n",
       " </TR>\n",
       " <TR>\n",
       "  <TD bgcolor=\"FF0000\">חרפה</TD>\n",
       "  <TD bgcolor=\"FF0000\">מיד[  ]ה׃</TD>\n",
       " </TR>\n",
       "</TABLE>"
      ],
      "text/plain": [
       "<IPython.core.display.HTML object>"
      ]
     },
     "metadata": {},
     "output_type": "display_data"
    },
    {
     "name": "stdout",
     "output_type": "stream",
     "text": [
      "======= chapter 41 ==========\n",
      "======= verse 7 ==========\n"
     ]
    },
    {
     "data": {
      "text/html": [
       "<TABLE border=\"1\" style=\"border: 1px solid #000000; border-collapse: collapse;\" cellpadding=\"4\">\n",
       " <TR>\n",
       "  <TH>masada</TH>\n",
       "  <TH>b</TH>\n",
       " </TR>\n",
       " <TR>\n",
       "  <TD bgcolor=\"00FFFF\">&nbsp;</TD>\n",
       "  <TD bgcolor=\"00FFFF\">&nbsp;</TD>\n",
       " </TR>\n",
       " <TR>\n",
       "  <TD bgcolor=\"FF0000\">א[   ] יקב יל[  ]\n",
       "[   ]גללו היו בוז</TD>\n",
       "  <TD bgcolor=\"FF0000\">אב רשע יקוב ילד כי ב\n",
       "גללו ה[        ]ן׃</TD>\n",
       " </TR>\n",
       "</TABLE>"
      ],
      "text/plain": [
       "<IPython.core.display.HTML object>"
      ]
     },
     "metadata": {},
     "output_type": "display_data"
    },
    {
     "name": "stdout",
     "output_type": "stream",
     "text": [
      "======= chapter 41 ==========\n",
      "======= verse 8 ==========\n"
     ]
    },
    {
     "data": {
      "text/html": [
       "<TABLE border=\"1\" style=\"border: 1px solid #000000; border-collapse: collapse;\" cellpadding=\"4\">\n",
       " <TR>\n",
       "  <TH>masada</TH>\n",
       "  <TH>b</TH>\n",
       " </TR>\n",
       " <TR>\n",
       "  <TD bgcolor=\"00FFFF\">&nbsp;</TD>\n",
       "  <TD bgcolor=\"00FFFF\">&nbsp;</TD>\n",
       " </TR>\n",
       " <TR>\n",
       "  <TD bgcolor=\"FF0000\">ה[        ] אנשי ◦◦[\n",
       "]       עזבי תורת\n",
       "עליון</TD>\n",
       "  <TD bgcolor=\"FF0000\">אוי לכם ◦[\n",
       "]◦\n",
       "[                  \n",
       "]ליון׃</TD>\n",
       " </TR>\n",
       "</TABLE>"
      ],
      "text/plain": [
       "<IPython.core.display.HTML object>"
      ]
     },
     "metadata": {},
     "output_type": "display_data"
    },
    {
     "name": "stdout",
     "output_type": "stream",
     "text": [
      "======= chapter 41 ==========\n",
      "======= verse 9ab ==========\n"
     ]
    },
    {
     "data": {
      "text/html": [
       "<TABLE border=\"1\" style=\"border: 1px solid #000000; border-collapse: collapse;\" cellpadding=\"4\">\n",
       " <TR>\n",
       "  <TH>masada</TH>\n",
       "  <TH>b</TH>\n",
       " </TR>\n",
       " <TR>\n",
       "  <TD bgcolor=\"FF0000\">  [             ]</TD>\n",
       "  <TD bgcolor=\"FF0000\">  אם תפרחו  [ ]</TD>\n",
       " </TR>\n",
       " <TR>\n",
       "  <TD bgcolor=\"00FFFF\">ל</TD>\n",
       "  <TD bgcolor=\"00FFFF\">ל</TD>\n",
       " </TR>\n",
       " <TR>\n",
       "  <TD bgcolor=\"FF0000\">◦[      ]       ואם</TD>\n",
       "  <TD bgcolor=\"FF0000\">ידי אסון        אם</TD>\n",
       " </TR>\n",
       " <TR>\n",
       "  <TD bgcolor=\"00FFFF\">תולידו לאנחה</TD>\n",
       "  <TD bgcolor=\"00FFFF\">תולידו לאנחה</TD>\n",
       " </TR>\n",
       " <TR>\n",
       "  <TD bgcolor=\"FF0000\">-</TD>\n",
       "  <TD bgcolor=\"FF0000\">׃</TD>\n",
       " </TR>\n",
       "</TABLE>"
      ],
      "text/plain": [
       "<IPython.core.display.HTML object>"
      ]
     },
     "metadata": {},
     "output_type": "display_data"
    },
    {
     "name": "stdout",
     "output_type": "stream",
     "text": [
      "======= chapter 41 ==========\n",
      "======= verse 9cd ==========\n"
     ]
    },
    {
     "data": {
      "text/html": [
       "<TABLE border=\"1\" style=\"border: 1px solid #000000; border-collapse: collapse;\" cellpadding=\"4\">\n",
       " <TR>\n",
       "  <TH>masada</TH>\n",
       "  <TH>b</TH>\n",
       " </TR>\n",
       " <TR>\n",
       "  <TD bgcolor=\"FF0000\">  [ ]לו [ ]שמחת עם\n",
       "ואם</TD>\n",
       "  <TD bgcolor=\"FF0000\">אם תכשלו לשמחת עולם׃\n",
       "אם </TD>\n",
       " </TR>\n",
       " <TR>\n",
       "  <TD bgcolor=\"00FFFF\">תמותו לקללה</TD>\n",
       "  <TD bgcolor=\"00FFFF\">תמותו לקללה</TD>\n",
       " </TR>\n",
       " <TR>\n",
       "  <TD bgcolor=\"FF0000\">-</TD>\n",
       "  <TD bgcolor=\"FF0000\">׃</TD>\n",
       " </TR>\n",
       "</TABLE>"
      ],
      "text/plain": [
       "<IPython.core.display.HTML object>"
      ]
     },
     "metadata": {},
     "output_type": "display_data"
    },
    {
     "name": "stdout",
     "output_type": "stream",
     "text": [
      "======= chapter 41 ==========\n",
      "======= verse 10 ==========\n"
     ]
    },
    {
     "data": {
      "text/html": [
       "<TABLE border=\"1\" style=\"border: 1px solid #000000; border-collapse: collapse;\" cellpadding=\"4\">\n",
       " <TR>\n",
       "  <TH>masada</TH>\n",
       "  <TH>b</TH>\n",
       " </TR>\n",
       " <TR>\n",
       "  <TD bgcolor=\"FF0000\">  [ ]אפס</TD>\n",
       "  <TD bgcolor=\"FF0000\">  כל מא֟פס </TD>\n",
       " </TR>\n",
       " <TR>\n",
       "  <TD bgcolor=\"00FFFF\">אל</TD>\n",
       "  <TD bgcolor=\"00FFFF\">אל </TD>\n",
       " </TR>\n",
       " <TR>\n",
       "  <TD bgcolor=\"FF0000\">אפס</TD>\n",
       "  <TD bgcolor=\"FF0000\">אפ֟ס </TD>\n",
       " </TR>\n",
       " <TR>\n",
       "  <TD bgcolor=\"00FFFF\">ישוב</TD>\n",
       "  <TD bgcolor=\"00FFFF\">ישוב</TD>\n",
       " </TR>\n",
       " <TR>\n",
       "  <TD bgcolor=\"FF0000\">כן</TD>\n",
       "  <TD bgcolor=\"FF0000\">כ֟ן </TD>\n",
       " </TR>\n",
       " <TR>\n",
       "  <TD bgcolor=\"00FFFF\">חנף מתהו אל תהו</TD>\n",
       "  <TD bgcolor=\"00FFFF\">חנף מתהו אל תהו</TD>\n",
       " </TR>\n",
       " <TR>\n",
       "  <TD bgcolor=\"FF0000\">-</TD>\n",
       "  <TD bgcolor=\"FF0000\">׃</TD>\n",
       " </TR>\n",
       "</TABLE>"
      ],
      "text/plain": [
       "<IPython.core.display.HTML object>"
      ]
     },
     "metadata": {},
     "output_type": "display_data"
    },
    {
     "name": "stdout",
     "output_type": "stream",
     "text": [
      "======= chapter 41 ==========\n",
      "======= verse 11 ==========\n"
     ]
    },
    {
     "data": {
      "text/html": [
       "<TABLE border=\"1\" style=\"border: 1px solid #000000; border-collapse: collapse;\" cellpadding=\"4\">\n",
       " <TR>\n",
       "  <TH>masada</TH>\n",
       "  <TH>b</TH>\n",
       " </TR>\n",
       " <TR>\n",
       "  <TD bgcolor=\"00FFFF\">&nbsp;</TD>\n",
       "  <TD bgcolor=\"00FFFF\">&nbsp;</TD>\n",
       " </TR>\n",
       " <TR>\n",
       "  <TD bgcolor=\"FF0000\">הב[ ]ם      ◦◦\n",
       "[  ]</TD>\n",
       "  <TD bgcolor=\"FF0000\">הבל אדם בגויתו  אך </TD>\n",
       " </TR>\n",
       " <TR>\n",
       "  <TD bgcolor=\"00FFFF\">שם חסד</TD>\n",
       "  <TD bgcolor=\"00FFFF\">שם חסד </TD>\n",
       " </TR>\n",
       " <TR>\n",
       "  <TD bgcolor=\"FF0000\">ללא</TD>\n",
       "  <TD bgcolor=\"FF0000\">לא </TD>\n",
       " </TR>\n",
       " <TR>\n",
       "  <TD bgcolor=\"00FFFF\">יכרת</TD>\n",
       "  <TD bgcolor=\"00FFFF\">יכרת</TD>\n",
       " </TR>\n",
       " <TR>\n",
       "  <TD bgcolor=\"FF0000\">-</TD>\n",
       "  <TD bgcolor=\"FF0000\">׃</TD>\n",
       " </TR>\n",
       "</TABLE>"
      ],
      "text/plain": [
       "<IPython.core.display.HTML object>"
      ]
     },
     "metadata": {},
     "output_type": "display_data"
    },
    {
     "name": "stdout",
     "output_type": "stream",
     "text": [
      "======= chapter 41 ==========\n",
      "======= verse 12 ==========\n"
     ]
    },
    {
     "data": {
      "text/html": [
       "<TABLE border=\"1\" style=\"border: 1px solid #000000; border-collapse: collapse;\" cellpadding=\"4\">\n",
       " <TR>\n",
       "  <TH>masada</TH>\n",
       "  <TH>b</TH>\n",
       " </TR>\n",
       " <TR>\n",
       "  <TD bgcolor=\"00FFFF\">  פחד על שם כי הוא\n",
       "ילוך מאלפי</TD>\n",
       "  <TD bgcolor=\"00FFFF\">  פחד על שם כי הוא\n",
       "ילוך מאלפי</TD>\n",
       " </TR>\n",
       " <TR>\n",
       "  <TD bgcolor=\"FF0000\">שימת חמדה</TD>\n",
       "  <TD bgcolor=\"FF0000\">אוצ֟רות חכ֟מה׃</TD>\n",
       " </TR>\n",
       "</TABLE>"
      ],
      "text/plain": [
       "<IPython.core.display.HTML object>"
      ]
     },
     "metadata": {},
     "output_type": "display_data"
    },
    {
     "name": "stdout",
     "output_type": "stream",
     "text": [
      "======= chapter 41 ==========\n",
      "======= verse 13 ==========\n"
     ]
    },
    {
     "data": {
      "text/html": [
       "<TABLE border=\"1\" style=\"border: 1px solid #000000; border-collapse: collapse;\" cellpadding=\"4\">\n",
       " <TR>\n",
       "  <TH>masada</TH>\n",
       "  <TH>b</TH>\n",
       " </TR>\n",
       " <TR>\n",
       "  <TD bgcolor=\"FF0000\">  [ ]ובת</TD>\n",
       "  <TD bgcolor=\"FF0000\">  טו֟בת </TD>\n",
       " </TR>\n",
       " <TR>\n",
       "  <TD bgcolor=\"00FFFF\">חי</TD>\n",
       "  <TD bgcolor=\"00FFFF\">חי </TD>\n",
       " </TR>\n",
       " <TR>\n",
       "  <TD bgcolor=\"FF0000\">-</TD>\n",
       "  <TD bgcolor=\"FF0000\">ימי </TD>\n",
       " </TR>\n",
       " <TR>\n",
       "  <TD bgcolor=\"00FFFF\">מספר</TD>\n",
       "  <TD bgcolor=\"00FFFF\">מספר</TD>\n",
       " </TR>\n",
       " <TR>\n",
       "  <TD bgcolor=\"FF0000\">ימים    וטובת</TD>\n",
       "  <TD bgcolor=\"FF0000\">וטו֟בת </TD>\n",
       " </TR>\n",
       " <TR>\n",
       "  <TD bgcolor=\"00FFFF\">שם ימי אין מספר</TD>\n",
       "  <TD bgcolor=\"00FFFF\">שם ימי אין מספר</TD>\n",
       " </TR>\n",
       " <TR>\n",
       "  <TD bgcolor=\"FF0000\">-</TD>\n",
       "  <TD bgcolor=\"FF0000\">׃</TD>\n",
       " </TR>\n",
       "</TABLE>"
      ],
      "text/plain": [
       "<IPython.core.display.HTML object>"
      ]
     },
     "metadata": {},
     "output_type": "display_data"
    },
    {
     "name": "stdout",
     "output_type": "stream",
     "text": [
      "======= chapter 41 ==========\n",
      "======= verse 14a/16a ==========\n"
     ]
    },
    {
     "data": {
      "text/html": [
       "<TABLE border=\"1\" style=\"border: 1px solid #000000; border-collapse: collapse;\" cellpadding=\"4\">\n",
       " <TR>\n",
       "  <TH>masada</TH>\n",
       "  <TH>b</TH>\n",
       " </TR>\n",
       " <TR>\n",
       "  <TD bgcolor=\"FF0000\">ד־</TD>\n",
       "  <TD bgcolor=\"FF0000\">&nbsp;</TD>\n",
       " </TR>\n",
       " <TR>\n",
       "  <TD bgcolor=\"00FFFF\">מוסר בשת שמעו בנים</TD>\n",
       "  <TD bgcolor=\"00FFFF\">מוסר בשת שמעו בנים</TD>\n",
       " </TR>\n",
       " <TR>\n",
       "  <TD bgcolor=\"FF0000\">[ ]כלמו</TD>\n",
       "  <TD bgcolor=\"FF0000\">והכלמו</TD>\n",
       " </TR>\n",
       " <TR>\n",
       "  <TD bgcolor=\"00FFFF\">על</TD>\n",
       "  <TD bgcolor=\"00FFFF\">על</TD>\n",
       " </TR>\n",
       " <TR>\n",
       "  <TD bgcolor=\"FF0000\">משפטי</TD>\n",
       "  <TD bgcolor=\"FF0000\">משפט֟י׃</TD>\n",
       " </TR>\n",
       "</TABLE>"
      ],
      "text/plain": [
       "<IPython.core.display.HTML object>"
      ]
     },
     "metadata": {},
     "output_type": "display_data"
    },
    {
     "name": "stdout",
     "output_type": "stream",
     "text": [
      "======= chapter 41 ==========\n",
      "======= verse 16bc ==========\n"
     ]
    },
    {
     "data": {
      "text/html": [
       "<TABLE border=\"1\" style=\"border: 1px solid #000000; border-collapse: collapse;\" cellpadding=\"4\">\n",
       " <TR>\n",
       "  <TH>masada</TH>\n",
       "  <TH>b</TH>\n",
       " </TR>\n",
       " <TR>\n",
       "  <TD bgcolor=\"00FFFF\">  לא כל בשת</TD>\n",
       "  <TD bgcolor=\"00FFFF\">  לא כל בשת </TD>\n",
       " </TR>\n",
       " <TR>\n",
       "  <TD bgcolor=\"FF0000\">נאוה לבוש</TD>\n",
       "  <TD bgcolor=\"FF0000\">נאה לשמר</TD>\n",
       " </TR>\n",
       " <TR>\n",
       "  <TD bgcolor=\"00FFFF\">ולא כל הכלם נבחר</TD>\n",
       "  <TD bgcolor=\"00FFFF\">ולא כל הכלם נבחר</TD>\n",
       " </TR>\n",
       " <TR>\n",
       "  <TD bgcolor=\"FF0000\">-</TD>\n",
       "  <TD bgcolor=\"FF0000\">׃</TD>\n",
       " </TR>\n",
       "</TABLE>"
      ],
      "text/plain": [
       "<IPython.core.display.HTML object>"
      ]
     },
     "metadata": {},
     "output_type": "display_data"
    },
    {
     "name": "stdout",
     "output_type": "stream",
     "text": [
      "======= chapter 41 ==========\n",
      "======= verse 17 ==========\n"
     ]
    },
    {
     "data": {
      "text/html": [
       "<TABLE border=\"1\" style=\"border: 1px solid #000000; border-collapse: collapse;\" cellpadding=\"4\">\n",
       " <TR>\n",
       "  <TH>masada</TH>\n",
       "  <TH>b</TH>\n",
       " </TR>\n",
       " <TR>\n",
       "  <TD bgcolor=\"00FFFF\">  בוש מאב ואם</TD>\n",
       "  <TD bgcolor=\"00FFFF\">  בוש מאב ואם </TD>\n",
       " </TR>\n",
       " <TR>\n",
       "  <TD bgcolor=\"FF0000\">על פחז</TD>\n",
       "  <TD bgcolor=\"FF0000\">אל זנות</TD>\n",
       " </TR>\n",
       " <TR>\n",
       "  <TD bgcolor=\"00FFFF\">מנשיא</TD>\n",
       "  <TD bgcolor=\"00FFFF\">מנשיא </TD>\n",
       " </TR>\n",
       " <TR>\n",
       "  <TD bgcolor=\"FF0000\">ושר על</TD>\n",
       "  <TD bgcolor=\"FF0000\">יושב ֟אל </TD>\n",
       " </TR>\n",
       " <TR>\n",
       "  <TD bgcolor=\"00FFFF\">כחש</TD>\n",
       "  <TD bgcolor=\"00FFFF\">כחש</TD>\n",
       " </TR>\n",
       " <TR>\n",
       "  <TD bgcolor=\"FF0000\">-</TD>\n",
       "  <TD bgcolor=\"FF0000\">׃</TD>\n",
       " </TR>\n",
       "</TABLE>"
      ],
      "text/plain": [
       "<IPython.core.display.HTML object>"
      ]
     },
     "metadata": {},
     "output_type": "display_data"
    },
    {
     "name": "stdout",
     "output_type": "stream",
     "text": [
      "======= chapter 41 ==========\n",
      "======= verse 18c/19a ==========\n"
     ]
    },
    {
     "data": {
      "text/html": [
       "<TABLE border=\"1\" style=\"border: 1px solid #000000; border-collapse: collapse;\" cellpadding=\"4\">\n",
       " <TR>\n",
       "  <TH>masada</TH>\n",
       "  <TH>b</TH>\n",
       " </TR>\n",
       " <TR>\n",
       "  <TD bgcolor=\"00FFFF\">&nbsp;</TD>\n",
       "  <TD bgcolor=\"00FFFF\">&nbsp;</TD>\n",
       " </TR>\n",
       " <TR>\n",
       "  <TD bgcolor=\"FF0000\">משותף</TD>\n",
       "  <TD bgcolor=\"FF0000\">מחב֟֟ר </TD>\n",
       " </TR>\n",
       " <TR>\n",
       "  <TD bgcolor=\"00FFFF\">ורע על מעל</TD>\n",
       "  <TD bgcolor=\"00FFFF\">ורע על מעל</TD>\n",
       " </TR>\n",
       " <TR>\n",
       "  <TD bgcolor=\"FF0000\">ממקום</TD>\n",
       "  <TD bgcolor=\"FF0000\">וממקום </TD>\n",
       " </TR>\n",
       " <TR>\n",
       "  <TD bgcolor=\"00FFFF\">תגור</TD>\n",
       "  <TD bgcolor=\"00FFFF\">תגור </TD>\n",
       " </TR>\n",
       " <TR>\n",
       "  <TD bgcolor=\"FF0000\">-</TD>\n",
       "  <TD bgcolor=\"FF0000\">֟</TD>\n",
       " </TR>\n",
       " <TR>\n",
       "  <TD bgcolor=\"00FFFF\">על</TD>\n",
       "  <TD bgcolor=\"00FFFF\">על </TD>\n",
       " </TR>\n",
       " <TR>\n",
       "  <TD bgcolor=\"FF0000\">יד</TD>\n",
       "  <TD bgcolor=\"FF0000\">ז֟ר׃</TD>\n",
       " </TR>\n",
       "</TABLE>"
      ],
      "text/plain": [
       "<IPython.core.display.HTML object>"
      ]
     },
     "metadata": {},
     "output_type": "display_data"
    },
    {
     "name": "stdout",
     "output_type": "stream",
     "text": [
      "======= chapter 41 ==========\n",
      "======= verse 19bc ==========\n"
     ]
    },
    {
     "data": {
      "text/html": [
       "<TABLE border=\"1\" style=\"border: 1px solid #000000; border-collapse: collapse;\" cellpadding=\"4\">\n",
       " <TR>\n",
       "  <TH>masada</TH>\n",
       "  <TH>b</TH>\n",
       " </TR>\n",
       " <TR>\n",
       "  <TD bgcolor=\"00FFFF\">&nbsp;</TD>\n",
       "  <TD bgcolor=\"00FFFF\">&nbsp;</TD>\n",
       " </TR>\n",
       " <TR>\n",
       "  <TD bgcolor=\"FF0000\">מהפר</TD>\n",
       "  <TD bgcolor=\"FF0000\">מ[ ]פר </TD>\n",
       " </TR>\n",
       " <TR>\n",
       "  <TD bgcolor=\"00FFFF\">אלה</TD>\n",
       "  <TD bgcolor=\"00FFFF\">אלה </TD>\n",
       " </TR>\n",
       " <TR>\n",
       "  <TD bgcolor=\"FF0000\">ובר ת\n",
       "וממטה</TD>\n",
       "  <TD bgcolor=\"FF0000\">וברית   ממטה</TD>\n",
       " </TR>\n",
       " <TR>\n",
       "  <TD bgcolor=\"00FFFF\">אציל</TD>\n",
       "  <TD bgcolor=\"00FFFF\">אציל</TD>\n",
       " </TR>\n",
       " <TR>\n",
       "  <TD bgcolor=\"FF0000\">על</TD>\n",
       "  <TD bgcolor=\"FF0000\">אל</TD>\n",
       " </TR>\n",
       " <TR>\n",
       "  <TD bgcolor=\"00FFFF\">לחם</TD>\n",
       "  <TD bgcolor=\"00FFFF\">לחם</TD>\n",
       " </TR>\n",
       " <TR>\n",
       "  <TD bgcolor=\"FF0000\">-</TD>\n",
       "  <TD bgcolor=\"FF0000\">׃</TD>\n",
       " </TR>\n",
       "</TABLE>"
      ],
      "text/plain": [
       "<IPython.core.display.HTML object>"
      ]
     },
     "metadata": {},
     "output_type": "display_data"
    },
    {
     "name": "stdout",
     "output_type": "stream",
     "text": [
      "======= chapter 41 ==========\n",
      "======= verse 19d/21a ==========\n"
     ]
    },
    {
     "data": {
      "text/html": [
       "<TABLE border=\"1\" style=\"border: 1px solid #000000; border-collapse: collapse;\" cellpadding=\"4\">\n",
       " <TR>\n",
       "  <TH>masada</TH>\n",
       "  <TH>b</TH>\n",
       " </TR>\n",
       " <TR>\n",
       "  <TD bgcolor=\"00FFFF\">&nbsp;</TD>\n",
       "  <TD bgcolor=\"00FFFF\">&nbsp;</TD>\n",
       " </TR>\n",
       " <TR>\n",
       "  <TD bgcolor=\"FF0000\">ממנ[  ]</TD>\n",
       "  <TD bgcolor=\"FF0000\">ממ[נ]ע </TD>\n",
       " </TR>\n",
       " <TR>\n",
       "  <TD bgcolor=\"00FFFF\">מתת שאלה</TD>\n",
       "  <TD bgcolor=\"00FFFF\">מתת שאלה</TD>\n",
       " </TR>\n",
       " <TR>\n",
       "  <TD bgcolor=\"FF0000\">ומהשיב את פני שארך</TD>\n",
       "  <TD bgcolor=\"FF0000\">מהשב ֟אפי רעך׃</TD>\n",
       " </TR>\n",
       "</TABLE>"
      ],
      "text/plain": [
       "<IPython.core.display.HTML object>"
      ]
     },
     "metadata": {},
     "output_type": "display_data"
    },
    {
     "name": "stdout",
     "output_type": "stream",
     "text": [
      "======= chapter 41 ==========\n",
      "======= verse 21b/20a ==========\n"
     ]
    },
    {
     "data": {
      "text/html": [
       "<TABLE border=\"1\" style=\"border: 1px solid #000000; border-collapse: collapse;\" cellpadding=\"4\">\n",
       " <TR>\n",
       "  <TH>masada</TH>\n",
       "  <TH>b</TH>\n",
       " </TR>\n",
       " <TR>\n",
       "  <TD bgcolor=\"00FFFF\">&nbsp;</TD>\n",
       "  <TD bgcolor=\"00FFFF\">&nbsp;</TD>\n",
       " </TR>\n",
       " <TR>\n",
       "  <TD bgcolor=\"FF0000\">מ ש{א}ות מחל ת מנה\n",
       "ומשאל שלום החריש</TD>\n",
       "  <TD bgcolor=\"FF0000\">מהש◦[    ]מחלקות מנה\n",
       "מש֟אול שלום מ חריש׃</TD>\n",
       " </TR>\n",
       "</TABLE>"
      ],
      "text/plain": [
       "<IPython.core.display.HTML object>"
      ]
     },
     "metadata": {},
     "output_type": "display_data"
    },
    {
     "name": "stdout",
     "output_type": "stream",
     "text": [
      "======= chapter 41 ==========\n",
      "======= verse 22cd ==========\n"
     ]
    },
    {
     "data": {
      "text/html": [
       "<TABLE border=\"1\" style=\"border: 1px solid #000000; border-collapse: collapse;\" cellpadding=\"4\">\n",
       " <TR>\n",
       "  <TH>masada</TH>\n",
       "  <TH>b</TH>\n",
       " </TR>\n",
       " <TR>\n",
       "  <TD bgcolor=\"00FFFF\">&nbsp;</TD>\n",
       "  <TD bgcolor=\"00FFFF\">&nbsp;</TD>\n",
       " </TR>\n",
       " <TR>\n",
       "  <TD bgcolor=\"FF0000\">מאהב</TD>\n",
       "  <TD bgcolor=\"FF0000\">מאוהב </TD>\n",
       " </TR>\n",
       " <TR>\n",
       "  <TD bgcolor=\"00FFFF\">על דברי</TD>\n",
       "  <TD bgcolor=\"00FFFF\">על דברי </TD>\n",
       " </TR>\n",
       " <TR>\n",
       "  <TD bgcolor=\"FF0000\">חסד\n",
       "ומאחר</TD>\n",
       "  <TD bgcolor=\"FF0000\">חרפה    ומאחרי </TD>\n",
       " </TR>\n",
       " <TR>\n",
       "  <TD bgcolor=\"00FFFF\">מתת</TD>\n",
       "  <TD bgcolor=\"00FFFF\">מתת </TD>\n",
       " </TR>\n",
       " <TR>\n",
       "  <TD bgcolor=\"FF0000\">חרף</TD>\n",
       "  <TD bgcolor=\"FF0000\">אל תנאץ</TD>\n",
       " </TR>\n",
       "</TABLE>"
      ],
      "text/plain": [
       "<IPython.core.display.HTML object>"
      ]
     },
     "metadata": {},
     "output_type": "display_data"
    },
    {
     "name": "stdout",
     "output_type": "stream",
     "text": [
      "======= chapter 42 ==========\n",
      "======= verse 1 ==========\n"
     ]
    },
    {
     "data": {
      "text/html": [
       "<TABLE border=\"1\" style=\"border: 1px solid #000000; border-collapse: collapse;\" cellpadding=\"4\">\n",
       " <TR>\n",
       "  <TH>masada</TH>\n",
       "  <TH>b</TH>\n",
       " </TR>\n",
       " <TR>\n",
       "  <TD bgcolor=\"00FFFF\">  משנות דבר תשמע</TD>\n",
       "  <TD bgcolor=\"00FFFF\">  משנות דבר תשמע</TD>\n",
       " </TR>\n",
       " <TR>\n",
       "  <TD bgcolor=\"FF0000\">ומחשף</TD>\n",
       "  <TD bgcolor=\"FF0000\">ומחסוף </TD>\n",
       " </TR>\n",
       " <TR>\n",
       "  <TD bgcolor=\"00FFFF\">כל</TD>\n",
       "  <TD bgcolor=\"00FFFF\">כל </TD>\n",
       " </TR>\n",
       " <TR>\n",
       "  <TD bgcolor=\"FF0000\">דבר</TD>\n",
       "  <TD bgcolor=\"FF0000\">ס֟וד </TD>\n",
       " </TR>\n",
       " <TR>\n",
       "  <TD bgcolor=\"00FFFF\">עצה</TD>\n",
       "  <TD bgcolor=\"00FFFF\">עצה</TD>\n",
       " </TR>\n",
       " <TR>\n",
       "  <TD bgcolor=\"FF0000\">-</TD>\n",
       "  <TD bgcolor=\"FF0000\">[:]</TD>\n",
       " </TR>\n",
       "</TABLE>"
      ],
      "text/plain": [
       "<IPython.core.display.HTML object>"
      ]
     },
     "metadata": {},
     "output_type": "display_data"
    },
    {
     "name": "stdout",
     "output_type": "stream",
     "text": [
      "======= chapter 42 ==========\n",
      "======= verse  ==========\n"
     ]
    },
    {
     "data": {
      "text/html": [
       "<TABLE border=\"1\" style=\"border: 1px solid #000000; border-collapse: collapse;\" cellpadding=\"4\">\n",
       " <TR>\n",
       "  <TH>masada</TH>\n",
       "  <TH>b</TH>\n",
       " </TR>\n",
       " <TR>\n",
       "  <TD bgcolor=\"00FFFF\">&nbsp;</TD>\n",
       "  <TD bgcolor=\"00FFFF\">&nbsp;</TD>\n",
       " </TR>\n",
       " <TR>\n",
       "  <TD bgcolor=\"FF0000\">ולא עשה מהם [ ]</TD>\n",
       "  <TD bgcolor=\"FF0000\">-</TD>\n",
       " </TR>\n",
       "</TABLE>"
      ],
      "text/plain": [
       "<IPython.core.display.HTML object>"
      ]
     },
     "metadata": {},
     "output_type": "display_data"
    },
    {
     "name": "stdout",
     "output_type": "stream",
     "text": [
      "======= chapter 42 ==========\n",
      "======= verse 2 ==========\n"
     ]
    },
    {
     "data": {
      "text/html": [
       "<TABLE border=\"1\" style=\"border: 1px solid #000000; border-collapse: collapse;\" cellpadding=\"4\">\n",
       " <TR>\n",
       "  <TH>masada</TH>\n",
       "  <TH>b</TH>\n",
       " </TR>\n",
       " <TR>\n",
       "  <TD bgcolor=\"00FFFF\">  על תורת עליון</TD>\n",
       "  <TD bgcolor=\"00FFFF\">  על תורת עליון </TD>\n",
       " </TR>\n",
       " <TR>\n",
       "  <TD bgcolor=\"FF0000\">וחק</TD>\n",
       "  <TD bgcolor=\"FF0000\">וחוק</TD>\n",
       " </TR>\n",
       " <TR>\n",
       "  <TD bgcolor=\"00FFFF\">ועל</TD>\n",
       "  <TD bgcolor=\"00FFFF\">ועל</TD>\n",
       " </TR>\n",
       " <TR>\n",
       "  <TD bgcolor=\"FF0000\">משפט</TD>\n",
       "  <TD bgcolor=\"FF0000\">מצ֟דיק </TD>\n",
       " </TR>\n",
       " <TR>\n",
       "  <TD bgcolor=\"00FFFF\">להצדיק רשע</TD>\n",
       "  <TD bgcolor=\"00FFFF\">להצדיק רשע</TD>\n",
       " </TR>\n",
       " <TR>\n",
       "  <TD bgcolor=\"FF0000\">-</TD>\n",
       "  <TD bgcolor=\"FF0000\">׃</TD>\n",
       " </TR>\n",
       "</TABLE>"
      ],
      "text/plain": [
       "<IPython.core.display.HTML object>"
      ]
     },
     "metadata": {},
     "output_type": "display_data"
    },
    {
     "name": "stdout",
     "output_type": "stream",
     "text": [
      "======= chapter 42 ==========\n",
      "======= verse 3 ==========\n"
     ]
    },
    {
     "data": {
      "text/html": [
       "<TABLE border=\"1\" style=\"border: 1px solid #000000; border-collapse: collapse;\" cellpadding=\"4\">\n",
       " <TR>\n",
       "  <TH>masada</TH>\n",
       "  <TH>b</TH>\n",
       " </TR>\n",
       " <TR>\n",
       "  <TD bgcolor=\"00FFFF\">  על חשבון</TD>\n",
       "  <TD bgcolor=\"00FFFF\">  על חשבון </TD>\n",
       " </TR>\n",
       " <TR>\n",
       "  <TD bgcolor=\"FF0000\">שותף ודרך</TD>\n",
       "  <TD bgcolor=\"FF0000\">ב̶ חו֟בר ואדון </TD>\n",
       " </TR>\n",
       " <TR>\n",
       "  <TD bgcolor=\"00FFFF\">ועל</TD>\n",
       "  <TD bgcolor=\"00FFFF\">ועל </TD>\n",
       " </TR>\n",
       " <TR>\n",
       "  <TD bgcolor=\"FF0000\">מחלקת</TD>\n",
       "  <TD bgcolor=\"FF0000\">מחלקות </TD>\n",
       " </TR>\n",
       " <TR>\n",
       "  <TD bgcolor=\"00FFFF\">נחלה ויש</TD>\n",
       "  <TD bgcolor=\"00FFFF\">נחלה ויש</TD>\n",
       " </TR>\n",
       " <TR>\n",
       "  <TD bgcolor=\"FF0000\">-</TD>\n",
       "  <TD bgcolor=\"FF0000\">֟׃</TD>\n",
       " </TR>\n",
       "</TABLE>"
      ],
      "text/plain": [
       "<IPython.core.display.HTML object>"
      ]
     },
     "metadata": {},
     "output_type": "display_data"
    },
    {
     "name": "stdout",
     "output_type": "stream",
     "text": [
      "======= chapter 42 ==========\n",
      "======= verse 4ab ==========\n"
     ]
    },
    {
     "data": {
      "text/html": [
       "<TABLE border=\"1\" style=\"border: 1px solid #000000; border-collapse: collapse;\" cellpadding=\"4\">\n",
       " <TR>\n",
       "  <TH>masada</TH>\n",
       "  <TH>b</TH>\n",
       " </TR>\n",
       " <TR>\n",
       "  <TD bgcolor=\"00FFFF\">&nbsp;</TD>\n",
       "  <TD bgcolor=\"00FFFF\">&nbsp;</TD>\n",
       " </TR>\n",
       " <TR>\n",
       "  <TD bgcolor=\"FF0000\">על שחקי מזנים</TD>\n",
       "  <TD bgcolor=\"FF0000\">ועל שחק מאזנים</TD>\n",
       " </TR>\n",
       " <TR>\n",
       "  <TD bgcolor=\"00FFFF\">ופלס            ועל</TD>\n",
       "  <TD bgcolor=\"00FFFF\">ופלס ועל</TD>\n",
       " </TR>\n",
       " <TR>\n",
       "  <TD bgcolor=\"FF0000\">תמחי</TD>\n",
       "  <TD bgcolor=\"FF0000\">תמהות ֟</TD>\n",
       " </TR>\n",
       " <TR>\n",
       "  <TD bgcolor=\"00FFFF\">איפה ואבן</TD>\n",
       "  <TD bgcolor=\"00FFFF\">איפה ואבן</TD>\n",
       " </TR>\n",
       " <TR>\n",
       "  <TD bgcolor=\"FF0000\">-</TD>\n",
       "  <TD bgcolor=\"FF0000\">׃</TD>\n",
       " </TR>\n",
       "</TABLE>"
      ],
      "text/plain": [
       "<IPython.core.display.HTML object>"
      ]
     },
     "metadata": {},
     "output_type": "display_data"
    },
    {
     "name": "stdout",
     "output_type": "stream",
     "text": [
      "======= chapter 42 ==========\n",
      "======= verse 4c/5a ==========\n"
     ]
    },
    {
     "data": {
      "text/html": [
       "<TABLE border=\"1\" style=\"border: 1px solid #000000; border-collapse: collapse;\" cellpadding=\"4\">\n",
       " <TR>\n",
       "  <TH>masada</TH>\n",
       "  <TH>b</TH>\n",
       " </TR>\n",
       " <TR>\n",
       "  <TD bgcolor=\"00FFFF\">  על</TD>\n",
       "  <TD bgcolor=\"00FFFF\">  על </TD>\n",
       " </TR>\n",
       " <TR>\n",
       "  <TD bgcolor=\"FF0000\">מקנה</TD>\n",
       "  <TD bgcolor=\"FF0000\">מק֟נה </TD>\n",
       " </TR>\n",
       " <TR>\n",
       "  <TD bgcolor=\"00FFFF\">בין רב</TD>\n",
       "  <TD bgcolor=\"00FFFF\">בין רב </TD>\n",
       " </TR>\n",
       " <TR>\n",
       "  <TD bgcolor=\"FF0000\">למע[ ]  [  ]ממחיר</TD>\n",
       "  <TD bgcolor=\"FF0000\">למעט    ועל ממ֟חיר </TD>\n",
       " </TR>\n",
       " <TR>\n",
       "  <TD bgcolor=\"00FFFF\">ממכר תגר</TD>\n",
       "  <TD bgcolor=\"00FFFF\">ממכר תגר</TD>\n",
       " </TR>\n",
       " <TR>\n",
       "  <TD bgcolor=\"FF0000\">-</TD>\n",
       "  <TD bgcolor=\"FF0000\">׃</TD>\n",
       " </TR>\n",
       "</TABLE>"
      ],
      "text/plain": [
       "<IPython.core.display.HTML object>"
      ]
     },
     "metadata": {},
     "output_type": "display_data"
    },
    {
     "name": "stdout",
     "output_type": "stream",
     "text": [
      "======= chapter 42 ==========\n",
      "======= verse 7 ==========\n"
     ]
    },
    {
     "data": {
      "text/html": [
       "<TABLE border=\"1\" style=\"border: 1px solid #000000; border-collapse: collapse;\" cellpadding=\"4\">\n",
       " <TR>\n",
       "  <TH>masada</TH>\n",
       "  <TH>b</TH>\n",
       " </TR>\n",
       " <TR>\n",
       "  <TD bgcolor=\"00FFFF\">  על</TD>\n",
       "  <TD bgcolor=\"00FFFF\">  על </TD>\n",
       " </TR>\n",
       " <TR>\n",
       "  <TD bgcolor=\"FF0000\">מ[ ] תפקיד מספר ש[ ]\n",
       "ותת</TD>\n",
       "  <TD bgcolor=\"FF0000\">מקום תפק֟ד ֟יד ֟תספו\n",
       "ר   ומתת ו֟לקח</TD>\n",
       " </TR>\n",
       " <TR>\n",
       "  <TD bgcolor=\"00FFFF\">הכל בכתב</TD>\n",
       "  <TD bgcolor=\"00FFFF\">הכל בכתב</TD>\n",
       " </TR>\n",
       " <TR>\n",
       "  <TD bgcolor=\"FF0000\">-</TD>\n",
       "  <TD bgcolor=\"FF0000\">׃</TD>\n",
       " </TR>\n",
       "</TABLE>"
      ],
      "text/plain": [
       "<IPython.core.display.HTML object>"
      ]
     },
     "metadata": {},
     "output_type": "display_data"
    },
    {
     "name": "stdout",
     "output_type": "stream",
     "text": [
      "======= chapter 42 ==========\n",
      "======= verse 9ab ==========\n"
     ]
    },
    {
     "data": {
      "text/html": [
       "<TABLE border=\"1\" style=\"border: 1px solid #000000; border-collapse: collapse;\" cellpadding=\"4\">\n",
       " <TR>\n",
       "  <TH>masada</TH>\n",
       "  <TH>b</TH>\n",
       " </TR>\n",
       " <TR>\n",
       "  <TD bgcolor=\"FF0000\">⌝        בש{א}ת לאב\n",
       "מטמון שק[ ] [ ]ריד\n",
       "נומה</TD>\n",
       "  <TD bgcolor=\"FF0000\">  בת לאב מטמנת שקר\n",
       "דא֟גה תפריש נ[ ]ם׃</TD>\n",
       " </TR>\n",
       "</TABLE>"
      ],
      "text/plain": [
       "<IPython.core.display.HTML object>"
      ]
     },
     "metadata": {},
     "output_type": "display_data"
    },
    {
     "name": "stdout",
     "output_type": "stream",
     "text": [
      "======= chapter 42 ==========\n",
      "======= verse 9cd ==========\n"
     ]
    },
    {
     "data": {
      "text/html": [
       "<TABLE border=\"1\" style=\"border: 1px solid #000000; border-collapse: collapse;\" cellpadding=\"4\">\n",
       " <TR>\n",
       "  <TH>masada</TH>\n",
       "  <TH>b</TH>\n",
       " </TR>\n",
       " <TR>\n",
       "  <TD bgcolor=\"00FFFF\">  בנעוריה פן</TD>\n",
       "  <TD bgcolor=\"00FFFF\">  בנעוריה פן</TD>\n",
       " </TR>\n",
       " <TR>\n",
       "  <TD bgcolor=\"FF0000\">מאס\n",
       "ובעליה</TD>\n",
       "  <TD bgcolor=\"FF0000\">תגורי̶  ובבתוליה</TD>\n",
       " </TR>\n",
       " <TR>\n",
       "  <TD bgcolor=\"00FFFF\">פן</TD>\n",
       "  <TD bgcolor=\"00FFFF\">פן</TD>\n",
       " </TR>\n",
       " <TR>\n",
       "  <TD bgcolor=\"FF0000\">ת[  ]ה</TD>\n",
       "  <TD bgcolor=\"FF0000\">תפת[ ]</TD>\n",
       " </TR>\n",
       "</TABLE>"
      ],
      "text/plain": [
       "<IPython.core.display.HTML object>"
      ]
     },
     "metadata": {},
     "output_type": "display_data"
    },
    {
     "name": "stdout",
     "output_type": "stream",
     "text": [
      "======= chapter 42 ==========\n",
      "======= verse 10ac ==========\n"
     ]
    },
    {
     "data": {
      "text/html": [
       "<TABLE border=\"1\" style=\"border: 1px solid #000000; border-collapse: collapse;\" cellpadding=\"4\">\n",
       " <TR>\n",
       "  <TH>masada</TH>\n",
       "  <TH>b</TH>\n",
       " </TR>\n",
       " <TR>\n",
       "  <TD bgcolor=\"00FFFF\">  בבתוליה פן</TD>\n",
       "  <TD bgcolor=\"00FFFF\">  בבתוליה פן </TD>\n",
       " </TR>\n",
       " <TR>\n",
       "  <TD bgcolor=\"FF0000\">תחל             ועל\n",
       "אישה[  ] תשטה</TD>\n",
       "  <TD bgcolor=\"FF0000\">תפ֟ותה  ובבית\n",
       "בעלה ל֟א תנשה׃</TD>\n",
       " </TR>\n",
       "</TABLE>"
      ],
      "text/plain": [
       "<IPython.core.display.HTML object>"
      ]
     },
     "metadata": {},
     "output_type": "display_data"
    },
    {
     "name": "stdout",
     "output_type": "stream",
     "text": [
      "======= chapter 42 ==========\n",
      "======= verse 10bd ==========\n"
     ]
    },
    {
     "data": {
      "text/html": [
       "<TABLE border=\"1\" style=\"border: 1px solid #000000; border-collapse: collapse;\" cellpadding=\"4\">\n",
       " <TR>\n",
       "  <TH>masada</TH>\n",
       "  <TH>b</TH>\n",
       " </TR>\n",
       " <TR>\n",
       "  <TD bgcolor=\"00FFFF\">&nbsp;</TD>\n",
       "  <TD bgcolor=\"00FFFF\">&nbsp;</TD>\n",
       " </TR>\n",
       " <TR>\n",
       "  <TD bgcolor=\"FF0000\">בית</TD>\n",
       "  <TD bgcolor=\"FF0000\">בבית </TD>\n",
       " </TR>\n",
       " <TR>\n",
       "  <TD bgcolor=\"00FFFF\">אביה פן</TD>\n",
       "  <TD bgcolor=\"00FFFF\">אביה פן </TD>\n",
       " </TR>\n",
       " <TR>\n",
       "  <TD bgcolor=\"FF0000\">תזריע\n",
       "ובעלה</TD>\n",
       "  <TD bgcolor=\"FF0000\">֟תזנה   ובבית\n",
       "אישה פן</TD>\n",
       " </TR>\n",
       " <TR>\n",
       "  <TD bgcolor=\"00FFFF\">[  ]צר</TD>\n",
       "  <TD bgcolor=\"00FFFF\">[  ]צר</TD>\n",
       " </TR>\n",
       " <TR>\n",
       "  <TD bgcolor=\"FF0000\">[       ]</TD>\n",
       "  <TD bgcolor=\"FF0000\">׃</TD>\n",
       " </TR>\n",
       "</TABLE>"
      ],
      "text/plain": [
       "<IPython.core.display.HTML object>"
      ]
     },
     "metadata": {},
     "output_type": "display_data"
    },
    {
     "name": "stdout",
     "output_type": "stream",
     "text": [
      "======= chapter 42 ==========\n",
      "======= verse 11ab ==========\n"
     ]
    },
    {
     "data": {
      "text/html": [
       "<TABLE border=\"1\" style=\"border: 1px solid #000000; border-collapse: collapse;\" cellpadding=\"4\">\n",
       " <TR>\n",
       "  <TH>masada</TH>\n",
       "  <TH>b</TH>\n",
       " </TR>\n",
       " <TR>\n",
       "  <TD bgcolor=\"FF0000\">  [ ]</TD>\n",
       "  <TD bgcolor=\"FF0000\">  בני </TD>\n",
       " </TR>\n",
       " <TR>\n",
       "  <TD bgcolor=\"00FFFF\">על</TD>\n",
       "  <TD bgcolor=\"00FFFF\">על </TD>\n",
       " </TR>\n",
       " <TR>\n",
       "  <TD bgcolor=\"FF0000\">בת</TD>\n",
       "  <TD bgcolor=\"FF0000\">◦[    ]ל[  ]ך </TD>\n",
       " </TR>\n",
       " <TR>\n",
       "  <TD bgcolor=\"00FFFF\">חזק</TD>\n",
       "  <TD bgcolor=\"00FFFF\">חזק </TD>\n",
       " </TR>\n",
       " <TR>\n",
       "  <TD bgcolor=\"FF0000\">משמר</TD>\n",
       "  <TD bgcolor=\"FF0000\">מוסר פ</TD>\n",
       " </TR>\n",
       " <TR>\n",
       "  <TD bgcolor=\"00FFFF\">[ ]</TD>\n",
       "  <TD bgcolor=\"00FFFF\">[ ]</TD>\n",
       " </TR>\n",
       " <TR>\n",
       "  <TD bgcolor=\"FF0000\">ן תע[   ]</TD>\n",
       "  <TD bgcolor=\"FF0000\">ך שם סר֟ה׃</TD>\n",
       " </TR>\n",
       "</TABLE>"
      ],
      "text/plain": [
       "<IPython.core.display.HTML object>"
      ]
     },
     "metadata": {},
     "output_type": "display_data"
    },
    {
     "name": "stdout",
     "output_type": "stream",
     "text": [
      "======= chapter 42 ==========\n",
      "======= verse 11cd ==========\n"
     ]
    },
    {
     "data": {
      "text/html": [
       "<TABLE border=\"1\" style=\"border: 1px solid #000000; border-collapse: collapse;\" cellpadding=\"4\">\n",
       " <TR>\n",
       "  <TH>masada</TH>\n",
       "  <TH>b</TH>\n",
       " </TR>\n",
       " <TR>\n",
       "  <TD bgcolor=\"00FFFF\">  דבת עיר וקהלת עם</TD>\n",
       "  <TD bgcolor=\"00FFFF\">  דבת עיר וקהלת עם</TD>\n",
       " </TR>\n",
       " <TR>\n",
       "  <TD bgcolor=\"FF0000\">[\n",
       "]ר</TD>\n",
       "  <TD bgcolor=\"FF0000\">והושבתך בעדת שער׃</TD>\n",
       " </TR>\n",
       "</TABLE>"
      ],
      "text/plain": [
       "<IPython.core.display.HTML object>"
      ]
     },
     "metadata": {},
     "output_type": "display_data"
    },
    {
     "name": "stdout",
     "output_type": "stream",
     "text": [
      "======= chapter 42 ==========\n",
      "======= verse 11ef ==========\n"
     ]
    },
    {
     "data": {
      "text/html": [
       "<TABLE border=\"1\" style=\"border: 1px solid #000000; border-collapse: collapse;\" cellpadding=\"4\">\n",
       " <TR>\n",
       "  <TH>masada</TH>\n",
       "  <TH>b</TH>\n",
       " </TR>\n",
       " <TR>\n",
       "  <TD bgcolor=\"00FFFF\">  מקום תגור אל יהי</TD>\n",
       "  <TD bgcolor=\"00FFFF\">  מקום תגור אל יהי</TD>\n",
       " </TR>\n",
       " <TR>\n",
       "  <TD bgcolor=\"FF0000\">[\n",
       "]יב</TD>\n",
       "  <TD bgcolor=\"FF0000\">אשנב\n",
       "ובית מביט מבוא סביב׃</TD>\n",
       " </TR>\n",
       "</TABLE>"
      ],
      "text/plain": [
       "<IPython.core.display.HTML object>"
      ]
     },
     "metadata": {},
     "output_type": "display_data"
    },
    {
     "name": "stdout",
     "output_type": "stream",
     "text": [
      "======= chapter 42 ==========\n",
      "======= verse 12 ==========\n"
     ]
    },
    {
     "data": {
      "text/html": [
       "<TABLE border=\"1\" style=\"border: 1px solid #000000; border-collapse: collapse;\" cellpadding=\"4\">\n",
       " <TR>\n",
       "  <TH>masada</TH>\n",
       "  <TH>b</TH>\n",
       " </TR>\n",
       " <TR>\n",
       "  <TD bgcolor=\"00FFFF\">  לכל</TD>\n",
       "  <TD bgcolor=\"00FFFF\">  לכל </TD>\n",
       " </TR>\n",
       " <TR>\n",
       "  <TD bgcolor=\"FF0000\">זכר</TD>\n",
       "  <TD bgcolor=\"FF0000\">זכ֟ר </TD>\n",
       " </TR>\n",
       " <TR>\n",
       "  <TD bgcolor=\"00FFFF\">אל</TD>\n",
       "  <TD bgcolor=\"00FFFF\">אל </TD>\n",
       " </TR>\n",
       " <TR>\n",
       "  <TD bgcolor=\"FF0000\">תבן</TD>\n",
       "  <TD bgcolor=\"FF0000\">תתן </TD>\n",
       " </TR>\n",
       " <TR>\n",
       "  <TD bgcolor=\"00FFFF\">תאר</TD>\n",
       "  <TD bgcolor=\"00FFFF\">תאר</TD>\n",
       " </TR>\n",
       " <TR>\n",
       "  <TD bgcolor=\"FF0000\">[       ]</TD>\n",
       "  <TD bgcolor=\"FF0000\">ובית נשים אל תסתו֟יד\n",
       "׃</TD>\n",
       " </TR>\n",
       "</TABLE>"
      ],
      "text/plain": [
       "<IPython.core.display.HTML object>"
      ]
     },
     "metadata": {},
     "output_type": "display_data"
    },
    {
     "name": "stdout",
     "output_type": "stream",
     "text": [
      "======= chapter 42 ==========\n",
      "======= verse 13 ==========\n"
     ]
    },
    {
     "data": {
      "text/html": [
       "<TABLE border=\"1\" style=\"border: 1px solid #000000; border-collapse: collapse;\" cellpadding=\"4\">\n",
       " <TR>\n",
       "  <TH>masada</TH>\n",
       "  <TH>b</TH>\n",
       " </TR>\n",
       " <TR>\n",
       "  <TD bgcolor=\"00FFFF\">  כי מבגד יצא</TD>\n",
       "  <TD bgcolor=\"00FFFF\">  כי מבגד יצא </TD>\n",
       " </TR>\n",
       " <TR>\n",
       "  <TD bgcolor=\"FF0000\">סס              [\n",
       "]שה</TD>\n",
       "  <TD bgcolor=\"FF0000\">עש      ומאשה </TD>\n",
       " </TR>\n",
       " <TR>\n",
       "  <TD bgcolor=\"00FFFF\">רעת אשה</TD>\n",
       "  <TD bgcolor=\"00FFFF\">רעת אשה</TD>\n",
       " </TR>\n",
       " <TR>\n",
       "  <TD bgcolor=\"FF0000\">-</TD>\n",
       "  <TD bgcolor=\"FF0000\">׃</TD>\n",
       " </TR>\n",
       "</TABLE>"
      ],
      "text/plain": [
       "<IPython.core.display.HTML object>"
      ]
     },
     "metadata": {},
     "output_type": "display_data"
    },
    {
     "name": "stdout",
     "output_type": "stream",
     "text": [
      "======= chapter 42 ==========\n",
      "======= verse 15ab ==========\n"
     ]
    },
    {
     "data": {
      "text/html": [
       "<TABLE border=\"1\" style=\"border: 1px solid #000000; border-collapse: collapse;\" cellpadding=\"4\">\n",
       " <TR>\n",
       "  <TH>masada</TH>\n",
       "  <TH>b</TH>\n",
       " </TR>\n",
       " <TR>\n",
       "  <TD bgcolor=\"00FFFF\">&nbsp;</TD>\n",
       "  <TD bgcolor=\"00FFFF\">&nbsp;</TD>\n",
       " </TR>\n",
       " <TR>\n",
       "  <TD bgcolor=\"FF0000\">אזכרה</TD>\n",
       "  <TD bgcolor=\"FF0000\">אזכר</TD>\n",
       " </TR>\n",
       " <TR>\n",
       "  <TD bgcolor=\"00FFFF\">נא מעשי אל\n",
       "וזה חזיתי</TD>\n",
       "  <TD bgcolor=\"00FFFF\">נא מעשי אל      וזה\n",
       "חזיתי</TD>\n",
       " </TR>\n",
       " <TR>\n",
       "  <TD bgcolor=\"FF0000\">ואשננה</TD>\n",
       "  <TD bgcolor=\"FF0000\">ואספרה׃</TD>\n",
       " </TR>\n",
       "</TABLE>"
      ],
      "text/plain": [
       "<IPython.core.display.HTML object>"
      ]
     },
     "metadata": {},
     "output_type": "display_data"
    },
    {
     "name": "stdout",
     "output_type": "stream",
     "text": [
      "======= chapter 42 ==========\n",
      "======= verse 15cd ==========\n"
     ]
    },
    {
     "data": {
      "text/html": [
       "<TABLE border=\"1\" style=\"border: 1px solid #000000; border-collapse: collapse;\" cellpadding=\"4\">\n",
       " <TR>\n",
       "  <TH>masada</TH>\n",
       "  <TH>b</TH>\n",
       " </TR>\n",
       " <TR>\n",
       "  <TD bgcolor=\"00FFFF\">&nbsp;</TD>\n",
       "  <TD bgcolor=\"00FFFF\">&nbsp;</TD>\n",
       " </TR>\n",
       " <TR>\n",
       "  <TD bgcolor=\"FF0000\">באמר אדני מעשיו\n",
       "ופעל רצנו</TD>\n",
       "  <TD bgcolor=\"FF0000\">באומר אלהים  רצ֟ונו\n",
       "ופועל רצונו </TD>\n",
       " </TR>\n",
       " <TR>\n",
       "  <TD bgcolor=\"00FFFF\">לקחו</TD>\n",
       "  <TD bgcolor=\"00FFFF\">לקחו</TD>\n",
       " </TR>\n",
       " <TR>\n",
       "  <TD bgcolor=\"FF0000\">-</TD>\n",
       "  <TD bgcolor=\"FF0000\">׃</TD>\n",
       " </TR>\n",
       "</TABLE>"
      ],
      "text/plain": [
       "<IPython.core.display.HTML object>"
      ]
     },
     "metadata": {},
     "output_type": "display_data"
    },
    {
     "name": "stdout",
     "output_type": "stream",
     "text": [
      "======= chapter 42 ==========\n",
      "======= verse 16 ==========\n"
     ]
    },
    {
     "data": {
      "text/html": [
       "<TABLE border=\"1\" style=\"border: 1px solid #000000; border-collapse: collapse;\" cellpadding=\"4\">\n",
       " <TR>\n",
       "  <TH>masada</TH>\n",
       "  <TH>b</TH>\n",
       " </TR>\n",
       " <TR>\n",
       "  <TD bgcolor=\"00FFFF\">  שמש</TD>\n",
       "  <TD bgcolor=\"00FFFF\">  שמש </TD>\n",
       " </TR>\n",
       " <TR>\n",
       "  <TD bgcolor=\"FF0000\">זהרת</TD>\n",
       "  <TD bgcolor=\"FF0000\">זורחת </TD>\n",
       " </TR>\n",
       " <TR>\n",
       "  <TD bgcolor=\"00FFFF\">על כל</TD>\n",
       "  <TD bgcolor=\"00FFFF\">על כל </TD>\n",
       " </TR>\n",
       " <TR>\n",
       "  <TD bgcolor=\"FF0000\">נגלת[ ] [ ]בוד אדני\n",
       "מלא</TD>\n",
       "  <TD bgcolor=\"FF0000\">נגלתה\n",
       "וכבוד ייי על כל </TD>\n",
       " </TR>\n",
       " <TR>\n",
       "  <TD bgcolor=\"00FFFF\">מעשיו</TD>\n",
       "  <TD bgcolor=\"00FFFF\">מעשיו</TD>\n",
       " </TR>\n",
       " <TR>\n",
       "  <TD bgcolor=\"FF0000\">-</TD>\n",
       "  <TD bgcolor=\"FF0000\">׃</TD>\n",
       " </TR>\n",
       "</TABLE>"
      ],
      "text/plain": [
       "<IPython.core.display.HTML object>"
      ]
     },
     "metadata": {},
     "output_type": "display_data"
    },
    {
     "name": "stdout",
     "output_type": "stream",
     "text": [
      "======= chapter 42 ==========\n",
      "======= verse 17ab ==========\n"
     ]
    },
    {
     "data": {
      "text/html": [
       "<TABLE border=\"1\" style=\"border: 1px solid #000000; border-collapse: collapse;\" cellpadding=\"4\">\n",
       " <TR>\n",
       "  <TH>masada</TH>\n",
       "  <TH>b</TH>\n",
       " </TR>\n",
       " <TR>\n",
       "  <TD bgcolor=\"00FFFF\">  לא</TD>\n",
       "  <TD bgcolor=\"00FFFF\">  לא</TD>\n",
       " </TR>\n",
       " <TR>\n",
       "  <TD bgcolor=\"FF0000\">השפיקו קדשי</TD>\n",
       "  <TD bgcolor=\"FF0000\">הספיקו קדושי</TD>\n",
       " </TR>\n",
       " <TR>\n",
       "  <TD bgcolor=\"00FFFF\">אל              לספר</TD>\n",
       "  <TD bgcolor=\"00FFFF\">אל      לספר</TD>\n",
       " </TR>\n",
       " <TR>\n",
       "  <TD bgcolor=\"FF0000\">כל נפלאתיו</TD>\n",
       "  <TD bgcolor=\"FF0000\">נפלאות יי֟י׃</TD>\n",
       " </TR>\n",
       "</TABLE>"
      ],
      "text/plain": [
       "<IPython.core.display.HTML object>"
      ]
     },
     "metadata": {},
     "output_type": "display_data"
    },
    {
     "name": "stdout",
     "output_type": "stream",
     "text": [
      "======= chapter 42 ==========\n",
      "======= verse 17cd ==========\n"
     ]
    },
    {
     "data": {
      "text/html": [
       "<TABLE border=\"1\" style=\"border: 1px solid #000000; border-collapse: collapse;\" cellpadding=\"4\">\n",
       " <TR>\n",
       "  <TH>masada</TH>\n",
       "  <TH>b</TH>\n",
       " </TR>\n",
       " <TR>\n",
       "  <TD bgcolor=\"00FFFF\">&nbsp;</TD>\n",
       "  <TD bgcolor=\"00FFFF\">&nbsp;</TD>\n",
       " </TR>\n",
       " <TR>\n",
       "  <TD bgcolor=\"FF0000\">אמץ אדני</TD>\n",
       "  <TD bgcolor=\"FF0000\">אימ֟ץ אלהים </TD>\n",
       " </TR>\n",
       " <TR>\n",
       "  <TD bgcolor=\"00FFFF\">צבאיו</TD>\n",
       "  <TD bgcolor=\"00FFFF\">צבאיו</TD>\n",
       " </TR>\n",
       " <TR>\n",
       "  <TD bgcolor=\"FF0000\">להתחזק</TD>\n",
       "  <TD bgcolor=\"FF0000\">להת֟חזק</TD>\n",
       " </TR>\n",
       " <TR>\n",
       "  <TD bgcolor=\"00FFFF\">לפני כבודו</TD>\n",
       "  <TD bgcolor=\"00FFFF\">לפני כבודו</TD>\n",
       " </TR>\n",
       " <TR>\n",
       "  <TD bgcolor=\"FF0000\">-</TD>\n",
       "  <TD bgcolor=\"FF0000\">׃</TD>\n",
       " </TR>\n",
       "</TABLE>"
      ],
      "text/plain": [
       "<IPython.core.display.HTML object>"
      ]
     },
     "metadata": {},
     "output_type": "display_data"
    },
    {
     "name": "stdout",
     "output_type": "stream",
     "text": [
      "======= chapter 42 ==========\n",
      "======= verse 19 ==========\n"
     ]
    },
    {
     "data": {
      "text/html": [
       "<TABLE border=\"1\" style=\"border: 1px solid #000000; border-collapse: collapse;\" cellpadding=\"4\">\n",
       " <TR>\n",
       "  <TH>masada</TH>\n",
       "  <TH>b</TH>\n",
       " </TR>\n",
       " <TR>\n",
       "  <TD bgcolor=\"00FFFF\">  מחוה חליפות</TD>\n",
       "  <TD bgcolor=\"00FFFF\">  מחוה חליפות </TD>\n",
       " </TR>\n",
       " <TR>\n",
       "  <TD bgcolor=\"FF0000\">[ ]             [\n",
       "]מגלה</TD>\n",
       "  <TD bgcolor=\"FF0000\">נ֟היות  ומגלה</TD>\n",
       " </TR>\n",
       " <TR>\n",
       "  <TD bgcolor=\"00FFFF\">חקר נסתרות</TD>\n",
       "  <TD bgcolor=\"00FFFF\">חקר נסתרות</TD>\n",
       " </TR>\n",
       " <TR>\n",
       "  <TD bgcolor=\"FF0000\">-</TD>\n",
       "  <TD bgcolor=\"FF0000\">׃</TD>\n",
       " </TR>\n",
       "</TABLE>"
      ],
      "text/plain": [
       "<IPython.core.display.HTML object>"
      ]
     },
     "metadata": {},
     "output_type": "display_data"
    },
    {
     "name": "stdout",
     "output_type": "stream",
     "text": [
      "======= chapter 42 ==========\n",
      "======= verse 20 ==========\n"
     ]
    },
    {
     "data": {
      "text/html": [
       "<TABLE border=\"1\" style=\"border: 1px solid #000000; border-collapse: collapse;\" cellpadding=\"4\">\n",
       " <TR>\n",
       "  <TH>masada</TH>\n",
       "  <TH>b</TH>\n",
       " </TR>\n",
       " <TR>\n",
       "  <TD bgcolor=\"00FFFF\">  לא נעדר ממנו</TD>\n",
       "  <TD bgcolor=\"00FFFF\">  לא נעדר ממנו</TD>\n",
       " </TR>\n",
       " <TR>\n",
       "  <TD bgcolor=\"FF0000\">-</TD>\n",
       "  <TD bgcolor=\"FF0000\">כל</TD>\n",
       " </TR>\n",
       " <TR>\n",
       "  <TD bgcolor=\"00FFFF\">שכל             ולא</TD>\n",
       "  <TD bgcolor=\"00FFFF\">שכל     ולא </TD>\n",
       " </TR>\n",
       " <TR>\n",
       "  <TD bgcolor=\"FF0000\">עב[ ]</TD>\n",
       "  <TD bgcolor=\"FF0000\">חלפ֟</TD>\n",
       " </TR>\n",
       " <TR>\n",
       "  <TD bgcolor=\"00FFFF\">ו כל</TD>\n",
       "  <TD bgcolor=\"00FFFF\">ו כל </TD>\n",
       " </TR>\n",
       " <TR>\n",
       "  <TD bgcolor=\"FF0000\">דבר</TD>\n",
       "  <TD bgcolor=\"FF0000\">ד֟בר׃</TD>\n",
       " </TR>\n",
       "</TABLE>"
      ],
      "text/plain": [
       "<IPython.core.display.HTML object>"
      ]
     },
     "metadata": {},
     "output_type": "display_data"
    },
    {
     "name": "stdout",
     "output_type": "stream",
     "text": [
      "======= chapter 42 ==========\n",
      "======= verse 21ab ==========\n"
     ]
    },
    {
     "data": {
      "text/html": [
       "<TABLE border=\"1\" style=\"border: 1px solid #000000; border-collapse: collapse;\" cellpadding=\"4\">\n",
       " <TR>\n",
       "  <TH>masada</TH>\n",
       "  <TH>b</TH>\n",
       " </TR>\n",
       " <TR>\n",
       "  <TD bgcolor=\"00FFFF\">&nbsp;</TD>\n",
       "  <TD bgcolor=\"00FFFF\">&nbsp;</TD>\n",
       " </TR>\n",
       " <TR>\n",
       "  <TD bgcolor=\"FF0000\">גבורת חכמ[      ]</TD>\n",
       "  <TD bgcolor=\"FF0000\">גב[ ]ת חכמתו תכן</TD>\n",
       " </TR>\n",
       " <TR>\n",
       "  <TD bgcolor=\"00FFFF\">אחד</TD>\n",
       "  <TD bgcolor=\"00FFFF\">אחד </TD>\n",
       " </TR>\n",
       " <TR>\n",
       "  <TD bgcolor=\"FF0000\">ה[ ]א [ ]</TD>\n",
       "  <TD bgcolor=\"FF0000\">הוא מע֟</TD>\n",
       " </TR>\n",
       " <TR>\n",
       "  <TD bgcolor=\"00FFFF\">ולם</TD>\n",
       "  <TD bgcolor=\"00FFFF\">ולם</TD>\n",
       " </TR>\n",
       " <TR>\n",
       "  <TD bgcolor=\"FF0000\">-</TD>\n",
       "  <TD bgcolor=\"FF0000\">׃</TD>\n",
       " </TR>\n",
       "</TABLE>"
      ],
      "text/plain": [
       "<IPython.core.display.HTML object>"
      ]
     },
     "metadata": {},
     "output_type": "display_data"
    },
    {
     "name": "stdout",
     "output_type": "stream",
     "text": [
      "======= chapter 42 ==========\n",
      "======= verse 21cd ==========\n"
     ]
    },
    {
     "data": {
      "text/html": [
       "<TABLE border=\"1\" style=\"border: 1px solid #000000; border-collapse: collapse;\" cellpadding=\"4\">\n",
       " <TR>\n",
       "  <TH>masada</TH>\n",
       "  <TH>b</TH>\n",
       " </TR>\n",
       " <TR>\n",
       "  <TD bgcolor=\"00FFFF\">&nbsp;</TD>\n",
       "  <TD bgcolor=\"00FFFF\">&nbsp;</TD>\n",
       " </TR>\n",
       " <TR>\n",
       "  <TD bgcolor=\"FF0000\">לא נאסף</TD>\n",
       "  <TD bgcolor=\"FF0000\">ל</TD>\n",
       " </TR>\n",
       " <TR>\n",
       "  <TD bgcolor=\"00FFFF\">[ ]</TD>\n",
       "  <TD bgcolor=\"00FFFF\">[ ]</TD>\n",
       " </TR>\n",
       " <TR>\n",
       "  <TD bgcolor=\"FF0000\">א נ[ ]צ[ ]      [\n",
       "]ל[   ]</TD>\n",
       "  <TD bgcolor=\"FF0000\">אסף לא נאצל     ולא\n",
       "צרי֟</TD>\n",
       " </TR>\n",
       " <TR>\n",
       "  <TD bgcolor=\"00FFFF\">ך לכל מבין</TD>\n",
       "  <TD bgcolor=\"00FFFF\">ך לכל מבין</TD>\n",
       " </TR>\n",
       " <TR>\n",
       "  <TD bgcolor=\"FF0000\">-</TD>\n",
       "  <TD bgcolor=\"FF0000\">׃</TD>\n",
       " </TR>\n",
       "</TABLE>"
      ],
      "text/plain": [
       "<IPython.core.display.HTML object>"
      ]
     },
     "metadata": {},
     "output_type": "display_data"
    },
    {
     "name": "stdout",
     "output_type": "stream",
     "text": [
      "======= chapter 43 ==========\n",
      "======= verse 3 ==========\n"
     ]
    },
    {
     "data": {
      "text/html": [
       "<TABLE border=\"1\" style=\"border: 1px solid #000000; border-collapse: collapse;\" cellpadding=\"4\">\n",
       " <TR>\n",
       "  <TH>masada</TH>\n",
       "  <TH>b</TH>\n",
       " </TR>\n",
       " <TR>\n",
       "  <TD bgcolor=\"00FFFF\">  בהצהירו</TD>\n",
       "  <TD bgcolor=\"00FFFF\">  בהצהירו</TD>\n",
       " </TR>\n",
       " <TR>\n",
       "  <TD bgcolor=\"FF0000\">יר[ ]ח</TD>\n",
       "  <TD bgcolor=\"FF0000\">ירתיח</TD>\n",
       " </TR>\n",
       " <TR>\n",
       "  <TD bgcolor=\"00FFFF\">תבל</TD>\n",
       "  <TD bgcolor=\"00FFFF\">תבל</TD>\n",
       " </TR>\n",
       " <TR>\n",
       "  <TD bgcolor=\"FF0000\">ולפני חרב</TD>\n",
       "  <TD bgcolor=\"FF0000\">לפני חרבו </TD>\n",
       " </TR>\n",
       " <TR>\n",
       "  <TD bgcolor=\"00FFFF\">מי</TD>\n",
       "  <TD bgcolor=\"00FFFF\">מי </TD>\n",
       " </TR>\n",
       " <TR>\n",
       "  <TD bgcolor=\"FF0000\">יתכ[ ]לל</TD>\n",
       "  <TD bgcolor=\"FF0000\">יתכלכל׃</TD>\n",
       " </TR>\n",
       "</TABLE>"
      ],
      "text/plain": [
       "<IPython.core.display.HTML object>"
      ]
     },
     "metadata": {},
     "output_type": "display_data"
    },
    {
     "name": "stdout",
     "output_type": "stream",
     "text": [
      "======= chapter 43 ==========\n",
      "======= verse 4ab ==========\n"
     ]
    },
    {
     "data": {
      "text/html": [
       "<TABLE border=\"1\" style=\"border: 1px solid #000000; border-collapse: collapse;\" cellpadding=\"4\">\n",
       " <TR>\n",
       "  <TH>masada</TH>\n",
       "  <TH>b</TH>\n",
       " </TR>\n",
       " <TR>\n",
       "  <TD bgcolor=\"FF0000\">  [ ]ור</TD>\n",
       "  <TD bgcolor=\"FF0000\">  כור </TD>\n",
       " </TR>\n",
       " <TR>\n",
       "  <TD bgcolor=\"00FFFF\">נפוח</TD>\n",
       "  <TD bgcolor=\"00FFFF\">נפוח </TD>\n",
       " </TR>\n",
       " <TR>\n",
       "  <TD bgcolor=\"FF0000\">מעשי מוצק       של[\n",
       "]מש [ ]שיק</TD>\n",
       "  <TD bgcolor=\"FF0000\">מהם מצו֟ק       שו֟ל\n",
       "ח שמש ידלי֟ק הרים ׃</TD>\n",
       " </TR>\n",
       "</TABLE>"
      ],
      "text/plain": [
       "<IPython.core.display.HTML object>"
      ]
     },
     "metadata": {},
     "output_type": "display_data"
    },
    {
     "name": "stdout",
     "output_type": "stream",
     "text": [
      "======= chapter 43 ==========\n",
      "======= verse 4cd ==========\n"
     ]
    },
    {
     "data": {
      "text/html": [
       "<TABLE border=\"1\" style=\"border: 1px solid #000000; border-collapse: collapse;\" cellpadding=\"4\">\n",
       " <TR>\n",
       "  <TH>masada</TH>\n",
       "  <TH>b</TH>\n",
       " </TR>\n",
       " <TR>\n",
       "  <TD bgcolor=\"00FFFF\">&nbsp;</TD>\n",
       "  <TD bgcolor=\"00FFFF\">&nbsp;</TD>\n",
       " </TR>\n",
       " <TR>\n",
       "  <TD bgcolor=\"FF0000\">לשון</TD>\n",
       "  <TD bgcolor=\"FF0000\">לש֟און </TD>\n",
       " </TR>\n",
       " <TR>\n",
       "  <TD bgcolor=\"00FFFF\">מאור</TD>\n",
       "  <TD bgcolor=\"00FFFF\">מאור </TD>\n",
       " </TR>\n",
       " <TR>\n",
       "  <TD bgcolor=\"FF0000\">ת[ג]מיר נושבת   [\n",
       "]</TD>\n",
       "  <TD bgcolor=\"FF0000\">תגמר נושבת\n",
       "ומנורה תכוה עין׃</TD>\n",
       " </TR>\n",
       "</TABLE>"
      ],
      "text/plain": [
       "<IPython.core.display.HTML object>"
      ]
     },
     "metadata": {},
     "output_type": "display_data"
    },
    {
     "name": "stdout",
     "output_type": "stream",
     "text": [
      "======= chapter 43 ==========\n",
      "======= verse 5 ==========\n"
     ]
    },
    {
     "data": {
      "text/html": [
       "<TABLE border=\"1\" style=\"border: 1px solid #000000; border-collapse: collapse;\" cellpadding=\"4\">\n",
       " <TR>\n",
       "  <TH>masada</TH>\n",
       "  <TH>b</TH>\n",
       " </TR>\n",
       " <TR>\n",
       "  <TD bgcolor=\"00FFFF\">  כי</TD>\n",
       "  <TD bgcolor=\"00FFFF\">  כי </TD>\n",
       " </TR>\n",
       " <TR>\n",
       "  <TD bgcolor=\"FF0000\">גדול אדני עשהו\n",
       "ודבר[   ]</TD>\n",
       "  <TD bgcolor=\"FF0000\">ג֟דיל ייי ֟עושהו\n",
       "ודבריו ינצ֟ח אביריו׃</TD>\n",
       " </TR>\n",
       "</TABLE>"
      ],
      "text/plain": [
       "<IPython.core.display.HTML object>"
      ]
     },
     "metadata": {},
     "output_type": "display_data"
    },
    {
     "name": "stdout",
     "output_type": "stream",
     "text": [
      "======= chapter 43 ==========\n",
      "======= verse 6 ==========\n"
     ]
    },
    {
     "data": {
      "text/html": [
       "<TABLE border=\"1\" style=\"border: 1px solid #000000; border-collapse: collapse;\" cellpadding=\"4\">\n",
       " <TR>\n",
       "  <TH>masada</TH>\n",
       "  <TH>b</TH>\n",
       " </TR>\n",
       " <TR>\n",
       "  <TD bgcolor=\"00FFFF\">  וגם</TD>\n",
       "  <TD bgcolor=\"00FFFF\">  וגם </TD>\n",
       " </TR>\n",
       " <TR>\n",
       "  <TD bgcolor=\"FF0000\">[י]רח יאריח עתות\n",
       "ממ[     ]</TD>\n",
       "  <TD bgcolor=\"FF0000\">ירח ירח עתות ֟ ֟שבות\n",
       "ממשלת קץ ואות עולם׃</TD>\n",
       " </TR>\n",
       "</TABLE>"
      ],
      "text/plain": [
       "<IPython.core.display.HTML object>"
      ]
     },
     "metadata": {},
     "output_type": "display_data"
    },
    {
     "name": "stdout",
     "output_type": "stream",
     "text": [
      "======= chapter 43 ==========\n",
      "======= verse 7 ==========\n"
     ]
    },
    {
     "data": {
      "text/html": [
       "<TABLE border=\"1\" style=\"border: 1px solid #000000; border-collapse: collapse;\" cellpadding=\"4\">\n",
       " <TR>\n",
       "  <TH>masada</TH>\n",
       "  <TH>b</TH>\n",
       " </TR>\n",
       " <TR>\n",
       "  <TD bgcolor=\"00FFFF\">&nbsp;</TD>\n",
       "  <TD bgcolor=\"00FFFF\">&nbsp;</TD>\n",
       " </TR>\n",
       " <TR>\n",
       "  <TD bgcolor=\"FF0000\">לו מו[ע]ד וממנו חג\n",
       "[       ]</TD>\n",
       "  <TD bgcolor=\"FF0000\">בם ֟מועד וז֟מני חוק\n",
       "וחפץ עתה בתקופתו׃</TD>\n",
       " </TR>\n",
       "</TABLE>"
      ],
      "text/plain": [
       "<IPython.core.display.HTML object>"
      ]
     },
     "metadata": {},
     "output_type": "display_data"
    },
    {
     "name": "stdout",
     "output_type": "stream",
     "text": [
      "======= chapter 43 ==========\n",
      "======= verse 8ab ==========\n"
     ]
    },
    {
     "data": {
      "text/html": [
       "<TABLE border=\"1\" style=\"border: 1px solid #000000; border-collapse: collapse;\" cellpadding=\"4\">\n",
       " <TR>\n",
       "  <TH>masada</TH>\n",
       "  <TH>b</TH>\n",
       " </TR>\n",
       " <TR>\n",
       "  <TD bgcolor=\"00FFFF\">  חדש</TD>\n",
       "  <TD bgcolor=\"00FFFF\">  חדש </TD>\n",
       " </TR>\n",
       " <TR>\n",
       "  <TD bgcolor=\"FF0000\">כשמו הוא מת[  ] [\n",
       "]</TD>\n",
       "  <TD bgcolor=\"FF0000\">בחד֟שו ה֟וא מתחדש\n",
       "מה נורא בהשתנותו׃</TD>\n",
       " </TR>\n",
       "</TABLE>"
      ],
      "text/plain": [
       "<IPython.core.display.HTML object>"
      ]
     },
     "metadata": {},
     "output_type": "display_data"
    },
    {
     "name": "stdout",
     "output_type": "stream",
     "text": [
      "======= chapter 43 ==========\n",
      "======= verse 8cd ==========\n"
     ]
    },
    {
     "data": {
      "text/html": [
       "<TABLE border=\"1\" style=\"border: 1px solid #000000; border-collapse: collapse;\" cellpadding=\"4\">\n",
       " <TR>\n",
       "  <TH>masada</TH>\n",
       "  <TH>b</TH>\n",
       " </TR>\n",
       " <TR>\n",
       "  <TD bgcolor=\"00FFFF\">  כלי צבא נבלי מרום</TD>\n",
       "  <TD bgcolor=\"00FFFF\">  כלי צבא נבלי מרום</TD>\n",
       " </TR>\n",
       " <TR>\n",
       "  <TD bgcolor=\"FF0000\">מרצף [  ]</TD>\n",
       "  <TD bgcolor=\"FF0000\">מרצ֟ף רקיע מזהירתו׃</TD>\n",
       " </TR>\n",
       "</TABLE>"
      ],
      "text/plain": [
       "<IPython.core.display.HTML object>"
      ]
     },
     "metadata": {},
     "output_type": "display_data"
    },
    {
     "name": "stdout",
     "output_type": "stream",
     "text": [
      "======= chapter 43 ==========\n",
      "======= verse 9 ==========\n"
     ]
    },
    {
     "data": {
      "text/html": [
       "<TABLE border=\"1\" style=\"border: 1px solid #000000; border-collapse: collapse;\" cellpadding=\"4\">\n",
       " <TR>\n",
       "  <TH>masada</TH>\n",
       "  <TH>b</TH>\n",
       " </TR>\n",
       " <TR>\n",
       "  <TD bgcolor=\"00FFFF\">&nbsp;</TD>\n",
       "  <TD bgcolor=\"00FFFF\">&nbsp;</TD>\n",
       " </TR>\n",
       " <TR>\n",
       "  <TD bgcolor=\"FF0000\">תור</TD>\n",
       "  <TD bgcolor=\"FF0000\">תואר </TD>\n",
       " </TR>\n",
       " <TR>\n",
       "  <TD bgcolor=\"00FFFF\">שמים</TD>\n",
       "  <TD bgcolor=\"00FFFF\">שמים </TD>\n",
       " </TR>\n",
       " <TR>\n",
       "  <TD bgcolor=\"FF0000\">והוד</TD>\n",
       "  <TD bgcolor=\"FF0000\">והדר </TD>\n",
       " </TR>\n",
       " <TR>\n",
       "  <TD bgcolor=\"00FFFF\">כוכב</TD>\n",
       "  <TD bgcolor=\"00FFFF\">כוכב</TD>\n",
       " </TR>\n",
       " <TR>\n",
       "  <TD bgcolor=\"FF0000\">עדי משריק במרמ[ ]</TD>\n",
       "  <TD bgcolor=\"FF0000\">ואורו ֟מזהיר במרומי \n",
       "אל׃</TD>\n",
       " </TR>\n",
       "</TABLE>"
      ],
      "text/plain": [
       "<IPython.core.display.HTML object>"
      ]
     },
     "metadata": {},
     "output_type": "display_data"
    },
    {
     "name": "stdout",
     "output_type": "stream",
     "text": [
      "======= chapter 43 ==========\n",
      "======= verse 10 ==========\n"
     ]
    },
    {
     "data": {
      "text/html": [
       "<TABLE border=\"1\" style=\"border: 1px solid #000000; border-collapse: collapse;\" cellpadding=\"4\">\n",
       " <TR>\n",
       "  <TH>masada</TH>\n",
       "  <TH>b</TH>\n",
       " </TR>\n",
       " <TR>\n",
       "  <TD bgcolor=\"00FFFF\">  בדבר</TD>\n",
       "  <TD bgcolor=\"00FFFF\">  בדבר </TD>\n",
       " </TR>\n",
       " <TR>\n",
       "  <TD bgcolor=\"FF0000\">אדני</TD>\n",
       "  <TD bgcolor=\"FF0000\">אל </TD>\n",
       " </TR>\n",
       " <TR>\n",
       "  <TD bgcolor=\"00FFFF\">יעמד חק         ולא</TD>\n",
       "  <TD bgcolor=\"00FFFF\">יעמד חק ולא </TD>\n",
       " </TR>\n",
       " <TR>\n",
       "  <TD bgcolor=\"FF0000\">ישח באשמרתם</TD>\n",
       "  <TD bgcolor=\"FF0000\">יש֟ח באשמרותם׃</TD>\n",
       " </TR>\n",
       "</TABLE>"
      ],
      "text/plain": [
       "<IPython.core.display.HTML object>"
      ]
     },
     "metadata": {},
     "output_type": "display_data"
    },
    {
     "name": "stdout",
     "output_type": "stream",
     "text": [
      "======= chapter 43 ==========\n",
      "======= verse 11 ==========\n"
     ]
    },
    {
     "data": {
      "text/html": [
       "<TABLE border=\"1\" style=\"border: 1px solid #000000; border-collapse: collapse;\" cellpadding=\"4\">\n",
       " <TR>\n",
       "  <TH>masada</TH>\n",
       "  <TH>b</TH>\n",
       " </TR>\n",
       " <TR>\n",
       "  <TD bgcolor=\"00FFFF\">  ראה קשת וברך</TD>\n",
       "  <TD bgcolor=\"00FFFF\">  ראה קשת וברך </TD>\n",
       " </TR>\n",
       " <TR>\n",
       "  <TD bgcolor=\"FF0000\">עשיה</TD>\n",
       "  <TD bgcolor=\"FF0000\">עוש֟יה</TD>\n",
       " </TR>\n",
       " <TR>\n",
       "  <TD bgcolor=\"00FFFF\">כי מאד</TD>\n",
       "  <TD bgcolor=\"00FFFF\">כי מאד </TD>\n",
       " </TR>\n",
       " <TR>\n",
       "  <TD bgcolor=\"FF0000\">נהדר נהרתה</TD>\n",
       "  <TD bgcolor=\"FF0000\">נא֟דרה בכבוד׃</TD>\n",
       " </TR>\n",
       "</TABLE>"
      ],
      "text/plain": [
       "<IPython.core.display.HTML object>"
      ]
     },
     "metadata": {},
     "output_type": "display_data"
    },
    {
     "name": "stdout",
     "output_type": "stream",
     "text": [
      "======= chapter 43 ==========\n",
      "======= verse 12 ==========\n"
     ]
    },
    {
     "data": {
      "text/html": [
       "<TABLE border=\"1\" style=\"border: 1px solid #000000; border-collapse: collapse;\" cellpadding=\"4\">\n",
       " <TR>\n",
       "  <TH>masada</TH>\n",
       "  <TH>b</TH>\n",
       " </TR>\n",
       " <TR>\n",
       "  <TD bgcolor=\"00FFFF\">&nbsp;</TD>\n",
       "  <TD bgcolor=\"00FFFF\">&nbsp;</TD>\n",
       " </TR>\n",
       " <TR>\n",
       "  <TD bgcolor=\"FF0000\">הוג [        ]</TD>\n",
       "  <TD bgcolor=\"FF0000\">חוק ֟הקיפה </TD>\n",
       " </TR>\n",
       " <TR>\n",
       "  <TD bgcolor=\"00FFFF\">בכבודה</TD>\n",
       "  <TD bgcolor=\"00FFFF\">בכבודה</TD>\n",
       " </TR>\n",
       " <TR>\n",
       "  <TD bgcolor=\"FF0000\">[ ]יד אל</TD>\n",
       "  <TD bgcolor=\"FF0000\">ויד א֟ל </TD>\n",
       " </TR>\n",
       " <TR>\n",
       "  <TD bgcolor=\"00FFFF\">נטתה</TD>\n",
       "  <TD bgcolor=\"00FFFF\">נטתה</TD>\n",
       " </TR>\n",
       " <TR>\n",
       "  <TD bgcolor=\"FF0000\">בגבו[   ]</TD>\n",
       "  <TD bgcolor=\"FF0000\">בגבורה[׃]</TD>\n",
       " </TR>\n",
       "</TABLE>"
      ],
      "text/plain": [
       "<IPython.core.display.HTML object>"
      ]
     },
     "metadata": {},
     "output_type": "display_data"
    },
    {
     "name": "stdout",
     "output_type": "stream",
     "text": [
      "======= chapter 43 ==========\n",
      "======= verse 13 ==========\n"
     ]
    },
    {
     "data": {
      "text/html": [
       "<TABLE border=\"1\" style=\"border: 1px solid #000000; border-collapse: collapse;\" cellpadding=\"4\">\n",
       " <TR>\n",
       "  <TH>masada</TH>\n",
       "  <TH>b</TH>\n",
       " </TR>\n",
       " <TR>\n",
       "  <TD bgcolor=\"00FFFF\">&nbsp;</TD>\n",
       "  <TD bgcolor=\"00FFFF\">&nbsp;</TD>\n",
       " </TR>\n",
       " <TR>\n",
       "  <TD bgcolor=\"FF0000\">גערתו ת[תו]ה ברד\n",
       "ותנצח זיקות משפט</TD>\n",
       "  <TD bgcolor=\"FF0000\">גבורתו תתוה ברק\n",
       "ותנצח ֟זיקות\n",
       "במש[פט׃]</TD>\n",
       " </TR>\n",
       "</TABLE>"
      ],
      "text/plain": [
       "<IPython.core.display.HTML object>"
      ]
     },
     "metadata": {},
     "output_type": "display_data"
    },
    {
     "name": "stdout",
     "output_type": "stream",
     "text": [
      "======= chapter 43 ==========\n",
      "======= verse 14 ==========\n"
     ]
    },
    {
     "data": {
      "text/html": [
       "<TABLE border=\"1\" style=\"border: 1px solid #000000; border-collapse: collapse;\" cellpadding=\"4\">\n",
       " <TR>\n",
       "  <TH>masada</TH>\n",
       "  <TH>b</TH>\n",
       " </TR>\n",
       " <TR>\n",
       "  <TD bgcolor=\"00FFFF\">&nbsp;</TD>\n",
       "  <TD bgcolor=\"00FFFF\">&nbsp;</TD>\n",
       " </TR>\n",
       " <TR>\n",
       "  <TD bgcolor=\"FF0000\">למענו פרע</TD>\n",
       "  <TD bgcolor=\"FF0000\">למ֟ען ברא</TD>\n",
       " </TR>\n",
       " <TR>\n",
       "  <TD bgcolor=\"00FFFF\">אוצר            ויעף\n",
       "עבים כעיט</TD>\n",
       "  <TD bgcolor=\"00FFFF\">אוצר\n",
       "ויעף עבים כעיט</TD>\n",
       " </TR>\n",
       "</TABLE>"
      ],
      "text/plain": [
       "<IPython.core.display.HTML object>"
      ]
     },
     "metadata": {},
     "output_type": "display_data"
    },
    {
     "name": "stdout",
     "output_type": "stream",
     "text": [
      "======= chapter 43 ==========\n",
      "======= verse 15 ==========\n"
     ]
    },
    {
     "data": {
      "text/html": [
       "<TABLE border=\"1\" style=\"border: 1px solid #000000; border-collapse: collapse;\" cellpadding=\"4\">\n",
       " <TR>\n",
       "  <TH>masada</TH>\n",
       "  <TH>b</TH>\n",
       " </TR>\n",
       " <TR>\n",
       "  <TD bgcolor=\"00FFFF\">  גבורתו</TD>\n",
       "  <TD bgcolor=\"00FFFF\">  גבורתו</TD>\n",
       " </TR>\n",
       " <TR>\n",
       "  <TD bgcolor=\"FF0000\">חזק ענן\n",
       "ותגדע אבני ברד</TD>\n",
       "  <TD bgcolor=\"FF0000\">◦◦[        ]ן   [\n",
       "]</TD>\n",
       " </TR>\n",
       "</TABLE>"
      ],
      "text/plain": [
       "<IPython.core.display.HTML object>"
      ]
     },
     "metadata": {},
     "output_type": "display_data"
    },
    {
     "name": "stdout",
     "output_type": "stream",
     "text": [
      "======= chapter 43 ==========\n",
      "======= verse 17cd ==========\n"
     ]
    },
    {
     "data": {
      "text/html": [
       "<TABLE border=\"1\" style=\"border: 1px solid #000000; border-collapse: collapse;\" cellpadding=\"4\">\n",
       " <TR>\n",
       "  <TH>masada</TH>\n",
       "  <TH>b</TH>\n",
       " </TR>\n",
       " <TR>\n",
       "  <TD bgcolor=\"00FFFF\">&nbsp;</TD>\n",
       "  <TD bgcolor=\"00FFFF\">&nbsp;</TD>\n",
       " </TR>\n",
       " <TR>\n",
       "  <TD bgcolor=\"FF0000\">כרשף יפרח</TD>\n",
       "  <TD bgcolor=\"FF0000\">בר֟שף יניף</TD>\n",
       " </TR>\n",
       " <TR>\n",
       "  <TD bgcolor=\"00FFFF\">שלגו\n",
       "וכארבה</TD>\n",
       "  <TD bgcolor=\"00FFFF\">שלגו וכארבה </TD>\n",
       " </TR>\n",
       " <TR>\n",
       "  <TD bgcolor=\"FF0000\">ישכן רדתו</TD>\n",
       "  <TD bgcolor=\"FF0000\">ישכון ד֟רתו׃</TD>\n",
       " </TR>\n",
       "</TABLE>"
      ],
      "text/plain": [
       "<IPython.core.display.HTML object>"
      ]
     },
     "metadata": {},
     "output_type": "display_data"
    },
    {
     "name": "stdout",
     "output_type": "stream",
     "text": [
      "======= chapter 43 ==========\n",
      "======= verse 18 ==========\n"
     ]
    },
    {
     "data": {
      "text/html": [
       "<TABLE border=\"1\" style=\"border: 1px solid #000000; border-collapse: collapse;\" cellpadding=\"4\">\n",
       " <TR>\n",
       "  <TH>masada</TH>\n",
       "  <TH>b</TH>\n",
       " </TR>\n",
       " <TR>\n",
       "  <TD bgcolor=\"00FFFF\">&nbsp;</TD>\n",
       "  <TD bgcolor=\"00FFFF\">&nbsp;</TD>\n",
       " </TR>\n",
       " <TR>\n",
       "  <TD bgcolor=\"FF0000\">תור לבנו יהג</TD>\n",
       "  <TD bgcolor=\"FF0000\">תואר לבנה יג֟הה </TD>\n",
       " </TR>\n",
       " <TR>\n",
       "  <TD bgcolor=\"00FFFF\">עינים\n",
       "וממטרו</TD>\n",
       "  <TD bgcolor=\"00FFFF\">עינים   וממטרו </TD>\n",
       " </TR>\n",
       " <TR>\n",
       "  <TD bgcolor=\"FF0000\">יתמיה</TD>\n",
       "  <TD bgcolor=\"FF0000\">יהמה </TD>\n",
       " </TR>\n",
       " <TR>\n",
       "  <TD bgcolor=\"00FFFF\">לבב</TD>\n",
       "  <TD bgcolor=\"00FFFF\">לבב</TD>\n",
       " </TR>\n",
       " <TR>\n",
       "  <TD bgcolor=\"FF0000\">-</TD>\n",
       "  <TD bgcolor=\"FF0000\">׃</TD>\n",
       " </TR>\n",
       "</TABLE>"
      ],
      "text/plain": [
       "<IPython.core.display.HTML object>"
      ]
     },
     "metadata": {},
     "output_type": "display_data"
    },
    {
     "name": "stdout",
     "output_type": "stream",
     "text": [
      "======= chapter 43 ==========\n",
      "======= verse 19 ==========\n"
     ]
    },
    {
     "data": {
      "text/html": [
       "<TABLE border=\"1\" style=\"border: 1px solid #000000; border-collapse: collapse;\" cellpadding=\"4\">\n",
       " <TR>\n",
       "  <TH>masada</TH>\n",
       "  <TH>b</TH>\n",
       " </TR>\n",
       " <TR>\n",
       "  <TD bgcolor=\"FF0000\">  [ ]</TD>\n",
       "  <TD bgcolor=\"FF0000\">  וגם </TD>\n",
       " </TR>\n",
       " <TR>\n",
       "  <TD bgcolor=\"00FFFF\">כפור כמלח</TD>\n",
       "  <TD bgcolor=\"00FFFF\">כפור כמלח </TD>\n",
       " </TR>\n",
       " <TR>\n",
       "  <TD bgcolor=\"FF0000\">ישפך    ויצמח כסנה\n",
       "צצים</TD>\n",
       "  <TD bgcolor=\"FF0000\">יש֟כון\n",
       "ויציץ כספיר ציצים׃</TD>\n",
       " </TR>\n",
       "</TABLE>"
      ],
      "text/plain": [
       "<IPython.core.display.HTML object>"
      ]
     },
     "metadata": {},
     "output_type": "display_data"
    },
    {
     "name": "stdout",
     "output_type": "stream",
     "text": [
      "======= chapter 43 ==========\n",
      "======= verse 20 ==========\n"
     ]
    },
    {
     "data": {
      "text/html": [
       "<TABLE border=\"1\" style=\"border: 1px solid #000000; border-collapse: collapse;\" cellpadding=\"4\">\n",
       " <TR>\n",
       "  <TH>masada</TH>\n",
       "  <TH>b</TH>\n",
       " </TR>\n",
       " <TR>\n",
       "  <TD bgcolor=\"FF0000\">  [ ]ח</TD>\n",
       "  <TD bgcolor=\"FF0000\">  צינת רוח </TD>\n",
       " </TR>\n",
       " <TR>\n",
       "  <TD bgcolor=\"00FFFF\">צפון ישיב</TD>\n",
       "  <TD bgcolor=\"00FFFF\">צפון ישיב</TD>\n",
       " </TR>\n",
       " <TR>\n",
       "  <TD bgcolor=\"FF0000\">וכרגב</TD>\n",
       "  <TD bgcolor=\"FF0000\">וכרקב </TD>\n",
       " </TR>\n",
       " <TR>\n",
       "  <TD bgcolor=\"00FFFF\">יקפיא</TD>\n",
       "  <TD bgcolor=\"00FFFF\">יקפיא </TD>\n",
       " </TR>\n",
       " <TR>\n",
       "  <TD bgcolor=\"FF0000\">מקור</TD>\n",
       "  <TD bgcolor=\"FF0000\">מקו֟רו׃</TD>\n",
       " </TR>\n",
       "</TABLE>"
      ],
      "text/plain": [
       "<IPython.core.display.HTML object>"
      ]
     },
     "metadata": {},
     "output_type": "display_data"
    },
    {
     "name": "stdout",
     "output_type": "stream",
     "text": [
      "======= chapter 43 ==========\n",
      "======= verse  ==========\n"
     ]
    },
    {
     "data": {
      "text/html": [
       "<TABLE border=\"1\" style=\"border: 1px solid #000000; border-collapse: collapse;\" cellpadding=\"4\">\n",
       " <TR>\n",
       "  <TH>masada</TH>\n",
       "  <TH>b</TH>\n",
       " </TR>\n",
       " <TR>\n",
       "  <TD bgcolor=\"FF0000\">  [     ]       [\n",
       "]</TD>\n",
       "  <TD bgcolor=\"FF0000\">על כל מעמד מים יקרים\n",
       "וכשרין ילבש מקוה׃</TD>\n",
       " </TR>\n",
       "</TABLE>"
      ],
      "text/plain": [
       "<IPython.core.display.HTML object>"
      ]
     },
     "metadata": {},
     "output_type": "display_data"
    },
    {
     "name": "stdout",
     "output_type": "stream",
     "text": [
      "======= chapter 43 ==========\n",
      "======= verse 21 ==========\n"
     ]
    },
    {
     "data": {
      "text/html": [
       "<TABLE border=\"1\" style=\"border: 1px solid #000000; border-collapse: collapse;\" cellpadding=\"4\">\n",
       " <TR>\n",
       "  <TH>masada</TH>\n",
       "  <TH>b</TH>\n",
       " </TR>\n",
       " <TR>\n",
       "  <TD bgcolor=\"FF0000\">  [ ]ם   יש[      ]\n",
       "[       ]</TD>\n",
       "  <TD bgcolor=\"FF0000\">  יבול   כחרב ישיק\n",
       "ונו֟ה צמחים כלהבה׃</TD>\n",
       " </TR>\n",
       "</TABLE>"
      ],
      "text/plain": [
       "<IPython.core.display.HTML object>"
      ]
     },
     "metadata": {},
     "output_type": "display_data"
    },
    {
     "name": "stdout",
     "output_type": "stream",
     "text": [
      "======= chapter 43 ==========\n",
      "======= verse 22 ==========\n"
     ]
    },
    {
     "data": {
      "text/html": [
       "<TABLE border=\"1\" style=\"border: 1px solid #000000; border-collapse: collapse;\" cellpadding=\"4\">\n",
       " <TR>\n",
       "  <TH>masada</TH>\n",
       "  <TH>b</TH>\n",
       " </TR>\n",
       " <TR>\n",
       "  <TD bgcolor=\"FF0000\">  [     ]       [\n",
       "]</TD>\n",
       "  <TD bgcolor=\"FF0000\">מרפא כל מערף ענן טל\n",
       "֟ פורע לדשן שר֟ב׃</TD>\n",
       " </TR>\n",
       "</TABLE>"
      ],
      "text/plain": [
       "<IPython.core.display.HTML object>"
      ]
     },
     "metadata": {},
     "output_type": "display_data"
    },
    {
     "name": "stdout",
     "output_type": "stream",
     "text": [
      "======= chapter 43 ==========\n",
      "======= verse 23 ==========\n"
     ]
    },
    {
     "data": {
      "text/html": [
       "<TABLE border=\"1\" style=\"border: 1px solid #000000; border-collapse: collapse;\" cellpadding=\"4\">\n",
       " <TR>\n",
       "  <TH>masada</TH>\n",
       "  <TH>b</TH>\n",
       " </TR>\n",
       " <TR>\n",
       "  <TD bgcolor=\"FF0000\">  [     ]       [\n",
       "]איים</TD>\n",
       "  <TD bgcolor=\"FF0000\">  מחש֟בתו תשיק רבה\n",
       "ויט בתהום אי֟ים׃</TD>\n",
       " </TR>\n",
       "</TABLE>"
      ],
      "text/plain": [
       "<IPython.core.display.HTML object>"
      ]
     },
     "metadata": {},
     "output_type": "display_data"
    },
    {
     "name": "stdout",
     "output_type": "stream",
     "text": [
      "======= chapter 43 ==========\n",
      "======= verse 24 ==========\n"
     ]
    },
    {
     "data": {
      "text/html": [
       "<TABLE border=\"1\" style=\"border: 1px solid #000000; border-collapse: collapse;\" cellpadding=\"4\">\n",
       " <TR>\n",
       "  <TH>masada</TH>\n",
       "  <TH>b</TH>\n",
       " </TR>\n",
       " <TR>\n",
       "  <TD bgcolor=\"FF0000\">  [     ]</TD>\n",
       "  <TD bgcolor=\"FF0000\">יורדי הים יספרו קצהו</TD>\n",
       " </TR>\n",
       " <TR>\n",
       "  <TD bgcolor=\"00FFFF\">לשמע</TD>\n",
       "  <TD bgcolor=\"00FFFF\">לשמע </TD>\n",
       " </TR>\n",
       " <TR>\n",
       "  <TD bgcolor=\"FF0000\">אזנינו נשמת</TD>\n",
       "  <TD bgcolor=\"FF0000\">אזננו נשתומם׃</TD>\n",
       " </TR>\n",
       "</TABLE>"
      ],
      "text/plain": [
       "<IPython.core.display.HTML object>"
      ]
     },
     "metadata": {},
     "output_type": "display_data"
    },
    {
     "name": "stdout",
     "output_type": "stream",
     "text": [
      "======= chapter 43 ==========\n",
      "======= verse 25 ==========\n"
     ]
    },
    {
     "data": {
      "text/html": [
       "<TABLE border=\"1\" style=\"border: 1px solid #000000; border-collapse: collapse;\" cellpadding=\"4\">\n",
       " <TR>\n",
       "  <TH>masada</TH>\n",
       "  <TH>b</TH>\n",
       " </TR>\n",
       " <TR>\n",
       "  <TD bgcolor=\"FF0000\">  [     ]</TD>\n",
       "  <TD bgcolor=\"FF0000\">שם פלאות תמהי מעש֟הו</TD>\n",
       " </TR>\n",
       " <TR>\n",
       "  <TD bgcolor=\"00FFFF\">מין</TD>\n",
       "  <TD bgcolor=\"00FFFF\">מין </TD>\n",
       " </TR>\n",
       " <TR>\n",
       "  <TD bgcolor=\"FF0000\">כ[ ]גבו ת רהב</TD>\n",
       "  <TD bgcolor=\"FF0000\">כל חי וגבורות רבה׃</TD>\n",
       " </TR>\n",
       "</TABLE>"
      ],
      "text/plain": [
       "<IPython.core.display.HTML object>"
      ]
     },
     "metadata": {},
     "output_type": "display_data"
    },
    {
     "name": "stdout",
     "output_type": "stream",
     "text": [
      "======= chapter 43 ==========\n",
      "======= verse 26 ==========\n"
     ]
    },
    {
     "data": {
      "text/html": [
       "<TABLE border=\"1\" style=\"border: 1px solid #000000; border-collapse: collapse;\" cellpadding=\"4\">\n",
       " <TR>\n",
       "  <TH>masada</TH>\n",
       "  <TH>b</TH>\n",
       " </TR>\n",
       " <TR>\n",
       "  <TD bgcolor=\"FF0000\">  [     ]       [\n",
       "]</TD>\n",
       "  <TD bgcolor=\"FF0000\">  למע֟נ֟ו יצלח מלאך\n",
       "ובדבריו יפעל רצון׃</TD>\n",
       " </TR>\n",
       "</TABLE>"
      ],
      "text/plain": [
       "<IPython.core.display.HTML object>"
      ]
     },
     "metadata": {},
     "output_type": "display_data"
    },
    {
     "name": "stdout",
     "output_type": "stream",
     "text": [
      "======= chapter 43 ==========\n",
      "======= verse 27 ==========\n"
     ]
    },
    {
     "data": {
      "text/html": [
       "<TABLE border=\"1\" style=\"border: 1px solid #000000; border-collapse: collapse;\" cellpadding=\"4\">\n",
       " <TR>\n",
       "  <TH>masada</TH>\n",
       "  <TH>b</TH>\n",
       " </TR>\n",
       " <TR>\n",
       "  <TD bgcolor=\"FF0000\">  [     ]       [\n",
       "]</TD>\n",
       "  <TD bgcolor=\"FF0000\">  עוד כאלה לא נוסף\n",
       "וקץ דבר הוא הכל׃</TD>\n",
       " </TR>\n",
       "</TABLE>"
      ],
      "text/plain": [
       "<IPython.core.display.HTML object>"
      ]
     },
     "metadata": {},
     "output_type": "display_data"
    },
    {
     "name": "stdout",
     "output_type": "stream",
     "text": [
      "======= chapter 43 ==========\n",
      "======= verse 28 ==========\n"
     ]
    },
    {
     "data": {
      "text/html": [
       "<TABLE border=\"1\" style=\"border: 1px solid #000000; border-collapse: collapse;\" cellpadding=\"4\">\n",
       " <TR>\n",
       "  <TH>masada</TH>\n",
       "  <TH>b</TH>\n",
       " </TR>\n",
       " <TR>\n",
       "  <TD bgcolor=\"FF0000\">  [     ]       [\n",
       "]</TD>\n",
       "  <TD bgcolor=\"FF0000\">  נגדלה֟ עוד כי לא נ\n",
       "חקור\n",
       "והוא גדול מכל מעשיו׃</TD>\n",
       " </TR>\n",
       "</TABLE>"
      ],
      "text/plain": [
       "<IPython.core.display.HTML object>"
      ]
     },
     "metadata": {},
     "output_type": "display_data"
    },
    {
     "name": "stdout",
     "output_type": "stream",
     "text": [
      "======= chapter 43 ==========\n",
      "======= verse 29 ==========\n"
     ]
    },
    {
     "data": {
      "text/html": [
       "<TABLE border=\"1\" style=\"border: 1px solid #000000; border-collapse: collapse;\" cellpadding=\"4\">\n",
       " <TR>\n",
       "  <TH>masada</TH>\n",
       "  <TH>b</TH>\n",
       " </TR>\n",
       " <TR>\n",
       "  <TD bgcolor=\"FF0000\">  [     ]       [\n",
       "]ת/</TD>\n",
       "  <TD bgcolor=\"FF0000\">  נוראים מאד מאד\n",
       "ונפלאות דבר֟</TD>\n",
       " </TR>\n",
       " <TR>\n",
       "  <TD bgcolor=\"00FFFF\">יו</TD>\n",
       "  <TD bgcolor=\"00FFFF\">יו</TD>\n",
       " </TR>\n",
       " <TR>\n",
       "  <TD bgcolor=\"FF0000\">-</TD>\n",
       "  <TD bgcolor=\"FF0000\">׃</TD>\n",
       " </TR>\n",
       "</TABLE>"
      ],
      "text/plain": [
       "<IPython.core.display.HTML object>"
      ]
     },
     "metadata": {},
     "output_type": "display_data"
    },
    {
     "name": "stdout",
     "output_type": "stream",
     "text": [
      "======= chapter 43 ==========\n",
      "======= verse 30 ==========\n"
     ]
    },
    {
     "data": {
      "text/html": [
       "<TABLE border=\"1\" style=\"border: 1px solid #000000; border-collapse: collapse;\" cellpadding=\"4\">\n",
       " <TR>\n",
       "  <TH>masada</TH>\n",
       "  <TH>b</TH>\n",
       " </TR>\n",
       " <TR>\n",
       "  <TD bgcolor=\"FF0000\">  [     ]       [\n",
       "]ש אל</TD>\n",
       "  <TD bgcolor=\"FF0000\">  מג[ד]לי ייי\n",
       "הרימו קול\n",
       "בכל תוכלו כי יש עוד\n",
       "מרומים תחליפו כח</TD>\n",
       " </TR>\n",
       "</TABLE>"
      ],
      "text/plain": [
       "<IPython.core.display.HTML object>"
      ]
     },
     "metadata": {},
     "output_type": "display_data"
    },
    {
     "name": "stdout",
     "output_type": "stream",
     "text": [
      "======= chapter 43 ==========\n",
      "======= verse 32 ==========\n"
     ]
    },
    {
     "data": {
      "text/html": [
       "<TABLE border=\"1\" style=\"border: 1px solid #000000; border-collapse: collapse;\" cellpadding=\"4\">\n",
       " <TR>\n",
       "  <TH>masada</TH>\n",
       "  <TH>b</TH>\n",
       " </TR>\n",
       " <TR>\n",
       "  <TD bgcolor=\"FF0000\">  [     ]       [\n",
       "]</TD>\n",
       "  <TD bgcolor=\"FF0000\">  רוב סתרי חזק מאלה\n",
       "מעט ראיתי ממעשיו׃</TD>\n",
       " </TR>\n",
       "</TABLE>"
      ],
      "text/plain": [
       "<IPython.core.display.HTML object>"
      ]
     },
     "metadata": {},
     "output_type": "display_data"
    },
    {
     "name": "stdout",
     "output_type": "stream",
     "text": [
      "======= chapter 43 ==========\n",
      "======= verse 33 ==========\n"
     ]
    },
    {
     "data": {
      "text/html": [
       "<TABLE border=\"1\" style=\"border: 1px solid #000000; border-collapse: collapse;\" cellpadding=\"4\">\n",
       " <TR>\n",
       "  <TH>masada</TH>\n",
       "  <TH>b</TH>\n",
       " </TR>\n",
       " <TR>\n",
       "  <TD bgcolor=\"00FFFF\">&nbsp;</TD>\n",
       "  <TD bgcolor=\"00FFFF\">&nbsp;</TD>\n",
       " </TR>\n",
       " <TR>\n",
       "  <TD bgcolor=\"FF0000\">ש[      ]       [\n",
       "]</TD>\n",
       "  <TD bgcolor=\"FF0000\">את הכל[     ]◦◦ [\n",
       "]ל[      ]חכמה[׃]</TD>\n",
       " </TR>\n",
       "</TABLE>"
      ],
      "text/plain": [
       "<IPython.core.display.HTML object>"
      ]
     },
     "metadata": {},
     "output_type": "display_data"
    },
    {
     "name": "stdout",
     "output_type": "stream",
     "text": [
      "======= chapter 44 ==========\n",
      "======= verse 1 ==========\n"
     ]
    },
    {
     "data": {
      "text/html": [
       "<TABLE border=\"1\" style=\"border: 1px solid #000000; border-collapse: collapse;\" cellpadding=\"4\">\n",
       " <TR>\n",
       "  <TH>masada</TH>\n",
       "  <TH>b</TH>\n",
       " </TR>\n",
       " <TR>\n",
       "  <TD bgcolor=\"FF0000\">  [ ]א אנ[ ]</TD>\n",
       "  <TD bgcolor=\"FF0000\">  אהללה נא אנשי </TD>\n",
       " </TR>\n",
       " <TR>\n",
       "  <TD bgcolor=\"00FFFF\">חסד</TD>\n",
       "  <TD bgcolor=\"00FFFF\">חסד     </TD>\n",
       " </TR>\n",
       " <TR>\n",
       "  <TD bgcolor=\"FF0000\">את אב[          ]</TD>\n",
       "  <TD bgcolor=\"FF0000\">֟אבותינו בדורותם׃</TD>\n",
       " </TR>\n",
       "</TABLE>"
      ],
      "text/plain": [
       "<IPython.core.display.HTML object>"
      ]
     },
     "metadata": {},
     "output_type": "display_data"
    },
    {
     "name": "stdout",
     "output_type": "stream",
     "text": [
      "======= chapter 44 ==========\n",
      "======= verse 2 ==========\n"
     ]
    },
    {
     "data": {
      "text/html": [
       "<TABLE border=\"1\" style=\"border: 1px solid #000000; border-collapse: collapse;\" cellpadding=\"4\">\n",
       " <TR>\n",
       "  <TH>masada</TH>\n",
       "  <TH>b</TH>\n",
       " </TR>\n",
       " <TR>\n",
       "  <TD bgcolor=\"00FFFF\">  רב כבוד חלק</TD>\n",
       "  <TD bgcolor=\"00FFFF\">  רב כבוד חלק </TD>\n",
       " </TR>\n",
       " <TR>\n",
       "  <TD bgcolor=\"FF0000\">-</TD>\n",
       "  <TD bgcolor=\"FF0000\">֟</TD>\n",
       " </TR>\n",
       " <TR>\n",
       "  <TD bgcolor=\"00FFFF\">עליון</TD>\n",
       "  <TD bgcolor=\"00FFFF\">עליון</TD>\n",
       " </TR>\n",
       " <TR>\n",
       "  <TD bgcolor=\"FF0000\">וגדלה מי[ ]</TD>\n",
       "  <TD bgcolor=\"FF0000\">וגדלו מימות עולם׃</TD>\n",
       " </TR>\n",
       "</TABLE>"
      ],
      "text/plain": [
       "<IPython.core.display.HTML object>"
      ]
     },
     "metadata": {},
     "output_type": "display_data"
    },
    {
     "name": "stdout",
     "output_type": "stream",
     "text": [
      "======= chapter 44 ==========\n",
      "======= verse 3cd ==========\n"
     ]
    },
    {
     "data": {
      "text/html": [
       "<TABLE border=\"1\" style=\"border: 1px solid #000000; border-collapse: collapse;\" cellpadding=\"4\">\n",
       " <TR>\n",
       "  <TH>masada</TH>\n",
       "  <TH>b</TH>\n",
       " </TR>\n",
       " <TR>\n",
       "  <TD bgcolor=\"00FFFF\">&nbsp;</TD>\n",
       "  <TD bgcolor=\"00FFFF\">&nbsp;</TD>\n",
       " </TR>\n",
       " <TR>\n",
       "  <TD bgcolor=\"FF0000\">ויעצים</TD>\n",
       "  <TD bgcolor=\"FF0000\">הי֟ועצים </TD>\n",
       " </TR>\n",
       " <TR>\n",
       "  <TD bgcolor=\"00FFFF\">בתבונתם</TD>\n",
       "  <TD bgcolor=\"00FFFF\">בתבונתם </TD>\n",
       " </TR>\n",
       " <TR>\n",
       "  <TD bgcolor=\"FF0000\">וחזי</TD>\n",
       "  <TD bgcolor=\"FF0000\">בעולם   וחוזי </TD>\n",
       " </TR>\n",
       " <TR>\n",
       "  <TD bgcolor=\"00FFFF\">כל</TD>\n",
       "  <TD bgcolor=\"00FFFF\">כל </TD>\n",
       " </TR>\n",
       " <TR>\n",
       "  <TD bgcolor=\"FF0000\">בנבו[ ]</TD>\n",
       "  <TD bgcolor=\"FF0000\">בנבואתם׃</TD>\n",
       " </TR>\n",
       "</TABLE>"
      ],
      "text/plain": [
       "<IPython.core.display.HTML object>"
      ]
     },
     "metadata": {},
     "output_type": "display_data"
    },
    {
     "name": "stdout",
     "output_type": "stream",
     "text": [
      "======= chapter 44 ==========\n",
      "======= verse 4ab ==========\n"
     ]
    },
    {
     "data": {
      "text/html": [
       "<TABLE border=\"1\" style=\"border: 1px solid #000000; border-collapse: collapse;\" cellpadding=\"4\">\n",
       " <TR>\n",
       "  <TH>masada</TH>\n",
       "  <TH>b</TH>\n",
       " </TR>\n",
       " <TR>\n",
       "  <TD bgcolor=\"00FFFF\">  שרי</TD>\n",
       "  <TD bgcolor=\"00FFFF\">  שרי </TD>\n",
       " </TR>\n",
       " <TR>\n",
       "  <TD bgcolor=\"FF0000\">גוי</TD>\n",
       "  <TD bgcolor=\"FF0000\">גוים </TD>\n",
       " </TR>\n",
       " <TR>\n",
       "  <TD bgcolor=\"00FFFF\">במזמתם</TD>\n",
       "  <TD bgcolor=\"00FFFF\">במזמתם</TD>\n",
       " </TR>\n",
       " <TR>\n",
       "  <TD bgcolor=\"FF0000\">ורזנים במחקק[ ]</TD>\n",
       "  <TD bgcolor=\"FF0000\">ורוזנים במחקרותם׃</TD>\n",
       " </TR>\n",
       "</TABLE>"
      ],
      "text/plain": [
       "<IPython.core.display.HTML object>"
      ]
     },
     "metadata": {},
     "output_type": "display_data"
    },
    {
     "name": "stdout",
     "output_type": "stream",
     "text": [
      "======= chapter 44 ==========\n",
      "======= verse 4cd ==========\n"
     ]
    },
    {
     "data": {
      "text/html": [
       "<TABLE border=\"1\" style=\"border: 1px solid #000000; border-collapse: collapse;\" cellpadding=\"4\">\n",
       " <TR>\n",
       "  <TH>masada</TH>\n",
       "  <TH>b</TH>\n",
       " </TR>\n",
       " <TR>\n",
       "  <TD bgcolor=\"00FFFF\">  חכמי שיח</TD>\n",
       "  <TD bgcolor=\"00FFFF\">  חכמי שיח </TD>\n",
       " </TR>\n",
       " <TR>\n",
       "  <TD bgcolor=\"FF0000\">בספרתם\n",
       "ומשלים במ[ ]</TD>\n",
       "  <TD bgcolor=\"FF0000\">בס֟פרתם\n",
       "ומושלים במשמרותם׃</TD>\n",
       " </TR>\n",
       "</TABLE>"
      ],
      "text/plain": [
       "<IPython.core.display.HTML object>"
      ]
     },
     "metadata": {},
     "output_type": "display_data"
    },
    {
     "name": "stdout",
     "output_type": "stream",
     "text": [
      "======= chapter 44 ==========\n",
      "======= verse 5 ==========\n"
     ]
    },
    {
     "data": {
      "text/html": [
       "<TABLE border=\"1\" style=\"border: 1px solid #000000; border-collapse: collapse;\" cellpadding=\"4\">\n",
       " <TR>\n",
       "  <TH>masada</TH>\n",
       "  <TH>b</TH>\n",
       " </TR>\n",
       " <TR>\n",
       "  <TD bgcolor=\"00FFFF\">&nbsp;</TD>\n",
       "  <TD bgcolor=\"00FFFF\">&nbsp;</TD>\n",
       " </TR>\n",
       " <TR>\n",
       "  <TD bgcolor=\"FF0000\">חקרי</TD>\n",
       "  <TD bgcolor=\"FF0000\">חוקרי </TD>\n",
       " </TR>\n",
       " <TR>\n",
       "  <TD bgcolor=\"00FFFF\">מזמור על</TD>\n",
       "  <TD bgcolor=\"00FFFF\">מזמור על </TD>\n",
       " </TR>\n",
       " <TR>\n",
       "  <TD bgcolor=\"FF0000\">קו\n",
       "ונשאי</TD>\n",
       "  <TD bgcolor=\"FF0000\">חו֟ק    נושאי </TD>\n",
       " </TR>\n",
       " <TR>\n",
       "  <TD bgcolor=\"00FFFF\">משל</TD>\n",
       "  <TD bgcolor=\"00FFFF\">משל </TD>\n",
       " </TR>\n",
       " <TR>\n",
       "  <TD bgcolor=\"FF0000\">[ ]</TD>\n",
       "  <TD bgcolor=\"FF0000\">בכתב׃</TD>\n",
       " </TR>\n",
       "</TABLE>"
      ],
      "text/plain": [
       "<IPython.core.display.HTML object>"
      ]
     },
     "metadata": {},
     "output_type": "display_data"
    },
    {
     "name": "stdout",
     "output_type": "stream",
     "text": [
      "======= chapter 44 ==========\n",
      "======= verse 6 ==========\n"
     ]
    },
    {
     "data": {
      "text/html": [
       "<TABLE border=\"1\" style=\"border: 1px solid #000000; border-collapse: collapse;\" cellpadding=\"4\">\n",
       " <TR>\n",
       "  <TH>masada</TH>\n",
       "  <TH>b</TH>\n",
       " </TR>\n",
       " <TR>\n",
       "  <TD bgcolor=\"00FFFF\">  אנשי חיל</TD>\n",
       "  <TD bgcolor=\"00FFFF\">  אנשי חיל </TD>\n",
       " </TR>\n",
       " <TR>\n",
       "  <TD bgcolor=\"FF0000\">וסמכי</TD>\n",
       "  <TD bgcolor=\"FF0000\">וסומכי </TD>\n",
       " </TR>\n",
       " <TR>\n",
       "  <TD bgcolor=\"00FFFF\">כח</TD>\n",
       "  <TD bgcolor=\"00FFFF\">כח</TD>\n",
       " </TR>\n",
       " <TR>\n",
       "  <TD bgcolor=\"FF0000\">ושקט[   ]</TD>\n",
       "  <TD bgcolor=\"FF0000\">ושוקטים על מכונתם׃</TD>\n",
       " </TR>\n",
       "</TABLE>"
      ],
      "text/plain": [
       "<IPython.core.display.HTML object>"
      ]
     },
     "metadata": {},
     "output_type": "display_data"
    },
    {
     "name": "stdout",
     "output_type": "stream",
     "text": [
      "======= chapter 44 ==========\n",
      "======= verse 7 ==========\n"
     ]
    },
    {
     "data": {
      "text/html": [
       "<TABLE border=\"1\" style=\"border: 1px solid #000000; border-collapse: collapse;\" cellpadding=\"4\">\n",
       " <TR>\n",
       "  <TH>masada</TH>\n",
       "  <TH>b</TH>\n",
       " </TR>\n",
       " <TR>\n",
       "  <TD bgcolor=\"00FFFF\">  כל</TD>\n",
       "  <TD bgcolor=\"00FFFF\">  כל </TD>\n",
       " </TR>\n",
       " <TR>\n",
       "  <TD bgcolor=\"FF0000\">א ה בדרם נכבדו\n",
       "[ ]ן [ ]</TD>\n",
       "  <TD bgcolor=\"FF0000\">אלה בדורם ֟\n",
       "ומימ֟יהם תפארתם׃</TD>\n",
       " </TR>\n",
       "</TABLE>"
      ],
      "text/plain": [
       "<IPython.core.display.HTML object>"
      ]
     },
     "metadata": {},
     "output_type": "display_data"
    },
    {
     "name": "stdout",
     "output_type": "stream",
     "text": [
      "======= chapter 44 ==========\n",
      "======= verse 8 ==========\n"
     ]
    },
    {
     "data": {
      "text/html": [
       "<TABLE border=\"1\" style=\"border: 1px solid #000000; border-collapse: collapse;\" cellpadding=\"4\">\n",
       " <TR>\n",
       "  <TH>masada</TH>\n",
       "  <TH>b</TH>\n",
       " </TR>\n",
       " <TR>\n",
       "  <TD bgcolor=\"00FFFF\">  יש מהם הניחו שם</TD>\n",
       "  <TD bgcolor=\"00FFFF\">  יש מהם הניחו שם </TD>\n",
       " </TR>\n",
       " <TR>\n",
       "  <TD bgcolor=\"FF0000\">לה[     ]</TD>\n",
       "  <TD bgcolor=\"FF0000\">להשת֟ענ֟ות בנחלתם׃</TD>\n",
       " </TR>\n",
       "</TABLE>"
      ],
      "text/plain": [
       "<IPython.core.display.HTML object>"
      ]
     },
     "metadata": {},
     "output_type": "display_data"
    },
    {
     "name": "stdout",
     "output_type": "stream",
     "text": [
      "======= chapter 44 ==========\n",
      "======= verse 9 ==========\n"
     ]
    },
    {
     "data": {
      "text/html": [
       "<TABLE border=\"1\" style=\"border: 1px solid #000000; border-collapse: collapse;\" cellpadding=\"4\">\n",
       " <TR>\n",
       "  <TH>masada</TH>\n",
       "  <TH>b</TH>\n",
       " </TR>\n",
       " <TR>\n",
       "  <TD bgcolor=\"00FFFF\">  ויש מהם</TD>\n",
       "  <TD bgcolor=\"00FFFF\">  ויש מהם </TD>\n",
       " </TR>\n",
       " <TR>\n",
       "  <TD bgcolor=\"FF0000\">שאין</TD>\n",
       "  <TD bgcolor=\"FF0000\">אשר אין </TD>\n",
       " </TR>\n",
       " <TR>\n",
       "  <TD bgcolor=\"00FFFF\">לו זכר</TD>\n",
       "  <TD bgcolor=\"00FFFF\">לו זכר</TD>\n",
       " </TR>\n",
       " <TR>\n",
       "  <TD bgcolor=\"FF0000\">[       ]</TD>\n",
       "  <TD bgcolor=\"FF0000\">וישבתו כאשר שבתו׃</TD>\n",
       " </TR>\n",
       "</TABLE>"
      ],
      "text/plain": [
       "<IPython.core.display.HTML object>"
      ]
     },
     "metadata": {},
     "output_type": "display_data"
    },
    {
     "name": "stdout",
     "output_type": "stream",
     "text": [
      "======= chapter 44 ==========\n",
      "======= verse  ==========\n"
     ]
    },
    {
     "data": {
      "text/html": [
       "<TABLE border=\"1\" style=\"border: 1px solid #000000; border-collapse: collapse;\" cellpadding=\"4\">\n",
       " <TR>\n",
       "  <TH>masada</TH>\n",
       "  <TH>b</TH>\n",
       " </TR>\n",
       " <TR>\n",
       "  <TD bgcolor=\"00FFFF\">&nbsp;</TD>\n",
       "  <TD bgcolor=\"00FFFF\">&nbsp;</TD>\n",
       " </TR>\n",
       " <TR>\n",
       "  <TD bgcolor=\"FF0000\">בע[     ]       [\n",
       "]</TD>\n",
       "  <TD bgcolor=\"FF0000\">בבשרו כרת לו חק\n",
       "ובניסוי נמצא נאמן׃</TD>\n",
       " </TR>\n",
       "</TABLE>"
      ],
      "text/plain": [
       "<IPython.core.display.HTML object>"
      ]
     },
     "metadata": {},
     "output_type": "display_data"
    },
    {
     "name": "stdout",
     "output_type": "stream",
     "text": [
      "======= chapter 44 ==========\n",
      "======= verse 10 ==========\n"
     ]
    },
    {
     "data": {
      "text/html": [
       "<TABLE border=\"1\" style=\"border: 1px solid #000000; border-collapse: collapse;\" cellpadding=\"4\">\n",
       " <TR>\n",
       "  <TH>masada</TH>\n",
       "  <TH>b</TH>\n",
       " </TR>\n",
       " <TR>\n",
       "  <TD bgcolor=\"00FFFF\">&nbsp;</TD>\n",
       "  <TD bgcolor=\"00FFFF\">&nbsp;</TD>\n",
       " </TR>\n",
       " <TR>\n",
       "  <TD bgcolor=\"FF0000\">אולם</TD>\n",
       "  <TD bgcolor=\"FF0000\">ואולם</TD>\n",
       " </TR>\n",
       " <TR>\n",
       "  <TD bgcolor=\"00FFFF\">אלה אנשי חסד</TD>\n",
       "  <TD bgcolor=\"00FFFF\">אלה אנשי חסד</TD>\n",
       " </TR>\n",
       " <TR>\n",
       "  <TD bgcolor=\"FF0000\">וצ[     ]</TD>\n",
       "  <TD bgcolor=\"FF0000\">ותקותם לא תכ[ר]ת׃</TD>\n",
       " </TR>\n",
       "</TABLE>"
      ],
      "text/plain": [
       "<IPython.core.display.HTML object>"
      ]
     },
     "metadata": {},
     "output_type": "display_data"
    },
    {
     "name": "stdout",
     "output_type": "stream",
     "text": [
      "======= chapter 44 ==========\n",
      "======= verse 11 ==========\n"
     ]
    },
    {
     "data": {
      "text/html": [
       "<TABLE border=\"1\" style=\"border: 1px solid #000000; border-collapse: collapse;\" cellpadding=\"4\">\n",
       " <TR>\n",
       "  <TH>masada</TH>\n",
       "  <TH>b</TH>\n",
       " </TR>\n",
       " <TR>\n",
       "  <TD bgcolor=\"00FFFF\">&nbsp;</TD>\n",
       "  <TD bgcolor=\"00FFFF\">&nbsp;</TD>\n",
       " </TR>\n",
       " <TR>\n",
       "  <TD bgcolor=\"FF0000\">אם</TD>\n",
       "  <TD bgcolor=\"FF0000\">עם </TD>\n",
       " </TR>\n",
       " <TR>\n",
       "  <TD bgcolor=\"00FFFF\">זרעם נאמן טובם</TD>\n",
       "  <TD bgcolor=\"00FFFF\">זרעם נאמן טובם</TD>\n",
       " </TR>\n",
       " <TR>\n",
       "  <TD bgcolor=\"FF0000\">ונחל[   ]</TD>\n",
       "  <TD bgcolor=\"FF0000\">ונחלתם לבנ[ ] ב[ ]ם\n",
       "[ ]</TD>\n",
       " </TR>\n",
       "</TABLE>"
      ],
      "text/plain": [
       "<IPython.core.display.HTML object>"
      ]
     },
     "metadata": {},
     "output_type": "display_data"
    },
    {
     "name": "stdout",
     "output_type": "stream",
     "text": [
      "======= chapter 44 ==========\n",
      "======= verse 13 ==========\n"
     ]
    },
    {
     "data": {
      "text/html": [
       "<TABLE border=\"1\" style=\"border: 1px solid #000000; border-collapse: collapse;\" cellpadding=\"4\">\n",
       " <TR>\n",
       "  <TH>masada</TH>\n",
       "  <TH>b</TH>\n",
       " </TR>\n",
       " <TR>\n",
       "  <TD bgcolor=\"00FFFF\">  עד עולם יעמד</TD>\n",
       "  <TD bgcolor=\"00FFFF\">  עד עולם יעמד </TD>\n",
       " </TR>\n",
       " <TR>\n",
       "  <TD bgcolor=\"FF0000\">זרעם\n",
       "וכבודם</TD>\n",
       "  <TD bgcolor=\"FF0000\">זכרם    וצדקתם </TD>\n",
       " </TR>\n",
       " <TR>\n",
       "  <TD bgcolor=\"00FFFF\">לא</TD>\n",
       "  <TD bgcolor=\"00FFFF\">לא</TD>\n",
       " </TR>\n",
       " <TR>\n",
       "  <TD bgcolor=\"FF0000\">ימח</TD>\n",
       "  <TD bgcolor=\"FF0000\">-</TD>\n",
       " </TR>\n",
       " <TR>\n",
       "  <TD bgcolor=\"00FFFF\">[ ]</TD>\n",
       "  <TD bgcolor=\"00FFFF\">[ ]</TD>\n",
       " </TR>\n",
       " <TR>\n",
       "  <TD bgcolor=\"FF0000\">-</TD>\n",
       "  <TD bgcolor=\"FF0000\">ה׃</TD>\n",
       " </TR>\n",
       "</TABLE>"
      ],
      "text/plain": [
       "<IPython.core.display.HTML object>"
      ]
     },
     "metadata": {},
     "output_type": "display_data"
    },
    {
     "name": "stdout",
     "output_type": "stream",
     "text": [
      "======= chapter 44 ==========\n",
      "======= verse 14 ==========\n"
     ]
    },
    {
     "data": {
      "text/html": [
       "<TABLE border=\"1\" style=\"border: 1px solid #000000; border-collapse: collapse;\" cellpadding=\"4\">\n",
       " <TR>\n",
       "  <TH>masada</TH>\n",
       "  <TH>b</TH>\n",
       " </TR>\n",
       " <TR>\n",
       "  <TD bgcolor=\"FF0000\">  גׅוי[ ]ם בשלום\n",
       "נאספה</TD>\n",
       "  <TD bgcolor=\"FF0000\">  [ ]יתם בשלום נאס[\n",
       "]   [ ]שמם ח</TD>\n",
       " </TR>\n",
       " <TR>\n",
       "  <TD bgcolor=\"00FFFF\">[ ]</TD>\n",
       "  <TD bgcolor=\"00FFFF\">[ ]</TD>\n",
       " </TR>\n",
       " <TR>\n",
       "  <TD bgcolor=\"FF0000\">שמם חי לדוד ודר</TD>\n",
       "  <TD bgcolor=\"FF0000\">ל[ ] ודור׃</TD>\n",
       " </TR>\n",
       "</TABLE>"
      ],
      "text/plain": [
       "<IPython.core.display.HTML object>"
      ]
     },
     "metadata": {},
     "output_type": "display_data"
    },
    {
     "name": "stdout",
     "output_type": "stream",
     "text": [
      "======= chapter 44 ==========\n",
      "======= verse 16 ==========\n"
     ]
    },
    {
     "data": {
      "text/html": [
       "<TABLE border=\"1\" style=\"border: 1px solid #000000; border-collapse: collapse;\" cellpadding=\"4\">\n",
       " <TR>\n",
       "  <TH>masada</TH>\n",
       "  <TH>b</TH>\n",
       " </TR>\n",
       " <TR>\n",
       "  <TD bgcolor=\"00FFFF\">&nbsp;</TD>\n",
       "  <TD bgcolor=\"00FFFF\">&nbsp;</TD>\n",
       " </TR>\n",
       " <TR>\n",
       "  <TD bgcolor=\"FF0000\">-</TD>\n",
       "  <TD bgcolor=\"FF0000\">חנוך נמצא תמים\n",
       "והתהלך עם ייי ו[\n",
       "]לקח\n",
       "אות דעת לדור ודור׃</TD>\n",
       " </TR>\n",
       "</TABLE>"
      ],
      "text/plain": [
       "<IPython.core.display.HTML object>"
      ]
     },
     "metadata": {},
     "output_type": "display_data"
    },
    {
     "name": "stdout",
     "output_type": "stream",
     "text": [
      "======= chapter 44 ==========\n",
      "======= verse 17 ==========\n"
     ]
    },
    {
     "data": {
      "text/html": [
       "<TABLE border=\"1\" style=\"border: 1px solid #000000; border-collapse: collapse;\" cellpadding=\"4\">\n",
       " <TR>\n",
       "  <TH>masada</TH>\n",
       "  <TH>b</TH>\n",
       " </TR>\n",
       " <TR>\n",
       "  <TD bgcolor=\"FF0000\">  נוח</TD>\n",
       "  <TD bgcolor=\"FF0000\">  [ ]ח </TD>\n",
       " </TR>\n",
       " <TR>\n",
       "  <TD bgcolor=\"00FFFF\">צדיק נמצא תמים</TD>\n",
       "  <TD bgcolor=\"00FFFF\">צדיק נמצא תמים</TD>\n",
       " </TR>\n",
       " <TR>\n",
       "  <TD bgcolor=\"FF0000\">ב[ ]ל[  ]</TD>\n",
       "  <TD bgcolor=\"FF0000\">ל֟עת כלה היה תחליף׃ </TD>\n",
       " </TR>\n",
       "</TABLE>"
      ],
      "text/plain": [
       "<IPython.core.display.HTML object>"
      ]
     },
     "metadata": {},
     "output_type": "display_data"
    }
   ],
   "source": [
    "nbr_overlap = 0\n",
    "for chapter in collated_content.keys():\n",
    "    for verses in collated_content[chapter].keys():\n",
    "        \n",
    "        if len(collated_content[chapter][verses].keys()) > 1:\n",
    "            \n",
    "            manuscripts_to_collate = collated_content[chapter][verses]\n",
    "            \n",
    "            nbr_overlap += 1\n",
    "            collation = Collation()\n",
    "\n",
    "            print(f\"======= chapter {chapter} ==========\")\n",
    "            print(f\"======= verse {verses} ==========\")\n",
    "\n",
    "            for witness_name, witness_content in manuscripts_to_collate.items():\n",
    "                collation.add_plain_witness(witness_name, witness_content.replace(\"\\u030a\", \"\").replace(\"\\u0307\", \"\"))\n",
    "            alignment_table = collate(collation, output=\"html2\",  layout=\"vertical\")\n"
   ]
  },
  {
   "cell_type": "code",
   "execution_count": 357,
   "id": "7f693e98",
   "metadata": {},
   "outputs": [
    {
     "data": {
      "text/plain": [
       "273"
      ]
     },
     "execution_count": 357,
     "metadata": {},
     "output_type": "execute_result"
    }
   ],
   "source": [
    "nbr_overlap"
   ]
  }
 ],
 "metadata": {
  "kernelspec": {
   "display_name": "Python 3 (ipykernel)",
   "language": "python",
   "name": "python3"
  },
  "language_info": {
   "codemirror_mode": {
    "name": "ipython",
    "version": 3
   },
   "file_extension": ".py",
   "mimetype": "text/x-python",
   "name": "python",
   "nbconvert_exporter": "python",
   "pygments_lexer": "ipython3",
   "version": "3.10.6"
  }
 },
 "nbformat": 4,
 "nbformat_minor": 5
}
