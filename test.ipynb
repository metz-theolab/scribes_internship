{
 "cells": [
  {
   "attachments": {},
   "cell_type": "markdown",
   "metadata": {},
   "source": [
    "# Test of the Ben Sira package\n",
    "## Import :"
   ]
  },
  {
   "cell_type": "code",
   "execution_count": 1,
   "metadata": {},
   "outputs": [
    {
     "name": "stderr",
     "output_type": "stream",
     "text": [
      "[nltk_data] Downloading package punkt to /home/mari/nltk_data...\n",
      "[nltk_data]   Package punkt is already up-to-date!\n",
      "[nltk_data] Downloading package punkt to /home/mari/nltk_data...\n",
      "[nltk_data]   Package punkt is already up-to-date!\n"
     ]
    }
   ],
   "source": [
    "from pkg.Variant import VariantsFinder\n",
    "from pkg.Witness import Witness"
   ]
  },
  {
   "attachments": {},
   "cell_type": "markdown",
   "metadata": {},
   "source": [
    "## Constantes :\n",
    "\n",
    "To update depending of the manuscript :"
   ]
  },
  {
   "cell_type": "code",
   "execution_count": 2,
   "metadata": {},
   "outputs": [],
   "source": [
    "UNWANTED_TAGS = [\"folio\",\"verse_nb\",\"line\",\"vacat_car\",\"greek\",\"reconstructed\",\"superscript\",\\\n",
    "                    \"supralinear\",\"margin_reconstructed\",\"margin_car\",\"margin_infralinear\",\\\n",
    "                    \"margin_supralinear\",\"Article\"]"
   ]
  },
  {
   "attachments": {},
   "cell_type": "markdown",
   "metadata": {},
   "source": [
    "TO UNDERSTAND THE XML FILES :\n",
    "\n",
    "                <!ELEMENT folio (#PCDATA)> <!-- shelfmark of the manuscript and folio number -->\n",
    "                <!ELEMENT verse_nb (#PCDATA)> <!-- verse (children of chapter) -->\n",
    "                <!ELEMENT line (#PCDATA)> <!-- line on the manuscript -->\n",
    "                <!ELEMENT vacat_car (#PCDATA)> <!-- a space into the manuscript -->\n",
    "                <!ELEMENT greek (#PCDATA)> <!-- greek word or letter -->\n",
    "                <!ELEMENT reconstructed (#PCDATA)> <!-- Hebrew reconstructed -->\n",
    "                <!ELEMENT superscript (#PCDATA)> <!-- Hebrew superscript letters or words -->\n",
    "                <!ELEMENT supralinear (#PCDATA)> <!-- Hebrew supralinear letters or words (I think = superscript) -->\n",
    "                <!ELEMENT margin_reconstructed (#PCDATA)> <!-- marginal notation reconstructed -->\n",
    "                <!ELEMENT margin_car (#PCDATA)> <!-- marginal notation -->\n",
    "                <!ELEMENT margin_infralinear (#PCDATA)> <!-- marginal notation -->\n",
    "                <!ELEMENT margin_supralinear (#PCDATA)> <!-- marginal notation -->"
   ]
  },
  {
   "attachments": {},
   "cell_type": "markdown",
   "metadata": {},
   "source": [
    "## Exemples :"
   ]
  },
  {
   "cell_type": "code",
   "execution_count": 3,
   "metadata": {},
   "outputs": [],
   "source": [
    "fileNames = [\"ms_a_new.xml\",\"ms_b_new.xml\",\"ms_d_new.xml\",\"ms_e_new.xml\",\"ms_f_new.xml\"]\n",
    "folder = \"WorkDir/\""
   ]
  },
  {
   "attachments": {},
   "cell_type": "markdown",
   "metadata": {},
   "source": [
    "First we create a `VariantsFinder` object. At this creation, the object will match all chapters and verses, clean the verses and compute the collations and the distances for each verses :"
   ]
  },
  {
   "cell_type": "code",
   "execution_count": 4,
   "metadata": {},
   "outputs": [
    {
     "name": "stdout",
     "output_type": "stream",
     "text": [
      "# Matching Done\n",
      "## Cleaning Done\n",
      "### Collation Done\n",
      "#### Distance Done\n"
     ]
    }
   ],
   "source": [
    "vf = VariantsFinder(fileNames, UNWANTED_TAGS, folder = folder)"
   ]
  },
  {
   "attachments": {},
   "cell_type": "markdown",
   "metadata": {},
   "source": [
    "We give a random exemple. It is important to note that the representation use here is simple_SVG, the normal SVG generating a lot of unwanted errors."
   ]
  },
  {
   "cell_type": "code",
   "execution_count": 5,
   "metadata": {},
   "outputs": [
    {
     "data": {
      "image/svg+xml": "<svg xmlns=\"http://www.w3.org/2000/svg\" xmlns:xlink=\"http://www.w3.org/1999/xlink\" width=\"778pt\" height=\"98pt\" viewBox=\"0.00 0.00 778.30 98.00\">\n<g id=\"graph0\" class=\"graph\" transform=\"scale(1 1) rotate(0) translate(4 94)\">\n<polygon fill=\"white\" stroke=\"none\" points=\"-4,4 -4,-94 774.3,-94 774.3,4 -4,4\"/>\n<!-- 1 -->\n<g id=\"node1\" class=\"node\">\n<title>1</title>\n<ellipse fill=\"none\" stroke=\"black\" cx=\"35.42\" cy=\"-45\" rx=\"35.42\" ry=\"18\"/>\n<text text-anchor=\"middle\" x=\"35.42\" y=\"-40.33\" font-family=\"Times,serif\" font-size=\"14.00\">start</text>\n</g>\n<!-- 3 -->\n<g id=\"node3\" class=\"node\">\n<title>3</title>\n<ellipse fill=\"none\" stroke=\"black\" cx=\"227.82\" cy=\"-45\" rx=\"91.72\" ry=\"18\"/>\n<text text-anchor=\"middle\" x=\"227.82\" y=\"-40.33\" font-family=\"Times,serif\" font-size=\"14.00\"> כחותם על כיס זהב</text>\n</g>\n<!-- 1&#45;&gt;3 -->\n<g id=\"edge1\" class=\"edge\">\n<title>1-&gt;3</title>\n<path fill=\"none\" stroke=\"black\" d=\"M71.35,-45C86.74,-45 105.72,-45 125.05,-45\"/>\n<polygon fill=\"black\" stroke=\"black\" points=\"124.81,-48.5 134.81,-45 124.81,-41.5 124.81,-48.5\"/>\n<text text-anchor=\"middle\" x=\"103.47\" y=\"-48.95\" font-family=\"Times,serif\" font-size=\"14.00\">A, B</text>\n</g>\n<!-- 2 -->\n<g id=\"node2\" class=\"node\">\n<title>2</title>\n<ellipse fill=\"none\" stroke=\"black\" cx=\"740.67\" cy=\"-45\" rx=\"29.64\" ry=\"18\"/>\n<text text-anchor=\"middle\" x=\"740.67\" y=\"-40.33\" font-family=\"Times,serif\" font-size=\"14.00\">end</text>\n</g>\n<!-- 4 -->\n<g id=\"node4\" class=\"node\">\n<title>4</title>\n<ellipse fill=\"none\" stroke=\"black\" cx=\"398.3\" cy=\"-72\" rx=\"27\" ry=\"18\"/>\n<text text-anchor=\"middle\" x=\"398.3\" y=\"-67.33\" font-family=\"Times,serif\" font-size=\"14.00\">שיר</text>\n</g>\n<!-- 3&#45;&gt;4 -->\n<g id=\"edge2\" class=\"edge\">\n<title>3-&gt;4</title>\n<path fill=\"none\" stroke=\"black\" d=\"M299.78,-56.37C320.83,-59.75 343.02,-63.3 360.9,-66.17\"/>\n<polygon fill=\"black\" stroke=\"black\" points=\"360.28,-69.77 370.71,-67.9 361.39,-62.86 360.28,-69.77\"/>\n<text text-anchor=\"middle\" x=\"342.79\" y=\"-67.95\" font-family=\"Times,serif\" font-size=\"14.00\">A</text>\n</g>\n<!-- 6 -->\n<g id=\"node6\" class=\"node\">\n<title>6</title>\n<ellipse fill=\"none\" stroke=\"black\" cx=\"398.3\" cy=\"-18\" rx=\"32.27\" ry=\"18\"/>\n<text text-anchor=\"middle\" x=\"398.3\" y=\"-13.32\" font-family=\"Times,serif\" font-size=\"14.00\">שירת</text>\n</g>\n<!-- 3&#45;&gt;6 -->\n<g id=\"edge3\" class=\"edge\">\n<title>3-&gt;6</title>\n<path fill=\"none\" stroke=\"black\" d=\"M299.78,-33.63C319.11,-30.53 339.4,-27.28 356.43,-24.55\"/>\n<polygon fill=\"black\" stroke=\"black\" points=\"356.79,-27.88 366.11,-22.84 355.68,-20.96 356.79,-27.88\"/>\n<text text-anchor=\"middle\" x=\"342.79\" y=\"-30.95\" font-family=\"Times,serif\" font-size=\"14.00\">B</text>\n</g>\n<!-- 5 -->\n<g id=\"node5\" class=\"node\">\n<title>5</title>\n<ellipse fill=\"none\" stroke=\"black\" cx=\"561.43\" cy=\"-45\" rx=\"84.35\" ry=\"18\"/>\n<text text-anchor=\"middle\" x=\"561.43\" y=\"-40.33\" font-family=\"Times,serif\" font-size=\"14.00\">אל על משתה היין</text>\n</g>\n<!-- 4&#45;&gt;5 -->\n<g id=\"edge4\" class=\"edge\">\n<title>4-&gt;5</title>\n<path fill=\"none\" stroke=\"black\" d=\"M424.83,-67.72C440.78,-65.05 462.22,-61.46 483.35,-57.92\"/>\n<polygon fill=\"black\" stroke=\"black\" points=\"483.72,-61.24 493,-56.13 482.56,-54.33 483.72,-61.24\"/>\n<text text-anchor=\"middle\" x=\"453.82\" y=\"-66.95\" font-family=\"Times,serif\" font-size=\"14.00\">A</text>\n</g>\n<!-- 5&#45;&gt;2 -->\n<g id=\"edge5\" class=\"edge\">\n<title>5-&gt;2</title>\n<path fill=\"none\" stroke=\"black\" d=\"M646.12,-45C665.05,-45 684.29,-45 700.35,-45\"/>\n<polygon fill=\"black\" stroke=\"black\" points=\"699.92,-48.5 709.92,-45 699.92,-41.5 699.92,-48.5\"/>\n<text text-anchor=\"middle\" x=\"678.4\" y=\"-48.95\" font-family=\"Times,serif\" font-size=\"14.00\">A, B</text>\n</g>\n<!-- 6&#45;&gt;5 -->\n<g id=\"edge6\" class=\"edge\">\n<title>6-&gt;5</title>\n<path fill=\"none\" stroke=\"black\" d=\"M429.61,-23.08C444.85,-25.63 464.07,-28.85 483.06,-32.04\"/>\n<polygon fill=\"black\" stroke=\"black\" points=\"482.43,-35.65 492.87,-33.85 483.59,-28.74 482.43,-35.65\"/>\n<text text-anchor=\"middle\" x=\"453.82\" y=\"-30.95\" font-family=\"Times,serif\" font-size=\"14.00\">B</text>\n</g>\n</g>\n</svg>",
      "text/plain": [
       "<IPython.core.display.SVG object>"
      ]
     },
     "metadata": {},
     "output_type": "display_data"
    }
   ],
   "source": [
    "vf.getSampleVariant()"
   ]
  },
  {
   "attachments": {},
   "cell_type": "markdown",
   "metadata": {},
   "source": [
    "The following exemple will run on the first witness, to test the different representation."
   ]
  },
  {
   "cell_type": "code",
   "execution_count": 6,
   "metadata": {},
   "outputs": [
    {
     "name": "stdout",
     "output_type": "stream",
     "text": [
      "Verse 29 : aligned\n",
      "+---+-----+--------------------------------+-----------+\n",
      "| A |     | מרשיע נפשו מי יצדיקנו ומי יכבד | מקלה נפשו |\n",
      "| B | בני | מרשיע נפשו מי יצדיקנו ומי יכבד | מ         |\n",
      "+---+-----+--------------------------------+-----------+\n"
     ]
    }
   ],
   "source": [
    "test = vf.witnesses[1]\n",
    "print(test)"
   ]
  },
  {
   "cell_type": "code",
   "execution_count": 7,
   "metadata": {},
   "outputs": [
    {
     "data": {
      "image/svg+xml": "<svg xmlns=\"http://www.w3.org/2000/svg\" xmlns:xlink=\"http://www.w3.org/1999/xlink\" width=\"781pt\" height=\"98pt\" viewBox=\"0.00 0.00 780.77 98.00\">\n<g id=\"graph0\" class=\"graph\" transform=\"scale(1 1) rotate(0) translate(4 94)\">\n<polygon fill=\"white\" stroke=\"none\" points=\"-4,4 -4,-94 776.77,-94 776.77,4 -4,4\"/>\n<!-- 1 -->\n<g id=\"node1\" class=\"node\">\n<title>1</title>\n<ellipse fill=\"none\" stroke=\"black\" cx=\"35.42\" cy=\"-45\" rx=\"35.42\" ry=\"18\"/>\n<text text-anchor=\"middle\" x=\"35.42\" y=\"-40.33\" font-family=\"Times,serif\" font-size=\"14.00\">start</text>\n</g>\n<!-- 3 -->\n<g id=\"node3\" class=\"node\">\n<title>3</title>\n<ellipse fill=\"none\" stroke=\"black\" cx=\"144.35\" cy=\"-72\" rx=\"27\" ry=\"18\"/>\n<text text-anchor=\"middle\" x=\"144.35\" y=\"-67.33\" font-family=\"Times,serif\" font-size=\"14.00\">#</text>\n</g>\n<!-- 1&#45;&gt;3 -->\n<g id=\"edge1\" class=\"edge\">\n<title>1-&gt;3</title>\n<path fill=\"none\" stroke=\"black\" d=\"M67.64,-52.88C80.35,-56.09 95.11,-59.82 108.2,-63.12\"/>\n<polygon fill=\"black\" stroke=\"black\" points=\"107.17,-66.73 117.72,-65.78 108.88,-59.94 107.17,-66.73\"/>\n<text text-anchor=\"middle\" x=\"94.1\" y=\"-63.95\" font-family=\"Times,serif\" font-size=\"14.00\">A</text>\n</g>\n<!-- 6 -->\n<g id=\"node6\" class=\"node\">\n<title>6</title>\n<ellipse fill=\"none\" stroke=\"black\" cx=\"144.35\" cy=\"-18\" rx=\"27\" ry=\"18\"/>\n<text text-anchor=\"middle\" x=\"144.35\" y=\"-13.32\" font-family=\"Times,serif\" font-size=\"14.00\">בני</text>\n</g>\n<!-- 1&#45;&gt;6 -->\n<g id=\"edge2\" class=\"edge\">\n<title>1-&gt;6</title>\n<path fill=\"none\" stroke=\"black\" d=\"M67.64,-37.12C80.35,-33.91 95.11,-30.18 108.2,-26.88\"/>\n<polygon fill=\"black\" stroke=\"black\" points=\"108.88,-30.06 117.72,-24.22 107.17,-23.27 108.88,-30.06\"/>\n<text text-anchor=\"middle\" x=\"94.1\" y=\"-34.95\" font-family=\"Times,serif\" font-size=\"14.00\">B</text>\n</g>\n<!-- 2 -->\n<g id=\"node2\" class=\"node\">\n<title>2</title>\n<ellipse fill=\"none\" stroke=\"black\" cx=\"743.14\" cy=\"-45\" rx=\"29.64\" ry=\"18\"/>\n<text text-anchor=\"middle\" x=\"743.14\" y=\"-40.33\" font-family=\"Times,serif\" font-size=\"14.00\">end</text>\n</g>\n<!-- 4 -->\n<g id=\"node4\" class=\"node\">\n<title>4</title>\n<ellipse fill=\"none\" stroke=\"black\" cx=\"359.55\" cy=\"-45\" rx=\"141.7\" ry=\"18\"/>\n<text text-anchor=\"middle\" x=\"359.55\" y=\"-40.33\" font-family=\"Times,serif\" font-size=\"14.00\">מרשיע נפשו מי יצדיקנו ומי יכבד</text>\n</g>\n<!-- 3&#45;&gt;4 -->\n<g id=\"edge3\" class=\"edge\">\n<title>3-&gt;4</title>\n<path fill=\"none\" stroke=\"black\" d=\"M171.07,-68.74C190.31,-66.31 218.1,-62.79 246.4,-59.2\"/>\n<polygon fill=\"black\" stroke=\"black\" points=\"246.78,-62.56 256.26,-57.83 245.9,-55.61 246.78,-62.56\"/>\n<text text-anchor=\"middle\" x=\"194.6\" y=\"-69.95\" font-family=\"Times,serif\" font-size=\"14.00\">A</text>\n</g>\n<!-- 5 -->\n<g id=\"node5\" class=\"node\">\n<title>5</title>\n<ellipse fill=\"none\" stroke=\"black\" cx=\"607.37\" cy=\"-72\" rx=\"59.63\" ry=\"18\"/>\n<text text-anchor=\"middle\" x=\"607.37\" y=\"-67.33\" font-family=\"Times,serif\" font-size=\"14.00\">מקלה נפשו</text>\n</g>\n<!-- 4&#45;&gt;5 -->\n<g id=\"edge4\" class=\"edge\">\n<title>4-&gt;5</title>\n<path fill=\"none\" stroke=\"black\" d=\"M468.37,-56.84C492.76,-59.52 517.95,-62.29 540.03,-64.71\"/>\n<polygon fill=\"black\" stroke=\"black\" points=\"539.62,-68.3 549.94,-65.91 540.38,-61.34 539.62,-68.3\"/>\n<text text-anchor=\"middle\" x=\"524.5\" y=\"-66.95\" font-family=\"Times,serif\" font-size=\"14.00\">A</text>\n</g>\n<!-- 7 -->\n<g id=\"node7\" class=\"node\">\n<title>7</title>\n<ellipse fill=\"none\" stroke=\"black\" cx=\"607.37\" cy=\"-18\" rx=\"27\" ry=\"18\"/>\n<text text-anchor=\"middle\" x=\"607.37\" y=\"-13.32\" font-family=\"Times,serif\" font-size=\"14.00\">מ</text>\n</g>\n<!-- 4&#45;&gt;7 -->\n<g id=\"edge5\" class=\"edge\">\n<title>4-&gt;7</title>\n<path fill=\"none\" stroke=\"black\" d=\"M468.37,-33.16C504.72,-29.17 542.85,-24.98 569.8,-22.02\"/>\n<polygon fill=\"black\" stroke=\"black\" points=\"570.07,-25.4 579.63,-20.83 569.3,-18.44 570.07,-25.4\"/>\n<text text-anchor=\"middle\" x=\"524.5\" y=\"-30.95\" font-family=\"Times,serif\" font-size=\"14.00\">B</text>\n</g>\n<!-- 5&#45;&gt;2 -->\n<g id=\"edge6\" class=\"edge\">\n<title>5-&gt;2</title>\n<path fill=\"none\" stroke=\"black\" d=\"M657.8,-62.02C673.1,-58.93 689.71,-55.58 704.12,-52.67\"/>\n<polygon fill=\"black\" stroke=\"black\" points=\"704.53,-55.96 713.64,-50.55 703.14,-49.1 704.53,-55.96\"/>\n<text text-anchor=\"middle\" x=\"690.25\" y=\"-59.95\" font-family=\"Times,serif\" font-size=\"14.00\">A</text>\n</g>\n<!-- 6&#45;&gt;4 -->\n<g id=\"edge7\" class=\"edge\">\n<title>6-&gt;4</title>\n<path fill=\"none\" stroke=\"black\" d=\"M171.07,-21.26C190.31,-23.69 218.1,-27.21 246.4,-30.8\"/>\n<polygon fill=\"black\" stroke=\"black\" points=\"245.9,-34.39 256.26,-32.17 246.78,-27.44 245.9,-34.39\"/>\n<text text-anchor=\"middle\" x=\"194.6\" y=\"-27.95\" font-family=\"Times,serif\" font-size=\"14.00\">B</text>\n</g>\n<!-- 7&#45;&gt;2 -->\n<g id=\"edge8\" class=\"edge\">\n<title>7-&gt;2</title>\n<path fill=\"none\" stroke=\"black\" d=\"M634.03,-21.73C651.45,-24.41 674.95,-28.32 695.5,-32.75 698.67,-33.43 701.95,-34.19 705.23,-34.98\"/>\n<polygon fill=\"black\" stroke=\"black\" points=\"704.05,-38.55 714.6,-37.59 705.76,-31.76 704.05,-38.55\"/>\n<text text-anchor=\"middle\" x=\"690.25\" y=\"-35.95\" font-family=\"Times,serif\" font-size=\"14.00\">B</text>\n</g>\n</g>\n</svg>",
      "text/plain": [
       "<IPython.core.display.SVG object>"
      ]
     },
     "metadata": {},
     "output_type": "display_data"
    }
   ],
   "source": [
    "test.getSVG()"
   ]
  },
  {
   "cell_type": "code",
   "execution_count": 8,
   "metadata": {},
   "outputs": [
    {
     "data": {
      "text/html": [
       "<table>\n",
       "    <tbody>\n",
       "        <tr>\n",
       "            <td>A</td>\n",
       "            <td></td>\n",
       "            <td>מרשיע נפשו מי יצדיקנו ומי יכבד</td>\n",
       "            <td>מקלה נפשו</td>\n",
       "        </tr>\n",
       "        <tr>\n",
       "            <td>B</td>\n",
       "            <td>בני</td>\n",
       "            <td>מרשיע נפשו מי יצדיקנו ומי יכבד</td>\n",
       "            <td>מ</td>\n",
       "        </tr>\n",
       "    </tbody>\n",
       "</table>"
      ],
      "text/plain": [
       "<IPython.core.display.HTML object>"
      ]
     },
     "metadata": {},
     "output_type": "display_data"
    }
   ],
   "source": [
    "test.getHTML()"
   ]
  },
  {
   "cell_type": "code",
   "execution_count": 9,
   "metadata": {},
   "outputs": [
    {
     "name": "stdout",
     "output_type": "stream",
     "text": [
      "A, ,מרשיע נפשו מי יצדיקנו ומי יכבד ,מקלה נפשו \n",
      "B,בני ,מרשיע נפשו מי יצדיקנו ומי יכבד ,מ\n",
      "\n"
     ]
    }
   ],
   "source": [
    "print(test.getCSV())"
   ]
  },
  {
   "attachments": {},
   "cell_type": "markdown",
   "metadata": {},
   "source": [
    "The following exemple show the DataFrame of the `VariantsFinder` object."
   ]
  },
  {
   "cell_type": "code",
   "execution_count": 10,
   "metadata": {},
   "outputs": [
    {
     "data": {
      "text/html": [
       "<div>\n",
       "<style scoped>\n",
       "    .dataframe tbody tr th:only-of-type {\n",
       "        vertical-align: middle;\n",
       "    }\n",
       "\n",
       "    .dataframe tbody tr th {\n",
       "        vertical-align: top;\n",
       "    }\n",
       "\n",
       "    .dataframe thead th {\n",
       "        text-align: right;\n",
       "    }\n",
       "</style>\n",
       "<table border=\"1\" class=\"dataframe\">\n",
       "  <thead>\n",
       "    <tr style=\"text-align: right;\">\n",
       "      <th></th>\n",
       "      <th>Verse A</th>\n",
       "      <th>Verse B</th>\n",
       "      <th>Manuscript A</th>\n",
       "      <th>Manuscript B</th>\n",
       "      <th>Chapter A</th>\n",
       "      <th>Chapter B</th>\n",
       "      <th>Verse</th>\n",
       "      <th>Levenshtein</th>\n",
       "      <th>Hamming</th>\n",
       "    </tr>\n",
       "  </thead>\n",
       "  <tbody>\n",
       "    <tr>\n",
       "      <th>0</th>\n",
       "      <td>בין אחים ראשם נכבד וירא אלהים בעינ</td>\n",
       "      <td>בין אחים ראשם נכבד וירא אלהים נכבד ממנו</td>\n",
       "      <td>ms_a_new.xml</td>\n",
       "      <td>ms_b_new.xml</td>\n",
       "      <td>Chapter 10</td>\n",
       "      <td>Siracide 10</td>\n",
       "      <td>20</td>\n",
       "      <td>6</td>\n",
       "      <td>8</td>\n",
       "    </tr>\n",
       "    <tr>\n",
       "      <th>1</th>\n",
       "      <td>מרשיע נפשו מי יצדיקנו ומי יכבד מקלה נפשו</td>\n",
       "      <td>בני מרשיע נפשו מי יצדיקנו ומי יכבד מ</td>\n",
       "      <td>ms_a_new.xml</td>\n",
       "      <td>ms_b_new.xml</td>\n",
       "      <td>Chapter 10</td>\n",
       "      <td>Siracide 10</td>\n",
       "      <td>29</td>\n",
       "      <td>7</td>\n",
       "      <td>8</td>\n",
       "    </tr>\n",
       "    <tr>\n",
       "      <th>2</th>\n",
       "      <td>טוב עובד ויותר הון ממתכבד חס מתן</td>\n",
       "      <td>טוב עובד ויותר הון ממתכבד</td>\n",
       "      <td>ms_a_new.xml</td>\n",
       "      <td>ms_b_new.xml</td>\n",
       "      <td>Chapter 10</td>\n",
       "      <td>Siracide 10</td>\n",
       "      <td>27</td>\n",
       "      <td>5</td>\n",
       "      <td>5</td>\n",
       "    </tr>\n",
       "    <tr>\n",
       "      <th>3</th>\n",
       "      <td>ש מושל ושופט נכבדו ואן גדול מרא אלהים</td>\n",
       "      <td>שר שופט ומושל נכבדו וא גד</td>\n",
       "      <td>ms_a_new.xml</td>\n",
       "      <td>ms_b_new.xml</td>\n",
       "      <td>Chapter 10</td>\n",
       "      <td>Siracide 10</td>\n",
       "      <td>24</td>\n",
       "      <td>17</td>\n",
       "      <td>22</td>\n",
       "    </tr>\n",
       "    <tr>\n",
       "      <th>4</th>\n",
       "      <td>אַל תתחכם לעבד חפצך ואל תתכעת צרכך</td>\n",
       "      <td>אל תתחכם לעשות חפצך ואל תתכב</td>\n",
       "      <td>ms_a_new.xml</td>\n",
       "      <td>ms_b_new.xml</td>\n",
       "      <td>Chapter 10</td>\n",
       "      <td>Siracide 10</td>\n",
       "      <td>26</td>\n",
       "      <td>8</td>\n",
       "      <td>11</td>\n",
       "    </tr>\n",
       "    <tr>\n",
       "      <th>...</th>\n",
       "      <td>...</td>\n",
       "      <td>...</td>\n",
       "      <td>...</td>\n",
       "      <td>...</td>\n",
       "      <td>...</td>\n",
       "      <td>...</td>\n",
       "      <td>...</td>\n",
       "      <td>...</td>\n",
       "      <td>...</td>\n",
       "    </tr>\n",
       "    <tr>\n",
       "      <th>148</th>\n",
       "      <td>שונא תורה ומתמוטט כמסערה</td>\n",
       "      <td>לא יחכם שונא תורה ומתמוטט כמסערה</td>\n",
       "      <td>ms_e_new.xml</td>\n",
       "      <td>ms_f_new.xml</td>\n",
       "      <td>Chapter 33</td>\n",
       "      <td>Chapter 33</td>\n",
       "      <td>2</td>\n",
       "      <td>6</td>\n",
       "      <td>6</td>\n",
       "    </tr>\n",
       "    <tr>\n",
       "      <th>149</th>\n",
       "      <td>מת בחכמת ייי נשפטו ויש מהם מועד</td>\n",
       "      <td>אבל בחכמת ייי נשפטו ויש מהם מוע</td>\n",
       "      <td>ms_e_new.xml</td>\n",
       "      <td>ms_f_new.xml</td>\n",
       "      <td>Chapter 33</td>\n",
       "      <td>Chapter 33</td>\n",
       "      <td>8</td>\n",
       "      <td>4</td>\n",
       "      <td>6</td>\n",
       "    </tr>\n",
       "    <tr>\n",
       "      <th>150</th>\n",
       "      <td>אוהב שונא תחת כל  יצהל</td>\n",
       "      <td>כסוס מוכן אוהב שונא תחת כל אוהב יצהל</td>\n",
       "      <td>ms_e_new.xml</td>\n",
       "      <td>ms_f_new.xml</td>\n",
       "      <td>Chapter 33</td>\n",
       "      <td>Chapter 33</td>\n",
       "      <td>6</td>\n",
       "      <td>12</td>\n",
       "      <td>12</td>\n",
       "    </tr>\n",
       "    <tr>\n",
       "      <th>151</th>\n",
       "      <td>ר ואחר תעשה ובית מנוח ואחר תגיה</td>\n",
       "      <td>הכין אומר ואחר תעשה ובית מנוח ואחר תגיה</td>\n",
       "      <td>ms_e_new.xml</td>\n",
       "      <td>ms_f_new.xml</td>\n",
       "      <td>Chapter 33</td>\n",
       "      <td>Chapter 33</td>\n",
       "      <td>4</td>\n",
       "      <td>7</td>\n",
       "      <td>8</td>\n",
       "    </tr>\n",
       "    <tr>\n",
       "      <th>152</th>\n",
       "      <td>ל לב נבל ואופן חוזר מחשבותיו</td>\n",
       "      <td>גלגל קל לב נבל ואופן חוזר מחשבותיו</td>\n",
       "      <td>ms_e_new.xml</td>\n",
       "      <td>ms_f_new.xml</td>\n",
       "      <td>Chapter 33</td>\n",
       "      <td>Chapter 33</td>\n",
       "      <td>5</td>\n",
       "      <td>5</td>\n",
       "      <td>6</td>\n",
       "    </tr>\n",
       "  </tbody>\n",
       "</table>\n",
       "<p>153 rows × 9 columns</p>\n",
       "</div>"
      ],
      "text/plain": [
       "                                        Verse A   \n",
       "0            בין אחים ראשם נכבד וירא אלהים בעינ  \\\n",
       "1     מרשיע נפשו מי יצדיקנו ומי יכבד מקלה נפשו    \n",
       "2             טוב עובד ויותר הון ממתכבד חס מתן    \n",
       "3        ש מושל ושופט נכבדו ואן גדול מרא אלהים    \n",
       "4           אַל תתחכם לעבד חפצך ואל תתכעת צרכך    \n",
       "..                                          ...   \n",
       "148                  שונא תורה ומתמוטט כמסערה     \n",
       "149            מת בחכמת ייי נשפטו ויש מהם מועד    \n",
       "150                     אוהב שונא תחת כל  יצהל    \n",
       "151             ר ואחר תעשה ובית מנוח ואחר תגיה   \n",
       "152               ל לב נבל ואופן חוזר מחשבותיו    \n",
       "\n",
       "                                      Verse B  Manuscript A  Manuscript B   \n",
       "0     בין אחים ראשם נכבד וירא אלהים נכבד ממנו  ms_a_new.xml  ms_b_new.xml  \\\n",
       "1        בני מרשיע נפשו מי יצדיקנו ומי יכבד מ  ms_a_new.xml  ms_b_new.xml   \n",
       "2                  טוב עובד ויותר הון ממתכבד   ms_a_new.xml  ms_b_new.xml   \n",
       "3                   שר שופט ומושל נכבדו וא גד  ms_a_new.xml  ms_b_new.xml   \n",
       "4                אל תתחכם לעשות חפצך ואל תתכב  ms_a_new.xml  ms_b_new.xml   \n",
       "..                                        ...           ...           ...   \n",
       "148         לא יחכם שונא תורה ומתמוטט כמסערה   ms_e_new.xml  ms_f_new.xml   \n",
       "149      אבל בחכמת ייי נשפטו ויש מהם מוע       ms_e_new.xml  ms_f_new.xml   \n",
       "150      כסוס מוכן אוהב שונא תחת כל אוהב יצהל  ms_e_new.xml  ms_f_new.xml   \n",
       "151   הכין אומר ואחר תעשה ובית מנוח ואחר תגיה  ms_e_new.xml  ms_f_new.xml   \n",
       "152        גלגל קל לב נבל ואופן חוזר מחשבותיו  ms_e_new.xml  ms_f_new.xml   \n",
       "\n",
       "      Chapter A    Chapter B Verse  Levenshtein  Hamming  \n",
       "0    Chapter 10  Siracide 10    20            6        8  \n",
       "1    Chapter 10  Siracide 10    29            7        8  \n",
       "2    Chapter 10  Siracide 10    27            5        5  \n",
       "3    Chapter 10  Siracide 10    24           17       22  \n",
       "4    Chapter 10  Siracide 10    26            8       11  \n",
       "..          ...          ...   ...          ...      ...  \n",
       "148  Chapter 33   Chapter 33     2            6        6  \n",
       "149  Chapter 33   Chapter 33     8            4        6  \n",
       "150  Chapter 33   Chapter 33     6           12       12  \n",
       "151  Chapter 33   Chapter 33     4            7        8  \n",
       "152  Chapter 33   Chapter 33     5            5        6  \n",
       "\n",
       "[153 rows x 9 columns]"
      ]
     },
     "execution_count": 10,
     "metadata": {},
     "output_type": "execute_result"
    }
   ],
   "source": [
    "df = vf.getDF()\n",
    "df"
   ]
  },
  {
   "attachments": {},
   "cell_type": "markdown",
   "metadata": {},
   "source": [
    "Finally, here is an exemple of the mardown and csv export. By default, the variants are saved under the files `\"Variants.md\"` and `\"Variants.csv\"`."
   ]
  },
  {
   "cell_type": "code",
   "execution_count": 12,
   "metadata": {},
   "outputs": [
    {
     "data": {
      "text/plain": [
       "(NoneType, NoneType)"
      ]
     },
     "execution_count": 12,
     "metadata": {},
     "output_type": "execute_result"
    }
   ],
   "source": [
    "vf.getCSV()\n",
    "vf.getMarkdown()"
   ]
  },
  {
   "cell_type": "code",
   "execution_count": null,
   "metadata": {},
   "outputs": [],
   "source": []
  }
 ],
 "metadata": {
  "kernelspec": {
   "display_name": "base",
   "language": "python",
   "name": "python3"
  },
  "language_info": {
   "codemirror_mode": {
    "name": "ipython",
    "version": 3
   },
   "file_extension": ".py",
   "mimetype": "text/x-python",
   "name": "python",
   "nbconvert_exporter": "python",
   "pygments_lexer": "ipython3",
   "version": "3.10.8"
  },
  "orig_nbformat": 4,
  "vscode": {
   "interpreter": {
    "hash": "5cfb0889301bd40a32af2921b094f94edad3784ee7c8bac1076d6edd892f10d1"
   }
  }
 },
 "nbformat": 4,
 "nbformat_minor": 2
}
