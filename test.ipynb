{
 "cells": [
  {
   "attachments": {},
   "cell_type": "markdown",
   "metadata": {},
   "source": [
    "# Test of the Ben Sira package"
   ]
  },
  {
   "cell_type": "markdown",
   "metadata": {},
   "source": [
    "!pip install collatex\n",
    "!pip install graphviz\n",
    "!pip install levenshtein\n",
    "!pip install xmltodict\n",
    "!pip install beautifulsoup4\n",
    "!pip install lxml\n",
    "!pip install textdistance\n",
    "!pip install pandas\n",
    "!pip install matplotlib\n",
    "!pip install seaborn\n",
    "!pip install nltk\n",
    "!pip install spacy==3.2.2\n",
    "!pip install hebspacy\n",
    "!pip install https://github.com/8400TheHealthNetwork/HebSpacy/releases/download/he_ner_news_trf-3.2.1/he_ner_news_trf-3.2.1-py3-none-any.whl"
   ]
  },
  {
   "cell_type": "code",
   "execution_count": 1,
   "metadata": {},
   "outputs": [
    {
     "name": "stderr",
     "output_type": "stream",
     "text": [
      "[nltk_data] Downloading package punkt to /home/mari/nltk_data...\n",
      "[nltk_data]   Package punkt is already up-to-date!\n"
     ]
    }
   ],
   "source": [
    "from pkg.Extraction import test, VariantsFinder"
   ]
  },
  {
   "cell_type": "code",
   "execution_count": 2,
   "metadata": {},
   "outputs": [
    {
     "name": "stdout",
     "output_type": "stream",
     "text": [
      "test\n"
     ]
    }
   ],
   "source": [
    "test()"
   ]
  },
  {
   "cell_type": "code",
   "execution_count": 3,
   "metadata": {},
   "outputs": [],
   "source": [
    "fileNames = [\"ms_a_new.xml\",\"ms_b_new.xml\",\"ms_d_new.xml\",\"ms_e_new.xml\",\"ms_f_new.xml\"]"
   ]
  },
  {
   "cell_type": "code",
   "execution_count": 4,
   "metadata": {},
   "outputs": [
    {
     "name": "stdout",
     "output_type": "stream",
     "text": [
      "# Matching Done\n",
      "## Cleaning Done\n",
      "### Collation Done\n"
     ]
    }
   ],
   "source": [
    "vf = VariantsFinder(fileNames)"
   ]
  },
  {
   "cell_type": "code",
   "execution_count": 5,
   "metadata": {},
   "outputs": [
    {
     "data": {
      "image/svg+xml": "<svg xmlns=\"http://www.w3.org/2000/svg\" xmlns:xlink=\"http://www.w3.org/1999/xlink\" width=\"1562pt\" height=\"184pt\" viewBox=\"0.00 0.00 1561.74 184.20\">\n<g id=\"graph0\" class=\"graph\" transform=\"scale(1 1) rotate(0) translate(4 180.2)\">\n<polygon fill=\"white\" stroke=\"none\" points=\"-4,4 -4,-180.2 1557.74,-180.2 1557.74,4 -4,4\"/>\n<!-- 1 -->\n<g id=\"node1\" class=\"node\">\n<title>1</title>\n<ellipse fill=\"none\" stroke=\"black\" cx=\"88.03\" cy=\"-87.6\" rx=\"88.03\" ry=\"23.51\"/>\n<polygon fill=\"none\" stroke=\"black\" points=\"34.78,-75.97 34.78,-99.22 79.03,-99.22 79.03,-75.97 34.78,-75.97\"/>\n<text text-anchor=\"start\" x=\"37.78\" y=\"-83.92\" font-family=\"Times,serif\" font-weight=\"bold\" font-size=\"14.00\">start</text>\n<polygon fill=\"none\" stroke=\"black\" points=\"79.03,-75.97 79.03,-99.22 141.28,-99.22 141.28,-75.97 79.03,-75.97\"/>\n<text text-anchor=\"start\" x=\"82.03\" y=\"-82.92\" font-family=\"Times,serif\" font-size=\"14.00\">exact: 0</text>\n<polygon fill=\"none\" stroke=\"black\" points=\"33.78,-74.97 33.78,-100.22 142.28,-100.22 142.28,-74.97 33.78,-74.97\"/>\n</g>\n<!-- 3 -->\n<g id=\"node3\" class=\"node\">\n<title>3</title>\n<ellipse fill=\"none\" stroke=\"black\" cx=\"339.95\" cy=\"-136.6\" rx=\"86.97\" ry=\"39.6\"/>\n<polygon fill=\"none\" stroke=\"black\" points=\"287.45,-136.6 287.45,-159.6 330.45,-159.6 330.45,-136.6 287.45,-136.6\"/>\n<text text-anchor=\"start\" x=\"290.45\" y=\"-144.3\" font-family=\"Times,serif\" font-weight=\"bold\" font-size=\"14.00\"> נכבד</text>\n<polygon fill=\"none\" stroke=\"black\" points=\"330.45,-136.6 330.45,-159.6 392.45,-159.6 392.45,-136.6 330.45,-136.6\"/>\n<text text-anchor=\"start\" x=\"333.32\" y=\"-143.3\" font-family=\"Times,serif\" font-size=\"14.00\">exact: 1</text>\n<polygon fill=\"none\" stroke=\"black\" points=\"287.45,-113.6 287.45,-136.6 330.45,-136.6 330.45,-113.6 287.45,-113.6\"/>\n<text text-anchor=\"start\" x=\"290.2\" y=\"-120.3\" font-family=\"Bukyvede\" font-size=\"14.00\"> נכבד </text>\n<polygon fill=\"none\" stroke=\"black\" points=\"330.45,-113.6 330.45,-136.6 392.45,-136.6 392.45,-113.6 330.45,-113.6\"/>\n<text text-anchor=\"start\" x=\"333.45\" y=\"-120.3\" font-family=\"Times,serif\" font-size=\"14.00\">A</text>\n<polygon fill=\"none\" stroke=\"black\" points=\"286.45,-112.6 286.45,-160.6 393.45,-160.6 393.45,-112.6 286.45,-112.6\"/>\n</g>\n<!-- 1&#45;&gt;3 -->\n<g id=\"edge1\" class=\"edge\">\n<title>1-&gt;3</title>\n<path fill=\"none\" stroke=\"black\" d=\"M159.98,-101.51C187.61,-106.93 219.61,-113.2 248.84,-118.93\"/>\n<polygon fill=\"black\" stroke=\"black\" points=\"247.99,-122.53 258.47,-121.02 249.33,-115.66 247.99,-122.53\"/>\n<text text-anchor=\"middle\" x=\"199.32\" y=\"-112.55\" font-family=\"Times,serif\" font-size=\"14.00\">A</text>\n</g>\n<!-- 6 -->\n<g id=\"node6\" class=\"node\">\n<title>6</title>\n<ellipse fill=\"none\" stroke=\"black\" cx=\"339.95\" cy=\"-39.6\" rx=\"117.38\" ry=\"39.6\"/>\n<polygon fill=\"none\" stroke=\"black\" points=\"265.95,-39.6 265.95,-62.6 351.95,-62.6 351.95,-39.6 265.95,-39.6\"/>\n<text text-anchor=\"start\" x=\"268.82\" y=\"-47.3\" font-family=\"Times,serif\" font-weight=\"bold\" font-size=\"14.00\">הנכבד בעיניו</text>\n<polygon fill=\"none\" stroke=\"black\" points=\"351.95,-39.6 351.95,-62.6 413.95,-62.6 413.95,-39.6 351.95,-39.6\"/>\n<text text-anchor=\"start\" x=\"354.82\" y=\"-46.3\" font-family=\"Times,serif\" font-size=\"14.00\">exact: 1</text>\n<polygon fill=\"none\" stroke=\"black\" points=\"265.95,-16.6 265.95,-39.6 351.95,-39.6 351.95,-16.6 265.95,-16.6\"/>\n<text text-anchor=\"start\" x=\"268.95\" y=\"-23.3\" font-family=\"Bukyvede\" font-size=\"14.00\">הנכבד בעיניו </text>\n<polygon fill=\"none\" stroke=\"black\" points=\"351.95,-16.6 351.95,-39.6 413.95,-39.6 413.95,-16.6 351.95,-16.6\"/>\n<text text-anchor=\"start\" x=\"354.95\" y=\"-23.3\" font-family=\"Times,serif\" font-size=\"14.00\">B</text>\n<polygon fill=\"none\" stroke=\"black\" points=\"264.95,-15.6 264.95,-63.6 414.95,-63.6 414.95,-15.6 264.95,-15.6\"/>\n</g>\n<!-- 1&#45;&gt;6 -->\n<g id=\"edge2\" class=\"edge\">\n<title>1-&gt;6</title>\n<path fill=\"none\" stroke=\"black\" d=\"M160.32,-73.91C180.99,-69.94 204.09,-65.5 226.63,-61.17\"/>\n<polygon fill=\"black\" stroke=\"black\" points=\"227.12,-64.45 236.28,-59.12 225.8,-57.57 227.12,-64.45\"/>\n<text text-anchor=\"middle\" x=\"199.32\" y=\"-70.55\" font-family=\"Times,serif\" font-size=\"14.00\">B</text>\n</g>\n<!-- 2 -->\n<g id=\"node2\" class=\"node\">\n<title>2</title>\n<ellipse fill=\"none\" stroke=\"black\" cx=\"1472.07\" cy=\"-87.6\" rx=\"81.67\" ry=\"23.51\"/>\n<polygon fill=\"none\" stroke=\"black\" points=\"1423.32,-75.97 1423.32,-99.22 1458.57,-99.22 1458.57,-75.97 1423.32,-75.97\"/>\n<text text-anchor=\"start\" x=\"1426.32\" y=\"-83.92\" font-family=\"Times,serif\" font-weight=\"bold\" font-size=\"14.00\">end</text>\n<polygon fill=\"none\" stroke=\"black\" points=\"1458.57,-75.97 1458.57,-99.22 1520.82,-99.22 1520.82,-75.97 1458.57,-75.97\"/>\n<text text-anchor=\"start\" x=\"1461.57\" y=\"-82.92\" font-family=\"Times,serif\" font-size=\"14.00\">exact: 5</text>\n<polygon fill=\"none\" stroke=\"black\" points=\"1422.32,-74.97 1422.32,-100.22 1521.82,-100.22 1521.82,-74.97 1422.32,-74.97\"/>\n</g>\n<!-- 4 -->\n<g id=\"node4\" class=\"node\">\n<title>4</title>\n<ellipse fill=\"none\" stroke=\"black\" cx=\"655.86\" cy=\"-87.6\" rx=\"152.03\" ry=\"39.6\"/>\n<polygon fill=\"none\" stroke=\"black\" points=\"557.36,-87.6 557.36,-110.6 692.36,-110.6 692.36,-87.6 557.36,-87.6\"/>\n<text text-anchor=\"start\" x=\"560.36\" y=\"-95.3\" font-family=\"Times,serif\" font-weight=\"bold\" font-size=\"14.00\">בעשרו איככה ונקלה</text>\n<polygon fill=\"none\" stroke=\"black\" points=\"692.36,-87.6 692.36,-110.6 754.36,-110.6 754.36,-87.6 692.36,-87.6\"/>\n<text text-anchor=\"start\" x=\"695.23\" y=\"-94.3\" font-family=\"Times,serif\" font-size=\"14.00\">exact: 2</text>\n<polygon fill=\"none\" stroke=\"black\" points=\"557.36,-64.6 557.36,-87.6 692.36,-87.6 692.36,-64.6 557.36,-64.6\"/>\n<text text-anchor=\"start\" x=\"560.36\" y=\"-71.3\" font-family=\"Bukyvede\" font-size=\"14.00\">בעשרו איככה ונקלה </text>\n<polygon fill=\"none\" stroke=\"black\" points=\"692.36,-64.6 692.36,-87.6 754.36,-87.6 754.36,-64.6 692.36,-64.6\"/>\n<text text-anchor=\"start\" x=\"695.36\" y=\"-71.3\" font-family=\"Times,serif\" font-size=\"14.00\">A, B</text>\n<polygon fill=\"none\" stroke=\"black\" points=\"556.36,-63.6 556.36,-111.6 755.36,-111.6 755.36,-63.6 556.36,-63.6\"/>\n</g>\n<!-- 3&#45;&gt;4 -->\n<g id=\"edge3\" class=\"edge\">\n<title>3-&gt;4</title>\n<path fill=\"none\" stroke=\"black\" d=\"M422.61,-123.85C450.6,-119.48 482.77,-114.46 514.08,-109.57\"/>\n<polygon fill=\"black\" stroke=\"black\" points=\"514.32,-112.92 523.66,-107.92 513.24,-106.01 514.32,-112.92\"/>\n<text text-anchor=\"middle\" x=\"480.58\" y=\"-118.55\" font-family=\"Times,serif\" font-size=\"14.00\">A</text>\n</g>\n<!-- 5 -->\n<g id=\"node5\" class=\"node\">\n<title>5</title>\n<ellipse fill=\"none\" stroke=\"black\" cx=\"1204.23\" cy=\"-87.6\" rx=\"120.92\" ry=\"39.6\"/>\n<polygon fill=\"none\" stroke=\"black\" points=\"1127.73,-87.6 1127.73,-110.6 1218.73,-110.6 1218.73,-87.6 1127.73,-87.6\"/>\n<text text-anchor=\"start\" x=\"1130.48\" y=\"-95.3\" font-family=\"Times,serif\" font-weight=\"bold\" font-size=\"14.00\">בעיניו איככה׃</text>\n<polygon fill=\"none\" stroke=\"black\" points=\"1218.73,-87.6 1218.73,-110.6 1280.73,-110.6 1280.73,-87.6 1218.73,-87.6\"/>\n<text text-anchor=\"start\" x=\"1221.61\" y=\"-94.3\" font-family=\"Times,serif\" font-size=\"14.00\">exact: 4</text>\n<polygon fill=\"none\" stroke=\"black\" points=\"1127.73,-64.6 1127.73,-87.6 1218.73,-87.6 1218.73,-64.6 1127.73,-64.6\"/>\n<text text-anchor=\"start\" x=\"1130.73\" y=\"-71.3\" font-family=\"Bukyvede\" font-size=\"14.00\">בעיניו איככה׃</text>\n<polygon fill=\"none\" stroke=\"black\" points=\"1218.73,-64.6 1218.73,-87.6 1280.73,-87.6 1280.73,-64.6 1218.73,-64.6\"/>\n<text text-anchor=\"start\" x=\"1221.73\" y=\"-71.3\" font-family=\"Times,serif\" font-size=\"14.00\">A, B</text>\n<polygon fill=\"none\" stroke=\"black\" points=\"1126.73,-63.6 1126.73,-111.6 1281.73,-111.6 1281.73,-63.6 1126.73,-63.6\"/>\n</g>\n<!-- 4&#45;&gt;5 -->\n<g id=\"edge4\" class=\"edge\">\n<title>4-&gt;5</title>\n<path fill=\"none\" stroke=\"black\" d=\"M804.32,-96.71C821.2,-97.49 838.16,-98.15 854.38,-98.6 935.44,-100.85 955.78,-101.27 1036.82,-98.6 1049.25,-98.19 1062.2,-97.6 1075.14,-96.92\"/>\n<polygon fill=\"black\" stroke=\"black\" points=\"1075.21,-100.37 1085,-96.32 1074.82,-93.38 1075.21,-100.37\"/>\n<text text-anchor=\"middle\" x=\"945.6\" y=\"-103.55\" font-family=\"Times,serif\" font-size=\"14.00\">A</text>\n</g>\n<!-- 7 -->\n<g id=\"node7\" class=\"node\">\n<title>7</title>\n<ellipse fill=\"none\" stroke=\"black\" cx=\"945.6\" cy=\"-49.6\" rx=\"91.22\" ry=\"39.6\"/>\n<polygon fill=\"none\" stroke=\"black\" points=\"890.1,-49.6 890.1,-72.6 939.1,-72.6 939.1,-49.6 890.1,-49.6\"/>\n<text text-anchor=\"start\" x=\"893.1\" y=\"-57.3\" font-family=\"Times,serif\" font-weight=\"bold\" font-size=\"14.00\">בעשרו</text>\n<polygon fill=\"none\" stroke=\"black\" points=\"939.1,-49.6 939.1,-72.6 1001.1,-72.6 1001.1,-49.6 939.1,-49.6\"/>\n<text text-anchor=\"start\" x=\"941.98\" y=\"-56.3\" font-family=\"Times,serif\" font-size=\"14.00\">exact: 3</text>\n<polygon fill=\"none\" stroke=\"black\" points=\"890.1,-26.6 890.1,-49.6 939.1,-49.6 939.1,-26.6 890.1,-26.6\"/>\n<text text-anchor=\"start\" x=\"892.85\" y=\"-33.3\" font-family=\"Bukyvede\" font-size=\"14.00\">בעשרו </text>\n<polygon fill=\"none\" stroke=\"black\" points=\"939.1,-26.6 939.1,-49.6 1001.1,-49.6 1001.1,-26.6 939.1,-26.6\"/>\n<text text-anchor=\"start\" x=\"942.1\" y=\"-33.3\" font-family=\"Times,serif\" font-size=\"14.00\">B</text>\n<polygon fill=\"none\" stroke=\"black\" points=\"889.1,-25.6 889.1,-73.6 1002.1,-73.6 1002.1,-25.6 889.1,-25.6\"/>\n</g>\n<!-- 4&#45;&gt;7 -->\n<g id=\"edge5\" class=\"edge\">\n<title>4-&gt;7</title>\n<path fill=\"none\" stroke=\"black\" d=\"M792.3,-69.71C810.77,-67.27 829.43,-64.81 847.04,-62.48\"/>\n<polygon fill=\"black\" stroke=\"black\" points=\"847.41,-65.83 856.87,-61.05 846.5,-58.89 847.41,-65.83\"/>\n<text text-anchor=\"middle\" x=\"831.13\" y=\"-69.55\" font-family=\"Times,serif\" font-size=\"14.00\">B</text>\n</g>\n<!-- 5&#45;&gt;2 -->\n<g id=\"edge6\" class=\"edge\">\n<title>5-&gt;2</title>\n<path fill=\"none\" stroke=\"black\" d=\"M1325.32,-87.6C1343.44,-87.6 1361.87,-87.6 1379.27,-87.6\"/>\n<polygon fill=\"black\" stroke=\"black\" points=\"1378.96,-91.1 1388.96,-87.6 1378.96,-84.1 1378.96,-91.1\"/>\n<text text-anchor=\"middle\" x=\"1357.77\" y=\"-91.55\" font-family=\"Times,serif\" font-size=\"14.00\">A, B</text>\n</g>\n<!-- 6&#45;&gt;4 -->\n<g id=\"edge7\" class=\"edge\">\n<title>6-&gt;4</title>\n<path fill=\"none\" stroke=\"black\" d=\"M447.22,-55.85C468.39,-59.09 490.94,-62.53 513.08,-65.92\"/>\n<polygon fill=\"black\" stroke=\"black\" points=\"512.5,-69.52 522.91,-67.58 513.56,-62.6 512.5,-69.52\"/>\n<text text-anchor=\"middle\" x=\"480.58\" y=\"-65.55\" font-family=\"Times,serif\" font-size=\"14.00\">B</text>\n</g>\n<!-- 7&#45;&gt;5 -->\n<g id=\"edge8\" class=\"edge\">\n<title>7-&gt;5</title>\n<path fill=\"none\" stroke=\"black\" d=\"M1032.41,-62.3C1048.58,-64.7 1065.77,-67.24 1082.77,-69.76\"/>\n<polygon fill=\"black\" stroke=\"black\" points=\"1081.91,-73.32 1092.32,-71.32 1082.94,-66.4 1081.91,-73.32\"/>\n<text text-anchor=\"middle\" x=\"1060.07\" y=\"-70.55\" font-family=\"Times,serif\" font-size=\"14.00\">B</text>\n</g>\n</g>\n</svg>",
      "text/plain": [
       "<IPython.core.display.SVG object>"
      ]
     },
     "metadata": {},
     "output_type": "display_data"
    }
   ],
   "source": [
    "vf.getSampleVariant(i=2)"
   ]
  }
 ],
 "metadata": {
  "kernelspec": {
   "display_name": "base",
   "language": "python",
   "name": "python3"
  },
  "language_info": {
   "codemirror_mode": {
    "name": "ipython",
    "version": 3
   },
   "file_extension": ".py",
   "mimetype": "text/x-python",
   "name": "python",
   "nbconvert_exporter": "python",
   "pygments_lexer": "ipython3",
   "version": "3.10.8"
  },
  "orig_nbformat": 4,
  "vscode": {
   "interpreter": {
    "hash": "5cfb0889301bd40a32af2921b094f94edad3784ee7c8bac1076d6edd892f10d1"
   }
  }
 },
 "nbformat": 4,
 "nbformat_minor": 2
}
