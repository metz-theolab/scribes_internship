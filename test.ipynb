{
 "cells": [
  {
   "attachments": {},
   "cell_type": "markdown",
   "metadata": {},
   "source": [
    "# Test of the Ben Sira package\n",
    "## Import :"
   ]
  },
  {
   "cell_type": "code",
   "execution_count": 1,
   "metadata": {},
   "outputs": [
    {
     "name": "stderr",
     "output_type": "stream",
     "text": [
      "[nltk_data] Downloading package punkt to /home/mari/nltk_data...\n",
      "[nltk_data]   Package punkt is already up-to-date!\n",
      "[nltk_data] Downloading package punkt to /home/mari/nltk_data...\n",
      "[nltk_data]   Package punkt is already up-to-date!\n"
     ]
    }
   ],
   "source": [
    "from pkg.Variant import VariantsFinder\n",
    "from pkg.Witness import Witness\n",
    "from pkg.Stats import *"
   ]
  },
  {
   "attachments": {},
   "cell_type": "markdown",
   "metadata": {},
   "source": [
    "## Constantes :\n",
    "\n",
    "To update depending of the manuscript :"
   ]
  },
  {
   "cell_type": "code",
   "execution_count": 2,
   "metadata": {},
   "outputs": [],
   "source": [
    "UNWANTED_TAGS = [\"folio\",\"verse_nb\",\"line\",\"vacat_car\",\"greek\",\"reconstructed\",\"superscript\",\\\n",
    "                    \"supralinear\",\"margin_reconstructed\",\"margin_car\",\"margin_infralinear\",\\\n",
    "                    \"margin_supralinear\",\"Article\"]"
   ]
  },
  {
   "attachments": {},
   "cell_type": "markdown",
   "metadata": {},
   "source": [
    "TO UNDERSTAND THE XML FILES :\n",
    "\n",
    "                <!ELEMENT folio (#PCDATA)> <!-- shelfmark of the manuscript and folio number -->\n",
    "                <!ELEMENT verse_nb (#PCDATA)> <!-- verse (children of chapter) -->\n",
    "                <!ELEMENT line (#PCDATA)> <!-- line on the manuscript -->\n",
    "                <!ELEMENT vacat_car (#PCDATA)> <!-- a space into the manuscript -->\n",
    "                <!ELEMENT greek (#PCDATA)> <!-- greek word or letter -->\n",
    "                <!ELEMENT reconstructed (#PCDATA)> <!-- Hebrew reconstructed -->\n",
    "                <!ELEMENT superscript (#PCDATA)> <!-- Hebrew superscript letters or words -->\n",
    "                <!ELEMENT supralinear (#PCDATA)> <!-- Hebrew supralinear letters or words (I think = superscript) -->\n",
    "                <!ELEMENT margin_reconstructed (#PCDATA)> <!-- marginal notation reconstructed -->\n",
    "                <!ELEMENT margin_car (#PCDATA)> <!-- marginal notation -->\n",
    "                <!ELEMENT margin_infralinear (#PCDATA)> <!-- marginal notation -->\n",
    "                <!ELEMENT margin_supralinear (#PCDATA)> <!-- marginal notation -->"
   ]
  },
  {
   "attachments": {},
   "cell_type": "markdown",
   "metadata": {},
   "source": [
    "## Exemples :"
   ]
  },
  {
   "cell_type": "code",
   "execution_count": 3,
   "metadata": {},
   "outputs": [],
   "source": [
    "fileNames = [\"ms_a_new.xml\",\"ms_b_new.xml\",\"ms_d_new.xml\",\"ms_e_new.xml\",\"ms_f_new.xml\"]\n",
    "folder = \"WorkDir/\""
   ]
  },
  {
   "attachments": {},
   "cell_type": "markdown",
   "metadata": {},
   "source": [
    "First we create a `VariantsFinder` object. At this creation, the object will match all chapters and verses, clean the verses and compute the collations and the distances for each verses :"
   ]
  },
  {
   "cell_type": "code",
   "execution_count": 4,
   "metadata": {},
   "outputs": [
    {
     "name": "stdout",
     "output_type": "stream",
     "text": [
      "# Matching Done\n",
      "## Cleaning Done\n",
      "### Collation Done\n",
      "#### Distance Done\n",
      "##### Errors Classification Done\n"
     ]
    }
   ],
   "source": [
    "vf = VariantsFinder(fileNames, UNWANTED_TAGS, folder = folder)"
   ]
  },
  {
   "attachments": {},
   "cell_type": "markdown",
   "metadata": {},
   "source": [
    "We give a random exemple. It is important to note that the representation use here is simple_SVG, the normal SVG generating a lot of unwanted errors."
   ]
  },
  {
   "cell_type": "code",
   "execution_count": 5,
   "metadata": {},
   "outputs": [
    {
     "data": {
      "image/svg+xml": "<svg xmlns=\"http://www.w3.org/2000/svg\" xmlns:xlink=\"http://www.w3.org/1999/xlink\" width=\"750pt\" height=\"73pt\" viewBox=\"0.00 0.00 749.88 73.25\">\n<g id=\"graph0\" class=\"graph\" transform=\"scale(1 1) rotate(0) translate(4 69.25)\">\n<polygon fill=\"white\" stroke=\"none\" points=\"-4,4 -4,-69.25 745.88,-69.25 745.88,4 -4,4\"/>\n<!-- 1 -->\n<g id=\"node1\" class=\"node\">\n<title>1</title>\n<ellipse fill=\"none\" stroke=\"black\" cx=\"35.42\" cy=\"-45\" rx=\"35.42\" ry=\"18\"/>\n<text text-anchor=\"middle\" x=\"35.42\" y=\"-40.33\" font-family=\"Times,serif\" font-size=\"14.00\">start</text>\n</g>\n<!-- 3 -->\n<g id=\"node3\" class=\"node\">\n<title>3</title>\n<ellipse fill=\"none\" stroke=\"black\" cx=\"224.66\" cy=\"-45\" rx=\"88.56\" ry=\"18\"/>\n<text text-anchor=\"middle\" x=\"224.66\" y=\"-40.33\" font-family=\"Times,serif\" font-size=\"14.00\"> עם אכזרי אל תלך</text>\n</g>\n<!-- 1&#45;&gt;3 -->\n<g id=\"edge1\" class=\"edge\">\n<title>1-&gt;3</title>\n<path fill=\"none\" stroke=\"black\" d=\"M71.2,-45C86.64,-45 105.67,-45 124.98,-45\"/>\n<polygon fill=\"black\" stroke=\"black\" points=\"124.72,-48.5 134.72,-45 124.72,-41.5 124.72,-48.5\"/>\n<text text-anchor=\"middle\" x=\"103.47\" y=\"-48.95\" font-family=\"Times,serif\" font-size=\"14.00\">A, B</text>\n</g>\n<!-- 2 -->\n<g id=\"node2\" class=\"node\">\n<title>2</title>\n<ellipse fill=\"none\" stroke=\"black\" cx=\"712.24\" cy=\"-45\" rx=\"29.64\" ry=\"18\"/>\n<text text-anchor=\"middle\" x=\"712.24\" y=\"-40.33\" font-family=\"Times,serif\" font-size=\"14.00\">end</text>\n</g>\n<!-- 4 -->\n<g id=\"node4\" class=\"node\">\n<title>4</title>\n<ellipse fill=\"none\" stroke=\"black\" cx=\"538.79\" cy=\"-45\" rx=\"78.57\" ry=\"18\"/>\n<text text-anchor=\"middle\" x=\"538.79\" y=\"-40.33\" font-family=\"Times,serif\" font-size=\"14.00\">תכביד את רעתך</text>\n</g>\n<!-- 3&#45;&gt;4 -->\n<g id=\"edge2\" class=\"edge\">\n<title>3-&gt;4</title>\n<path fill=\"none\" stroke=\"black\" d=\"M312.86,-47.38C352.36,-48.16 399.65,-48.67 442.22,-48 444.74,-47.96 447.3,-47.92 449.88,-47.86\"/>\n<polygon fill=\"black\" stroke=\"black\" points=\"449.68,-51.35 459.6,-47.63 449.53,-44.35 449.68,-51.35\"/>\n<text text-anchor=\"middle\" x=\"386.72\" y=\"-51.95\" font-family=\"Times,serif\" font-size=\"14.00\">A</text>\n</g>\n<!-- 5 -->\n<g id=\"node5\" class=\"node\">\n<title>5</title>\n<ellipse fill=\"none\" stroke=\"black\" cx=\"386.72\" cy=\"-18\" rx=\"27\" ry=\"18\"/>\n<text text-anchor=\"middle\" x=\"386.72\" y=\"-13.32\" font-family=\"Times,serif\" font-size=\"14.00\">פן</text>\n</g>\n<!-- 3&#45;&gt;5 -->\n<g id=\"edge3\" class=\"edge\">\n<title>3-&gt;5</title>\n<path fill=\"none\" stroke=\"black\" d=\"M294.01,-33.47C313.06,-30.26 333.02,-26.89 349.43,-24.12\"/>\n<polygon fill=\"black\" stroke=\"black\" points=\"349.9,-27.42 359.18,-22.31 348.73,-20.52 349.9,-27.42\"/>\n<text text-anchor=\"middle\" x=\"336.47\" y=\"-29.95\" font-family=\"Times,serif\" font-size=\"14.00\">B</text>\n</g>\n<!-- 4&#45;&gt;2 -->\n<g id=\"edge4\" class=\"edge\">\n<title>4-&gt;2</title>\n<path fill=\"none\" stroke=\"black\" d=\"M617.74,-45C636.43,-45 655.61,-45 671.7,-45\"/>\n<polygon fill=\"black\" stroke=\"black\" points=\"671.3,-48.5 681.3,-45 671.3,-41.5 671.3,-48.5\"/>\n<text text-anchor=\"middle\" x=\"649.98\" y=\"-48.95\" font-family=\"Times,serif\" font-size=\"14.00\">A, B</text>\n</g>\n<!-- 5&#45;&gt;4 -->\n<g id=\"edge5\" class=\"edge\">\n<title>5-&gt;4</title>\n<path fill=\"none\" stroke=\"black\" d=\"M413.18,-22.58C427.65,-25.18 446.57,-28.59 465.27,-31.95\"/>\n<polygon fill=\"black\" stroke=\"black\" points=\"464.46,-35.54 474.92,-33.87 465.7,-28.65 464.46,-35.54\"/>\n<text text-anchor=\"middle\" x=\"436.97\" y=\"-30.95\" font-family=\"Times,serif\" font-size=\"14.00\">B</text>\n</g>\n</g>\n</svg>",
      "text/plain": [
       "<IPython.core.display.SVG object>"
      ]
     },
     "metadata": {},
     "output_type": "display_data"
    }
   ],
   "source": [
    "vf.getSampleVariant()"
   ]
  },
  {
   "attachments": {},
   "cell_type": "markdown",
   "metadata": {},
   "source": [
    "The following exemple will run on the first witness, to test the different representation."
   ]
  },
  {
   "cell_type": "code",
   "execution_count": 6,
   "metadata": {},
   "outputs": [
    {
     "name": "stdout",
     "output_type": "stream",
     "text": [
      "Verse 20 : aligned\n",
      "+---+---+-------------------------------+-----------+\n",
      "| A |   | בין אחים ראשם נכבד וירא אלהים | בעינ      |\n",
      "| B | - | בין אחים ראשם נכבד וירא אלהים | נכבד ממנו |\n",
      "+---+---+-------------------------------+-----------+\n"
     ]
    }
   ],
   "source": [
    "test = vf.witnesses[1]\n",
    "print(test)"
   ]
  },
  {
   "cell_type": "code",
   "execution_count": 7,
   "metadata": {},
   "outputs": [
    {
     "data": {
      "image/svg+xml": "<svg xmlns=\"http://www.w3.org/2000/svg\" xmlns:xlink=\"http://www.w3.org/1999/xlink\" width=\"780pt\" height=\"108pt\" viewBox=\"0.00 0.00 780.33 108.00\">\n<g id=\"graph0\" class=\"graph\" transform=\"scale(1 1) rotate(0) translate(4 104)\">\n<polygon fill=\"white\" stroke=\"none\" points=\"-4,4 -4,-104 776.33,-104 776.33,4 -4,4\"/>\n<!-- 1 -->\n<g id=\"node1\" class=\"node\">\n<title>1</title>\n<ellipse fill=\"none\" stroke=\"black\" cx=\"35.42\" cy=\"-45\" rx=\"35.42\" ry=\"18\"/>\n<text text-anchor=\"middle\" x=\"35.42\" y=\"-40.33\" font-family=\"Times,serif\" font-size=\"14.00\">start</text>\n</g>\n<!-- 3 -->\n<g id=\"node3\" class=\"node\">\n<title>3</title>\n<ellipse fill=\"none\" stroke=\"black\" cx=\"143.6\" cy=\"-82\" rx=\"27\" ry=\"18\"/>\n<text text-anchor=\"middle\" x=\"143.6\" y=\"-77.33\" font-family=\"Times,serif\" font-size=\"14.00\">#</text>\n</g>\n<!-- 1&#45;&gt;3 -->\n<g id=\"edge1\" class=\"edge\">\n<title>1-&gt;3</title>\n<path fill=\"none\" stroke=\"black\" d=\"M65.44,-55.11C78.84,-59.78 94.85,-65.36 108.8,-70.22\"/>\n<polygon fill=\"black\" stroke=\"black\" points=\"107.39,-73.79 117.99,-73.77 109.7,-67.18 107.39,-73.79\"/>\n<text text-anchor=\"middle\" x=\"93.72\" y=\"-68.95\" font-family=\"Times,serif\" font-size=\"14.00\">A</text>\n</g>\n<!-- 4 -->\n<g id=\"node4\" class=\"node\">\n<title>4</title>\n<ellipse fill=\"none\" stroke=\"black\" cx=\"363.84\" cy=\"-45\" rx=\"147.49\" ry=\"18\"/>\n<text text-anchor=\"middle\" x=\"363.84\" y=\"-40.33\" font-family=\"Times,serif\" font-size=\"14.00\">בין אחים ראשם נכבד וירא אלהים</text>\n</g>\n<!-- 1&#45;&gt;4 -->\n<g id=\"edge2\" class=\"edge\">\n<title>1-&gt;4</title>\n<path fill=\"none\" stroke=\"black\" d=\"M70.32,-41.25C84.59,-39.85 101.38,-38.44 116.6,-37.75 149.47,-36.27 184.81,-36.33 218.18,-37.14\"/>\n<polygon fill=\"black\" stroke=\"black\" points=\"217.85,-40.66 227.94,-37.43 218.04,-33.67 217.85,-40.66\"/>\n<text text-anchor=\"middle\" x=\"143.6\" y=\"-40.95\" font-family=\"Times,serif\" font-size=\"14.00\">B</text>\n</g>\n<!-- 2 -->\n<g id=\"node2\" class=\"node\">\n<title>2</title>\n<ellipse fill=\"none\" stroke=\"black\" cx=\"742.69\" cy=\"-45\" rx=\"29.64\" ry=\"18\"/>\n<text text-anchor=\"middle\" x=\"742.69\" y=\"-40.33\" font-family=\"Times,serif\" font-size=\"14.00\">end</text>\n</g>\n<!-- 3&#45;&gt;4 -->\n<g id=\"edge3\" class=\"edge\">\n<title>3-&gt;4</title>\n<path fill=\"none\" stroke=\"black\" d=\"M170.06,-77.68C193.6,-73.69 230.12,-67.5 265.06,-61.58\"/>\n<polygon fill=\"black\" stroke=\"black\" points=\"265.57,-64.87 274.84,-59.75 264.4,-57.97 265.57,-64.87\"/>\n<text text-anchor=\"middle\" x=\"193.47\" y=\"-77.95\" font-family=\"Times,serif\" font-size=\"14.00\">A</text>\n</g>\n<!-- 5 -->\n<g id=\"node5\" class=\"node\">\n<title>5</title>\n<ellipse fill=\"none\" stroke=\"black\" cx=\"612.19\" cy=\"-72\" rx=\"29.11\" ry=\"18\"/>\n<text text-anchor=\"middle\" x=\"612.19\" y=\"-67.33\" font-family=\"Times,serif\" font-size=\"14.00\">בעינ</text>\n</g>\n<!-- 4&#45;&gt;5 -->\n<g id=\"edge4\" class=\"edge\">\n<title>4-&gt;5</title>\n<path fill=\"none\" stroke=\"black\" d=\"M475.4,-57.12C510.21,-60.93 546.37,-64.9 572.62,-67.77\"/>\n<polygon fill=\"black\" stroke=\"black\" points=\"571.91,-71.33 582.23,-68.94 572.67,-64.37 571.91,-71.33\"/>\n<text text-anchor=\"middle\" x=\"534.57\" y=\"-67.95\" font-family=\"Times,serif\" font-size=\"14.00\">A</text>\n</g>\n<!-- 6 -->\n<g id=\"node6\" class=\"node\">\n<title>6</title>\n<ellipse fill=\"none\" stroke=\"black\" cx=\"612.19\" cy=\"-18\" rx=\"54.36\" ry=\"18\"/>\n<text text-anchor=\"middle\" x=\"612.19\" y=\"-13.32\" font-family=\"Times,serif\" font-size=\"14.00\">נכבד ממנו</text>\n</g>\n<!-- 4&#45;&gt;6 -->\n<g id=\"edge5\" class=\"edge\">\n<title>4-&gt;6</title>\n<path fill=\"none\" stroke=\"black\" d=\"M475.4,-32.88C500.79,-30.1 526.91,-27.24 549.37,-24.78\"/>\n<polygon fill=\"black\" stroke=\"black\" points=\"549.52,-28.17 559.08,-23.6 548.76,-21.21 549.52,-28.17\"/>\n<text text-anchor=\"middle\" x=\"534.57\" y=\"-30.95\" font-family=\"Times,serif\" font-size=\"14.00\">B</text>\n</g>\n<!-- 5&#45;&gt;2 -->\n<g id=\"edge6\" class=\"edge\">\n<title>5-&gt;2</title>\n<path fill=\"none\" stroke=\"black\" d=\"M640.12,-66.34C658.59,-62.46 683.35,-57.26 703.8,-52.96\"/>\n<polygon fill=\"black\" stroke=\"black\" points=\"704.28,-56.23 713.34,-50.75 702.84,-49.38 704.28,-56.23\"/>\n<text text-anchor=\"middle\" x=\"689.8\" y=\"-59.95\" font-family=\"Times,serif\" font-size=\"14.00\">A</text>\n</g>\n<!-- 6&#45;&gt;2 -->\n<g id=\"edge7\" class=\"edge\">\n<title>6-&gt;2</title>\n<path fill=\"none\" stroke=\"black\" d=\"M660.45,-26.7C671.8,-28.9 683.88,-31.33 695.05,-33.75 698.1,-34.41 701.26,-35.12 704.43,-35.85\"/>\n<polygon fill=\"black\" stroke=\"black\" points=\"703.57,-39.48 714.1,-38.36 705.17,-32.66 703.57,-39.48\"/>\n<text text-anchor=\"middle\" x=\"689.8\" y=\"-36.95\" font-family=\"Times,serif\" font-size=\"14.00\">B</text>\n</g>\n</g>\n</svg>",
      "text/plain": [
       "<IPython.core.display.SVG object>"
      ]
     },
     "metadata": {},
     "output_type": "display_data"
    }
   ],
   "source": [
    "test.getSVG()"
   ]
  },
  {
   "cell_type": "code",
   "execution_count": 8,
   "metadata": {},
   "outputs": [
    {
     "data": {
      "text/html": [
       "<table>\n",
       "    <tbody>\n",
       "        <tr>\n",
       "            <td>A</td>\n",
       "            <td></td>\n",
       "            <td>בין אחים ראשם נכבד וירא אלהים</td>\n",
       "            <td>בעינ</td>\n",
       "        </tr>\n",
       "        <tr>\n",
       "            <td>B</td>\n",
       "            <td>-</td>\n",
       "            <td>בין אחים ראשם נכבד וירא אלהים</td>\n",
       "            <td>נכבד ממנו</td>\n",
       "        </tr>\n",
       "    </tbody>\n",
       "</table>"
      ],
      "text/plain": [
       "<IPython.core.display.HTML object>"
      ]
     },
     "metadata": {},
     "output_type": "display_data"
    }
   ],
   "source": [
    "test.getHTML()"
   ]
  },
  {
   "cell_type": "code",
   "execution_count": 9,
   "metadata": {},
   "outputs": [
    {
     "name": "stdout",
     "output_type": "stream",
     "text": [
      "A, ,בין אחים ראשם נכבד וירא אלהים ,בעינ\n",
      "B,,בין אחים ראשם נכבד וירא אלהים ,נכבד ממנו\n",
      "\n"
     ]
    }
   ],
   "source": [
    "print(test.getCSV())"
   ]
  },
  {
   "attachments": {},
   "cell_type": "markdown",
   "metadata": {},
   "source": [
    "The following exemple show the DataFrame of the `VariantsFinder` object."
   ]
  },
  {
   "cell_type": "code",
   "execution_count": 10,
   "metadata": {},
   "outputs": [
    {
     "data": {
      "text/html": [
       "<div>\n",
       "<style scoped>\n",
       "    .dataframe tbody tr th:only-of-type {\n",
       "        vertical-align: middle;\n",
       "    }\n",
       "\n",
       "    .dataframe tbody tr th {\n",
       "        vertical-align: top;\n",
       "    }\n",
       "\n",
       "    .dataframe thead th {\n",
       "        text-align: right;\n",
       "    }\n",
       "</style>\n",
       "<table border=\"1\" class=\"dataframe\">\n",
       "  <thead>\n",
       "    <tr style=\"text-align: right;\">\n",
       "      <th></th>\n",
       "      <th>Verse A</th>\n",
       "      <th>Verse B</th>\n",
       "      <th>Variant A</th>\n",
       "      <th>Variant B</th>\n",
       "      <th>Manuscript A</th>\n",
       "      <th>Manuscript B</th>\n",
       "      <th>Chapter A</th>\n",
       "      <th>Chapter B</th>\n",
       "      <th>Verse</th>\n",
       "      <th>Levenshtein</th>\n",
       "      <th>Hamming</th>\n",
       "      <th>Inversion</th>\n",
       "      <th>Difference</th>\n",
       "    </tr>\n",
       "  </thead>\n",
       "  <tbody>\n",
       "    <tr>\n",
       "      <th>0</th>\n",
       "      <td>עבד משכיל הורם ועבד ש לﬡ יתאונן</td>\n",
       "      <td>עבד משכיל חביב כנפש</td>\n",
       "      <td>[, הורם, ועבד, ש, לﬡ, יתאונן]</td>\n",
       "      <td>[חביב, כנפש]</td>\n",
       "      <td>ms_a_new.xml</td>\n",
       "      <td>ms_b_new.xml</td>\n",
       "      <td>Chapter 10</td>\n",
       "      <td>Siracide 10</td>\n",
       "      <td>25</td>\n",
       "      <td>15</td>\n",
       "      <td>17</td>\n",
       "      <td>None</td>\n",
       "      <td>עבד\\n  משכיל\\n+ חביב\\n+ כנפש\\n- הורם\\n- ועבד...</td>\n",
       "    </tr>\n",
       "    <tr>\n",
       "      <th>1</th>\n",
       "      <td>בין אחים ראשם נכבד וירא אלהים בעינ</td>\n",
       "      <td>בין אחים ראשם נכבד וירא אלהים נכבד ממנו</td>\n",
       "      <td>[, בעינ]</td>\n",
       "      <td>[נכבד, ממנו]</td>\n",
       "      <td>ms_a_new.xml</td>\n",
       "      <td>ms_b_new.xml</td>\n",
       "      <td>Chapter 10</td>\n",
       "      <td>Siracide 10</td>\n",
       "      <td>20</td>\n",
       "      <td>6</td>\n",
       "      <td>8</td>\n",
       "      <td>None</td>\n",
       "      <td>בין\\n  אחים\\n  ראשם\\n  נכבד\\n  וירא\\n  אלהים...</td>\n",
       "    </tr>\n",
       "    <tr>\n",
       "      <th>2</th>\n",
       "      <td>אין לבזות דל משכיל ואין לכבד כל איש כם</td>\n",
       "      <td>אין לבזות דל משכיל ואין לכבד כל איש חמס</td>\n",
       "      <td>[, כם]</td>\n",
       "      <td>[חמס]</td>\n",
       "      <td>ms_a_new.xml</td>\n",
       "      <td>ms_b_new.xml</td>\n",
       "      <td>Chapter 10</td>\n",
       "      <td>Siracide 10</td>\n",
       "      <td>23</td>\n",
       "      <td>3</td>\n",
       "      <td>3</td>\n",
       "      <td>None</td>\n",
       "      <td>אין\\n  לבזות\\n  דל\\n  משכיל\\n  ואין\\n  לכבד\\...</td>\n",
       "    </tr>\n",
       "    <tr>\n",
       "      <th>3</th>\n",
       "      <td>אַל תתחכם לעבד חפצך ואל תתכעת צרכך</td>\n",
       "      <td>אל תתחכם לעשות חפצך ואל תתכב</td>\n",
       "      <td>[, א, ַ, ל, לעבד, תתכעת, צרכך]</td>\n",
       "      <td>[אל, לעשות, תתכב]</td>\n",
       "      <td>ms_a_new.xml</td>\n",
       "      <td>ms_b_new.xml</td>\n",
       "      <td>Chapter 10</td>\n",
       "      <td>Siracide 10</td>\n",
       "      <td>26</td>\n",
       "      <td>8</td>\n",
       "      <td>11</td>\n",
       "      <td>None</td>\n",
       "      <td>- אַל\\n?  -\\n\\n+ אל\\n  תתחכם\\n- לעבד\\n+ לעשות\\...</td>\n",
       "    </tr>\n",
       "    <tr>\n",
       "      <th>4</th>\n",
       "      <td>נכבד בעשרו איככה ונקלה בעיניו איככה</td>\n",
       "      <td>הנכבד בעיניו בעשרו איככה ונקלה בעשרו בעיניו איככה</td>\n",
       "      <td>[, נכבד]</td>\n",
       "      <td>[הנכבד, בעיניו, בעשרו]</td>\n",
       "      <td>ms_a_new.xml</td>\n",
       "      <td>ms_b_new.xml</td>\n",
       "      <td>Chapter 10</td>\n",
       "      <td>Siracide 10</td>\n",
       "      <td>31</td>\n",
       "      <td>12</td>\n",
       "      <td>16</td>\n",
       "      <td>None</td>\n",
       "      <td>- נכבד\\n+ הנכבד\\n? +\\n\\n+ בעיניו\\n  בעשרו\\n  א...</td>\n",
       "    </tr>\n",
       "    <tr>\n",
       "      <th>...</th>\n",
       "      <td>...</td>\n",
       "      <td>...</td>\n",
       "      <td>...</td>\n",
       "      <td>...</td>\n",
       "      <td>...</td>\n",
       "      <td>...</td>\n",
       "      <td>...</td>\n",
       "      <td>...</td>\n",
       "      <td>...</td>\n",
       "      <td>...</td>\n",
       "      <td>...</td>\n",
       "      <td>...</td>\n",
       "      <td>...</td>\n",
       "    </tr>\n",
       "    <tr>\n",
       "      <th>148</th>\n",
       "      <td>ל לב נבל ואופן חוזר מחשבותיו</td>\n",
       "      <td>גלגל קל לב נבל ואופן חוזר מחשבותיו</td>\n",
       "      <td>[ל]</td>\n",
       "      <td>[גלגל, קל]</td>\n",
       "      <td>ms_e_new.xml</td>\n",
       "      <td>ms_f_new.xml</td>\n",
       "      <td>Chapter 33</td>\n",
       "      <td>Chapter 33</td>\n",
       "      <td>5</td>\n",
       "      <td>5</td>\n",
       "      <td>6</td>\n",
       "      <td>None</td>\n",
       "      <td>- ל\\n+ גלגל\\n+ קל\\n  לב\\n  נבל\\n  ואופן\\n  חוז...</td>\n",
       "    </tr>\n",
       "    <tr>\n",
       "      <th>149</th>\n",
       "      <td>שונא תורה ומתמוטט כמסערה</td>\n",
       "      <td>לא יחכם שונא תורה ומתמוטט כמסערה</td>\n",
       "      <td>[]</td>\n",
       "      <td>[לא, יחכם]</td>\n",
       "      <td>ms_e_new.xml</td>\n",
       "      <td>ms_f_new.xml</td>\n",
       "      <td>Chapter 33</td>\n",
       "      <td>Chapter 33</td>\n",
       "      <td>2</td>\n",
       "      <td>6</td>\n",
       "      <td>6</td>\n",
       "      <td>None</td>\n",
       "      <td>+ לא\\n+ יחכם\\n  שונא\\n  תורה\\n  ומתמוטט\\n  כמסערה</td>\n",
       "    </tr>\n",
       "    <tr>\n",
       "      <th>150</th>\n",
       "      <td>ם יום כי כלו אור שנה על שמש</td>\n",
       "      <td>מה על יום יום כי כלו אור שונה על שמש</td>\n",
       "      <td>[ם, שנה]</td>\n",
       "      <td>[מה, על, יום, שונה]</td>\n",
       "      <td>ms_e_new.xml</td>\n",
       "      <td>ms_f_new.xml</td>\n",
       "      <td>Chapter 33</td>\n",
       "      <td>Chapter 33</td>\n",
       "      <td>7</td>\n",
       "      <td>7</td>\n",
       "      <td>11</td>\n",
       "      <td>None</td>\n",
       "      <td>- ם\\n+ מה\\n+ על\\n+ יום\\n  יום\\n  כי\\n  כלו\\n  ...</td>\n",
       "    </tr>\n",
       "    <tr>\n",
       "      <th>151</th>\n",
       "      <td>אוהב שונא תחת כל  יצהל</td>\n",
       "      <td>כסוס מוכן אוהב שונא תחת כל אוהב יצהל</td>\n",
       "      <td>[]</td>\n",
       "      <td>[כסוס, מוכן, אוהב]</td>\n",
       "      <td>ms_e_new.xml</td>\n",
       "      <td>ms_f_new.xml</td>\n",
       "      <td>Chapter 33</td>\n",
       "      <td>Chapter 33</td>\n",
       "      <td>6</td>\n",
       "      <td>12</td>\n",
       "      <td>12</td>\n",
       "      <td>None</td>\n",
       "      <td>+ כסוס\\n+ מוכן\\n  אוהב\\n  שונא\\n  תחת\\n  כל\\n+...</td>\n",
       "    </tr>\n",
       "    <tr>\n",
       "      <th>152</th>\n",
       "      <td>ר ואחר תעשה ובית מנוח ואחר תגיה</td>\n",
       "      <td>הכין אומר ואחר תעשה ובית מנוח ואחר תגיה</td>\n",
       "      <td>[ר]</td>\n",
       "      <td>[הכין, אומר]</td>\n",
       "      <td>ms_e_new.xml</td>\n",
       "      <td>ms_f_new.xml</td>\n",
       "      <td>Chapter 33</td>\n",
       "      <td>Chapter 33</td>\n",
       "      <td>4</td>\n",
       "      <td>7</td>\n",
       "      <td>8</td>\n",
       "      <td>None</td>\n",
       "      <td>- ר\\n+ הכין\\n+ אומר\\n  ואחר\\n  תעשה\\n  ובית\\n ...</td>\n",
       "    </tr>\n",
       "  </tbody>\n",
       "</table>\n",
       "<p>153 rows × 13 columns</p>\n",
       "</div>"
      ],
      "text/plain": [
       "                                      Verse A   \n",
       "0            עבד משכיל הורם ועבד ש לﬡ יתאונן   \\\n",
       "1          בין אחים ראשם נכבד וירא אלהים בעינ   \n",
       "2     אין לבזות דל משכיל ואין לכבד כל איש כם    \n",
       "3         אַל תתחכם לעבד חפצך ואל תתכעת צרכך    \n",
       "4         נכבד בעשרו איככה ונקלה בעיניו איככה   \n",
       "..                                        ...   \n",
       "148             ל לב נבל ואופן חוזר מחשבותיו    \n",
       "149                שונא תורה ומתמוטט כמסערה     \n",
       "150              ם יום כי כלו אור שנה על שמש    \n",
       "151                   אוהב שונא תחת כל  יצהל    \n",
       "152           ר ואחר תעשה ובית מנוח ואחר תגיה   \n",
       "\n",
       "                                               Verse B   \n",
       "0                                עבד משכיל חביב כנפש    \\\n",
       "1              בין אחים ראשם נכבד וירא אלהים נכבד ממנו   \n",
       "2              אין לבזות דל משכיל ואין לכבד כל איש חמס   \n",
       "3                         אל תתחכם לעשות חפצך ואל תתכב   \n",
       "4    הנכבד בעיניו בעשרו איככה ונקלה בעשרו בעיניו איככה   \n",
       "..                                                 ...   \n",
       "148                 גלגל קל לב נבל ואופן חוזר מחשבותיו   \n",
       "149                  לא יחכם שונא תורה ומתמוטט כמסערה    \n",
       "150               מה על יום יום כי כלו אור שונה על שמש   \n",
       "151               כסוס מוכן אוהב שונא תחת כל אוהב יצהל   \n",
       "152            הכין אומר ואחר תעשה ובית מנוח ואחר תגיה   \n",
       "\n",
       "                          Variant A               Variant B  Manuscript A   \n",
       "0     [, הורם, ועבד, ש, לﬡ, יתאונן]            [חביב, כנפש]  ms_a_new.xml  \\\n",
       "1                          [, בעינ]            [נכבד, ממנו]  ms_a_new.xml   \n",
       "2                            [, כם]                   [חמס]  ms_a_new.xml   \n",
       "3    [, א, ַ, ל, לעבד, תתכעת, צרכך]       [אל, לעשות, תתכב]  ms_a_new.xml   \n",
       "4                          [, נכבד]  [הנכבד, בעיניו, בעשרו]  ms_a_new.xml   \n",
       "..                              ...                     ...           ...   \n",
       "148                             [ל]              [גלגל, קל]  ms_e_new.xml   \n",
       "149                              []              [לא, יחכם]  ms_e_new.xml   \n",
       "150                        [ם, שנה]     [מה, על, יום, שונה]  ms_e_new.xml   \n",
       "151                              []      [כסוס, מוכן, אוהב]  ms_e_new.xml   \n",
       "152                             [ר]            [הכין, אומר]  ms_e_new.xml   \n",
       "\n",
       "     Manuscript B   Chapter A    Chapter B Verse  Levenshtein  Hamming   \n",
       "0    ms_b_new.xml  Chapter 10  Siracide 10    25           15       17  \\\n",
       "1    ms_b_new.xml  Chapter 10  Siracide 10    20            6        8   \n",
       "2    ms_b_new.xml  Chapter 10  Siracide 10    23            3        3   \n",
       "3    ms_b_new.xml  Chapter 10  Siracide 10    26            8       11   \n",
       "4    ms_b_new.xml  Chapter 10  Siracide 10    31           12       16   \n",
       "..            ...         ...          ...   ...          ...      ...   \n",
       "148  ms_f_new.xml  Chapter 33   Chapter 33     5            5        6   \n",
       "149  ms_f_new.xml  Chapter 33   Chapter 33     2            6        6   \n",
       "150  ms_f_new.xml  Chapter 33   Chapter 33     7            7       11   \n",
       "151  ms_f_new.xml  Chapter 33   Chapter 33     6           12       12   \n",
       "152  ms_f_new.xml  Chapter 33   Chapter 33     4            7        8   \n",
       "\n",
       "    Inversion                                         Difference  \n",
       "0        None    עבד\\n  משכיל\\n+ חביב\\n+ כנפש\\n- הורם\\n- ועבד...  \n",
       "1        None    בין\\n  אחים\\n  ראשם\\n  נכבד\\n  וירא\\n  אלהים...  \n",
       "2        None    אין\\n  לבזות\\n  דל\\n  משכיל\\n  ואין\\n  לכבד\\...  \n",
       "3        None  - אַל\\n?  -\\n\\n+ אל\\n  תתחכם\\n- לעבד\\n+ לעשות\\...  \n",
       "4        None  - נכבד\\n+ הנכבד\\n? +\\n\\n+ בעיניו\\n  בעשרו\\n  א...  \n",
       "..        ...                                                ...  \n",
       "148      None  - ל\\n+ גלגל\\n+ קל\\n  לב\\n  נבל\\n  ואופן\\n  חוז...  \n",
       "149      None  + לא\\n+ יחכם\\n  שונא\\n  תורה\\n  ומתמוטט\\n  כמסערה  \n",
       "150      None  - ם\\n+ מה\\n+ על\\n+ יום\\n  יום\\n  כי\\n  כלו\\n  ...  \n",
       "151      None  + כסוס\\n+ מוכן\\n  אוהב\\n  שונא\\n  תחת\\n  כל\\n+...  \n",
       "152      None  - ר\\n+ הכין\\n+ אומר\\n  ואחר\\n  תעשה\\n  ובית\\n ...  \n",
       "\n",
       "[153 rows x 13 columns]"
      ]
     },
     "execution_count": 10,
     "metadata": {},
     "output_type": "execute_result"
    }
   ],
   "source": [
    "df = vf.getDF()\n",
    "df"
   ]
  },
  {
   "attachments": {},
   "cell_type": "markdown",
   "metadata": {},
   "source": [
    "Finally, here is an exemple of the mardown and csv export. By default, the variants are saved under the files `\"Variants.md\"` and `\"Variants.csv\"`."
   ]
  },
  {
   "cell_type": "code",
   "execution_count": 11,
   "metadata": {},
   "outputs": [],
   "source": [
    "vf.getCSV()\n",
    "vf.getMarkdown()"
   ]
  },
  {
   "attachments": {},
   "cell_type": "markdown",
   "metadata": {},
   "source": [
    "## Statistiques :"
   ]
  },
  {
   "cell_type": "code",
   "execution_count": 12,
   "metadata": {},
   "outputs": [
    {
     "name": "stdout",
     "output_type": "stream",
     "text": [
      "Inversion\n",
      "exact match    4\n",
      "Percent of exact matches in the ms_a_new.xml compared to other manuscripts = 0.0\n",
      "Percent of exact matches in the ms_b_new.xml compared to other manuscripts = 3.076923076923077\n",
      "Percent of exact matches in the ms_e_new.xml compared to other manuscripts = 0.0\n",
      "\n"
     ]
    }
   ],
   "source": [
    "print(inversion(df))\n",
    "print(no_variation_per(df))"
   ]
  }
 ],
 "metadata": {
  "kernelspec": {
   "display_name": "base",
   "language": "python",
   "name": "python3"
  },
  "language_info": {
   "codemirror_mode": {
    "name": "ipython",
    "version": 3
   },
   "file_extension": ".py",
   "mimetype": "text/x-python",
   "name": "python",
   "nbconvert_exporter": "python",
   "pygments_lexer": "ipython3",
   "version": "3.10.8"
  },
  "orig_nbformat": 4,
  "vscode": {
   "interpreter": {
    "hash": "5cfb0889301bd40a32af2921b094f94edad3784ee7c8bac1076d6edd892f10d1"
   }
  }
 },
 "nbformat": 4,
 "nbformat_minor": 2
}
