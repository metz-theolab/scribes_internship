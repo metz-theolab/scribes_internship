{
 "cells": [
  {
   "attachments": {},
   "cell_type": "markdown",
   "metadata": {},
   "source": [
    "# Test of the Ben Sira package"
   ]
  },
  {
   "cell_type": "markdown",
   "metadata": {},
   "source": [
    "!pip install collatex\n",
    "!pip install graphviz\n",
    "!pip install levenshtein\n",
    "!pip install xmltodict\n",
    "!pip install beautifulsoup4\n",
    "!pip install lxml\n",
    "!pip install textdistance\n",
    "!pip install pandas\n",
    "!pip install matplotlib\n",
    "!pip install seaborn\n",
    "!pip install nltk\n",
    "!pip install spacy==3.2.2\n",
    "!pip install hebspacy\n",
    "!pip install https://github.com/8400TheHealthNetwork/HebSpacy/releases/download/he_ner_news_trf-3.2.1/he_ner_news_trf-3.2.1-py3-none-any.whl"
   ]
  },
  {
   "cell_type": "code",
   "execution_count": 1,
   "metadata": {},
   "outputs": [
    {
     "name": "stderr",
     "output_type": "stream",
     "text": [
      "[nltk_data] Downloading package punkt to /home/mari/nltk_data...\n",
      "[nltk_data]   Package punkt is already up-to-date!\n"
     ]
    }
   ],
   "source": [
    "from pkg.Extraction import test, VariantsFinder"
   ]
  },
  {
   "cell_type": "code",
   "execution_count": 2,
   "metadata": {},
   "outputs": [
    {
     "name": "stdout",
     "output_type": "stream",
     "text": [
      "test\n"
     ]
    }
   ],
   "source": [
    "test()"
   ]
  },
  {
   "cell_type": "code",
   "execution_count": 3,
   "metadata": {},
   "outputs": [],
   "source": [
    "fileNames = [\"ms_a_new.xml\",\"ms_b_new.xml\",\"ms_d_new.xml\",\"ms_e_new.xml\",\"ms_f_new.xml\"]"
   ]
  },
  {
   "cell_type": "code",
   "execution_count": 4,
   "metadata": {},
   "outputs": [],
   "source": [
    "vf = VariantsFinder(fileNames)"
   ]
  },
  {
   "cell_type": "code",
   "execution_count": 5,
   "metadata": {},
   "outputs": [
    {
     "name": "stdout",
     "output_type": "stream",
     "text": [
      "\n",
      "Manuscript A:  ש̇ מושל ושופט נכב̇דו\tו̇א̊ן גד̇ול מ̊רא א‍להים׃ \n",
      "Manuscript B: שר שופט ומושל נכבדו\tוא̇ ג̊̊ד̇\n",
      "\n",
      "('ms_a_new.xml', 'Chapter 10', 'ms_b_new.xml', 'Siracide 10', '24')\n"
     ]
    },
    {
     "data": {
      "image/svg+xml": "<svg xmlns=\"http://www.w3.org/2000/svg\" xmlns:xlink=\"http://www.w3.org/1999/xlink\" width=\"1697pt\" height=\"190pt\" viewBox=\"0.00 0.00 1696.89 190.02\">\n<g id=\"graph0\" class=\"graph\" transform=\"scale(1 1) rotate(0) translate(4 186.02)\">\n<polygon fill=\"white\" stroke=\"none\" points=\"-4,4 -4,-186.02 1692.89,-186.02 1692.89,4 -4,4\"/>\n<!-- 1 -->\n<g id=\"node1\" class=\"node\">\n<title>1</title>\n<ellipse fill=\"none\" stroke=\"black\" cx=\"88.03\" cy=\"-91.01\" rx=\"88.03\" ry=\"23.51\"/>\n<polygon fill=\"none\" stroke=\"black\" points=\"34.78,-79.39 34.78,-102.64 79.03,-102.64 79.03,-79.39 34.78,-79.39\"/>\n<text text-anchor=\"start\" x=\"37.78\" y=\"-87.34\" font-family=\"Times,serif\" font-weight=\"bold\" font-size=\"14.00\">start</text>\n<polygon fill=\"none\" stroke=\"black\" points=\"79.03,-79.39 79.03,-102.64 141.28,-102.64 141.28,-79.39 79.03,-79.39\"/>\n<text text-anchor=\"start\" x=\"82.03\" y=\"-86.34\" font-family=\"Times,serif\" font-size=\"14.00\">exact: 0</text>\n<polygon fill=\"none\" stroke=\"black\" points=\"33.78,-78.39 33.78,-103.64 142.28,-103.64 142.28,-78.39 33.78,-78.39\"/>\n</g>\n<!-- 3 -->\n<g id=\"node3\" class=\"node\">\n<title>3</title>\n<ellipse fill=\"none\" stroke=\"black\" cx=\"395.81\" cy=\"-141.01\" rx=\"166.17\" ry=\"41.01\"/>\n<polygon fill=\"none\" stroke=\"black\" points=\"287.31,-142.01 287.31,-165.01 442.31,-165.01 442.31,-142.01 287.31,-142.01\"/>\n<text text-anchor=\"start\" x=\"290.19\" y=\"-149.71\" font-family=\"Times,serif\" font-weight=\"bold\" font-size=\"14.00\"> ש̇ מושל ושופט נכב̇ דו ו</text>\n<polygon fill=\"none\" stroke=\"black\" points=\"442.31,-142.01 442.31,-165.01 504.31,-165.01 504.31,-142.01 442.31,-142.01\"/>\n<text text-anchor=\"start\" x=\"445.19\" y=\"-148.71\" font-family=\"Times,serif\" font-size=\"14.00\">exact: 1</text>\n<polygon fill=\"none\" stroke=\"black\" points=\"287.31,-117.01 287.31,-142.01 442.31,-142.01 442.31,-117.01 287.31,-117.01\"/>\n<text text-anchor=\"start\" x=\"290.31\" y=\"-125.71\" font-family=\"Bukyvede\" font-size=\"14.00\"> ש̇ מושל ושופט נכב̇דוו</text>\n<polygon fill=\"none\" stroke=\"black\" points=\"442.31,-117.01 442.31,-142.01 504.31,-142.01 504.31,-117.01 442.31,-117.01\"/>\n<text text-anchor=\"start\" x=\"445.31\" y=\"-124.84\" font-family=\"Times,serif\" font-size=\"14.00\">A</text>\n<polygon fill=\"none\" stroke=\"black\" points=\"286.31,-116.01 286.31,-166.01 505.31,-166.01 505.31,-116.01 286.31,-116.01\"/>\n</g>\n<!-- 1&#45;&gt;3 -->\n<g id=\"edge1\" class=\"edge\">\n<title>1-&gt;3</title>\n<path fill=\"none\" stroke=\"black\" d=\"M163.84,-103.24C188.61,-107.29 217.12,-111.96 245.46,-116.59\"/>\n<polygon fill=\"black\" stroke=\"black\" points=\"244.88,-120.21 255.31,-118.36 246.01,-113.3 244.88,-120.21\"/>\n<text text-anchor=\"middle\" x=\"199.32\" y=\"-111.96\" font-family=\"Times,serif\" font-size=\"14.00\">A</text>\n</g>\n<!-- 8 -->\n<g id=\"node8\" class=\"node\">\n<title>8</title>\n<ellipse fill=\"none\" stroke=\"black\" cx=\"395.81\" cy=\"-42.01\" rx=\"173.24\" ry=\"39.6\"/>\n<polygon fill=\"none\" stroke=\"black\" points=\"282.31,-42.01 282.31,-65.01 447.31,-65.01 447.31,-42.01 282.31,-42.01\"/>\n<text text-anchor=\"start\" x=\"285.31\" y=\"-49.71\" font-family=\"Times,serif\" font-weight=\"bold\" font-size=\"14.00\">שר שופט ומושל נכבדו וא</text>\n<polygon fill=\"none\" stroke=\"black\" points=\"447.31,-42.01 447.31,-65.01 509.31,-65.01 509.31,-42.01 447.31,-42.01\"/>\n<text text-anchor=\"start\" x=\"450.19\" y=\"-48.71\" font-family=\"Times,serif\" font-size=\"14.00\">exact: 1</text>\n<polygon fill=\"none\" stroke=\"black\" points=\"282.31,-19.01 282.31,-42.01 447.31,-42.01 447.31,-19.01 282.31,-19.01\"/>\n<text text-anchor=\"start\" x=\"285.31\" y=\"-25.71\" font-family=\"Bukyvede\" font-size=\"14.00\">שר שופט ומושל נכבדווא</text>\n<polygon fill=\"none\" stroke=\"black\" points=\"447.31,-19.01 447.31,-42.01 509.31,-42.01 509.31,-19.01 447.31,-19.01\"/>\n<text text-anchor=\"start\" x=\"450.31\" y=\"-25.71\" font-family=\"Times,serif\" font-size=\"14.00\">B</text>\n<polygon fill=\"none\" stroke=\"black\" points=\"281.31,-18.01 281.31,-66.01 510.31,-66.01 510.31,-18.01 281.31,-18.01\"/>\n</g>\n<!-- 1&#45;&gt;8 -->\n<g id=\"edge2\" class=\"edge\">\n<title>1-&gt;8</title>\n<path fill=\"none\" stroke=\"black\" d=\"M164.23,-78.96C187.96,-75.16 215.09,-70.81 242.2,-66.47\"/>\n<polygon fill=\"black\" stroke=\"black\" points=\"242.67,-69.78 251.99,-64.74 241.57,-62.86 242.67,-69.78\"/>\n<text text-anchor=\"middle\" x=\"199.32\" y=\"-76.96\" font-family=\"Times,serif\" font-size=\"14.00\">B</text>\n</g>\n<!-- 2 -->\n<g id=\"node2\" class=\"node\">\n<title>2</title>\n<ellipse fill=\"none\" stroke=\"black\" cx=\"1607.21\" cy=\"-91.01\" rx=\"81.67\" ry=\"23.51\"/>\n<polygon fill=\"none\" stroke=\"black\" points=\"1558.46,-79.39 1558.46,-102.64 1593.71,-102.64 1593.71,-79.39 1558.46,-79.39\"/>\n<text text-anchor=\"start\" x=\"1561.46\" y=\"-87.34\" font-family=\"Times,serif\" font-weight=\"bold\" font-size=\"14.00\">end</text>\n<polygon fill=\"none\" stroke=\"black\" points=\"1593.71,-79.39 1593.71,-102.64 1655.96,-102.64 1655.96,-79.39 1593.71,-79.39\"/>\n<text text-anchor=\"start\" x=\"1596.71\" y=\"-86.34\" font-family=\"Times,serif\" font-size=\"14.00\">exact: 6</text>\n<polygon fill=\"none\" stroke=\"black\" points=\"1557.46,-78.39 1557.46,-103.64 1656.96,-103.64 1656.96,-78.39 1557.46,-78.39\"/>\n</g>\n<!-- 4 -->\n<g id=\"node4\" class=\"node\">\n<title>4</title>\n<ellipse fill=\"none\" stroke=\"black\" cx=\"684.85\" cy=\"-91.01\" rx=\"69.3\" ry=\"58.69\"/>\n<polygon fill=\"none\" stroke=\"black\" points=\"644.85,-104.51 644.85,-127.51 662.85,-127.51 662.85,-104.51 644.85,-104.51\"/>\n<text text-anchor=\"start\" x=\"647.85\" y=\"-112.21\" font-family=\"Times,serif\" font-weight=\"bold\" font-size=\"14.00\">̇</text>\n<polygon fill=\"none\" stroke=\"black\" points=\"662.85,-104.51 662.85,-127.51 724.85,-127.51 724.85,-104.51 662.85,-104.51\"/>\n<text text-anchor=\"start\" x=\"665.72\" y=\"-111.21\" font-family=\"Times,serif\" font-size=\"14.00\">exact: 2</text>\n<polygon fill=\"none\" stroke=\"black\" points=\"644.85,-79.51 644.85,-104.51 662.85,-104.51 662.85,-79.51 644.85,-79.51\"/>\n<text text-anchor=\"start\" x=\"647.85\" y=\"-88.21\" font-family=\"Bukyvede\" font-size=\"14.00\">̇</text>\n<polygon fill=\"none\" stroke=\"black\" points=\"662.85,-79.51 662.85,-104.51 724.85,-104.51 724.85,-79.51 662.85,-79.51\"/>\n<text text-anchor=\"start\" x=\"665.85\" y=\"-87.34\" font-family=\"Times,serif\" font-size=\"14.00\">A</text>\n<polygon fill=\"none\" stroke=\"black\" points=\"644.85,-54.51 644.85,-79.51 662.85,-79.51 662.85,-54.51 644.85,-54.51\"/>\n<text text-anchor=\"start\" x=\"647.85\" y=\"-63.21\" font-family=\"Bukyvede\" font-size=\"14.00\">̇ </text>\n<polygon fill=\"none\" stroke=\"black\" points=\"662.85,-54.51 662.85,-79.51 724.85,-79.51 724.85,-54.51 662.85,-54.51\"/>\n<text text-anchor=\"start\" x=\"665.85\" y=\"-62.34\" font-family=\"Times,serif\" font-size=\"14.00\">B</text>\n<polygon fill=\"none\" stroke=\"black\" points=\"643.85,-53.51 643.85,-128.51 725.85,-128.51 725.85,-53.51 643.85,-53.51\"/>\n</g>\n<!-- 3&#45;&gt;4 -->\n<g id=\"edge3\" class=\"edge\">\n<title>3-&gt;4</title>\n<path fill=\"none\" stroke=\"black\" d=\"M532.34,-117.4C557.66,-112.99 583.3,-108.53 606.12,-104.55\"/>\n<polygon fill=\"black\" stroke=\"black\" points=\"606.48,-107.87 615.73,-102.7 605.28,-100.97 606.48,-107.87\"/>\n<text text-anchor=\"middle\" x=\"592.3\" y=\"-110.96\" font-family=\"Times,serif\" font-size=\"14.00\">A</text>\n</g>\n<!-- 5 -->\n<g id=\"node5\" class=\"node\">\n<title>5</title>\n<ellipse fill=\"none\" stroke=\"black\" cx=\"888.33\" cy=\"-141.01\" rx=\"87.68\" ry=\"41.01\"/>\n<polygon fill=\"none\" stroke=\"black\" points=\"835.33,-142.01 835.33,-165.01 879.33,-165.01 879.33,-142.01 835.33,-142.01\"/>\n<text text-anchor=\"start\" x=\"838.2\" y=\"-149.71\" font-family=\"Times,serif\" font-weight=\"bold\" font-size=\"14.00\">א̊ ן גד</text>\n<polygon fill=\"none\" stroke=\"black\" points=\"879.33,-142.01 879.33,-165.01 941.33,-165.01 941.33,-142.01 879.33,-142.01\"/>\n<text text-anchor=\"start\" x=\"882.2\" y=\"-148.71\" font-family=\"Times,serif\" font-size=\"14.00\">exact: 3</text>\n<polygon fill=\"none\" stroke=\"black\" points=\"835.33,-117.01 835.33,-142.01 879.33,-142.01 879.33,-117.01 835.33,-117.01\"/>\n<text text-anchor=\"start\" x=\"838.33\" y=\"-125.71\" font-family=\"Bukyvede\" font-size=\"14.00\">א̊ן גד</text>\n<polygon fill=\"none\" stroke=\"black\" points=\"879.33,-117.01 879.33,-142.01 941.33,-142.01 941.33,-117.01 879.33,-117.01\"/>\n<text text-anchor=\"start\" x=\"882.33\" y=\"-124.84\" font-family=\"Times,serif\" font-size=\"14.00\">A</text>\n<polygon fill=\"none\" stroke=\"black\" points=\"834.33,-116.01 834.33,-166.01 942.33,-166.01 942.33,-116.01 834.33,-116.01\"/>\n</g>\n<!-- 4&#45;&gt;5 -->\n<g id=\"edge4\" class=\"edge\">\n<title>4-&gt;5</title>\n<path fill=\"none\" stroke=\"black\" d=\"M751.82,-107.38C767.16,-111.19 783.74,-115.3 799.85,-119.3\"/>\n<polygon fill=\"black\" stroke=\"black\" points=\"798.8,-122.9 809.35,-121.91 800.49,-116.1 798.8,-122.9\"/>\n<text text-anchor=\"middle\" x=\"777.39\" y=\"-117.96\" font-family=\"Times,serif\" font-size=\"14.00\">A</text>\n</g>\n<!-- 9 -->\n<g id=\"node9\" class=\"node\">\n<title>9</title>\n<ellipse fill=\"none\" stroke=\"black\" cx=\"888.33\" cy=\"-41.01\" rx=\"73.54\" ry=\"41.01\"/>\n<polygon fill=\"none\" stroke=\"black\" points=\"845.33,-42.01 845.33,-65.01 869.33,-65.01 869.33,-42.01 845.33,-42.01\"/>\n<text text-anchor=\"start\" x=\"847.95\" y=\"-49.71\" font-family=\"Times,serif\" font-weight=\"bold\" font-size=\"14.00\">ג̊̊ ד</text>\n<polygon fill=\"none\" stroke=\"black\" points=\"869.33,-42.01 869.33,-65.01 931.33,-65.01 931.33,-42.01 869.33,-42.01\"/>\n<text text-anchor=\"start\" x=\"872.2\" y=\"-48.71\" font-family=\"Times,serif\" font-size=\"14.00\">exact: 3</text>\n<polygon fill=\"none\" stroke=\"black\" points=\"845.33,-17.01 845.33,-42.01 869.33,-42.01 869.33,-17.01 845.33,-17.01\"/>\n<text text-anchor=\"start\" x=\"848.33\" y=\"-25.71\" font-family=\"Bukyvede\" font-size=\"14.00\">ג̊̊ד</text>\n<polygon fill=\"none\" stroke=\"black\" points=\"869.33,-17.01 869.33,-42.01 931.33,-42.01 931.33,-17.01 869.33,-17.01\"/>\n<text text-anchor=\"start\" x=\"872.33\" y=\"-24.84\" font-family=\"Times,serif\" font-size=\"14.00\">B</text>\n<polygon fill=\"none\" stroke=\"black\" points=\"844.33,-16.01 844.33,-66.01 932.33,-66.01 932.33,-16.01 844.33,-16.01\"/>\n</g>\n<!-- 4&#45;&gt;9 -->\n<g id=\"edge5\" class=\"edge\">\n<title>4-&gt;9</title>\n<path fill=\"none\" stroke=\"black\" d=\"M751.82,-74.64C770.41,-70.03 790.8,-64.97 810,-60.2\"/>\n<polygon fill=\"black\" stroke=\"black\" points=\"810.65,-63.4 819.52,-57.59 808.97,-56.6 810.65,-63.4\"/>\n<text text-anchor=\"middle\" x=\"777.39\" y=\"-72.96\" font-family=\"Times,serif\" font-size=\"14.00\">B</text>\n</g>\n<!-- 6 -->\n<g id=\"node6\" class=\"node\">\n<title>6</title>\n<ellipse fill=\"none\" stroke=\"black\" cx=\"1091.8\" cy=\"-91.01\" rx=\"69.3\" ry=\"41.01\"/>\n<polygon fill=\"none\" stroke=\"black\" points=\"1051.8,-92.01 1051.8,-115.01 1069.8,-115.01 1069.8,-92.01 1051.8,-92.01\"/>\n<text text-anchor=\"start\" x=\"1054.8\" y=\"-99.71\" font-family=\"Times,serif\" font-weight=\"bold\" font-size=\"14.00\">̇</text>\n<polygon fill=\"none\" stroke=\"black\" points=\"1069.8,-92.01 1069.8,-115.01 1131.8,-115.01 1131.8,-92.01 1069.8,-92.01\"/>\n<text text-anchor=\"start\" x=\"1072.68\" y=\"-98.71\" font-family=\"Times,serif\" font-size=\"14.00\">exact: 4</text>\n<polygon fill=\"none\" stroke=\"black\" points=\"1051.8,-67.01 1051.8,-92.01 1069.8,-92.01 1069.8,-67.01 1051.8,-67.01\"/>\n<text text-anchor=\"start\" x=\"1054.8\" y=\"-75.71\" font-family=\"Bukyvede\" font-size=\"14.00\">̇</text>\n<polygon fill=\"none\" stroke=\"black\" points=\"1069.8,-67.01 1069.8,-92.01 1131.8,-92.01 1131.8,-67.01 1069.8,-67.01\"/>\n<text text-anchor=\"start\" x=\"1072.8\" y=\"-74.84\" font-family=\"Times,serif\" font-size=\"14.00\">A, B</text>\n<polygon fill=\"none\" stroke=\"black\" points=\"1050.8,-66.01 1050.8,-116.01 1132.8,-116.01 1132.8,-66.01 1050.8,-66.01\"/>\n</g>\n<!-- 5&#45;&gt;6 -->\n<g id=\"edge6\" class=\"edge\">\n<title>5-&gt;6</title>\n<path fill=\"none\" stroke=\"black\" d=\"M966.36,-121.9C982.94,-117.78 1000.44,-113.44 1016.9,-109.35\"/>\n<polygon fill=\"black\" stroke=\"black\" points=\"1017.69,-112.52 1026.55,-106.71 1016,-105.72 1017.69,-112.52\"/>\n<text text-anchor=\"middle\" x=\"999.26\" y=\"-117.96\" font-family=\"Times,serif\" font-size=\"14.00\">A</text>\n</g>\n<!-- 6&#45;&gt;2 -->\n<g id=\"edge8\" class=\"edge\">\n<title>6-&gt;2</title>\n<path fill=\"none\" stroke=\"black\" d=\"M1160.27,-98.6C1175.56,-100.02 1191.75,-101.29 1206.85,-102.01 1328.02,-107.84 1358.6,-107.27 1479.79,-102.01 1492.43,-101.46 1505.76,-100.61 1518.84,-99.61\"/>\n<polygon fill=\"black\" stroke=\"black\" points=\"1519.05,-103.02 1528.74,-98.74 1518.49,-96.05 1519.05,-103.02\"/>\n<text text-anchor=\"middle\" x=\"1343.32\" y=\"-109.96\" font-family=\"Times,serif\" font-size=\"14.00\">B</text>\n</g>\n<!-- 7 -->\n<g id=\"node7\" class=\"node\">\n<title>7</title>\n<ellipse fill=\"none\" stroke=\"black\" cx=\"1343.32\" cy=\"-52.01\" rx=\"136.47\" ry=\"41.01\"/>\n<polygon fill=\"none\" stroke=\"black\" points=\"1255.82,-53.01 1255.82,-76.01 1368.82,-76.01 1368.82,-53.01 1255.82,-53.01\"/>\n<text text-anchor=\"start\" x=\"1258.7\" y=\"-60.71\" font-family=\"Times,serif\" font-weight=\"bold\" font-size=\"14.00\">ול מ̊ רא א‍ להים׃</text>\n<polygon fill=\"none\" stroke=\"black\" points=\"1368.82,-53.01 1368.82,-76.01 1430.82,-76.01 1430.82,-53.01 1368.82,-53.01\"/>\n<text text-anchor=\"start\" x=\"1371.7\" y=\"-59.71\" font-family=\"Times,serif\" font-size=\"14.00\">exact: 5</text>\n<polygon fill=\"none\" stroke=\"black\" points=\"1255.82,-28.01 1255.82,-53.01 1368.82,-53.01 1368.82,-28.01 1255.82,-28.01\"/>\n<text text-anchor=\"start\" x=\"1258.82\" y=\"-36.71\" font-family=\"Bukyvede\" font-size=\"14.00\">ול מ̊רא א‍להים׃ </text>\n<polygon fill=\"none\" stroke=\"black\" points=\"1368.82,-28.01 1368.82,-53.01 1430.82,-53.01 1430.82,-28.01 1368.82,-28.01\"/>\n<text text-anchor=\"start\" x=\"1371.82\" y=\"-35.84\" font-family=\"Times,serif\" font-size=\"14.00\">A</text>\n<polygon fill=\"none\" stroke=\"black\" points=\"1254.82,-27.01 1254.82,-77.01 1431.82,-77.01 1431.82,-27.01 1254.82,-27.01\"/>\n</g>\n<!-- 6&#45;&gt;7 -->\n<g id=\"edge7\" class=\"edge\">\n<title>6-&gt;7</title>\n<path fill=\"none\" stroke=\"black\" d=\"M1159.34,-80.61C1175.32,-78.12 1192.94,-75.36 1210.74,-72.58\"/>\n<polygon fill=\"black\" stroke=\"black\" points=\"1211.19,-75.89 1220.53,-70.89 1210.11,-68.98 1211.19,-75.89\"/>\n<text text-anchor=\"middle\" x=\"1183.98\" y=\"-80.96\" font-family=\"Times,serif\" font-size=\"14.00\">A</text>\n</g>\n<!-- 7&#45;&gt;2 -->\n<g id=\"edge9\" class=\"edge\">\n<title>7-&gt;2</title>\n<path fill=\"none\" stroke=\"black\" d=\"M1466.07,-70.14C1485.41,-73.02 1505.01,-75.94 1523.19,-78.65\"/>\n<polygon fill=\"black\" stroke=\"black\" points=\"1522.61,-82.25 1533.01,-80.26 1523.64,-75.33 1522.61,-82.25\"/>\n<text text-anchor=\"middle\" x=\"1502.67\" y=\"-79.96\" font-family=\"Times,serif\" font-size=\"14.00\">A</text>\n</g>\n<!-- 8&#45;&gt;4 -->\n<g id=\"edge10\" class=\"edge\">\n<title>8-&gt;4</title>\n<path fill=\"none\" stroke=\"black\" d=\"M535.71,-65.72C559.82,-69.84 584.11,-73.99 605.85,-77.7\"/>\n<polygon fill=\"black\" stroke=\"black\" points=\"605.19,-81.31 615.64,-79.54 606.37,-74.41 605.19,-81.31\"/>\n<text text-anchor=\"middle\" x=\"592.3\" y=\"-78.96\" font-family=\"Times,serif\" font-size=\"14.00\">B</text>\n</g>\n<!-- 9&#45;&gt;6 -->\n<g id=\"edge11\" class=\"edge\">\n<title>9-&gt;6</title>\n<path fill=\"none\" stroke=\"black\" d=\"M956.14,-57.59C975.55,-62.41 996.88,-67.7 1016.72,-72.63\"/>\n<polygon fill=\"black\" stroke=\"black\" points=\"1015.7,-76.23 1026.25,-75.24 1017.39,-69.43 1015.7,-76.23\"/>\n<text text-anchor=\"middle\" x=\"999.26\" y=\"-72.96\" font-family=\"Times,serif\" font-size=\"14.00\">B</text>\n</g>\n</g>\n</svg>",
      "text/plain": [
       "<IPython.core.display.SVG object>"
      ]
     },
     "metadata": {},
     "output_type": "display_data"
    }
   ],
   "source": [
    "vf.getSampleVariant()"
   ]
  }
 ],
 "metadata": {
  "kernelspec": {
   "display_name": "base",
   "language": "python",
   "name": "python3"
  },
  "language_info": {
   "codemirror_mode": {
    "name": "ipython",
    "version": 3
   },
   "file_extension": ".py",
   "mimetype": "text/x-python",
   "name": "python",
   "nbconvert_exporter": "python",
   "pygments_lexer": "ipython3",
   "version": "3.10.8"
  },
  "orig_nbformat": 4,
  "vscode": {
   "interpreter": {
    "hash": "5cfb0889301bd40a32af2921b094f94edad3784ee7c8bac1076d6edd892f10d1"
   }
  }
 },
 "nbformat": 4,
 "nbformat_minor": 2
}
