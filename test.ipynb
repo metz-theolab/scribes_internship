{
 "cells": [
  {
   "attachments": {},
   "cell_type": "markdown",
   "metadata": {},
   "source": [
    "# Test of the Ben Sira package"
   ]
  },
  {
   "cell_type": "markdown",
   "metadata": {},
   "source": [
    "!pip install collatex\n",
    "!pip install graphviz\n",
    "!pip install levenshtein\n",
    "!pip install xmltodict\n",
    "!pip install beautifulsoup4\n",
    "!pip install lxml\n",
    "!pip install textdistance\n",
    "!pip install pandas\n",
    "!pip install matplotlib\n",
    "!pip install seaborn\n",
    "!pip install nltk\n",
    "!pip install spacy==3.2.2\n",
    "!pip install hebspacy\n",
    "!pip install https://github.com/8400TheHealthNetwork/HebSpacy/releases/download/he_ner_news_trf-3.2.1/he_ner_news_trf-3.2.1-py3-none-any.whl"
   ]
  },
  {
   "cell_type": "code",
   "execution_count": 1,
   "metadata": {},
   "outputs": [
    {
     "name": "stderr",
     "output_type": "stream",
     "text": [
      "[nltk_data] Downloading package punkt to /home/mari/nltk_data...\n",
      "[nltk_data]   Package punkt is already up-to-date!\n"
     ]
    }
   ],
   "source": [
    "from pkg.Extraction import test, VariantsFinder"
   ]
  },
  {
   "cell_type": "code",
   "execution_count": 2,
   "metadata": {},
   "outputs": [
    {
     "name": "stdout",
     "output_type": "stream",
     "text": [
      "test\n"
     ]
    }
   ],
   "source": [
    "test()"
   ]
  },
  {
   "cell_type": "code",
   "execution_count": 3,
   "metadata": {},
   "outputs": [],
   "source": [
    "fileNames = [\"ms_a_new.xml\",\"ms_b_new.xml\",\"ms_d_new.xml\",\"ms_e_new.xml\",\"ms_f_new.xml\"]"
   ]
  },
  {
   "cell_type": "code",
   "execution_count": 4,
   "metadata": {},
   "outputs": [
    {
     "name": "stdout",
     "output_type": "stream",
     "text": [
      "# Matching Done\n",
      "## Cleaning Done\n",
      "### Collation Done\n"
     ]
    }
   ],
   "source": [
    "vf = VariantsFinder(fileNames, folder = \"WorkDir/\")"
   ]
  },
  {
   "cell_type": "code",
   "execution_count": 5,
   "metadata": {},
   "outputs": [
    {
     "name": "stderr",
     "output_type": "stream",
     "text": [
      "Error: syntax error in line 1 \n",
      "... <B></B> ...\n"
     ]
    },
    {
     "data": {
      "image/svg+xml": "<svg xmlns=\"http://www.w3.org/2000/svg\" xmlns:xlink=\"http://www.w3.org/1999/xlink\" width=\"1704pt\" height=\"184pt\" viewBox=\"0.00 0.00 1703.87 184.20\">\n<g id=\"graph0\" class=\"graph\" transform=\"scale(1 1) rotate(0) translate(4 180.2)\">\n<polygon fill=\"white\" stroke=\"none\" points=\"-4,4 -4,-180.2 1699.87,-180.2 1699.87,4 -4,4\"/>\n<!-- 1 -->\n<g id=\"node1\" class=\"node\">\n<title>1</title>\n<ellipse fill=\"none\" stroke=\"black\" cx=\"88.03\" cy=\"-77.6\" rx=\"88.03\" ry=\"23.51\"/>\n<polygon fill=\"none\" stroke=\"black\" points=\"34.78,-65.97 34.78,-89.22 79.03,-89.22 79.03,-65.97 34.78,-65.97\"/>\n<text text-anchor=\"start\" x=\"37.78\" y=\"-73.92\" font-family=\"Times,serif\" font-weight=\"bold\" font-size=\"14.00\">start</text>\n<polygon fill=\"none\" stroke=\"black\" points=\"79.03,-65.97 79.03,-89.22 141.28,-89.22 141.28,-65.97 79.03,-65.97\"/>\n<text text-anchor=\"start\" x=\"82.03\" y=\"-72.92\" font-family=\"Times,serif\" font-size=\"14.00\">exact: 0</text>\n<polygon fill=\"none\" stroke=\"black\" points=\"33.78,-64.97 33.78,-90.22 142.28,-90.22 142.28,-64.97 33.78,-64.97\"/>\n</g>\n<!-- 3 -->\n<g id=\"node3\" class=\"node\">\n<title>3</title>\n<ellipse fill=\"none\" stroke=\"black\" cx=\"297.48\" cy=\"-136.6\" rx=\"75.66\" ry=\"39.6\"/>\n<polygon fill=\"none\" stroke=\"black\" points=\"252.98,-136.6 252.98,-159.6 279.98,-159.6 279.98,-136.6 252.98,-136.6\"/>\n<text text-anchor=\"start\" x=\"255.98\" y=\"-144.3\" font-family=\"Times,serif\" font-weight=\"bold\" font-size=\"14.00\"> יש</text>\n<polygon fill=\"none\" stroke=\"black\" points=\"279.98,-136.6 279.98,-159.6 341.98,-159.6 341.98,-136.6 279.98,-136.6\"/>\n<text text-anchor=\"start\" x=\"282.86\" y=\"-143.3\" font-family=\"Times,serif\" font-size=\"14.00\">exact: 1</text>\n<polygon fill=\"none\" stroke=\"black\" points=\"252.98,-113.6 252.98,-136.6 279.98,-136.6 279.98,-113.6 252.98,-113.6\"/>\n<text text-anchor=\"start\" x=\"255.61\" y=\"-120.3\" font-family=\"Bukyvede\" font-size=\"14.00\"> יש </text>\n<polygon fill=\"none\" stroke=\"black\" points=\"279.98,-113.6 279.98,-136.6 341.98,-136.6 341.98,-113.6 279.98,-113.6\"/>\n<text text-anchor=\"start\" x=\"282.98\" y=\"-120.3\" font-family=\"Times,serif\" font-size=\"14.00\">A</text>\n<polygon fill=\"none\" stroke=\"black\" points=\"251.98,-112.6 251.98,-160.6 342.98,-160.6 342.98,-112.6 251.98,-112.6\"/>\n</g>\n<!-- 1&#45;&gt;3 -->\n<g id=\"edge1\" class=\"edge\">\n<title>1-&gt;3</title>\n<path fill=\"none\" stroke=\"black\" d=\"M149.59,-94.82C171.58,-101.07 196.72,-108.22 219.9,-114.82\"/>\n<polygon fill=\"black\" stroke=\"black\" points=\"218.83,-118.44 229.4,-117.8 220.74,-111.7 218.83,-118.44\"/>\n<text text-anchor=\"middle\" x=\"198.94\" y=\"-112.55\" font-family=\"Times,serif\" font-size=\"14.00\">A</text>\n</g>\n<!-- 4 -->\n<g id=\"node4\" class=\"node\">\n<title>4</title>\n<ellipse fill=\"none\" stroke=\"black\" cx=\"582.94\" cy=\"-77.6\" rx=\"164.05\" ry=\"39.6\"/>\n<polygon fill=\"none\" stroke=\"black\" points=\"475.94,-77.6 475.94,-100.6 627.94,-100.6 627.94,-77.6 475.94,-77.6\"/>\n<text text-anchor=\"start\" x=\"478.81\" y=\"-85.3\" font-family=\"Times,serif\" font-weight=\"bold\" font-size=\"14.00\">דל נכבד בגלל שכלו ויש</text>\n<polygon fill=\"none\" stroke=\"black\" points=\"627.94,-77.6 627.94,-100.6 689.94,-100.6 689.94,-77.6 627.94,-77.6\"/>\n<text text-anchor=\"start\" x=\"630.81\" y=\"-84.3\" font-family=\"Times,serif\" font-size=\"14.00\">exact: 2</text>\n<polygon fill=\"none\" stroke=\"black\" points=\"475.94,-54.6 475.94,-77.6 627.94,-77.6 627.94,-54.6 475.94,-54.6\"/>\n<text text-anchor=\"start\" x=\"478.94\" y=\"-61.3\" font-family=\"Bukyvede\" font-size=\"14.00\">דל נכבד בגלל שכלו ויש </text>\n<polygon fill=\"none\" stroke=\"black\" points=\"627.94,-54.6 627.94,-77.6 689.94,-77.6 689.94,-54.6 627.94,-54.6\"/>\n<text text-anchor=\"start\" x=\"630.94\" y=\"-61.3\" font-family=\"Times,serif\" font-size=\"14.00\">A, B</text>\n<polygon fill=\"none\" stroke=\"black\" points=\"474.94,-53.6 474.94,-101.6 690.94,-101.6 690.94,-53.6 474.94,-53.6\"/>\n</g>\n<!-- 1&#45;&gt;4 -->\n<g id=\"edge2\" class=\"edge\">\n<title>1-&gt;4</title>\n<path fill=\"none\" stroke=\"black\" d=\"M174.01,-72.27C189.89,-71.47 206.36,-70.77 221.82,-70.35 283.15,-68.67 350.36,-69.35 409.94,-70.82\"/>\n<polygon fill=\"black\" stroke=\"black\" points=\"409.5,-74.33 419.59,-71.09 409.68,-67.33 409.5,-74.33\"/>\n<text text-anchor=\"middle\" x=\"297.48\" y=\"-74.55\" font-family=\"Times,serif\" font-size=\"14.00\">B</text>\n</g>\n<!-- 2 -->\n<g id=\"node2\" class=\"node\">\n<title>2</title>\n<ellipse fill=\"none\" stroke=\"black\" cx=\"1614.2\" cy=\"-77.6\" rx=\"81.67\" ry=\"23.51\"/>\n<polygon fill=\"none\" stroke=\"black\" points=\"1565.45,-65.97 1565.45,-89.22 1600.7,-89.22 1600.7,-65.97 1565.45,-65.97\"/>\n<text text-anchor=\"start\" x=\"1568.45\" y=\"-73.92\" font-family=\"Times,serif\" font-weight=\"bold\" font-size=\"14.00\">end</text>\n<polygon fill=\"none\" stroke=\"black\" points=\"1600.7,-65.97 1600.7,-89.22 1662.95,-89.22 1662.95,-65.97 1600.7,-65.97\"/>\n<text text-anchor=\"start\" x=\"1603.7\" y=\"-72.92\" font-family=\"Times,serif\" font-size=\"14.00\">exact: 6</text>\n<polygon fill=\"none\" stroke=\"black\" points=\"1564.45,-64.97 1564.45,-90.22 1663.95,-90.22 1663.95,-64.97 1564.45,-64.97\"/>\n</g>\n<!-- 3&#45;&gt;4 -->\n<g id=\"edge3\" class=\"edge\">\n<title>3-&gt;4</title>\n<path fill=\"none\" stroke=\"black\" d=\"M368.18,-122.09C392.1,-117.11 419.73,-111.36 447.03,-105.68\"/>\n<polygon fill=\"black\" stroke=\"black\" points=\"447.39,-108.97 456.47,-103.51 445.96,-102.12 447.39,-108.97\"/>\n<text text-anchor=\"middle\" x=\"396.02\" y=\"-119.55\" font-family=\"Times,serif\" font-size=\"14.00\">A</text>\n</g>\n<!-- 5 -->\n<g id=\"node5\" class=\"node\">\n<title>5</title>\n<ellipse fill=\"none\" stroke=\"black\" cx=\"1155.36\" cy=\"-77.6\" rx=\"108.89\" ry=\"55.86\"/>\n<polygon fill=\"none\" stroke=\"black\" points=\"1087.36,-89.1 1087.36,-112.1 1161.36,-112.1 1161.36,-89.1 1087.36,-89.1\"/>\n<text text-anchor=\"start\" x=\"1090.36\" y=\"-96.8\" font-family=\"Times,serif\" font-weight=\"bold\" font-size=\"14.00\">נכבד בגלל</text>\n<polygon fill=\"none\" stroke=\"black\" points=\"1161.36,-89.1 1161.36,-112.1 1223.36,-112.1 1223.36,-89.1 1161.36,-89.1\"/>\n<text text-anchor=\"start\" x=\"1164.23\" y=\"-95.8\" font-family=\"Times,serif\" font-size=\"14.00\">exact: 4</text>\n<polygon fill=\"none\" stroke=\"black\" points=\"1087.36,-66.1 1087.36,-89.1 1161.36,-89.1 1161.36,-66.1 1087.36,-66.1\"/>\n<text text-anchor=\"start\" x=\"1090.36\" y=\"-72.8\" font-family=\"Bukyvede\" font-size=\"14.00\">נכבד בגלל</text>\n<polygon fill=\"none\" stroke=\"black\" points=\"1161.36,-66.1 1161.36,-89.1 1223.36,-89.1 1223.36,-66.1 1161.36,-66.1\"/>\n<text text-anchor=\"start\" x=\"1164.36\" y=\"-72.8\" font-family=\"Times,serif\" font-size=\"14.00\">B</text>\n<polygon fill=\"none\" stroke=\"black\" points=\"1087.36,-43.1 1087.36,-66.1 1161.36,-66.1 1161.36,-43.1 1087.36,-43.1\"/>\n<text text-anchor=\"start\" x=\"1090.23\" y=\"-49.8\" font-family=\"Bukyvede\" font-size=\"14.00\">נכבד בגלל </text>\n<polygon fill=\"none\" stroke=\"black\" points=\"1161.36,-43.1 1161.36,-66.1 1223.36,-66.1 1223.36,-43.1 1161.36,-43.1\"/>\n<text text-anchor=\"start\" x=\"1164.36\" y=\"-49.8\" font-family=\"Times,serif\" font-size=\"14.00\">A</text>\n<polygon fill=\"none\" stroke=\"black\" points=\"1086.36,-42.1 1086.36,-113.1 1224.36,-113.1 1224.36,-42.1 1086.36,-42.1\"/>\n</g>\n<!-- 4&#45;&gt;5 -->\n<g id=\"edge4\" class=\"edge\">\n<title>4-&gt;5</title>\n<path fill=\"none\" stroke=\"black\" d=\"M742.94,-86.82C760,-87.55 777.1,-88.17 793.49,-88.6 885.22,-91 908.25,-91.86 999.96,-88.6 1011.8,-88.18 1024.14,-87.57 1036.46,-86.87\"/>\n<polygon fill=\"black\" stroke=\"black\" points=\"1036.49,-90.31 1046.27,-86.22 1036.08,-83.32 1036.49,-90.31\"/>\n<text text-anchor=\"middle\" x=\"896.73\" y=\"-95.55\" font-family=\"Times,serif\" font-size=\"14.00\">A</text>\n</g>\n<!-- 7 -->\n<g id=\"node7\" class=\"node\">\n<title>7</title>\n<ellipse fill=\"none\" stroke=\"black\" cx=\"896.73\" cy=\"-39.6\" rx=\"103.24\" ry=\"39.6\"/>\n<polygon fill=\"none\" stroke=\"black\" points=\"832.73,-39.6 832.73,-62.6 898.73,-62.6 898.73,-39.6 832.73,-39.6\"/>\n<text text-anchor=\"start\" x=\"835.35\" y=\"-47.3\" font-family=\"Times,serif\" font-weight=\"bold\" font-size=\"14.00\">איש עשיר</text>\n<polygon fill=\"none\" stroke=\"black\" points=\"898.73,-39.6 898.73,-62.6 960.73,-62.6 960.73,-39.6 898.73,-39.6\"/>\n<text text-anchor=\"start\" x=\"901.6\" y=\"-46.3\" font-family=\"Times,serif\" font-size=\"14.00\">exact: 3</text>\n<polygon fill=\"none\" stroke=\"black\" points=\"832.73,-16.6 832.73,-39.6 898.73,-39.6 898.73,-16.6 832.73,-16.6\"/>\n<text text-anchor=\"start\" x=\"835.35\" y=\"-23.3\" font-family=\"Bukyvede\" font-size=\"14.00\">איש עשיר </text>\n<polygon fill=\"none\" stroke=\"black\" points=\"898.73,-16.6 898.73,-39.6 960.73,-39.6 960.73,-16.6 898.73,-16.6\"/>\n<text text-anchor=\"start\" x=\"901.73\" y=\"-23.3\" font-family=\"Times,serif\" font-size=\"14.00\">B</text>\n<polygon fill=\"none\" stroke=\"black\" points=\"831.73,-15.6 831.73,-63.6 961.73,-63.6 961.73,-15.6 831.73,-15.6\"/>\n</g>\n<!-- 4&#45;&gt;7 -->\n<g id=\"edge5\" class=\"edge\">\n<title>4-&gt;7</title>\n<path fill=\"none\" stroke=\"black\" d=\"M730.25,-59.77C749.42,-57.43 768.8,-55.07 787.2,-52.83\"/>\n<polygon fill=\"black\" stroke=\"black\" points=\"787.4,-56.2 796.91,-51.52 786.56,-49.26 787.4,-56.2\"/>\n<text text-anchor=\"middle\" x=\"770.24\" y=\"-59.55\" font-family=\"Times,serif\" font-size=\"14.00\">B</text>\n</g>\n<!-- 5&#45;&gt;2 -->\n<g id=\"edge7\" class=\"edge\">\n<title>5-&gt;2</title>\n<path fill=\"none\" stroke=\"black\" d=\"M1263.34,-86.24C1278.98,-87.22 1294.9,-88.06 1310,-88.6 1388.52,-91.41 1408.29,-92.01 1486.78,-88.6 1499.42,-88.05 1512.75,-87.19 1525.82,-86.2\"/>\n<polygon fill=\"black\" stroke=\"black\" points=\"1526.03,-89.61 1535.72,-85.33 1525.48,-82.63 1526.03,-89.61\"/>\n<text text-anchor=\"middle\" x=\"1398.39\" y=\"-95.55\" font-family=\"Times,serif\" font-size=\"14.00\">B</text>\n</g>\n<!-- 6 -->\n<g id=\"node6\" class=\"node\">\n<title>6</title>\n<ellipse fill=\"none\" stroke=\"black\" cx=\"1398.39\" cy=\"-39.6\" rx=\"88.39\" ry=\"39.6\"/>\n<polygon fill=\"none\" stroke=\"black\" points=\"1344.89,-39.6 1344.89,-62.6 1389.89,-62.6 1389.89,-39.6 1344.89,-39.6\"/>\n<text text-anchor=\"start\" x=\"1347.89\" y=\"-47.3\" font-family=\"Times,serif\" font-weight=\"bold\" font-size=\"14.00\">עשרו׃</text>\n<polygon fill=\"none\" stroke=\"black\" points=\"1389.89,-39.6 1389.89,-62.6 1451.89,-62.6 1451.89,-39.6 1389.89,-39.6\"/>\n<text text-anchor=\"start\" x=\"1392.77\" y=\"-46.3\" font-family=\"Times,serif\" font-size=\"14.00\">exact: 5</text>\n<polygon fill=\"none\" stroke=\"black\" points=\"1344.89,-16.6 1344.89,-39.6 1389.89,-39.6 1389.89,-16.6 1344.89,-16.6\"/>\n<text text-anchor=\"start\" x=\"1347.52\" y=\"-23.3\" font-family=\"Bukyvede\" font-size=\"14.00\">עשרו׃ </text>\n<polygon fill=\"none\" stroke=\"black\" points=\"1389.89,-16.6 1389.89,-39.6 1451.89,-39.6 1451.89,-16.6 1389.89,-16.6\"/>\n<text text-anchor=\"start\" x=\"1392.89\" y=\"-23.3\" font-family=\"Times,serif\" font-size=\"14.00\">A</text>\n<polygon fill=\"none\" stroke=\"black\" points=\"1343.89,-15.6 1343.89,-63.6 1452.89,-63.6 1452.89,-15.6 1343.89,-15.6\"/>\n</g>\n<!-- 5&#45;&gt;6 -->\n<g id=\"edge6\" class=\"edge\">\n<title>5-&gt;6</title>\n<path fill=\"none\" stroke=\"black\" d=\"M1259.98,-61.26C1274.52,-58.97 1289.39,-56.62 1303.73,-54.36\"/>\n<polygon fill=\"black\" stroke=\"black\" points=\"1304.24,-57.67 1313.58,-52.65 1303.15,-50.75 1304.24,-57.67\"/>\n<text text-anchor=\"middle\" x=\"1287.13\" y=\"-61.55\" font-family=\"Times,serif\" font-size=\"14.00\">A</text>\n</g>\n<!-- 6&#45;&gt;2 -->\n<g id=\"edge8\" class=\"edge\">\n<title>6-&gt;2</title>\n<path fill=\"none\" stroke=\"black\" d=\"M1481.14,-54.13C1498.32,-57.18 1516.42,-60.4 1533.53,-63.44\"/>\n<polygon fill=\"black\" stroke=\"black\" points=\"1532.57,-67 1543.03,-65.3 1533.8,-60.11 1532.57,-67\"/>\n<text text-anchor=\"middle\" x=\"1509.65\" y=\"-64.55\" font-family=\"Times,serif\" font-size=\"14.00\">A</text>\n</g>\n<!-- 7&#45;&gt;5 -->\n<g id=\"edge9\" class=\"edge\">\n<title>7-&gt;5</title>\n<path fill=\"none\" stroke=\"black\" d=\"M993.65,-53.8C1008.69,-56.03 1024.36,-58.35 1039.77,-60.63\"/>\n<polygon fill=\"black\" stroke=\"black\" points=\"1038.97,-64.2 1049.38,-62.2 1040,-57.27 1038.97,-64.2\"/>\n<text text-anchor=\"middle\" x=\"1023.21\" y=\"-62.55\" font-family=\"Times,serif\" font-size=\"14.00\">B</text>\n</g>\n</g>\n</svg>",
      "text/plain": [
       "<IPython.core.display.SVG object>"
      ]
     },
     "metadata": {},
     "output_type": "display_data"
    }
   ],
   "source": [
    "vf.getSampleVariant()"
   ]
  }
 ],
 "metadata": {
  "kernelspec": {
   "display_name": "base",
   "language": "python",
   "name": "python3"
  },
  "language_info": {
   "codemirror_mode": {
    "name": "ipython",
    "version": 3
   },
   "file_extension": ".py",
   "mimetype": "text/x-python",
   "name": "python",
   "nbconvert_exporter": "python",
   "pygments_lexer": "ipython3",
   "version": "3.10.8"
  },
  "orig_nbformat": 4,
  "vscode": {
   "interpreter": {
    "hash": "5cfb0889301bd40a32af2921b094f94edad3784ee7c8bac1076d6edd892f10d1"
   }
  }
 },
 "nbformat": 4,
 "nbformat_minor": 2
}
