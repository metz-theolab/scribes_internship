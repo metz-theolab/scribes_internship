{
 "cells": [
  {
   "cell_type": "markdown",
   "metadata": {},
   "source": [
    "### Simple input as plain text"
   ]
  },
  {
   "cell_type": "code",
   "execution_count": 4,
   "metadata": {},
   "outputs": [
    {
     "name": "stdout",
     "output_type": "stream",
     "text": [
      "+---+----------+------------------------------+\n",
      "| A | An apple | a day keeps the doctor away. |\n",
      "| B | A peach  | a day keeps the doctor away. |\n",
      "+---+----------+------------------------------+\n"
     ]
    }
   ],
   "source": [
    "# default collation with segmentation true\n",
    "from collatex import*\n",
    "collation = Collation()\n",
    "collation.add_plain_witness(\"A\", \"An apple a day keeps the doctor away.\")\n",
    "collation.add_plain_witness(\"B\", \"A peach a day keeps the doctor away.\")\n",
    "alignment_table = collate(collation)\n",
    "print(alignment_table)\n",
    "\n"
   ]
  },
  {
   "cell_type": "code",
   "execution_count": 1,
   "metadata": {},
   "outputs": [
    {
     "name": "stdout",
     "output_type": "stream",
     "text": [
      "+---+-----+-----+------+-------+\n",
      "| A | The | big | gray | koala |\n",
      "| B | The | -   | grey | koala |\n",
      "+---+-----+-----+------+-------+\n"
     ]
    }
   ],
   "source": [
    "# code with segmentation false, represents each token in a separate cell\n",
    "from collatex import *\n",
    "collation = Collation()\n",
    "collation.add_plain_witness(\"A\", \"The big gray koala\")\n",
    "collation.add_plain_witness(\"B\", \"The grey koala\")\n",
    "alignment_table = collate(collation, near_match = True, segmentation=False)\n",
    "print(alignment_table)"
   ]
  },
  {
   "cell_type": "markdown",
   "metadata": {},
   "source": [
    "### Using a json input "
   ]
  },
  {
   "cell_type": "code",
   "execution_count": 2,
   "metadata": {},
   "outputs": [
    {
     "name": "stdout",
     "output_type": "stream",
     "text": [
      "+---+-----+-------+--------------------------+------+------+\n",
      "| A | The | quick | brown fox jumps over the | -    | dog. |\n",
      "| B | The | -     | brown fox jumps over the | lazy | dog. |\n",
      "+---+-----+-------+--------------------------+------+------+\n"
     ]
    }
   ],
   "source": [
    "import json\n",
    "from collatex import *\n",
    "collation = Collation()\n",
    "json_input = \"\"\"{\n",
    "    \"witnesses\": [\n",
    "        {\n",
    "            \"id\": \"A\",\n",
    "            \"tokens\": [\n",
    "                {\n",
    "                    \"t\": \"The \",\n",
    "                    \"n\": \"The\"\n",
    "                },\n",
    "                {\n",
    "                    \"t\": \"quick \",\n",
    "                    \"n\": \"quick\"\n",
    "                },\n",
    "                {\n",
    "                    \"t\": \"brown \",\n",
    "                    \"n\": \"brown\"\n",
    "                },\n",
    "                {\n",
    "                    \"t\": \"fox \",\n",
    "                    \"n\": \"fox\"\n",
    "                },\n",
    "                {\n",
    "                    \"t\": \"jumps \",\n",
    "                    \"n\": \"jumps\"\n",
    "                },\n",
    "                {\n",
    "                    \"t\": \"over \",\n",
    "                    \"n\": \"over\"\n",
    "                },\n",
    "                {\n",
    "                    \"t\": \"the \",\n",
    "                    \"n\": \"the\"\n",
    "                },\n",
    "                {\n",
    "                    \"t\": \"dog\",\n",
    "                    \"n\": \"dog\"\n",
    "                },\n",
    "                {\n",
    "                    \"t\": \".\",\n",
    "                    \"n\": \".\"\n",
    "                }\n",
    "            ]\n",
    "        },\n",
    "        {\n",
    "            \"id\": \"B\",\n",
    "            \"tokens\": [\n",
    "                {\n",
    "                    \"t\": \"The \",\n",
    "                    \"n\": \"The\"\n",
    "                },\n",
    "                {\n",
    "                    \"t\": \"brown \",\n",
    "                    \"n\": \"brown\"\n",
    "                },\n",
    "                {\n",
    "                    \"t\": \"fox \",\n",
    "                    \"n\": \"fox\"\n",
    "                },\n",
    "                {\n",
    "                    \"t\": \"jumps \",\n",
    "                    \"n\": \"jumps\"\n",
    "                },\n",
    "                {\n",
    "                    \"t\": \"over \",\n",
    "                    \"n\": \"over\"\n",
    "                },\n",
    "                {\n",
    "                    \"t\": \"the \",\n",
    "                    \"n\": \"the\"\n",
    "                },\n",
    "                {\n",
    "                    \"t\": \"lazy \",\n",
    "                    \"n\": \"lazy\"\n",
    "                },\n",
    "                {\n",
    "                    \"t\": \"dog\",\n",
    "                    \"n\": \"dog\"\n",
    "                },\n",
    "                {\n",
    "                    \"t\": \".\",\n",
    "                    \"n\": \".\"\n",
    "                }\n",
    "            ]\n",
    "        }\n",
    "    ]\n",
    "}\"\"\"\n",
    "print(collate(json.loads(json_input)))"
   ]
  },
  {
   "cell_type": "markdown",
   "metadata": {},
   "source": [
    "### HTML tables"
   ]
  },
  {
   "cell_type": "markdown",
   "metadata": {},
   "source": [
    "HTML 1"
   ]
  },
  {
   "cell_type": "code",
   "execution_count": 1,
   "metadata": {},
   "outputs": [
    {
     "data": {
      "text/html": [
       "<table>\n",
       "    <tbody>\n",
       "        <tr>\n",
       "            <td>A</td>\n",
       "            <td>The</td>\n",
       "            <td>quick</td>\n",
       "            <td>brown fox jumps over the</td>\n",
       "            <td>-</td>\n",
       "            <td>dog.</td>\n",
       "        </tr>\n",
       "        <tr>\n",
       "            <td>B</td>\n",
       "            <td>The</td>\n",
       "            <td>-</td>\n",
       "            <td>brown fox jumps over the</td>\n",
       "            <td>lazy</td>\n",
       "            <td>dog.</td>\n",
       "        </tr>\n",
       "    </tbody>\n",
       "</table>"
      ],
      "text/plain": [
       "<IPython.core.display.HTML object>"
      ]
     },
     "metadata": {},
     "output_type": "display_data"
    }
   ],
   "source": [
    "from collatex import*\n",
    "collation = Collation()\n",
    "collation.add_plain_witness(\"A\", \"The quick brown fox jumps over the dog.\")\n",
    "collation.add_plain_witness(\"B\", \"The brown fox jumps over the lazy dog.\")\n",
    "collate(collation, output = \"html\")\n"
   ]
  },
  {
   "cell_type": "markdown",
   "metadata": {},
   "source": [
    "HTML 2"
   ]
  },
  {
   "cell_type": "code",
   "execution_count": 10,
   "metadata": {},
   "outputs": [
    {
     "data": {
      "text/html": [
       "<TABLE border=\"1\" style=\"border: 1px solid #000000; border-collapse: collapse;\" cellpadding=\"4\">\n",
       " <TR>\n",
       "  <TH>A</TH>\n",
       "  <TH>B</TH>\n",
       " </TR>\n",
       " <TR>\n",
       "  <TD bgcolor=\"00FFFF\">The</TD>\n",
       "  <TD bgcolor=\"00FFFF\">The</TD>\n",
       " </TR>\n",
       " <TR>\n",
       "  <TD bgcolor=\"FF0000\">quick</TD>\n",
       "  <TD bgcolor=\"FF0000\">-</TD>\n",
       " </TR>\n",
       " <TR>\n",
       "  <TD bgcolor=\"00FFFF\">brown fox jumps over\n",
       "the</TD>\n",
       "  <TD bgcolor=\"00FFFF\">brown fox jumps over\n",
       "the</TD>\n",
       " </TR>\n",
       " <TR>\n",
       "  <TD bgcolor=\"FF0000\">-</TD>\n",
       "  <TD bgcolor=\"FF0000\">lazy</TD>\n",
       " </TR>\n",
       " <TR>\n",
       "  <TD bgcolor=\"00FFFF\">dog.</TD>\n",
       "  <TD bgcolor=\"00FFFF\">dog.</TD>\n",
       " </TR>\n",
       "</TABLE>"
      ],
      "text/plain": [
       "<IPython.core.display.HTML object>"
      ]
     },
     "metadata": {},
     "output_type": "display_data"
    }
   ],
   "source": [
    "from collatex import*\n",
    "collation = Collation()\n",
    "collation.add_plain_witness(\"A\", \"The quick brown fox jumps over the dog.\")\n",
    "collation.add_plain_witness(\"B\", \"The brown fox jumps over the lazy dog.\")\n",
    "collate(collation, output = \"html2\")\n"
   ]
  },
  {
   "cell_type": "markdown",
   "metadata": {},
   "source": [
    "### SVG Variant Graph "
   ]
  },
  {
   "cell_type": "code",
   "execution_count": 3,
   "metadata": {},
   "outputs": [
    {
     "data": {
      "image/svg+xml": "<svg xmlns=\"http://www.w3.org/2000/svg\" xmlns:xlink=\"http://www.w3.org/1999/xlink\" width=\"585pt\" height=\"98pt\" viewBox=\"0.00 0.00 584.69 98.00\">\n<g id=\"graph0\" class=\"graph\" transform=\"scale(1 1) rotate(0) translate(4 94)\">\n<polygon fill=\"white\" stroke=\"none\" points=\"-4,4 -4,-94 580.69,-94 580.69,4 -4,4\"/>\n<!-- 1 -->\n<g id=\"node1\" class=\"node\">\n<title>1</title>\n<ellipse fill=\"none\" stroke=\"black\" cx=\"27\" cy=\"-45\" rx=\"27\" ry=\"18\"/>\n<text text-anchor=\"middle\" x=\"27\" y=\"-41.3\" font-family=\"Times New Roman,serif\" font-size=\"14.00\">start</text>\n</g>\n<!-- 3 -->\n<g id=\"node3\" class=\"node\">\n<title>3</title>\n<ellipse fill=\"none\" stroke=\"black\" cx=\"161\" cy=\"-45\" rx=\"27\" ry=\"18\"/>\n<text text-anchor=\"middle\" x=\"161\" y=\"-41.3\" font-family=\"Times New Roman,serif\" font-size=\"14.00\">The</text>\n</g>\n<!-- 1&#45;&gt;3 -->\n<g id=\"edge1\" class=\"edge\">\n<title>1-&gt;3</title>\n<path fill=\"none\" stroke=\"black\" d=\"M54.39,-45C73.82,-45 100.51,-45 122.2,-45\"/>\n<polygon fill=\"black\" stroke=\"black\" points=\"122.14,-48.5 132.14,-45 122.14,-41.5 122.14,-48.5\"/>\n<text text-anchor=\"middle\" x=\"94\" y=\"-48.8\" font-family=\"Times New Roman,serif\" font-size=\"14.00\">A, B, C</text>\n</g>\n<!-- 2 -->\n<g id=\"node2\" class=\"node\">\n<title>2</title>\n<ellipse fill=\"none\" stroke=\"black\" cx=\"549.69\" cy=\"-45\" rx=\"27\" ry=\"18\"/>\n<text text-anchor=\"middle\" x=\"549.69\" y=\"-41.3\" font-family=\"Times New Roman,serif\" font-size=\"14.00\">end</text>\n</g>\n<!-- 4 -->\n<g id=\"node4\" class=\"node\">\n<title>4</title>\n<ellipse fill=\"none\" stroke=\"black\" cx=\"285.45\" cy=\"-72\" rx=\"27\" ry=\"18\"/>\n<text text-anchor=\"middle\" x=\"285.45\" y=\"-68.3\" font-family=\"Times New Roman,serif\" font-size=\"14.00\">gray</text>\n</g>\n<!-- 3&#45;&gt;4 -->\n<g id=\"edge2\" class=\"edge\">\n<title>3-&gt;4</title>\n<path fill=\"none\" stroke=\"black\" d=\"M187.07,-50.53C204.74,-54.42 228.66,-59.7 248.37,-64.04\"/>\n<polygon fill=\"black\" stroke=\"black\" points=\"247.41,-67.42 257.93,-66.15 248.92,-60.58 247.41,-67.42\"/>\n<text text-anchor=\"middle\" x=\"219.5\" y=\"-63.8\" font-family=\"Times New Roman,serif\" font-size=\"14.00\">A, B</text>\n</g>\n<!-- 6 -->\n<g id=\"node6\" class=\"node\">\n<title>6</title>\n<ellipse fill=\"none\" stroke=\"black\" cx=\"285.45\" cy=\"-18\" rx=\"34.39\" ry=\"18\"/>\n<text text-anchor=\"middle\" x=\"285.45\" y=\"-14.3\" font-family=\"Times New Roman,serif\" font-size=\"14.00\">brown</text>\n</g>\n<!-- 3&#45;&gt;6 -->\n<g id=\"edge3\" class=\"edge\">\n<title>3-&gt;6</title>\n<path fill=\"none\" stroke=\"black\" d=\"M187.07,-39.47C202.95,-35.97 223.88,-31.36 242.26,-27.3\"/>\n<polygon fill=\"black\" stroke=\"black\" points=\"242.82,-30.76 251.84,-25.19 241.32,-23.93 242.82,-30.76\"/>\n<text text-anchor=\"middle\" x=\"219.5\" y=\"-37.8\" font-family=\"Times New Roman,serif\" font-size=\"14.00\">C</text>\n</g>\n<!-- 5 -->\n<g id=\"node5\" class=\"node\">\n<title>5</title>\n<ellipse fill=\"none\" stroke=\"black\" cx=\"412.79\" cy=\"-45\" rx=\"29.8\" ry=\"18\"/>\n<text text-anchor=\"middle\" x=\"412.79\" y=\"-41.3\" font-family=\"Times New Roman,serif\" font-size=\"14.00\">koala</text>\n</g>\n<!-- 4&#45;&gt;5 -->\n<g id=\"edge4\" class=\"edge\">\n<title>4-&gt;5</title>\n<path fill=\"none\" stroke=\"black\" d=\"M311.51,-66.6C329.15,-62.8 353.1,-57.64 373.17,-53.32\"/>\n<polygon fill=\"black\" stroke=\"black\" points=\"373.64,-56.8 382.68,-51.27 372.16,-49.96 373.64,-56.8\"/>\n<text text-anchor=\"middle\" x=\"351.39\" y=\"-63.8\" font-family=\"Times New Roman,serif\" font-size=\"14.00\">A, B</text>\n</g>\n<!-- 5&#45;&gt;2 -->\n<g id=\"edge5\" class=\"edge\">\n<title>5-&gt;2</title>\n<path fill=\"none\" stroke=\"black\" d=\"M443.06,-45C462.94,-45 489.41,-45 510.88,-45\"/>\n<polygon fill=\"black\" stroke=\"black\" points=\"510.7,-48.5 520.7,-45 510.7,-41.5 510.7,-48.5\"/>\n<text text-anchor=\"middle\" x=\"482.69\" y=\"-48.8\" font-family=\"Times New Roman,serif\" font-size=\"14.00\">A, B, C</text>\n</g>\n<!-- 6&#45;&gt;5 -->\n<g id=\"edge6\" class=\"edge\">\n<title>6-&gt;5</title>\n<path fill=\"none\" stroke=\"black\" d=\"M317.75,-24.74C334.53,-28.36 355.34,-32.84 373.12,-36.67\"/>\n<polygon fill=\"black\" stroke=\"black\" points=\"372.3,-40.07 382.81,-38.76 373.77,-33.23 372.3,-40.07\"/>\n<text text-anchor=\"middle\" x=\"351.39\" y=\"-37.8\" font-family=\"Times New Roman,serif\" font-size=\"14.00\">C</text>\n</g>\n</g>\n</svg>",
      "text/plain": [
       "<IPython.core.display.SVG object>"
      ]
     },
     "metadata": {},
     "output_type": "display_data"
    }
   ],
   "source": [
    "from collatex import *\n",
    "import json\n",
    "collation = Collation()\n",
    "json_input = \"\"\"{\n",
    "    \"witnesses\": [\n",
    "        {\n",
    "            \"id\": \"A\",\n",
    "            \"tokens\": [\n",
    "                {\n",
    "                    \"t\": \"The \",\n",
    "                    \"n\": \"The\"\n",
    "                },\n",
    "                {\n",
    "                    \"t\": \"gray \",\n",
    "                    \"n\": \"gray\"\n",
    "                },\n",
    "                {\n",
    "                    \"t\": \"koala\",\n",
    "                    \"n\": \"koala\"\n",
    "                }\n",
    "            ]\n",
    "        },\n",
    "        {\n",
    "            \"id\": \"B\",\n",
    "            \"tokens\": [\n",
    "                {\n",
    "                    \"t\": \"The \",\n",
    "                    \"n\": \"The\"\n",
    "                },\n",
    "                {\n",
    "                    \"t\": \"grey \",\n",
    "                    \"n\": \"gray\"\n",
    "                },\n",
    "                {\n",
    "                    \"t\": \"koala\",\n",
    "                    \"n\": \"koala\"\n",
    "                }\n",
    "            ]\n",
    "        },\n",
    "        {\n",
    "            \"id\": \"C\",\n",
    "            \"tokens\": [\n",
    "                {\n",
    "                    \"t\": \"The \",\n",
    "                    \"n\": \"The\"\n",
    "                },\n",
    "                {\n",
    "                    \"t\": \"brown \",\n",
    "                    \"n\": \"brown\"\n",
    "                },\n",
    "                {\n",
    "                    \"t\": \"koala\",\n",
    "                    \"n\": \"koala\"\n",
    "                }\n",
    "            ]\n",
    "        }\n",
    "    ]\n",
    "}\"\"\"\n",
    "collate(json.loads(json_input), output=\"svg_simple\")"
   ]
  }
 ],
 "metadata": {
  "kernelspec": {
   "display_name": "Python 3.10.9 64-bit",
   "language": "python",
   "name": "python3"
  },
  "language_info": {
   "codemirror_mode": {
    "name": "ipython",
    "version": 3
   },
   "file_extension": ".py",
   "mimetype": "text/x-python",
   "name": "python",
   "nbconvert_exporter": "python",
   "pygments_lexer": "ipython3",
   "version": "3.10.9"
  },
  "orig_nbformat": 4,
  "vscode": {
   "interpreter": {
    "hash": "a3d0e8e0c817ae3c7f78f66b04bafeb63523a0a50e6405ec1b074461715681e4"
   }
  }
 },
 "nbformat": 4,
 "nbformat_minor": 2
}
